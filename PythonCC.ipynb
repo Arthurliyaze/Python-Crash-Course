{
 "cells": [
  {
   "attachments": {},
   "cell_type": "markdown",
   "metadata": {},
   "source": [
    "# Chapter 1 Getting Started"
   ]
  },
  {
   "cell_type": "code",
   "execution_count": null,
   "metadata": {},
   "outputs": [],
   "source": [
    "# hello_world.py\n",
    "message = \"Hello Python Crash Course reader!\"\n",
    "print(message)"
   ]
  },
  {
   "attachments": {},
   "cell_type": "markdown",
   "metadata": {},
   "source": [
    "# Chapter 2 Variables and Simple Data Types\n",
    "## Vairables"
   ]
  },
  {
   "cell_type": "code",
   "execution_count": null,
   "metadata": {},
   "outputs": [],
   "source": [
    "# 2.1 simple_message.py\n",
    "message = \"why speak English?\"\n",
    "print(message)"
   ]
  },
  {
   "cell_type": "code",
   "execution_count": null,
   "metadata": {},
   "outputs": [],
   "source": [
    "# 2.2 simple_messages.py\n",
    "message = \"why speak English?\"\n",
    "print(message)\n",
    "\n",
    "message = \"why not speak Chinese?\"\n",
    "print(message)"
   ]
  },
  {
   "attachments": {},
   "cell_type": "markdown",
   "metadata": {},
   "source": [
    "## Strings"
   ]
  },
  {
   "cell_type": "code",
   "execution_count": null,
   "metadata": {},
   "outputs": [],
   "source": [
    "# 2.3 personal_message.py\n",
    "name = \"arthur li\"\n",
    "message = f\"Hello {name.title()}, would you like to learn some Python today?\"\n",
    "print(message)"
   ]
  },
  {
   "cell_type": "code",
   "execution_count": null,
   "metadata": {},
   "outputs": [],
   "source": [
    "# 2.4 name_cases.py\n",
    "name = \"arthur li\"\n",
    "print(name.upper())\n",
    "print(name.lower())\n",
    "print(name.title())"
   ]
  },
  {
   "cell_type": "code",
   "execution_count": null,
   "metadata": {},
   "outputs": [],
   "source": [
    "# 2.5 famous_quote.py\n",
    "author = \"steve jobs\"\n",
    "quote = \"Stay hungry, stay foolish.\"\n",
    "print(f'{author.title()} once said, \"{quote}\"')"
   ]
  },
  {
   "cell_type": "code",
   "execution_count": null,
   "metadata": {},
   "outputs": [],
   "source": [
    "# 2.6 famous_quote2.py\n",
    "famous_person = \"steve jobs\"\n",
    "quote = \"Stay hungry, stay foolish.\"\n",
    "message = f'{famous_person.title()} once said, \"{quote}\"'\n",
    "print(message)"
   ]
  },
  {
   "cell_type": "code",
   "execution_count": null,
   "metadata": {},
   "outputs": [],
   "source": [
    "# 2.7 stripping_names.py\n",
    "name = \"\\tarthur \\n li \"\n",
    "print(name)\n",
    "print(name.lstrip())\n",
    "print(name.rstrip())\n",
    "print(name.strip())"
   ]
  },
  {
   "cell_type": "code",
   "execution_count": null,
   "metadata": {},
   "outputs": [],
   "source": [
    "# 2.8 file_extensions.py\n",
    "filename = 'python_notes.txt'\n",
    "print(filename.removesuffix('.txt'))"
   ]
  },
  {
   "attachments": {},
   "cell_type": "markdown",
   "metadata": {},
   "source": [
    "## Numbers"
   ]
  },
  {
   "cell_type": "code",
   "execution_count": null,
   "metadata": {},
   "outputs": [],
   "source": [
    "# 2.9 number_eight.py\n",
    "print(1+7)\n",
    "print(10-2)\n",
    "print(2*4)\n",
    "print(24/3)"
   ]
  },
  {
   "cell_type": "code",
   "execution_count": null,
   "metadata": {},
   "outputs": [],
   "source": [
    "# 2.10 favorite_number.py\n",
    "number = 3\n",
    "print(number,'is my favorite number.')"
   ]
  },
  {
   "attachments": {},
   "cell_type": "markdown",
   "metadata": {},
   "source": [
    "## The Zen of Python"
   ]
  },
  {
   "cell_type": "code",
   "execution_count": null,
   "metadata": {},
   "outputs": [],
   "source": [
    "# 2.12 zen_of_python.py\n",
    "import this"
   ]
  },
  {
   "attachments": {},
   "cell_type": "markdown",
   "metadata": {},
   "source": [
    "# Chapter 3 Introducing Lists\n",
    "## What is a List?"
   ]
  },
  {
   "cell_type": "code",
   "execution_count": null,
   "metadata": {},
   "outputs": [],
   "source": [
    "# 3.1 names.py\n",
    "names = ['junning fu','qifan guo','andong zhou','sude yujie']\n",
    "print(names[0].title())"
   ]
  },
  {
   "cell_type": "code",
   "execution_count": null,
   "metadata": {},
   "outputs": [],
   "source": [
    "# 3.2 greetings.py\n",
    "names = ['junning fu','qifan guo','andong zhou','sude yujie']\n",
    "greetings = f\"Hello, {names[0].title()}!\"\n",
    "print(greetings)"
   ]
  },
  {
   "cell_type": "code",
   "execution_count": null,
   "metadata": {},
   "outputs": [],
   "source": [
    "# 3.3 your_own_list.py\n",
    "modes = ['benz','bmw','audi']\n",
    "statements = f\"I would like to own a {modes[1].upper()} car.\"\n",
    "print(statements)"
   ]
  },
  {
   "attachments": {},
   "cell_type": "markdown",
   "metadata": {},
   "source": [
    "## Modifying, Adding, and Removing Elements"
   ]
  },
  {
   "cell_type": "code",
   "execution_count": null,
   "metadata": {},
   "outputs": [],
   "source": [
    "# 3.4 guest_list.py\n",
    "guest = ['junning fu','qifan guo','hui wang']\n",
    "print(f\"Dear {guest[0].title()}, please come to our dinner.\")\n",
    "\n",
    "# 3.5 changing_guest_list.py\n",
    "print(f\"{guest[0].title()} can not make the dinner.\")\n",
    "guest[0] = 'sude yujie'\n",
    "print(f\"Dear {guest[0].title()}, please come to our dinner.\")"
   ]
  },
  {
   "cell_type": "code",
   "execution_count": null,
   "metadata": {},
   "outputs": [],
   "source": [
    "# 3.6 more_guests.py\n",
    "guest = ['junning fu','qifan guo','hui wang']\n",
    "guest.insert(0,'sude yujie')\n",
    "guest.insert(2,'nan lin')\n",
    "guest.append('andong zhou')\n",
    "print(f\"The guests for dinner are: {guest[0].title()}, {guest[1].title()}\")\n",
    "\n",
    "# 3.7 shrinking_guest_list.py\n",
    "# remove guests\n",
    "remove = guest.pop(2)\n",
    "print(f\"Sorry {remove.title()}, I can't invite you to dinner.\")\n",
    "remove = guest.pop(0)\n",
    "print(f\"Sorry {remove.title()}, I can't invite you to dinner.\")\n",
    "remove = guest.pop()\n",
    "print(f\"Sorry {remove.title()}, I can't invite you to dinner.\")\n",
    "remove = guest.pop()\n",
    "print(f\"Sorry {remove.title()}, I can't invite you to dinner.\")\n",
    "print(f\"Dear {guest[0].title()}, you are still invited.\")\n",
    "print(f\"Dear {guest[1].title()}, you are still invited.\")\n",
    "# remove the last two\n",
    "del guest[0]\n",
    "del guest[0]\n",
    "print(guest)"
   ]
  },
  {
   "attachments": {},
   "cell_type": "markdown",
   "metadata": {},
   "source": [
    "## Organizing a List"
   ]
  },
  {
   "cell_type": "code",
   "execution_count": null,
   "metadata": {},
   "outputs": [],
   "source": [
    "# 3.8 seeing_the_world.py\n",
    "# five places to visit\n",
    "locations = ['Turkey','Beijing','Toykyo','Paris','Miami']\n",
    "print(locations)\n",
    "print(sorted(locations))\n",
    "# Show that your list is still in its original order\n",
    "print(locations)\n",
    "print(sorted(locations,reverse=True))\n",
    "# Change order to reverse\n",
    "locations.reverse()\n",
    "print(locations)\n",
    "locations.reverse()\n",
    "locations.sort()\n",
    "print(locations)\n",
    "locations.sort(reverse=True)\n",
    "print(locations)"
   ]
  },
  {
   "cell_type": "code",
   "execution_count": null,
   "metadata": {},
   "outputs": [],
   "source": [
    "# 3.9 dinner_guests.py\n",
    "# guest list for six\n",
    "guest = ['junning fu','qifan guo','hui wang']\n",
    "guest.insert(0,'sude yujie')\n",
    "guest.insert(2,'nan lin')\n",
    "guest.append('andong zhou')\n",
    "# check the length\n",
    "print(f\"There are {len(guest)} guests invited to dinner.\")"
   ]
  },
  {
   "cell_type": "code",
   "execution_count": null,
   "metadata": {},
   "outputs": [],
   "source": [
    "# 3.10 every_function.py\n",
    "areas = []\n",
    "areas.append('West Vancouver')\n",
    "areas.append('Richmond')\n",
    "areas.insert(0,'North Vancouver')\n",
    "areas.insert(-1,'Burnaby')\n",
    "areas.insert(1,'Surry')\n",
    "print(f\"There're more than {len(areas)} areas in great vancouver.\")\n",
    "\n",
    "print(areas)\n",
    "too_expensive = 'West Vancouver'\n",
    "areas.remove(too_expensive)\n",
    "areas.pop(0)\n",
    "\n",
    "print(sorted(areas))\n",
    "print(areas)\n",
    "areas.sort(reverse=True)\n",
    "print(areas)"
   ]
  },
  {
   "attachments": {},
   "cell_type": "markdown",
   "metadata": {},
   "source": [
    "# Chapter 4 Working With Lists\n",
    "## Looping Through an Entire List"
   ]
  },
  {
   "cell_type": "code",
   "execution_count": null,
   "metadata": {},
   "outputs": [],
   "source": [
    "# 4.1 pizzas.py\n",
    "pizzas = ['dominos','pizzahut','litte caesars']\n",
    "for pizza in pizzas:\n",
    "    print(f\"I like {pizza.title()} pizza.\")\n",
    "print(f\"I really like pizza.\")"
   ]
  },
  {
   "cell_type": "code",
   "execution_count": null,
   "metadata": {},
   "outputs": [],
   "source": [
    "# 4.2 animals.py\n",
    "animals = ['cat','dog','rabbit']\n",
    "for animal in animals:\n",
    "    print(f\"{animal.title()} has two eyes and four legs.\")\n",
    "print(f\"Any of these animals are mammals.\")"
   ]
  },
  {
   "attachments": {},
   "cell_type": "markdown",
   "metadata": {},
   "source": [
    "## Making Numerical Lists"
   ]
  },
  {
   "cell_type": "code",
   "execution_count": null,
   "metadata": {},
   "outputs": [],
   "source": [
    "#  4.3 counting_to_twenty.py\n",
    "for number in range(20):\n",
    "    print(number+1)"
   ]
  },
  {
   "cell_type": "code",
   "execution_count": null,
   "metadata": {},
   "outputs": [],
   "source": [
    "# 4.4 one_million.py\n",
    "# use tenn instead\n",
    "numbers = [number+1 for number in range(10)]\n",
    "for number in numbers:\n",
    "    print(number)"
   ]
  },
  {
   "cell_type": "code",
   "execution_count": null,
   "metadata": {},
   "outputs": [],
   "source": [
    "# 4.5 summing_a_million.py\n",
    "numbers = [number+1 for number in range(1000_000)]\n",
    "print(max(numbers),min(numbers),sum(numbers))"
   ]
  },
  {
   "cell_type": "code",
   "execution_count": null,
   "metadata": {},
   "outputs": [],
   "source": [
    "# 4.6 odd_numbers.py\n",
    "for odd_number in range(1,20,2):\n",
    "    print(odd_number)"
   ]
  },
  {
   "cell_type": "code",
   "execution_count": null,
   "metadata": {},
   "outputs": [],
   "source": [
    "# 4.7 threes.py\n",
    "for number in range(3,31,3):\n",
    "    print(number)"
   ]
  },
  {
   "cell_type": "code",
   "execution_count": null,
   "metadata": {},
   "outputs": [],
   "source": [
    "# 4.8 cubes.py\n",
    "cubes = [(number+1)**3 for number in range(10)]\n",
    "for cube in cubes:\n",
    "    print(cube)"
   ]
  },
  {
   "cell_type": "code",
   "execution_count": null,
   "metadata": {},
   "outputs": [],
   "source": [
    "# 4.9 cube_comprehension.py\n",
    "cubes = [(number+1)**3 for number in range(10)]"
   ]
  },
  {
   "attachments": {},
   "cell_type": "markdown",
   "metadata": {},
   "source": [
    "## Working with Part of a List"
   ]
  },
  {
   "cell_type": "code",
   "execution_count": null,
   "metadata": {},
   "outputs": [],
   "source": [
    "# 4.10 slices.py\n",
    "cubes = [(number+1)**3 for number in range(10)]\n",
    "print(f\"The first three items in the list are:{cubes[:3]}\")\n",
    "print(f\"Three items from the middle of the list are:{cubes[3:6]}\")\n",
    "print(f\"The last three items in the list are:{cubes[-3:]}\")"
   ]
  },
  {
   "cell_type": "code",
   "execution_count": null,
   "metadata": {},
   "outputs": [],
   "source": [
    "# 4.11 my_pizzas_your_pizzas.py\n",
    "pizzas = ['dominos','pizzahut','litte caesars']\n",
    "friend_pizzas = pizzas[:]\n",
    "pizzas.append('papa johns')\n",
    "friend_pizzas.append('yummy slice')\n",
    "print(f\"My favorite pizzas are:\")\n",
    "for pizza in pizzas:\n",
    "    print(pizza)\n",
    "print(f\"\\nMy friend's favorite pizzas are:\")\n",
    "for pizza in friend_pizzas:\n",
    "    print(pizza)"
   ]
  },
  {
   "cell_type": "code",
   "execution_count": null,
   "metadata": {},
   "outputs": [],
   "source": [
    "# 4.12 more_loops.py\n",
    "my_foods = ['pizza', 'falafel', 'carrot cake']\n",
    "friend_foods = my_foods[:]\n",
    "my_foods.append('cannoli')\n",
    "friend_foods.append('ice cream')\n",
    "print(\"My favorite foods are:\")\n",
    "for my_food in my_foods:\n",
    "    print(my_food)\n",
    "print(\"\\nMy friend's favorite foods are:\")\n",
    "for friend_food in friend_foods:\n",
    "    print(friend_food)"
   ]
  },
  {
   "attachments": {},
   "cell_type": "markdown",
   "metadata": {},
   "source": [
    "## Tuples"
   ]
  },
  {
   "cell_type": "code",
   "execution_count": null,
   "metadata": {},
   "outputs": [],
   "source": [
    "# 4.13 buffet.py\n",
    "foods = ('pork lion','beef fillet','sushi','salad','taco')\n",
    "for food in foods:\n",
    "    print(f\"The restaurant offers {food}.\")\n",
    "foods = ('chicken wings','meatball','sushi','salad','taco')\n",
    "for food in foods:\n",
    "    print(f\"The restaurant offers {food}.\")"
   ]
  },
  {
   "attachments": {},
   "cell_type": "markdown",
   "metadata": {},
   "source": [
    "## Styling Your Code"
   ]
  },
  {
   "attachments": {},
   "cell_type": "markdown",
   "metadata": {},
   "source": [
    "# Chapter 5 If Statement\n",
    "## Conditional Tests"
   ]
  },
  {
   "cell_type": "code",
   "execution_count": null,
   "metadata": {},
   "outputs": [],
   "source": [
    "# 5.1 conditional_tests.py\n",
    "name = 'dalabengbabandebeidibuduobiluweng'\n",
    "print(\"Is name == 'dalabengbabandebeidibuduobiluweng'? I predict True.\")\n",
    "print(name == 'dalabengbabandebeidibuduobiluweng')\n",
    "\n",
    "print(\"\\nIs name == 'kuntukutakatikaotesuwaxilasong'? I predict False.\")\n",
    "print(name == 'kuntukutakatikaotesuwaxilasong')"
   ]
  },
  {
   "cell_type": "code",
   "execution_count": null,
   "metadata": {},
   "outputs": [],
   "source": [
    "# 5.2 more_conditional_tests.py\n",
    "best_game = 'The legend of Zelda'\n",
    "print(best_game == 'Genshin')\n",
    "print(best_game.lower() == 'the legend of zelda')\n",
    "\n",
    "major_regions = ['LPL','LCK','LEC']\n",
    "print('LCS' in major_regions)"
   ]
  },
  {
   "attachments": {},
   "cell_type": "markdown",
   "metadata": {},
   "source": [
    "## If Statements"
   ]
  },
  {
   "cell_type": "code",
   "execution_count": null,
   "metadata": {},
   "outputs": [],
   "source": [
    "# 5.3 alien_colors1.py\n",
    "alien_color = 'yellow'\n",
    "if alien_color == 'green':\n",
    "    print(\"You just earned 5 points.\")"
   ]
  },
  {
   "cell_type": "code",
   "execution_count": null,
   "metadata": {},
   "outputs": [],
   "source": [
    "# 5.4 alien_colors2\n",
    "alien_color = 'yellow'\n",
    "if alien_color == 'green':\n",
    "    print(\"You just earned 5 points.\")\n",
    "else:\n",
    "    print(\"You just earned 10 points.\")"
   ]
  },
  {
   "cell_type": "code",
   "execution_count": null,
   "metadata": {},
   "outputs": [],
   "source": [
    "# 5.5 alien_colors3.py\n",
    "alien_color = 'yellow'\n",
    "if alien_color == 'green':\n",
    "    print(\"You just earned 5 points.\")\n",
    "elif alien_color == 'yellow':\n",
    "    print(\"You just earned 10 points.\")\n",
    "else:\n",
    "    print(\"You just earned 15 points.\")"
   ]
  },
  {
   "cell_type": "code",
   "execution_count": null,
   "metadata": {},
   "outputs": [],
   "source": [
    "# 5.6 stages_of_life.py\n",
    "age = 27\n",
    "if age < 2:\n",
    "    print(\"You are a baby.\")\n",
    "elif age < 4:\n",
    "    print(\"You are a toddler.\")\n",
    "elif age < 13:\n",
    "    print(\"You are a kid.\")\n",
    "elif age < 20:\n",
    "    print(\"You are a teenager.\")\n",
    "elif age < 65:\n",
    "    print(\"You are an adult.\")\n",
    "else:\n",
    "    print(\"You are an elder.\")"
   ]
  },
  {
   "cell_type": "code",
   "execution_count": null,
   "metadata": {},
   "outputs": [],
   "source": [
    "# 5.7 favorite_fruit.py\n",
    "favorite_fruits = ['pear','dragon fruit','durian']\n",
    "fruits = ['apple','mango','pear','orange','dragon fruit']\n",
    "for fruit in fruits:\n",
    "    if fruit in favorite_fruits:\n",
    "        print(f\"You really like {fruit}s!\")"
   ]
  },
  {
   "attachments": {},
   "cell_type": "markdown",
   "metadata": {},
   "source": [
    "## Using if Statements with Lists"
   ]
  },
  {
   "cell_type": "code",
   "execution_count": null,
   "metadata": {},
   "outputs": [],
   "source": [
    "# 5.8 hello_admin.py\n",
    "usernames = ['admin','yaze','lily','andong','hui']\n",
    "for username in usernames:\n",
    "    if username == 'admin':\n",
    "        print(\"Hello admin, would you like to see a status report?\")\n",
    "    else:\n",
    "        print(f\"Hello {username.title()}, thank you for logging in again.\")"
   ]
  },
  {
   "cell_type": "code",
   "execution_count": null,
   "metadata": {},
   "outputs": [],
   "source": [
    "# 5.9 no_users.py\n",
    "usernames = []\n",
    "if usernames:\n",
    "    for username in usernames:\n",
    "        if username == 'admin':\n",
    "            print(\"Hello admin, would you like to see a status report?\")\n",
    "        else:\n",
    "            print(f\"Hello {username.title()}, thank you for logging in again.\")\n",
    "else:\n",
    "    print(\"We need to find some users!\")"
   ]
  },
  {
   "cell_type": "code",
   "execution_count": null,
   "metadata": {},
   "outputs": [],
   "source": [
    "# 5.10 checking_usernames.py\n",
    "current_users = ['admin','Yaze','Lily','andong','hui']\n",
    "for i in range(len(current_users)):\n",
    "    current_users[i] = current_users[i].lower()\n",
    "print(current_users)\n",
    "\n",
    "new_users = ['YAZE','juning','lily','qifan']\n",
    "for user in new_users:\n",
    "    if user.lower() in current_users:\n",
    "        print(\"You need to enter a new username.\")\n",
    "    else:\n",
    "        print(\"The username is available.\")"
   ]
  },
  {
   "cell_type": "code",
   "execution_count": null,
   "metadata": {},
   "outputs": [],
   "source": [
    "# 5.11 ordinal_numbers.py\n",
    "numbers = [number+1 for number in range(9)]\n",
    "for number in numbers:\n",
    "    if number == 1:\n",
    "        print(\"1st\")\n",
    "    elif number == 2:\n",
    "        print(\"2nd\")\n",
    "    elif number == 3:\n",
    "        print(\"3rd\")\n",
    "    else:\n",
    "        print(f\"{number}th\")"
   ]
  },
  {
   "attachments": {},
   "cell_type": "markdown",
   "metadata": {},
   "source": [
    "# Chapter 6 Dictionaries\n",
    "## Working with Dictionaries"
   ]
  },
  {
   "cell_type": "code",
   "execution_count": null,
   "metadata": {},
   "outputs": [],
   "source": [
    "# 6.1 person.py\n",
    "person = {}\n",
    "person['first_name'] = 'lily'\n",
    "person['last_name'] = 'zhang'\n",
    "person['age'] = 27\n",
    "person['city'] = 'burnaby'\n",
    "print(person)"
   ]
  },
  {
   "cell_type": "code",
   "execution_count": null,
   "metadata": {},
   "outputs": [],
   "source": [
    "# 6.2 favorite_numbers.py\n",
    "favorite_numbers = {\n",
    "    'arthur': 3,\n",
    "    'lily': 8,\n",
    "    'junning': 1123,\n",
    "    'qifan': 666,\n",
    "    'hui': 2333\n",
    "    }\n",
    "for name, number in favorite_numbers.items():\n",
    "    print(f\"{name.title()}'s favorite number is {number}.\")"
   ]
  },
  {
   "cell_type": "code",
   "execution_count": null,
   "metadata": {},
   "outputs": [],
   "source": [
    "# 6.3 glossary.py\n",
    "glossary = {}\n",
    "glossary['string'] = 'A string is a series of characters.'\n",
    "glossary['float'] = 'Any number with a decimal point is a float.'\n",
    "glossary['list'] = 'A list is a collection of items in a particular order.'\n",
    "glossary['tuple'] = 'an immutable list is called a tuple.'\n",
    "for word, meaning in glossary.items():\n",
    "    print(f\"\\n{word}: {meaning}\")"
   ]
  },
  {
   "attachments": {},
   "cell_type": "markdown",
   "metadata": {},
   "source": [
    "## Looping Through a Dictionary"
   ]
  },
  {
   "cell_type": "code",
   "execution_count": null,
   "metadata": {},
   "outputs": [],
   "source": [
    "# 6.5 rivers\n",
    "rivers = {'nile': 'egypt', 'amazon': 'brazil', 'yangtze':'china'}\n",
    "for river, country in rivers.items():\n",
    "    print(f\"The {river.title()} river runs through {country.title()}.\")\n",
    "\n",
    "# print the rivers\n",
    "for river in rivers.keys():\n",
    "    print(f\"The {river.title()} river is one of the longest rivers.\")\n",
    "\n",
    "# print the countries\n",
    "for country in rivers.values():\n",
    "    print(f\"{country.title()} has one of the three longest rivers.\")"
   ]
  },
  {
   "cell_type": "code",
   "execution_count": null,
   "metadata": {},
   "outputs": [],
   "source": [
    "# 6.6 pollings.py\n",
    "favorite_languages = {\n",
    "    'jen': 'python',\n",
    "    'sarah': 'c',\n",
    "    'edward': 'rust',\n",
    "    'phil': 'python',\n",
    "    }\n",
    "people = ['jen','lily','sarah','arthur','edward','junning','phil']\n",
    "for person in people:\n",
    "    if person in favorite_languages.keys():\n",
    "        print(f\"Thank you {person.title()} for your responding!\")\n",
    "    else:\n",
    "        print(f\"{person.title()}, please take the poll.\")"
   ]
  },
  {
   "attachments": {},
   "cell_type": "markdown",
   "metadata": {},
   "source": [
    "## Nesting"
   ]
  },
  {
   "cell_type": "code",
   "execution_count": null,
   "metadata": {},
   "outputs": [],
   "source": [
    "# 6.7 people.py\n",
    "person_0 = {}\n",
    "person_0['first_name'] = 'lily'\n",
    "person_0['last_name'] = 'zhang'\n",
    "person_0['age'] = 27\n",
    "person_0['city'] = 'burnaby'\n",
    "\n",
    "person_1 = {}\n",
    "person_1['first_name'] = 'junning'\n",
    "person_1['last_name'] = 'fu'\n",
    "person_1['age'] = 28\n",
    "person_1['city'] = 'beijing'\n",
    "\n",
    "person_2 = {}\n",
    "person_2['first_name'] = 'qifan'\n",
    "person_2['last_name'] = 'guo'\n",
    "person_2['age'] = 28\n",
    "person_2['city'] = 'shenzhen'\n",
    "\n",
    "# store all three dictionaries in a list\n",
    "people = [person_0, person_1, person_2]\n",
    "\n",
    "# print the information\n",
    "for person in people:\n",
    "    full_name = f\"{person['first_name']} {person['last_name']}\"\n",
    "    print(f\"\\nFull name: {full_name.title()}\")\n",
    "    print(f\"Age: {person['age']}\")\n",
    "    print(f\"Location: {person['city'].title()}\")"
   ]
  },
  {
   "cell_type": "code",
   "execution_count": null,
   "metadata": {},
   "outputs": [],
   "source": [
    "# 6.8 pets.py\n",
    "pet_0 = {}\n",
    "pet_0['name'] = 'jiggs'\n",
    "pet_0['breed'] = 'domestic shorthair'\n",
    "pet_0['owner'] = 'arthur li'\n",
    "\n",
    "pet_1 = {}\n",
    "pet_1['name'] = 'fermi'\n",
    "pet_1['breed'] = 'domestic shorthair'\n",
    "pet_1['owner'] = 'andong zhou'\n",
    "\n",
    "pet_2 = {}\n",
    "pet_2['name'] = 'yuanyuan'\n",
    "pet_2['breed'] = 'ragdoll'\n",
    "pet_2['owner'] = 'nan lin'\n",
    "\n",
    "pet_3 = {}\n",
    "pet_3['name'] = 'milo'\n",
    "pet_3['breed'] = 'british shorthair'\n",
    "pet_3['owner'] = 'rachel huang'\n",
    "\n",
    "pets = [pet_0, pet_1, pet_2, pet_3]\n",
    "\n",
    "for pet in pets:\n",
    "    print(f\"\\n{pet['name'].title()} is a {pet['breed']} cat owned by {pet['owner'].title()}.\")"
   ]
  },
  {
   "cell_type": "code",
   "execution_count": null,
   "metadata": {},
   "outputs": [],
   "source": [
    "# 6.9 favorite_places.py\n",
    "favorite_places = {}\n",
    "favorite_places['arthur'] = ['singapore', 'vancouver', 'chengdu']\n",
    "favorite_places['lily'] = ['vancouver', 'zhengzhou']\n",
    "favorite_places['andong'] = ['salt lake city']\n",
    "\n",
    "for person, places in favorite_places.items():\n",
    "    if len(places) == 1:\n",
    "        print(f\"\\n{person.title()}'s favorite place is:\\n\\t{places[0].title()}\")\n",
    "    else:\n",
    "        print(f\"\\n{person.title()}'s favorite places are:\")\n",
    "        for place in places:\n",
    "            print(f\"\\t{place.title()}\")"
   ]
  },
  {
   "cell_type": "code",
   "execution_count": null,
   "metadata": {},
   "outputs": [],
   "source": [
    "# 6.10 favorite_numbers.py\n",
    "favorite_numbers = {\n",
    "    'arthur': [3, 1415],    \n",
    "    'lily': [8, 666],\n",
    "    'junning': [1123, 1024]\n",
    "    }\n",
    "for name, numbers in favorite_numbers.items():\n",
    "    print(f\"\\n{name.title()}'s favorite numbers are:\")\n",
    "    for number in numbers:\n",
    "        print(f\"\\t{number}\")"
   ]
  },
  {
   "cell_type": "code",
   "execution_count": null,
   "metadata": {},
   "outputs": [],
   "source": [
    "# 6.11 cities.py\n",
    "cities = {\n",
    "    'jilin': {\n",
    "        'country': 'china',\n",
    "        'population': 1_669_000,\n",
    "        'fact': 'it is the capital of Jilin province.'\n",
    "    },\n",
    "\n",
    "    'fayetteville': {\n",
    "        'country': 'united states',\n",
    "        'population': 95_230,\n",
    "        'fact': 'there is no airport in Fayeteville.'\n",
    "    },\n",
    "\n",
    "    'vancouver': {\n",
    "        'country': 'canada',\n",
    "        'population': 2_657_000,\n",
    "        'fact': 'it rains during every weekend.'\n",
    "    }\n",
    "}\n",
    "\n",
    "for city, information in cities.items():\n",
    "    print(f\"\\n{city.title()} is a city in {information['country'].title()}.\")\n",
    "    print(f\"{city.title()} has a population of {information['population']} and {information['fact']}\")"
   ]
  },
  {
   "cell_type": "code",
   "execution_count": null,
   "metadata": {},
   "outputs": [],
   "source": [
    "# 6.12 extensions.py\n",
    "# modify aliens.py\n",
    "import random\n",
    "aliens = []\n",
    "colors = ['green', 'yellow', 'red']\n",
    "points = [5, 10, 15]\n",
    "\n",
    "# Make 30 random aliens.\n",
    "for alien_number in range(30):\n",
    "    alien = {\n",
    "        'color': random.choice(colors),\n",
    "        'points': random.choice(points)\n",
    "        }\n",
    "    aliens.append(alien)\n",
    "\n",
    "# Show the fist 5 aliens.\n",
    "for number in range(5):\n",
    "    alien = aliens[number]\n",
    "    print(f\"\\nAlien {number} is in {alien['color']} and worths {alien['points']} points.\")"
   ]
  },
  {
   "attachments": {},
   "cell_type": "markdown",
   "metadata": {},
   "source": [
    "# Chapter 7 User Input and While Loops\n",
    "## How the input() Function Works"
   ]
  },
  {
   "cell_type": "code",
   "execution_count": null,
   "metadata": {},
   "outputs": [],
   "source": [
    "# 7.1 rental_car.py\n",
    "car = input(\"What kind of rental car would you like? \")\n",
    "print(f\"Let me see if I can find you a {car.title()}.\")"
   ]
  },
  {
   "cell_type": "code",
   "execution_count": null,
   "metadata": {},
   "outputs": [],
   "source": [
    "# 7.2 restaurant_seating.py\n",
    "group_number = input(\"How many people are in your dinner group? \")\n",
    "group_number = int(group_number)\n",
    "\n",
    "if group_number > 8:\n",
    "    print(f\"You will have to wait for a table.\")\n",
    "else:\n",
    "    print(f\"Your table is  ready!\")"
   ]
  },
  {
   "cell_type": "code",
   "execution_count": null,
   "metadata": {},
   "outputs": [],
   "source": [
    "# 7.3 multiples_of_ten.py\n",
    "number = input(\"Enter a number, and I'll tell you if it's a multiple of 10 or not: \")\n",
    "number  = int(number)\n",
    "\n",
    "if number % 10 == 0:\n",
    "    print(f\"\\nThe number {number} is a multiple of 10.\")\n",
    "else:\n",
    "    print(f\"\\nThe number {number} is not a multiple of 10.\")"
   ]
  },
  {
   "attachments": {},
   "cell_type": "markdown",
   "metadata": {},
   "source": [
    "## Introducing while Loops"
   ]
  },
  {
   "cell_type": "code",
   "execution_count": null,
   "metadata": {},
   "outputs": [],
   "source": [
    "# 7.4 pizza_toppings.py\n",
    "prompt = \"\\nPlease enter the pizza topping you want: \"\n",
    "prompt += \"\\n(Enter 'quit' when your are finished.)\"\n",
    "\n",
    "while True:\n",
    "    topping = input(prompt)\n",
    "\n",
    "    if topping == 'quit':\n",
    "        break\n",
    "    else:\n",
    "        print(f\"I'll add {topping} to your pizza.\")"
   ]
  },
  {
   "cell_type": "code",
   "execution_count": null,
   "metadata": {},
   "outputs": [],
   "source": [
    "# 7.5 movie_tickets.py\n",
    "prompt = \"\\nPlease enter your age: \"\n",
    "prompt += \"\\n(Enter 'quit' when your are finished.)\"\n",
    "\n",
    "while True:\n",
    "    age = input(prompt)\n",
    "    if age == 'quit':\n",
    "        break\n",
    "    else:\n",
    "        age = int(age)\n",
    "\n",
    "        if age < 3:\n",
    "            print(f\"Your ticket is free!\")\n",
    "        elif age < 12:\n",
    "            print(f\"Your ticket is $10.\")\n",
    "        else:\n",
    "            print(f\"Your ticket is $15.\")"
   ]
  },
  {
   "cell_type": "code",
   "execution_count": null,
   "metadata": {},
   "outputs": [],
   "source": [
    "# 7.6 three_exits.py\n",
    "# 7.4 use conditional test in while\n",
    "prompt = \"\\nPlease enter the pizza topping you want: \"\n",
    "prompt += \"\\n(Enter 'quit' when your are finished.)\"\n",
    "\n",
    "topping = \"\"\n",
    "while topping != 'quit':\n",
    "    topping = input(prompt)\n",
    "\n",
    "    if topping != 'quit':\n",
    "        print(f\"I'll add {topping} to your pizza.\")\n",
    "\n",
    "# 7.4 use an active variable\n",
    "active = True\n",
    "while active:\n",
    "    topping = input(prompt)\n",
    "\n",
    "    if topping == 'quit':\n",
    "        active = False\n",
    "    else:\n",
    "        print(f\"I'll add {topping} to your pizza.\")\n",
    "\n",
    "# 7.5 use conditional test in while\n",
    "prompt = \"\\nPlease enter your age: \"\n",
    "prompt += \"\\n(Enter 'quit' when your are finished.)\"\n",
    "\n",
    "age = \"\"\n",
    "while age != 'quit':\n",
    "    age = input(prompt)\n",
    "\n",
    "    if age != 'quit':\n",
    "        age = int(age)\n",
    "\n",
    "        if age < 3:\n",
    "           print(f\"Your ticket is free!\")\n",
    "        elif age < 12:\n",
    "           print(f\"Your ticket is $10.\")\n",
    "        else:\n",
    "            print(f\"Your ticket is $15.\")\n",
    "\n",
    "# 7.5 use an active variable\n",
    "active = True\n",
    "while active:\n",
    "    age = input(prompt)\n",
    "\n",
    "    if age == 'quit':\n",
    "        break\n",
    "    else:\n",
    "        age = int(age)\n",
    "\n",
    "        if age < 3:\n",
    "           print(f\"Your ticket is free!\")\n",
    "        elif age < 12:\n",
    "           print(f\"Your ticket is $10.\")\n",
    "        else:\n",
    "            print(f\"Your ticket is $15.\")"
   ]
  },
  {
   "cell_type": "code",
   "execution_count": null,
   "metadata": {},
   "outputs": [],
   "source": [
    "# 7.7 infinity.py\n",
    "#while True:\n",
    "#    print(f\"ha\")"
   ]
  },
  {
   "attachments": {},
   "cell_type": "markdown",
   "metadata": {},
   "source": [
    "## Using a while Loop with Lists and Dictionaries"
   ]
  },
  {
   "cell_type": "code",
   "execution_count": null,
   "metadata": {},
   "outputs": [],
   "source": [
    "# 7.8 deli.py\n",
    "sandwich_orders = ['grilled cheese','tramezzini','croque monsieur','arepa','banh mi']\n",
    "finished_sandwiches = []\n",
    "\n",
    "while sandwich_orders:\n",
    "    sandwich = sandwich_orders.pop()\n",
    "\n",
    "    print(f\"I made your {sandwich.title()} sandwich.\")\n",
    "    finished_sandwiches.append(sandwich)\n",
    "\n",
    "# list each sandwich that was made\n",
    "print(f\"\\nThe following sandwiches have been made:\")\n",
    "for sandwich in finished_sandwiches:\n",
    "    print(f\"\\t{sandwich.title()}\")"
   ]
  },
  {
   "cell_type": "code",
   "execution_count": null,
   "metadata": {},
   "outputs": [],
   "source": [
    "# 7.9 no_pastrami\n",
    "sandwich_orders = ['grilled cheese','tramezzini','croque monsieur','arepa','banh mi']\n",
    "sandwich_orders.insert(0,'pastrami')\n",
    "sandwich_orders.insert(3,'pastrami')\n",
    "sandwich_orders.insert(-1,'pastrami')\n",
    "\n",
    "print(f\"Deli has run out of pastrami.\")\n",
    "\n",
    "while 'pastrami' in sandwich_orders:\n",
    "    sandwich_orders.remove('pastrami')\n",
    "\n",
    "finished_sandwiches = []\n",
    "\n",
    "while sandwich_orders:\n",
    "    sandwich = sandwich_orders.pop()\n",
    "\n",
    "    print(f\"I made your {sandwich.title()} sandwich.\")\n",
    "    finished_sandwiches.append(sandwich)\n",
    "\n",
    "# list each sandwich that was made\n",
    "print(f\"\\nThe following sandwiches have been made:\")\n",
    "for sandwich in finished_sandwiches:\n",
    "    print(f\"\\t{sandwich.title()}\")"
   ]
  },
  {
   "cell_type": "code",
   "execution_count": null,
   "metadata": {},
   "outputs": [],
   "source": [
    "# 7.10 dream_vacation.py\n",
    "responses = {}\n",
    "# Set flag for end of poll.\n",
    "polling_active = True\n",
    "\n",
    "while polling_active:\n",
    "    # Prompt for the user's name and dream vacation place.\n",
    "    name = input(\"\\nWhat is your name? \")\n",
    "    response = input(\"If you could visit one place in the world, where would you go? \")\n",
    "\n",
    "    # Store the response of the person in the dictionary.\n",
    "    responses[name] = response\n",
    "\n",
    "    # Find out if anyone else need to poll.\n",
    "    repeat = input(\"Would you like to let another person respond? (yes/ no) \")\n",
    "    if repeat == 'no':\n",
    "        polling_active = False\n",
    "\n",
    "# print the results of the poll.\n",
    "if len(responses) == 1:\n",
    "    print(\"\\nThe result of the poll is: \")\n",
    "else:\n",
    "    print(\"\\nThe results of the poll are: \")\n",
    "    \n",
    "for name, response in responses.items():\n",
    "    print(f\"\\t{name.title()} would go to {response.title()}.\")"
   ]
  },
  {
   "attachments": {},
   "cell_type": "markdown",
   "metadata": {},
   "source": [
    "# Chapter 8 Functions\n",
    "## Defining a Function"
   ]
  },
  {
   "cell_type": "code",
   "execution_count": null,
   "metadata": {},
   "outputs": [],
   "source": [
    "# 8.1 message.py\n",
    "# define the function.\n",
    "def display_message():\n",
    "    \"\"\"Prints one sentence telling everyone\n",
    "      what you are learning about in this chapter.\"\"\"\n",
    "    print(\"I'm learning function in python!\")\n",
    "\n",
    "# call the function\n",
    "display_message()"
   ]
  },
  {
   "cell_type": "code",
   "execution_count": null,
   "metadata": {},
   "outputs": [],
   "source": [
    "# 8.2 favorite_book.py\n",
    "# define the function\n",
    "def favorite_book(title):\n",
    "    print(f\"One of my favorite books is '{title.title()}'.\")\n",
    "\n",
    "# call the function\n",
    "favorite_book('Three Kingdoms')"
   ]
  },
  {
   "attachments": {},
   "cell_type": "markdown",
   "metadata": {},
   "source": [
    "## Passing Arguments"
   ]
  },
  {
   "cell_type": "code",
   "execution_count": null,
   "metadata": {},
   "outputs": [],
   "source": [
    "# 8.3 t-shirt.py\n",
    "def make_shirt(size, message):\n",
    "    \"\"\"Accepts a size and the text of a message that should be printed on the shirt.\"\"\"\n",
    "    print(f\"\\nThe shirt you want is a size {size} shirt with the following message: \")\n",
    "    print(f\"\\t{message}\")\n",
    "\n",
    "# Call the function using positional arguments.\n",
    "make_shirt('M','Just not Do It.')\n",
    "\n",
    "# Call the function using keyword arguments.\n",
    "make_shirt(message= 'Just not Do It.', size= 'M')"
   ]
  },
  {
   "cell_type": "code",
   "execution_count": null,
   "metadata": {},
   "outputs": [],
   "source": [
    "# 8.4 large_shirts.py\n",
    "# Modify the make_shirt() function\n",
    "def make_shirt(size='L', message='I love Python.'):\n",
    "    \"\"\" shirts are large by default with a message that reads I love Python.\"\"\"\n",
    "    print(f\"\\nThe shirt you want is a size {size} shirt with the following message: \")\n",
    "    print(f\"\\t{message}\")\n",
    "\n",
    "# large shirt and medium shirt with the default\n",
    "make_shirt()\n",
    "make_shirt(\"M\")\n",
    "\n",
    "# a shirt with any size witha different message\n",
    "make_shirt('S','Just not Do It.')"
   ]
  },
  {
   "cell_type": "code",
   "execution_count": null,
   "metadata": {},
   "outputs": [],
   "source": [
    "# 8.5 cities.py\n",
    "def describe_city(name, country='China'):\n",
    "    \"\"\"accepts the name of a city and its country.\"\"\"\n",
    "    print(f\"{name.title()} is in {country.title()}.\")\n",
    "\n",
    "# call the function for three different cities\n",
    "describe_city('Reykjavik','Iceland')\n",
    "describe_city('Paris','France')\n",
    "describe_city('Incheon','South Korean')"
   ]
  },
  {
   "attachments": {},
   "cell_type": "markdown",
   "metadata": {},
   "source": [
    "## Return Values"
   ]
  },
  {
   "cell_type": "code",
   "execution_count": null,
   "metadata": {},
   "outputs": [],
   "source": [
    "# 8.6 city_names.py\n",
    "def city_country(name, country):\n",
    "    \"\"\"Return a string formatted like: \n",
    "        \"Santiago, Chile\" \"\"\"\n",
    "\n",
    "    print(f\"{name.title()}, {country.title()}\")\n",
    "\n",
    "city_country('Reykjavik','Iceland')\n",
    "city_country('Paris','France')\n",
    "city_country('Incheon','South Korean')"
   ]
  },
  {
   "cell_type": "code",
   "execution_count": null,
   "metadata": {},
   "outputs": [],
   "source": [
    "# 8.7 album.py\n",
    "def make_album(artist_name, album_title):\n",
    "    \"\"\"Return a dictionary containing these two pieces of information.\"\"\"\n",
    "\n",
    "    album = {'artist': artist_name.title(), 'title': album_title.title()}\n",
    "    return album\n",
    "\n",
    "album_0 = make_album('jay chou', 'fantasy')\n",
    "album_1 = make_album('adele', '21')\n",
    "album_2 = make_album('ed sheeran', 'divide')\n",
    "\n",
    "albums = [album_0, album_1, album_2]\n",
    "\n",
    "for album in albums:\n",
    "    print(album)\n",
    "\n",
    "def make_album(artist_name, album_title, song_number=None):\n",
    "    \"\"\"Add optional parameter to store the number of songs on the album\"\"\"\n",
    "\n",
    "    album = {\n",
    "        'artist': artist_name.title(), \n",
    "        'title': album_title.title(), \n",
    "        'number': song_number}\n",
    "    \n",
    "    return album\n",
    "\n",
    "album_2 = make_album('ed sheeran', 'divide', 16)\n",
    "print(f\"\\n{album_2}\")"
   ]
  },
  {
   "cell_type": "code",
   "execution_count": null,
   "metadata": {},
   "outputs": [],
   "source": [
    "# 8.8 user_albums.py\n",
    "while True:\n",
    "    print(\"\\nPlease enter an album's artist and title: \")\n",
    "    print(\"(enter 'q' at any time to quit)\")\n",
    "\n",
    "    artist = input(\"Please enter the artist of the album: \")\n",
    "    if artist == 'q':\n",
    "        break\n",
    "\n",
    "    title = input(\"Please enter the title of the album: \")\n",
    "    if title == 'q':\n",
    "        break\n",
    "\n",
    "    # call the user album\n",
    "    user_album = make_album(artist, title)\n",
    "    print(f\"\\n{user_album}\")"
   ]
  },
  {
   "attachments": {},
   "cell_type": "markdown",
   "metadata": {},
   "source": [
    "## Passing a List"
   ]
  },
  {
   "cell_type": "code",
   "execution_count": null,
   "metadata": {},
   "outputs": [],
   "source": [
    "# 8.9 messages.py\n",
    "def show_messages(messages):\n",
    "    \"\"\"prints each text message.\"\"\"\n",
    "\n",
    "    for message in messages:\n",
    "        print(message)\n",
    "\n",
    "messages = ['Attention!', 'Attention!', 'Do not reply!']\n",
    "show_messages(messages)"
   ]
  },
  {
   "cell_type": "code",
   "execution_count": null,
   "metadata": {},
   "outputs": [],
   "source": [
    "# 8.10 sending_messages.py\n",
    "def send_messages(unsent_messages, sent_messages):\n",
    "    \"\"\"Move each message to a new list\"\"\"\n",
    "\n",
    "    while unsent_messages:\n",
    "        message = unsent_messages.pop()\n",
    "        sent_messages.append(message)\n",
    "\n",
    "unsent_messages = ['Attention!', 'Attention!', 'Do not reply!']\n",
    "sent_messages = []\n",
    "\n",
    "send_messages(unsent_messages, sent_messages)\n",
    "\n",
    "print(unsent_messages)\n",
    "print(sent_messages)"
   ]
  },
  {
   "cell_type": "code",
   "execution_count": null,
   "metadata": {},
   "outputs": [],
   "source": [
    "# 8.11 archived_messages.py\n",
    "unsent_messages = ['Attention!', 'Attention!', 'Do not reply!']\n",
    "sent_messages = []\n",
    "\n",
    "send_messages(unsent_messages[:], sent_messages)\n",
    "\n",
    "print(unsent_messages)\n",
    "print(sent_messages)"
   ]
  },
  {
   "attachments": {},
   "cell_type": "markdown",
   "metadata": {},
   "source": [
    "## Passing an Arbitrary Number of Arguments"
   ]
  },
  {
   "cell_type": "code",
   "execution_count": null,
   "metadata": {},
   "outputs": [],
   "source": [
    "# 8.12 sandwiches.py\n",
    "def order_sandwich(*items):\n",
    "    \"\"\"collects all items on sandwich and print a summary\"\"\"\n",
    "\n",
    "    print(f\"\\nYou ordered a sandwich with following items on it: \")\n",
    "    for item in items:\n",
    "        print(f\"\\t-{item.title()}\")\n",
    "\n",
    "order_sandwich('tomatoes', 'lettuce', 'onions')\n",
    "order_sandwich('tomatoes', 'lettuce', 'peppers', 'pickles')\n",
    "order_sandwich('tomatoes', 'avocados', 'olives', 'sprouts')"
   ]
  },
  {
   "cell_type": "code",
   "execution_count": null,
   "metadata": {},
   "outputs": [],
   "source": [
    "# 8.13 user_profile.py\n",
    "def build_profile(first, last, **user_info):\n",
    "    \"\"\"Build a dictionary containing everything we know about a user.\"\"\"\n",
    "    user_info['first_name'] = first\n",
    "    user_info['last_name'] = last\n",
    "    return user_info\n",
    "\n",
    "user_profile = build_profile('arthur', 'li',\n",
    "                             age = 27,\n",
    "                             location='vancouver',\n",
    "                             field='homestay')\n",
    "print(user_profile)"
   ]
  },
  {
   "cell_type": "code",
   "execution_count": null,
   "metadata": {},
   "outputs": [],
   "source": [
    "# 8.14 cars.py\n",
    "def build_carinfo(manufacturer, model, **car_info):\n",
    "    \"\"\"store information about a car in a dictionary.\"\"\"\n",
    "    car_info['manufacture'] = manufacturer\n",
    "    car_info['model_name'] = model\n",
    "    return car_info\n",
    "\n",
    "my_car = build_carinfo('BMW', '428i', year = 2014, color = 'Melbourne red',\n",
    "               xdrive = True, M_package = False)\n",
    "print(my_car)"
   ]
  },
  {
   "attachments": {},
   "cell_type": "markdown",
   "metadata": {},
   "source": [
    "## Storing Your Functions in Modules"
   ]
  },
  {
   "cell_type": "code",
   "execution_count": null,
   "metadata": {},
   "outputs": [],
   "source": [
    "# 8.15 printing_models.py\n",
    "from print_functions import print_models\n",
    "\n",
    "def show_completed_models(completed_models):\n",
    "    \"\"\"Show all the models that were printed.\"\"\"\n",
    "    print(\"\\nThe following models have been printed:\")\n",
    "    for completed_model in completed_models:\n",
    "        print(completed_model)\n",
    "\n",
    "unprinted_designs = ['phone case', 'robot pendant', 'dodecahedron']\n",
    "completed_models = []\n",
    "\n",
    "print_models(unprinted_designs[:], completed_models)\n",
    "show_completed_models(completed_models)"
   ]
  },
  {
   "cell_type": "code",
   "execution_count": null,
   "metadata": {},
   "outputs": [],
   "source": [
    "# 8.16.1 imports.py\n",
    "import hello_world_function\n",
    "hello_world_function.hello_world()"
   ]
  },
  {
   "cell_type": "code",
   "execution_count": null,
   "metadata": {},
   "outputs": [],
   "source": [
    "# 8.16.2\n",
    "from hello_world_function import hello_world\n",
    "hello_world()"
   ]
  },
  {
   "cell_type": "code",
   "execution_count": null,
   "metadata": {},
   "outputs": [],
   "source": [
    "# 8.16.3\n",
    "from hello_world_function import hello_world as hw\n",
    "hw()"
   ]
  },
  {
   "cell_type": "code",
   "execution_count": null,
   "metadata": {},
   "outputs": [],
   "source": [
    "# 8.16.4\n",
    "import hello_world_function as hw_func\n",
    "hw_func.hello_world()"
   ]
  },
  {
   "cell_type": "code",
   "execution_count": null,
   "metadata": {},
   "outputs": [],
   "source": [
    "# 8.16.5\n",
    "from hello_world_function import *\n",
    "hello_world()"
   ]
  },
  {
   "attachments": {},
   "cell_type": "markdown",
   "metadata": {},
   "source": [
    "# Chapter 9 Classes\n",
    "## Creating and Using a Class"
   ]
  },
  {
   "cell_type": "code",
   "execution_count": null,
   "metadata": {},
   "outputs": [],
   "source": [
    "# 9.1 restaurant.py\n",
    "class Restaurant:\n",
    "    \"\"\"A simple class to model a restaurant.\"\"\"\n",
    "\n",
    "    def __init__(self, restaurant_name, cuisine_type):\n",
    "        self.restaurant_name = restaurant_name\n",
    "        self.cuisine_type = cuisine_type\n",
    "\n",
    "    def describle_restaurant(self):\n",
    "        print(f\"\\n{self.restaurant_name} is a {self.cuisine_type} restaurant.\")\n",
    "\n",
    "    def open_restaurant(self):\n",
    "        print(f\"\\n{self.restaurant_name} is open.\")\n",
    "\n",
    "# make an instance\n",
    "restaurant = Restaurant('B&D', 'Viet cuisine')\n",
    "\n",
    "print(f\"The name of the restaurant is: {restaurant.restaurant_name}.\")\n",
    "print(f\"The cuisine of the restaurant is: {restaurant.cuisine_type}.\")\n",
    "\n",
    "# call both methods\n",
    "restaurant.describle_restaurant()\n",
    "restaurant.open_restaurant()"
   ]
  },
  {
   "cell_type": "code",
   "execution_count": null,
   "metadata": {},
   "outputs": [],
   "source": [
    "# 9.2 three_restaurants.py\n",
    "restaurant_0 = Restaurant('B&D', 'Viet cuisine')\n",
    "restaurant_1 = Restaurant('cloud 9 delicacy', 'Taiwanese')\n",
    "restaurant_2 = Restaurant('HK BBQ master', 'Hong Kong cuisine')\n",
    "\n",
    "restaurant_0.describle_restaurant()\n",
    "restaurant_1.describle_restaurant()\n",
    "restaurant_2.describle_restaurant()"
   ]
  },
  {
   "cell_type": "code",
   "execution_count": null,
   "metadata": {},
   "outputs": [],
   "source": [
    "# users.py\n",
    "class User:\n",
    "    \"\"\"A class to model users.\"\"\"\n",
    "\n",
    "    def __init__(self, first_name, last_name, age, location):\n",
    "        self.first_name = first_name\n",
    "        self.last_name = last_name\n",
    "        self.age = age\n",
    "        self.location = location\n",
    "\n",
    "    def describe_user(self):\n",
    "        self.full_name = f\"{self.first_name} {self.last_name}\"\n",
    "        print(f\"\\n{self.full_name.title()} is {self.age} years old and lives in {self.location.title()}.\")\n",
    "\n",
    "    def greet_user(self):\n",
    "        print(f\"Hello, {self.full_name.title()}!\")\n",
    "\n",
    "# create several instances\n",
    "arthur = User('arthur', 'li', 27, 'vancouver')\n",
    "junning = User('junning', 'fu', 28, 'beijing')\n",
    "andong = User('andong', 'zhou', 29, 'fayetteville')\n",
    "\n",
    "users = [arthur, junning, andong]\n",
    "for user in users:\n",
    "    user.describe_user()\n",
    "    user.greet_user()"
   ]
  },
  {
   "attachments": {},
   "cell_type": "markdown",
   "metadata": {},
   "source": [
    "## Working with Classes and Instances"
   ]
  },
  {
   "cell_type": "code",
   "execution_count": null,
   "metadata": {},
   "outputs": [],
   "source": [
    "# 9.4 number_served.py\n",
    "class Restaurant:\n",
    "    \"\"\"A simple class to model a restaurant.\"\"\"\n",
    "\n",
    "    def __init__(self, restaurant_name, cuisine_type):\n",
    "        self.restaurant_name = restaurant_name\n",
    "        self.cuisine_type = cuisine_type\n",
    "        self.number_served = 0\n",
    "\n",
    "    def describle_restaurant(self):\n",
    "        print(f\"\\n{self.restaurant_name} is a {self.cuisine_type} restaurant.\")\n",
    "\n",
    "    def open_restaurant(self):\n",
    "        print(f\"\\n{self.restaurant_name} is open.\")\n",
    "\n",
    "    def set_number_served(self, number):\n",
    "        self.number_served = number\n",
    "\n",
    "    def increment_number_served(self, number):\n",
    "        self.number_served += number\n",
    "\n",
    "    def show_number_served(self):\n",
    "        print(f\"\\n{self.restaurant_name} has served {self.number_served} customers.\")\n",
    "\n",
    "restaurant = Restaurant('B&D', 'Viet cuisine')\n",
    "restaurant.show_number_served()\n",
    "\n",
    "restaurant.number_served = 4\n",
    "restaurant.show_number_served()\n",
    "\n",
    "restaurant.set_number_served(6)\n",
    "restaurant.show_number_served()\n",
    "\n",
    "restaurant.increment_number_served(3)\n",
    "restaurant.show_number_served()"
   ]
  },
  {
   "cell_type": "code",
   "execution_count": null,
   "metadata": {},
   "outputs": [],
   "source": [
    "# 9.5 login_attempts.py\n",
    "class User:\n",
    "    \"\"\"A class to model users.\"\"\"\n",
    "\n",
    "    def __init__(self, first_name, last_name, age, location):\n",
    "        self.first_name = first_name\n",
    "        self.last_name = last_name\n",
    "        self.age = age\n",
    "        self.location = location\n",
    "        self.login_attempts = 0\n",
    "\n",
    "    def describe_user(self):\n",
    "        self.full_name = f\"{self.first_name} {self.last_name}\"\n",
    "        print(f\"\\n{self.full_name.title()} is {self.age} years old and lives in {self.location.title()}.\")\n",
    "\n",
    "    def greet_user(self):\n",
    "        print(f\"Hello, {self.full_name.title()}!\")\n",
    "\n",
    "    def increment_login_attempts(self):\n",
    "        self.login_attempts += 1\n",
    "\n",
    "    def reset_login_attempts(self):\n",
    "        self.login_attempts = 0\n",
    "\n",
    "    def show_login_attempts(self):\n",
    "        print(f\"\\nYou have been logged in for {self.login_attempts} times.\")\n",
    "\n",
    "# create an instance\n",
    "arthur = User('arthur', 'li', 27, 'vancouver')\n",
    "\n",
    "for attempt in range(3):\n",
    "    arthur.increment_login_attempts()\n",
    "\n",
    "arthur.show_login_attempts()\n",
    "arthur.reset_login_attempts()\n",
    "arthur.show_login_attempts()"
   ]
  },
  {
   "attachments": {},
   "cell_type": "markdown",
   "metadata": {},
   "source": [
    "## Inheritance"
   ]
  },
  {
   "cell_type": "code",
   "execution_count": null,
   "metadata": {},
   "outputs": [],
   "source": [
    "# 9.6 ice_cream_stand.py\n",
    "class IceCreamStand(Restaurant):\n",
    "    \"\"\"A class inherits form restaurant.\"\"\"\n",
    "\n",
    "    def __init__(self, restaurant_name, cuisine_type='Ice cream stand'):\n",
    "        super().__init__(restaurant_name, cuisine_type)\n",
    "        self.flavors = ['Vanilla', 'Chocalate', 'Strawberry', 'Mango']\n",
    "    \n",
    "    def display_flavors(self):\n",
    "        print(f\"\\nThe following flavors are served: \")\n",
    "        for flavor in self.flavors:\n",
    "            print(f\"\\t{flavor}\")\n",
    "\n",
    "icecream_stand = IceCreamStand('DQ')\n",
    "icecream_stand.display_flavors()"
   ]
  },
  {
   "cell_type": "code",
   "execution_count": null,
   "metadata": {},
   "outputs": [],
   "source": [
    "# 9.7 admin.py\n",
    "class Admin(User):\n",
    "    \"\"\"A special kind of user.\"\"\"\n",
    "\n",
    "    def __init__(self, first_name, last_name, age, location):\n",
    "        super().__init__(first_name, last_name, age, location)\n",
    "        self.privileges = ['can add post',\n",
    "                           'can delete post',\n",
    "                           'can ban user']\n",
    "        \n",
    "    def show_privileges(self):\n",
    "        print(f\"\\nThe privileges of administrator are: \")\n",
    "        for privilege in self.privileges:\n",
    "            print(f\"\\t{privilege}\")\n",
    "\n",
    "arthur = Admin('arthur','li', 27, 'vancouver')\n",
    "arthur.show_privileges()"
   ]
  },
  {
   "cell_type": "code",
   "execution_count": null,
   "metadata": {},
   "outputs": [],
   "source": [
    "# 9.8 privileges.py\n",
    "class Privileges:\n",
    "    \"\"\"A separate privileges class.\"\"\"\n",
    "\n",
    "    def __init__(self):\n",
    "        self.privileges = ['can add post',\n",
    "                           'can delete post',\n",
    "                           'can ban user']\n",
    "\n",
    "    def show_privileges(self):\n",
    "        print(f\"\\nThe privileges of administrator are: \")\n",
    "        for privilege in self.privileges:\n",
    "            print(f\"\\t{privilege}\")\n",
    "\n",
    "class Admin(User):\n",
    "    \"\"\"A new admin class definition.\"\"\"\n",
    "\n",
    "    def __init__(self, first_name, last_name, age, location):\n",
    "        super().__init__(first_name, last_name, age, location)\n",
    "        self.privileges = Privileges()\n",
    "\n",
    "lily = Admin('lily', 'zhang', 28, 'vancouver')\n",
    "lily.privileges.show_privileges()"
   ]
  },
  {
   "cell_type": "code",
   "execution_count": null,
   "metadata": {},
   "outputs": [],
   "source": [
    "# 9.9 battery_upgrade.py\n",
    "class Car:\n",
    "    \"\"\"A simple attempt to represent a car.\"\"\"\n",
    "\n",
    "    def __init__(self, make, model, year):\n",
    "        \"\"\"Initialize attributes to describe a car.\"\"\"\n",
    "        self.make = make\n",
    "        self.model = model\n",
    "        self.year = year\n",
    "        self.odometer_reading = 0\n",
    "\n",
    "    def get_descriptive_name(self):\n",
    "        \"\"\"Return a neatly formatted descriptive name.\"\"\"\n",
    "        long_name = f\"{self.year} {self.make} {self.model}\"\n",
    "        return long_name.title()\n",
    "\n",
    "    def read_odometer(self):\n",
    "        \"\"\"Print a statement showing the car's mileage.\"\"\"\n",
    "        print(f\"This car has {self.odometer_reading} miles on it.\")\n",
    "\n",
    "    def update_odometer(self, mileage):\n",
    "        \"\"\"Set the odometer reading to the given value.\"\"\"\n",
    "        if mileage >= self.odometer_reading:\n",
    "            self.odometer_reading = mileage\n",
    "        else:\n",
    "            print(\"You can't roll back an odometer!\")\n",
    "\n",
    "    def increment_odometer(self, miles):\n",
    "        \"\"\"Add the given amount to the odometer reading.\"\"\"\n",
    "        self.odometer_reading += miles\n",
    "\n",
    "class Battery:\n",
    "    \"\"\"A simple attempt to model a battery for an electric car.\"\"\"\n",
    "\n",
    "    def __init__(self, battery_size=40):\n",
    "        \"\"\"Initialize the battery's attributes.\"\"\"\n",
    "        self.battery_size = battery_size\n",
    "    \n",
    "    def describe_battery(self):\n",
    "        \"\"\"Print a statement describing the battery size.\"\"\"\n",
    "        print(f\"This car has a {self.battery_size}-kWh battery.\")\n",
    "\n",
    "    def get_range(self):\n",
    "        \"\"\"Print a statement about the range this battery provides.\"\"\"\n",
    "        if self.battery_size == 40:\n",
    "            range = 150\n",
    "        elif self.battery_size == 65:\n",
    "            range = 225\n",
    "\n",
    "        print(f\"This car can go about {range} miles on a full charge.\")\n",
    "\n",
    "    def upgrade_battery(self):\n",
    "        if self.battery_size != 65:\n",
    "            self.battery_size = 65\n",
    "\n",
    "class ElectricCar(Car):\n",
    "    \"\"\"Represent aspects of a car, specific to electric vehicles.\"\"\"\n",
    "\n",
    "    def __init__(self, make, model, year):\n",
    "        \"\"\"Initialize attributes of the parent class.\"\"\"\n",
    "        super().__init__(make, model, year)\n",
    "        self.battery = Battery()\n",
    "\n",
    "next_car = ElectricCar('BMW', 'X3', 2024)\n",
    "next_car.battery.get_range()\n",
    "next_car.battery.upgrade_battery()\n",
    "next_car.battery.get_range()"
   ]
  },
  {
   "attachments": {},
   "cell_type": "markdown",
   "metadata": {},
   "source": [
    "## Importing Classes"
   ]
  },
  {
   "cell_type": "code",
   "execution_count": null,
   "metadata": {},
   "outputs": [],
   "source": [
    "# 9.10 imported restaurant.py\n",
    "from restaurants import Restaurant\n",
    "\n",
    "last_restaurant = Restaurant('B&D', 'Viet cuisine')\n",
    "last_restaurant.describle_restaurant()"
   ]
  },
  {
   "cell_type": "code",
   "execution_count": null,
   "metadata": {},
   "outputs": [],
   "source": [
    "# 9.11 imported_admin.py\n",
    "from user1 import *\n",
    "\n",
    "arthur = Admin('arthur', 'li', 27, 'vancouver')\n",
    "arthur.privileges.show_privileges()"
   ]
  },
  {
   "cell_type": "code",
   "execution_count": null,
   "metadata": {},
   "outputs": [],
   "source": [
    "# 9.12 multiple_modules.py\n",
    "from admin import Admin\n",
    "\n",
    "lily = Admin('lily', 'zhang', 28, 'vancouver')\n",
    "lily.privileges.show_privileges()"
   ]
  },
  {
   "attachments": {},
   "cell_type": "markdown",
   "metadata": {},
   "source": [
    "## The Python Standard Library"
   ]
  },
  {
   "cell_type": "code",
   "execution_count": null,
   "metadata": {},
   "outputs": [],
   "source": [
    "# 9.13 dice.py\n",
    "from random import randint\n",
    "\n",
    "class Die:\n",
    "    def __init__(self, sides=6):\n",
    "        self.sides = sides\n",
    "\n",
    "    def roll_die(self):\n",
    "        print(randint(1,self.sides))\n",
    "\n",
    "die_10 = Die(10)\n",
    "die_20 = Die(20)\n",
    "\n",
    "for time in range(10):\n",
    "    die_10.roll_die()\n",
    "    die_20.roll_die()\n"
   ]
  },
  {
   "cell_type": "code",
   "execution_count": null,
   "metadata": {},
   "outputs": [],
   "source": [
    "# 9.14 lottery.py\n",
    "from random import sample\n",
    "\n",
    "list = [number+1 for number in range(10)]\n",
    "list += \"ABCDE\"\n",
    "\n",
    "selected = sample(list, 4)\n",
    "print(f\"Any ticket matching \",*selected,\" wins a prize.\")"
   ]
  },
  {
   "cell_type": "code",
   "execution_count": null,
   "metadata": {},
   "outputs": [],
   "source": [
    "# 9.15 lottery_analysis.py\n",
    "from random import sample\n",
    "\n",
    "list = [number+1 for number in range(10)]\n",
    "list += \"ABCDE\"\n",
    "\n",
    "time = 0\n",
    "selected = sample(list, 4)\n",
    "\n",
    "while True:\n",
    "    my_ticket = sample(list, 4)\n",
    "    if my_ticket == selected:\n",
    "        print(f\"The loop runs {time} times to win the prize.\")\n",
    "        break\n",
    "    else:\n",
    "        time += 1"
   ]
  },
  {
   "attachments": {},
   "cell_type": "markdown",
   "metadata": {},
   "source": [
    "# Chapter 10 Files and Exceptions\n",
    "## Reading from a File"
   ]
  },
  {
   "cell_type": "code",
   "execution_count": null,
   "metadata": {},
   "outputs": [],
   "source": [
    "# file_reader.py\n",
    "from pathlib import Path\n",
    "\n",
    "path = Path('pi_digits.txt')\n",
    "contents = path.read_text()\n",
    "contents = contents.rstrip()\n",
    "print(contents)"
   ]
  },
  {
   "cell_type": "code",
   "execution_count": null,
   "metadata": {},
   "outputs": [],
   "source": [
    "# 10.1 learning_python.py\n",
    "from pathlib import Path\n",
    "\n",
    "path = Path('learning_python.txt')\n",
    "contents = path.read_text().rstrip()\n",
    "\n",
    "print(contents)\n",
    "\n",
    "lines = contents.splitlines()\n",
    "for line in lines:\n",
    "    print(line)"
   ]
  },
  {
   "cell_type": "code",
   "execution_count": null,
   "metadata": {},
   "outputs": [],
   "source": [
    "# 10.2 learning_c.py\n",
    "for line in lines:\n",
    "    modified_line = line.replace('Python', 'C')\n",
    "    print(modified_line)"
   ]
  },
  {
   "cell_type": "code",
   "execution_count": null,
   "metadata": {},
   "outputs": [],
   "source": [
    "# 10.3 simpler_code.py\n",
    "from pathlib import Path\n",
    "\n",
    "path = Path('learning_python.txt')\n",
    "contents = path.read_text().rstrip()\n",
    "\n",
    "for line in contents.splitlines():\n",
    "    print(line)\n",
    "    modified_line = line.replace('Python', 'C')\n",
    "    print(modified_line)"
   ]
  },
  {
   "attachments": {},
   "cell_type": "markdown",
   "metadata": {},
   "source": [
    "## Writing to a File"
   ]
  },
  {
   "cell_type": "code",
   "execution_count": null,
   "metadata": {},
   "outputs": [],
   "source": [
    "# 10.4 guest.py\n",
    "from pathlib import Path\n",
    "\n",
    "guest = input(f\"\\nPlease enter your name: \")\n",
    "\n",
    "path = Path('guest.txt')\n",
    "path.write_text(guest)"
   ]
  },
  {
   "cell_type": "code",
   "execution_count": null,
   "metadata": {},
   "outputs": [],
   "source": [
    "# 10.5 guest_book.py\n",
    "from pathlib import Path\n",
    "\n",
    "guests = ''\n",
    "while True:\n",
    "    prompt = f\"\\nPlease enter your name: \"\n",
    "    prompt += \"(enter 'q' to quit)\"\n",
    "    guest = input(prompt)\n",
    "    if guest == 'q':\n",
    "        break\n",
    "    else:\n",
    "        guests += f\"{guest}\\n\"\n",
    "\n",
    "path = Path('guest_book.txt')\n",
    "path.write_text(guests.rstrip())"
   ]
  },
  {
   "attachments": {},
   "cell_type": "markdown",
   "metadata": {},
   "source": [
    "## Exceptions"
   ]
  },
  {
   "cell_type": "code",
   "execution_count": null,
   "metadata": {},
   "outputs": [],
   "source": [
    "# 10.6 addition.py\n",
    "print(\"Give me two numbers, and I'll add them.\")\n",
    "first_number = input(f\"\\nPlease enter the first number: \")\n",
    "second_number = input(f\"\\nPlease enter the second number: \")\n",
    "\n",
    "try:\n",
    "    answer = int(first_number) + int(second_number)\n",
    "except ValueError:\n",
    "    print(\"Please enter a number instead of a text.\")\n",
    "else:\n",
    "    print(f\"The sum is {answer}.\")"
   ]
  },
  {
   "cell_type": "code",
   "execution_count": null,
   "metadata": {},
   "outputs": [],
   "source": [
    "# 10.7 addition_calculator.py\n",
    "print(\"Give me two numbers, and I'll add them.\")\n",
    "print(\"Enter 'q' to quit.\")\n",
    "\n",
    "while True:\n",
    "    first_number = input(f\"\\nPlease enter the first number: \")\n",
    "    if first_number == 'q':\n",
    "        break\n",
    "\n",
    "    second_number = input(f\"\\nPlease enter the second number: \")\n",
    "    if second_number == 'q':\n",
    "        break\n",
    "\n",
    "    try:\n",
    "        answer = int(first_number) + int(second_number)\n",
    "    except ValueError:\n",
    "        print(\"Please enter a number instead of a text.\")\n",
    "    else:\n",
    "        print(f\"The sum is {answer}.\")"
   ]
  },
  {
   "cell_type": "code",
   "execution_count": null,
   "metadata": {},
   "outputs": [],
   "source": [
    "# 10.8 cats_and_dogs.py\n",
    "from pathlib import Path\n",
    "\n",
    "path_0 = Path('cats.txt')\n",
    "path_1 = Path('dog.txt')\n",
    "\n",
    "pathes = [path_0, path_1]\n",
    "\n",
    "for path in pathes:\n",
    "    try:\n",
    "        contents = path.read_text().rstrip()\n",
    "    except FileNotFoundError:\n",
    "        print(f\"File '{path}' does not exit.\")\n",
    "    else:\n",
    "        print(f\"\\n{contents}\")"
   ]
  },
  {
   "cell_type": "code",
   "execution_count": null,
   "metadata": {},
   "outputs": [],
   "source": [
    "# 10.9 silent_cats_and_dogs.py\n",
    "from pathlib import Path\n",
    "\n",
    "path_0 = Path('cats.txt')\n",
    "path_1 = Path('dog.txt')\n",
    "\n",
    "pathes = [path_0, path_1]\n",
    "\n",
    "for path in pathes:\n",
    "    try:\n",
    "        contents = path.read_text().rstrip()\n",
    "    except FileNotFoundError:\n",
    "        pass\n",
    "    else:\n",
    "        print(f\"\\n{contents}\")"
   ]
  },
  {
   "cell_type": "code",
   "execution_count": null,
   "metadata": {},
   "outputs": [],
   "source": [
    "# 10.10 common_words.py\n",
    "from pathlib import Path\n",
    "\n",
    "path = Path('bible.txt')\n",
    "word = 'god'\n",
    "try:\n",
    "    contents = path.read_text(encoding='utf-8')\n",
    "except FileNotFoundError:\n",
    "    print(f\"Sorry, the file {path} does not exist.\")\n",
    "else:\n",
    "    count = contents.lower().count(word)\n",
    "    print(f\"The word '{word}' appears {count} times in file '{path}'.\")"
   ]
  },
  {
   "attachments": {},
   "cell_type": "markdown",
   "metadata": {},
   "source": [
    "## Storing Data"
   ]
  },
  {
   "cell_type": "code",
   "execution_count": null,
   "metadata": {},
   "outputs": [],
   "source": [
    "# 10.11 favorite_number.py\n",
    "from pathlib import Path\n",
    "import json\n",
    "\n",
    "favorite_number = input('\\nPlease enter your favorite number: ')\n",
    "path = Path('favorite_number.txt')\n",
    "contents = json.dumps(favorite_number)\n",
    "path.write_text(contents)"
   ]
  },
  {
   "cell_type": "code",
   "execution_count": null,
   "metadata": {},
   "outputs": [],
   "source": [
    "# 10.11 continued\n",
    "from pathlib import Path\n",
    "import json\n",
    "\n",
    "path = Path('favorite_number.txt')\n",
    "contents = path.read_text()\n",
    "favorite_number = json.loads(contents)\n",
    "\n",
    "print(f\"\\nI know your favorite number! It's {favorite_number}.\")"
   ]
  },
  {
   "cell_type": "code",
   "execution_count": null,
   "metadata": {},
   "outputs": [],
   "source": [
    "# 10.12 favorite_number_remembered.py\n",
    "from pathlib import Path\n",
    "import json\n",
    "\n",
    "path = Path('favorite_number.txt')\n",
    "\n",
    "if path.exists():\n",
    "    contents = path.read_text()\n",
    "    favorite_number = json.loads(contents)\n",
    "\n",
    "    print(f\"\\nI know your favorite number! It's {favorite_number}.\")\n",
    "else:\n",
    "    favorite_number = input('\\nPlease enter your favorite number: ')\n",
    "    contents = json.dumps(favorite_number)\n",
    "    path.write_text(contents)"
   ]
  },
  {
   "cell_type": "code",
   "execution_count": null,
   "metadata": {},
   "outputs": [],
   "source": [
    "# 10.13 user_dictionary.py\n",
    "from pathlib import Path\n",
    "import json\n",
    "\n",
    "def build_profile(first, last, age, location):\n",
    "    \"\"\"Build a dictionary containing everything we know about a user.\"\"\"\n",
    "    user_info = {}\n",
    "    user_info['first_name'] = first\n",
    "    user_info['last_name'] = last\n",
    "    user_info['age'] = age\n",
    "    user_info['location'] = location\n",
    "    return user_info\n",
    "\n",
    "def get_stored_profile(path):\n",
    "    \"\"\"Get stored profile if available.\"\"\"\n",
    "    if path.exists():\n",
    "        contents = path.read_text()\n",
    "        user_profile = json.loads(contents)\n",
    "        return user_profile\n",
    "    else:\n",
    "        return None\n",
    "    \n",
    "def get_new_profile(path):\n",
    "    \"\"\"Prompt for a new profile.\"\"\"\n",
    "    first_name = input(\"\\nWhat is your first name? \").title()\n",
    "    last_name = input(\"\\nWhat is your last name? \").title()\n",
    "    \n",
    "    age = input(\"\\nPlease enter your age: \")\n",
    "    age = int(age)\n",
    "\n",
    "    location = input(\"\\nPlease enter your location: \")\n",
    "    location = location.title()\n",
    "\n",
    "    user_profile = build_profile(first_name, last_name, age, location)\n",
    "    contents = json.dumps(user_profile)\n",
    "    path.write_text(contents)\n",
    "    return user_profile\n",
    "\n",
    "def greet_user():\n",
    "    \"\"\"Greet the user by name.\"\"\"\n",
    "    path = Path('user_profile.json')\n",
    "    user_profile = get_stored_profile(path)\n",
    "    if user_profile:\n",
    "        user_info = f\"User {user_profile['first_name']} {user_profile['last_name']}\"\n",
    "        user_info += f\" is {user_profile['age']} in {user_profile['location']}.\"\n",
    "        print(user_info)\n",
    "    else:\n",
    "        user_profile = get_new_profile(path)\n",
    "        summary = f\"The profile of {user_profile['first_name']}\"\n",
    "        summary += f\" {user_profile['last_name']} has been created.\"\n",
    "        print(summary)\n",
    "\n",
    "greet_user()"
   ]
  },
  {
   "cell_type": "code",
   "execution_count": null,
   "metadata": {},
   "outputs": [],
   "source": [
    "# 10.14 verify_user.py\n",
    "def greet_verify_user():\n",
    "    \"\"\"Greet the user by name.\"\"\"\n",
    "    path = Path('user_profile.json')\n",
    "    user_profile = get_stored_profile(path)\n",
    "\n",
    "    if user_profile:\n",
    "        prompt = (f\"\\nAre you {user_profile['first_name']} {user_profile['last_name']}\")\n",
    "        prompt += \"? (Y/N) \"\n",
    "        response = input(prompt)\n",
    "\n",
    "        if response.upper() == 'Y':\n",
    "            user_info = f\"User {user_profile['first_name']} {user_profile['last_name']}\"\n",
    "            user_info += f\" is {user_profile['age']} in {user_profile['location']}.\"\n",
    "            print(user_info)\n",
    "        elif response.upper() == 'N':\n",
    "            user_profile = get_new_profile(path)\n",
    "    else:\n",
    "        user_profile = get_new_profile(path)\n",
    "        summary = f\"The profile of {user_profile['first_name']}\"\n",
    "        summary += f\" {user_profile['last_name']} has been created.\"\n",
    "        print(summary)\n",
    "\n",
    "greet_verify_user()"
   ]
  },
  {
   "attachments": {},
   "cell_type": "markdown",
   "metadata": {},
   "source": [
    "# Chapter 11 Testing Your Code\n",
    "## Testing a Function"
   ]
  },
  {
   "cell_type": "code",
   "execution_count": null,
   "metadata": {},
   "outputs": [],
   "source": [
    "# 11.1 test_cites.py\n",
    "from city_functions import *\n",
    "\n",
    "def test_city_country():\n",
    "    \"\"\"Test if input as 'santiago' and 'chile' work?\"\"\"\n",
    "\n",
    "    city_info = get_city('sandiago', 'chile')\n",
    "    assert city_info == 'Sandiago, Chile'"
   ]
  },
  {
   "attachments": {},
   "cell_type": "markdown",
   "metadata": {},
   "source": [
    "## Testing a Class"
   ]
  },
  {
   "cell_type": "code",
   "execution_count": null,
   "metadata": {},
   "outputs": [],
   "source": [
    "# 11.3 check employee.py and test_employee.py in the folder"
   ]
  },
  {
   "attachments": {},
   "cell_type": "markdown",
   "metadata": {},
   "source": [
    "# Chapter 15 Generating Data"
   ]
  },
  {
   "attachments": {},
   "cell_type": "markdown",
   "metadata": {},
   "source": [
    "## Plotting a Simple Line Graph"
   ]
  },
  {
   "cell_type": "code",
   "execution_count": null,
   "metadata": {},
   "outputs": [],
   "source": [
    "# mpl_squares.py\n",
    "import matplotlib.pyplot as plt\n",
    "\n",
    "x_values = range(1, 1001)\n",
    "y_values = [x**2 for x in x_values]\n",
    "\n",
    "plt.style.use('seaborn')\n",
    "\n",
    "fig, ax = plt.subplots()\n",
    "ax.scatter(x_values, y_values, c=y_values, cmap=plt.cm.Blues, s=10)\n",
    "\n",
    "ax.set_title(\"Square Numbers\", fontsize=24)\n",
    "ax.set_xlabel(\"Value\", fontsize=14)\n",
    "ax.set_ylabel(\"Square of Value\", fontsize=14)\n",
    "\n",
    "ax.tick_params(labelsize=14)\n",
    "\n",
    "# Set the range for each axis.\n",
    "ax.axis([0, 1100, 0, 1_100_000])\n",
    "ax.ticklabel_format(style='plain')\n",
    "\n",
    "#plt.show()\n",
    "plt.savefig('squares_plot.png', bbox_inches='tight')"
   ]
  },
  {
   "cell_type": "code",
   "execution_count": null,
   "metadata": {},
   "outputs": [],
   "source": [
    "# 15.1 cubes.py\n",
    "import matplotlib.pyplot as plt\n",
    "\n",
    "x_values_5 = range(1, 6)\n",
    "y_values_5 = [x**3 for x in x_values_5]\n",
    "\n",
    "x_values_5000 = range(1,5001)\n",
    "y_values_5000 = [x**3 for x in x_values_5000]\n",
    "\n",
    "plt.style.use('seaborn')\n",
    "\n",
    "# Plot the first five numbers\n",
    "fig, ax = plt.subplots()\n",
    "ax.scatter(x_values_5, y_values_5, s=20)\n",
    "\n",
    "ax.set_title(\"Cubes\", fontsize=18)\n",
    "ax.set_xlabel(\"Value\", fontsize=14)\n",
    "ax.set_ylabel(\"Cube of Value\", fontsize=14)\n",
    "\n",
    "plt.show()\n",
    "\n",
    "# Plot the first 5,000 numbers\n",
    "fig, ax = plt.subplots()\n",
    "#ax.scatter(x_values_5000, y_values_5000, s=10)\n",
    "# 15.2 Apply the colormap\n",
    "ax.scatter(x_values_5000, y_values_5000, c=y_values_5000, cmap=plt.cm.Blues, s=10)\n",
    "\n",
    "\n",
    "ax.set_title(\"Cubes\", fontsize=18)\n",
    "ax.set_xlabel(\"Value\", fontsize=14)\n",
    "ax.set_ylabel(\"Cube of Value\", fontsize=14)\n",
    "\n",
    "plt.show()"
   ]
  },
  {
   "attachments": {},
   "cell_type": "markdown",
   "metadata": {},
   "source": [
    "## Random Walks"
   ]
  },
  {
   "cell_type": "code",
   "execution_count": 7,
   "metadata": {},
   "outputs": [],
   "source": [
    "# random_walk.py\n",
    "from random import choice\n",
    "\n",
    "class RandomWalk:\n",
    "    \"\"\"A class to generate random walks.\"\"\"\n",
    "\n",
    "    def __init__(self, direction, distance, num_points=5000):\n",
    "        \"\"\"Initialize attributes of a walk.\"\"\"\n",
    "        self.num_points = num_points\n",
    "\n",
    "        # All walks start at (0, 0).\n",
    "        self.x_values = [0]\n",
    "        self.y_values = [0]\n",
    "\n",
    "        # List of direction and distance\n",
    "        self.direction = direction\n",
    "        self.distance = distance\n",
    "\n",
    "    # 15.5 refactoring\n",
    "    def get_step(self):\n",
    "        \"\"\"Calculate the step.\"\"\"\n",
    "        direction = choice(self.direction)\n",
    "        distance = choice(self.distance)\n",
    "        step = direction*distance\n",
    "        return step\n",
    "\n",
    "    def fill_walk(self):\n",
    "        \"\"\"Calculate all the points in the walk.\"\"\"\n",
    "        # Keep taking steps until the walk reaches the desired length.\n",
    "        while len(self.x_values) < self.num_points:\n",
    "\n",
    "            # Decide with the step.\n",
    "            x_step = self.get_step()\n",
    "            y_step = self.get_step()\n",
    "\n",
    "            # Rejiect moves taht go nowhere.\n",
    "            if x_step == 0 and y_step == 0:\n",
    "                continue\n",
    "\n",
    "            # Calculate the new position.\n",
    "            x = self.x_values[-1] + x_step\n",
    "            y = self.y_values[-1] + y_step\n",
    "\n",
    "            self.x_values.append(x)\n",
    "            self.y_values.append(y)"
   ]
  },
  {
   "cell_type": "code",
   "execution_count": 8,
   "metadata": {},
   "outputs": [
    {
     "data": {
      "image/png": "[encoded data removed]",
      "text/plain": [
       "<Figure size 640x480 with 1 Axes>"
      ]
     },
     "metadata": {},
     "output_type": "display_data"
    },
    {
     "data": {
      "application/vnd.plotly.v1+json": {
       "config": {
        "plotlyServerURL": "https://plot.ly"
       },
       "data": [
        {
         "hovertemplate": "x=%{x}<br>y=%{y}<extra></extra>",
         "legendgroup": "",
         "marker": {
          "color": "#636efa",
          "symbol": "circle"
         },
         "mode": "markers",
         "name": "",
         "showlegend": false,
         "type": "scattergl",
         "x": [
          0,
          -1,
          -5,
          -8,
          -5,
          -2,
          2,
          0,
          2,
          -1,
          -4,
          -8,
          -11,
          -10,
          -7,
          -10,
          -13,
          -14,
          -10,
          -12,
          -15,
          -12,
          -13,
          -17,
          -16,
          -14,
          -16,
          -16,
          -19,
          -18,
          -18,
          -17,
          -19,
          -18,
          -14,
          -18,
          -16,
          -19,
          -15,
          -17,
          -21,
          -22,
          -22,
          -22,
          -20,
          -24,
          -24,
          -27,
          -23,
          -20,
          -16,
          -14,
          -11,
          -8,
          -10,
          -10,
          -8,
          -10,
          -12,
          -14,
          -16,
          -14,
          -14,
          -11,
          -8,
          -5,
          -7,
          -9,
          -5,
          -1,
          -1,
          3,
          2,
          -2,
          -4,
          -7,
          -4,
          -7,
          -6,
          -10,
          -8,
          -10,
          -10,
          -14,
          -14,
          -17,
          -19,
          -23,
          -21,
          -19,
          -18,
          -17,
          -21,
          -18,
          -21,
          -17,
          -15,
          -19,
          -16,
          -16,
          -15,
          -19,
          -16,
          -15,
          -13,
          -9,
          -5,
          -7,
          -10,
          -6,
          -5,
          -6,
          -6,
          -5,
          -6,
          -2,
          -2,
          -2,
          -5,
          -5,
          -5,
          -4,
          -4,
          -1,
          -5,
          -6,
          -9,
          -9,
          -8,
          -5,
          -3,
          -4,
          -7,
          -6,
          -9,
          -12,
          -16,
          -16,
          -20,
          -24,
          -20,
          -24,
          -28,
          -25,
          -24,
          -24,
          -24,
          -27,
          -27,
          -30,
          -32,
          -29,
          -29,
          -25,
          -26,
          -26,
          -24,
          -20,
          -22,
          -21,
          -25,
          -21,
          -24,
          -20,
          -24,
          -20,
          -17,
          -19,
          -20,
          -23,
          -27,
          -23,
          -20,
          -23,
          -21,
          -19,
          -23,
          -24,
          -22,
          -18,
          -20,
          -23,
          -21,
          -25,
          -25,
          -25,
          -29,
          -25,
          -24,
          -23,
          -22,
          -20,
          -22,
          -26,
          -24,
          -20,
          -20,
          -22,
          -23,
          -26,
          -28,
          -25,
          -27,
          -29,
          -29,
          -26,
          -22,
          -19,
          -23,
          -20,
          -23,
          -23,
          -25,
          -22,
          -23,
          -24,
          -24,
          -26,
          -26,
          -23,
          -23,
          -22,
          -21,
          -23,
          -26,
          -26,
          -26,
          -22,
          -21,
          -22,
          -21,
          -21,
          -23,
          -22,
          -26,
          -25,
          -26,
          -24,
          -28,
          -24,
          -21,
          -24,
          -24,
          -28,
          -32,
          -30,
          -28,
          -31,
          -32,
          -36,
          -35,
          -35,
          -38,
          -35,
          -36,
          -40,
          -38,
          -41,
          -37,
          -33,
          -31,
          -32,
          -32,
          -29,
          -27,
          -25,
          -28,
          -29,
          -29,
          -27,
          -28,
          -29,
          -29,
          -33,
          -30,
          -28,
          -32,
          -34,
          -34,
          -35,
          -35,
          -31,
          -28,
          -28,
          -28,
          -28,
          -28,
          -32,
          -28,
          -27,
          -31,
          -33,
          -35,
          -38,
          -38,
          -40,
          -40,
          -38,
          -34,
          -31,
          -34,
          -31,
          -34,
          -30,
          -27,
          -28,
          -24,
          -23,
          -19,
          -22,
          -25,
          -24,
          -24,
          -20,
          -22,
          -20,
          -22,
          -26,
          -29,
          -28,
          -28,
          -26,
          -30,
          -30,
          -30,
          -27,
          -24,
          -23,
          -24,
          -21,
          -23,
          -23,
          -27,
          -25,
          -25,
          -29,
          -26,
          -24,
          -27,
          -27,
          -25,
          -26,
          -24,
          -20,
          -20,
          -19,
          -20,
          -20,
          -18,
          -20,
          -19,
          -22,
          -22,
          -19,
          -21,
          -21,
          -25,
          -26,
          -30,
          -30,
          -31,
          -29,
          -33,
          -37,
          -40,
          -41,
          -41,
          -43,
          -42,
          -43,
          -42,
          -45,
          -43,
          -39,
          -41,
          -45,
          -46,
          -43,
          -46,
          -46,
          -45,
          -42,
          -40,
          -44,
          -44,
          -42,
          -46,
          -50,
          -48,
          -50,
          -49,
          -52,
          -50,
          -50,
          -50,
          -48,
          -51,
          -53,
          -54,
          -54,
          -52,
          -50,
          -51,
          -49,
          -45,
          -43,
          -46,
          -48,
          -50,
          -47,
          -45,
          -41,
          -39,
          -37,
          -38,
          -40,
          -44,
          -42,
          -40,
          -41,
          -45,
          -49,
          -53,
          -56,
          -54,
          -57,
          -55,
          -54,
          -54,
          -50,
          -48,
          -44,
          -41,
          -41,
          -37,
          -39,
          -38,
          -38,
          -34,
          -36,
          -32,
          -32,
          -28,
          -28,
          -28,
          -24,
          -24,
          -21,
          -21,
          -22,
          -22,
          -20,
          -24,
          -25,
          -24,
          -23,
          -27,
          -26,
          -26,
          -27,
          -30,
          -34,
          -32,
          -29,
          -26,
          -26,
          -26,
          -27,
          -31,
          -28,
          -27,
          -28,
          -26,
          -24,
          -28,
          -31,
          -35,
          -39,
          -37,
          -34,
          -32,
          -28,
          -24,
          -27,
          -27,
          -25,
          -29,
          -29,
          -29,
          -33,
          -32,
          -32,
          -36,
          -35,
          -38,
          -35,
          -35,
          -31,
          -33,
          -30,
          -31,
          -35,
          -34,
          -34,
          -31,
          -28,
          -26,
          -22,
          -19,
          -19,
          -20,
          -17,
          -15,
          -19,
          -21,
          -19,
          -19,
          -17,
          -13,
          -16,
          -15,
          -15,
          -14,
          -16,
          -13,
          -17,
          -16,
          -12,
          -12,
          -8,
          -12,
          -13,
          -15,
          -15,
          -16,
          -20,
          -17,
          -13,
          -14,
          -10,
          -12,
          -12,
          -13,
          -10,
          -13,
          -16,
          -17,
          -17,
          -13,
          -11,
          -8,
          -5,
          -8,
          -6,
          -4,
          -7,
          -11,
          -12,
          -8,
          -9,
          -7,
          -10,
          -10,
          -10,
          -9,
          -10,
          -6,
          -5,
          -8,
          -10,
          -6,
          -6,
          -10,
          -11,
          -13,
          -15,
          -11,
          -13,
          -13,
          -13,
          -15,
          -16,
          -19,
          -19,
          -15,
          -14,
          -15,
          -17,
          -15,
          -13,
          -15,
          -17,
          -15,
          -12,
          -11,
          -9,
          -11,
          -14,
          -15,
          -17,
          -14,
          -11,
          -10,
          -14,
          -10,
          -14,
          -16,
          -16,
          -20,
          -18,
          -16,
          -16,
          -17,
          -17,
          -17,
          -17,
          -13,
          -11,
          -9,
          -7,
          -4,
          0,
          4,
          2,
          5,
          6,
          8,
          7,
          4,
          0,
          4,
          5,
          7,
          4,
          8,
          10,
          11,
          13,
          10,
          12,
          14,
          12,
          14,
          11,
          13,
          17,
          13,
          12,
          15,
          19,
          21,
          17,
          17,
          17,
          18,
          16,
          12,
          12,
          12,
          13,
          10,
          11,
          14,
          11,
          11,
          11,
          10,
          10,
          11,
          14,
          10,
          9,
          7,
          7,
          9,
          10,
          11,
          11,
          10,
          6,
          3,
          1,
          1,
          1,
          1,
          2,
          5,
          7,
          6,
          8,
          12,
          14,
          13,
          9,
          13,
          15,
          13,
          12,
          11,
          9,
          10,
          12,
          14,
          10,
          8,
          8,
          9,
          5,
          9,
          6,
          5,
          4,
          0,
          -3,
          1,
          5,
          6,
          8,
          6,
          9,
          5,
          3,
          7,
          10,
          9,
          10,
          9,
          11,
          8,
          7,
          9,
          12,
          10,
          6,
          4,
          3,
          3,
          7,
          7,
          3,
          3,
          7,
          5,
          9,
          11,
          11,
          13,
          15,
          11,
          11,
          8,
          7,
          11,
          11,
          13,
          13,
          13,
          15,
          14,
          12,
          10,
          10,
          11,
          9,
          7,
          11,
          8,
          11,
          9,
          9,
          5,
          3,
          4,
          3,
          0,
          0,
          -4,
          -4,
          -4,
          0,
          2,
          1,
          3,
          2,
          4,
          2,
          0,
          4,
          4,
          2,
          2,
          2,
          0,
          1,
          5,
          2,
          2,
          -1,
          2,
          5,
          7,
          6,
          5,
          4,
          6,
          2,
          2,
          -1,
          -3,
          -5,
          -9,
          -9,
          -11,
          -12,
          -16,
          -18,
          -15,
          -19,
          -20,
          -18,
          -18,
          -20,
          -21,
          -21,
          -23,
          -19,
          -22,
          -24,
          -22,
          -19,
          -17,
          -13,
          -11,
          -11,
          -10,
          -12,
          -16,
          -13,
          -14,
          -12,
          -16,
          -20,
          -20,
          -22,
          -19,
          -21,
          -25,
          -26,
          -22,
          -25,
          -29,
          -26,
          -30,
          -29,
          -26,
          -29,
          -32,
          -29,
          -28,
          -28,
          -27,
          -30,
          -30,
          -26,
          -27,
          -31,
          -33,
          -32,
          -30,
          -26,
          -24,
          -27,
          -23,
          -19,
          -20,
          -22,
          -21,
          -17,
          -15,
          -12,
          -10,
          -10,
          -8,
          -8,
          -9,
          -10,
          -13,
          -17,
          -16,
          -20,
          -17,
          -15,
          -15,
          -11,
          -15,
          -12,
          -8,
          -11,
          -13,
          -13,
          -12,
          -14,
          -12,
          -8,
          -8,
          -6,
          -7,
          -9,
          -9,
          -6,
          -6,
          -10,
          -14,
          -10,
          -8,
          -8,
          -12,
          -8,
          -6,
          -7,
          -3,
          -7,
          -11,
          -9,
          -10,
          -10,
          -9,
          -7,
          -4,
          -4,
          -5,
          -5,
          -7,
          -4,
          -6,
          -8,
          -8,
          -7,
          -5,
          -3,
          -3,
          -6,
          -8,
          -9,
          -12,
          -16,
          -14,
          -14,
          -12,
          -16,
          -18,
          -20,
          -22,
          -19,
          -19,
          -19,
          -15,
          -12,
          -9,
          -5,
          -8,
          -9,
          -10,
          -7,
          -7,
          -11,
          -12,
          -15,
          -11,
          -9,
          -5,
          -6,
          -2,
          -2,
          -4,
          -2,
          2,
          4,
          2,
          3,
          6,
          5,
          1,
          -3,
          0,
          -1,
          -2,
          -2,
          -3,
          -4,
          -6,
          -10,
          -6,
          -7,
          -6,
          -4,
          -8,
          -4,
          -7,
          -11,
          -9,
          -8,
          -6,
          -6,
          -6,
          -4,
          -7,
          -10,
          -10,
          -7,
          -3,
          -2,
          -1,
          3,
          7,
          10,
          11,
          11,
          7,
          8,
          5,
          3,
          1,
          -1,
          -5,
          -7,
          -6,
          -6,
          -10,
          -7,
          -6,
          -3,
          -7,
          -5,
          -4,
          -3,
          -3,
          1,
          -2,
          0,
          0,
          2,
          6,
          6,
          7,
          8,
          12,
          10,
          11,
          13,
          14,
          10,
          10,
          11,
          11,
          7,
          5,
          4,
          0,
          -3,
          -3,
          -1,
          -5,
          -1,
          -3,
          -6,
          -8,
          -8,
          -12,
          -16,
          -13,
          -9,
          -8,
          -5,
          -6,
          -2,
          -5,
          -5,
          -2,
          -4,
          -4,
          -5,
          -4,
          -4,
          -4,
          -2,
          -5,
          -5,
          -1,
          -1,
          -3,
          -4,
          -4,
          -6,
          -3,
          0,
          -2,
          -1,
          -3,
          -7,
          -3,
          0,
          -2,
          -4,
          -2,
          -1,
          -4,
          -3,
          0,
          0,
          -2,
          -1,
          -3,
          -7,
          -5,
          -6,
          -4,
          -3,
          -2,
          -4,
          -6,
          -9,
          -13,
          -13,
          -14,
          -16,
          -17,
          -21,
          -22,
          -22,
          -18,
          -18,
          -21,
          -24,
          -21,
          -24,
          -22,
          -19,
          -23,
          -24,
          -20,
          -16,
          -17,
          -21,
          -21,
          -18,
          -21,
          -25,
          -24,
          -22,
          -23,
          -23,
          -20,
          -19,
          -19,
          -20,
          -21,
          -20,
          -19,
          -18,
          -16,
          -13,
          -11,
          -14,
          -11,
          -14,
          -12,
          -12,
          -15,
          -15,
          -18,
          -18,
          -14,
          -14,
          -17,
          -13,
          -17,
          -16,
          -16,
          -15,
          -11,
          -8,
          -11,
          -11,
          -8,
          -11,
          -15,
          -12,
          -16,
          -16,
          -14,
          -12,
          -14,
          -13,
          -11,
          -10,
          -11,
          -14,
          -16,
          -17,
          -15,
          -15,
          -12,
          -11,
          -9,
          -8,
          -11,
          -11,
          -10,
          -9,
          -10,
          -11,
          -13,
          -10,
          -10,
          -14,
          -18,
          -18,
          -14,
          -12,
          -11,
          -10,
          -8,
          -6,
          -9,
          -10,
          -10,
          -8,
          -9,
          -8,
          -6,
          -7,
          -4,
          -8,
          -12,
          -14,
          -15,
          -19,
          -21,
          -22,
          -24,
          -23,
          -25,
          -25,
          -22,
          -20,
          -16,
          -16,
          -20,
          -20,
          -18,
          -21,
          -21,
          -24,
          -20,
          -22,
          -26,
          -26,
          -23,
          -25,
          -25,
          -22,
          -23,
          -19,
          -20,
          -22,
          -21,
          -25,
          -22,
          -22,
          -21,
          -17,
          -18,
          -20,
          -17,
          -20,
          -20,
          -19,
          -19,
          -22,
          -20,
          -18,
          -21,
          -17,
          -17,
          -20,
          -17,
          -15,
          -16,
          -19,
          -19,
          -17,
          -20,
          -20,
          -22,
          -18,
          -21,
          -19,
          -20,
          -24,
          -21,
          -21,
          -22,
          -18,
          -18,
          -20,
          -20,
          -18,
          -20,
          -19,
          -19,
          -16,
          -18,
          -14,
          -12,
          -9,
          -9,
          -13,
          -11,
          -13,
          -12,
          -13,
          -12,
          -11,
          -15,
          -13,
          -15,
          -14,
          -11,
          -7,
          -3,
          -2,
          -1,
          -1,
          -3,
          -5,
          -2,
          -3,
          1,
          2,
          0,
          -2,
          -3,
          -3,
          -4,
          -5,
          -8,
          -4,
          -6,
          -8,
          -7,
          -10,
          -12,
          -12,
          -13,
          -16,
          -16,
          -14,
          -16,
          -20,
          -23,
          -24,
          -24,
          -23,
          -24,
          -24,
          -23,
          -26,
          -30,
          -31,
          -32,
          -28,
          -26,
          -30,
          -32,
          -29,
          -29,
          -26,
          -28,
          -31,
          -32,
          -36,
          -32,
          -35,
          -39,
          -40,
          -43,
          -42,
          -38,
          -40,
          -38,
          -35,
          -33,
          -30,
          -33,
          -30,
          -28,
          -31,
          -34,
          -37,
          -35,
          -39,
          -43,
          -45,
          -45,
          -44,
          -40,
          -40,
          -42,
          -42,
          -39,
          -41,
          -43,
          -46,
          -43,
          -39,
          -40,
          -39,
          -41,
          -42,
          -39,
          -35,
          -33,
          -32,
          -29,
          -26,
          -30,
          -26,
          -30,
          -30,
          -28,
          -26,
          -26,
          -22,
          -26,
          -25,
          -27,
          -23,
          -19,
          -17,
          -16,
          -18,
          -15,
          -16,
          -14,
          -16,
          -17,
          -18,
          -22,
          -25,
          -25,
          -28,
          -32,
          -35,
          -33,
          -32,
          -36,
          -35,
          -38,
          -34,
          -30,
          -26,
          -30,
          -30,
          -32,
          -29,
          -26,
          -22,
          -25,
          -21,
          -18,
          -20,
          -23,
          -25,
          -24,
          -22,
          -20,
          -20,
          -20,
          -21,
          -20,
          -24,
          -24,
          -21,
          -21,
          -18,
          -19,
          -23,
          -24,
          -23,
          -27,
          -29,
          -33,
          -31,
          -31,
          -29,
          -25,
          -21,
          -19,
          -19,
          -21,
          -25,
          -28,
          -24,
          -24,
          -25,
          -27,
          -27,
          -29,
          -28,
          -26,
          -26,
          -23,
          -24,
          -20,
          -20,
          -16,
          -12,
          -13,
          -14,
          -10,
          -8,
          -8,
          -4,
          -1,
          -4,
          -5,
          -1,
          2,
          2,
          4,
          3,
          2,
          -2,
          1,
          -3,
          -6,
          -6,
          -4,
          -6,
          -8,
          -5,
          -6,
          -4,
          0,
          1,
          -1,
          -5,
          -5,
          -3,
          -3,
          -1,
          -3,
          1,
          5,
          1,
          -1,
          -3,
          -2,
          -6,
          -7,
          -9,
          -6,
          -9,
          -11,
          -12,
          -15,
          -15,
          -19,
          -19,
          -16,
          -15,
          -13,
          -11,
          -14,
          -16,
          -13,
          -16,
          -16,
          -20,
          -22,
          -23,
          -27,
          -29,
          -29,
          -31,
          -27,
          -30,
          -34,
          -34,
          -36,
          -35,
          -33,
          -31,
          -33,
          -29,
          -29,
          -31,
          -28,
          -24,
          -20,
          -24,
          -22,
          -18,
          -15,
          -13,
          -9,
          -6,
          -6,
          -2,
          -3,
          0,
          4,
          7,
          7,
          7,
          3,
          7,
          6,
          2,
          6,
          9,
          11,
          13,
          14,
          18,
          17,
          21,
          17,
          16,
          16,
          17,
          19,
          18,
          21,
          25,
          24,
          23,
          24,
          24,
          24,
          26,
          22,
          18,
          16,
          14,
          12,
          11,
          11,
          7,
          9,
          13,
          12,
          9,
          12,
          8,
          9,
          13,
          14,
          18,
          18,
          14,
          18,
          17,
          14,
          16,
          17,
          17,
          20,
          19,
          18,
          18,
          21,
          20,
          17,
          18,
          18,
          17,
          19,
          22,
          21,
          23,
          22,
          18,
          18,
          19,
          17,
          20,
          18,
          16,
          16,
          17,
          14,
          18,
          22,
          19,
          19,
          21,
          18,
          19,
          20,
          24,
          26,
          24,
          27,
          31,
          28,
          29,
          25,
          22,
          18,
          17,
          15,
          17,
          14,
          10,
          14,
          16,
          18,
          20,
          22,
          20,
          20,
          21,
          24,
          27,
          30,
          33,
          36,
          36,
          33,
          35,
          32,
          32,
          33,
          33,
          33,
          33,
          33,
          37,
          37,
          39,
          35,
          37,
          36,
          34,
          31,
          33,
          32,
          30,
          28,
          24,
          20,
          22,
          21,
          23,
          24,
          21,
          21,
          24,
          22,
          26,
          23,
          27,
          27,
          25,
          27,
          26,
          22,
          20,
          17,
          21,
          19,
          16,
          18,
          20,
          17,
          20,
          17,
          14,
          17,
          13,
          15,
          12,
          15,
          19,
          22,
          19,
          22,
          22,
          22,
          18,
          22,
          24,
          23,
          21,
          21,
          20,
          22,
          20,
          20,
          18,
          19,
          19,
          15,
          17,
          15,
          15,
          18,
          16,
          13,
          9,
          9,
          12,
          13,
          13,
          13,
          16,
          15,
          14,
          16,
          12,
          16,
          14,
          16,
          18,
          21,
          23,
          19,
          17,
          21,
          23,
          21,
          21,
          19,
          23,
          20,
          23,
          24,
          23,
          23,
          25,
          25,
          25,
          24,
          28,
          31,
          32,
          29,
          32,
          31,
          33,
          30,
          30,
          28,
          29,
          25,
          23,
          23,
          21,
          21,
          20,
          20,
          21,
          22,
          23,
          22,
          23,
          19,
          15,
          18,
          19,
          22,
          25,
          26,
          22,
          26,
          30,
          27,
          25,
          23,
          19,
          21,
          20,
          16,
          19,
          16,
          16,
          15,
          17,
          16,
          18,
          21,
          21,
          25,
          29,
          28,
          27,
          27,
          26,
          23,
          20,
          17,
          14,
          14,
          14,
          18,
          22,
          23,
          27,
          30,
          29,
          26,
          29,
          31,
          31,
          30,
          29,
          33,
          30,
          28,
          30,
          30,
          33,
          34,
          36,
          39,
          39,
          43,
          40,
          43,
          41,
          45,
          48,
          52,
          50,
          54,
          55,
          51,
          55,
          59,
          58,
          60,
          59,
          55,
          57,
          56,
          55,
          56,
          56,
          52,
          54,
          54,
          52,
          50,
          52,
          54,
          52,
          54,
          51,
          51,
          55,
          55,
          58,
          54,
          50,
          50,
          50,
          49,
          51,
          47,
          44,
          41,
          39,
          36,
          38,
          39,
          40,
          44,
          46,
          47,
          49,
          51,
          53,
          49,
          49,
          46,
          42,
          42,
          39,
          37,
          40,
          42,
          40,
          38,
          34,
          32,
          28,
          30,
          32,
          36,
          39,
          39,
          39,
          39,
          41,
          38,
          40,
          41,
          43,
          43,
          43,
          44,
          43,
          44,
          41,
          40,
          40,
          40,
          41,
          37,
          38,
          36,
          32,
          35,
          34,
          34,
          34,
          32,
          34,
          30,
          33,
          34,
          33,
          30,
          30,
          30,
          28,
          32,
          32,
          28,
          29,
          26,
          29,
          32,
          29,
          28,
          27,
          24,
          25,
          25,
          28,
          26,
          25,
          28,
          30,
          30,
          29,
          33,
          31,
          31,
          32,
          34,
          31,
          27,
          31,
          29,
          26,
          28,
          29,
          27,
          25,
          21,
          18,
          20,
          16,
          15,
          12,
          13,
          13,
          10,
          13,
          15,
          12,
          13,
          17,
          13,
          16,
          17,
          14,
          13,
          9,
          13,
          12,
          11,
          9,
          9,
          12,
          11,
          12,
          16,
          16,
          16,
          16,
          15,
          15,
          12,
          13,
          11,
          9,
          7,
          9,
          9,
          10,
          8,
          10,
          6,
          5,
          3,
          1,
          1,
          5,
          9,
          11,
          7,
          5,
          3,
          4,
          1,
          2,
          -1,
          3,
          1,
          -2,
          -1,
          1,
          2,
          3,
          6,
          4,
          1,
          -2,
          -1,
          -4,
          -7,
          -6,
          -2,
          -2,
          -4,
          -1,
          -3,
          -6,
          -2,
          0,
          4,
          1,
          -3,
          -6,
          -5,
          -5,
          -5,
          -9,
          -5,
          -7,
          -11,
          -12,
          -14,
          -12,
          -13,
          -11,
          -11,
          -15,
          -11,
          -13,
          -14,
          -11,
          -9,
          -9,
          -12,
          -12,
          -15,
          -17,
          -20,
          -20,
          -17,
          -14,
          -12,
          -13,
          -12,
          -10,
          -7,
          -7,
          -6,
          -2,
          -2,
          -6,
          -7,
          -8,
          -8,
          -4,
          0,
          3,
          2,
          3,
          0,
          2,
          2,
          -2,
          2,
          1,
          5,
          6,
          5,
          8,
          4,
          7,
          4,
          8,
          5,
          4,
          5,
          4,
          4,
          1,
          1,
          -1,
          -3,
          0,
          2,
          1,
          4,
          8,
          10,
          13,
          14,
          17,
          17,
          21,
          20,
          19,
          18,
          20,
          19,
          17,
          13,
          17,
          14,
          12,
          9,
          11,
          9,
          12,
          14,
          17,
          17,
          19,
          21,
          24,
          24,
          23,
          20,
          19,
          16,
          15,
          13,
          11,
          15,
          15,
          15,
          13,
          9,
          12,
          10,
          8,
          11,
          13,
          12,
          10,
          7,
          4,
          8,
          10,
          6,
          8,
          4,
          4,
          6,
          3,
          3,
          -1,
          -1,
          -3,
          -6,
          -9,
          -12,
          -16,
          -15,
          -12,
          -16,
          -18,
          -21,
          -22,
          -21,
          -23,
          -26,
          -29,
          -29,
          -31,
          -29,
          -27,
          -30,
          -32,
          -32,
          -31,
          -34,
          -34,
          -38,
          -39,
          -43,
          -40,
          -38,
          -40,
          -37,
          -38,
          -42,
          -43,
          -42,
          -40,
          -40,
          -41,
          -45,
          -44,
          -45,
          -44,
          -46,
          -42,
          -45,
          -43,
          -43,
          -43,
          -42,
          -40,
          -42,
          -41,
          -41,
          -37,
          -35,
          -33,
          -36,
          -40,
          -37,
          -41,
          -40,
          -41,
          -40,
          -37,
          -41,
          -37,
          -38,
          -35,
          -33,
          -35,
          -39,
          -42,
          -42,
          -46,
          -49,
          -45,
          -49,
          -45,
          -45,
          -45,
          -48,
          -47,
          -47,
          -46,
          -44,
          -47,
          -50,
          -50,
          -49,
          -53,
          -56,
          -57,
          -54,
          -52,
          -48,
          -46,
          -50,
          -52,
          -48,
          -44,
          -40,
          -40,
          -36,
          -33,
          -32,
          -29,
          -26,
          -27,
          -27,
          -31,
          -29,
          -27,
          -27,
          -27,
          -23,
          -21,
          -21,
          -25,
          -23,
          -24,
          -27,
          -24,
          -20,
          -20,
          -24,
          -22,
          -22,
          -19,
          -19,
          -21,
          -23,
          -23,
          -27,
          -29,
          -33,
          -37,
          -33,
          -37,
          -40,
          -36,
          -38,
          -34,
          -30,
          -33,
          -29,
          -27,
          -30,
          -27,
          -28,
          -28,
          -25,
          -24,
          -25,
          -21,
          -19,
          -23,
          -21,
          -19,
          -21,
          -19,
          -23,
          -23,
          -24,
          -21,
          -19,
          -22,
          -25,
          -23,
          -19,
          -16,
          -12,
          -10,
          -7,
          -4,
          -7,
          -3,
          -5,
          -7,
          -8,
          -7,
          -8,
          -4,
          -3,
          -1,
          -5,
          -1,
          -1,
          -3,
          -2,
          2,
          1,
          -1,
          -1,
          0,
          -2,
          2,
          5,
          1,
          -3,
          -3,
          -3,
          -4,
          -6,
          -4,
          -6,
          -7,
          -3,
          -5,
          -2,
          0,
          2,
          4,
          2,
          -1,
          -4,
          -6,
          -8,
          -4,
          -4,
          -3,
          -3,
          -4,
          -1,
          -2,
          -2,
          -3,
          -6,
          -6,
          -2,
          2,
          2,
          0,
          2,
          -1,
          -5,
          -6,
          -4,
          -1,
          -3,
          1,
          -2,
          -4,
          -5,
          -1,
          -2,
          -4,
          0,
          -4,
          -3,
          1,
          2,
          -1,
          -2,
          -5,
          -6,
          -4,
          -3,
          -2,
          -3,
          -5,
          -2,
          -6,
          -9,
          -9,
          -7,
          -6,
          -10,
          -8,
          -7,
          -3,
          -5,
          -5,
          -6,
          -4,
          -2,
          -2,
          1,
          0,
          3,
          3,
          2,
          -2,
          -2,
          -1,
          3,
          -1,
          -2,
          -1,
          -2,
          0,
          -1,
          -4,
          -4,
          -3,
          -5,
          -1,
          -5,
          -2,
          0,
          -1,
          -1,
          3,
          3,
          5,
          7,
          5,
          2,
          6,
          2,
          5,
          1,
          0,
          -2,
          -4,
          -2,
          -6,
          -3,
          -3,
          -3,
          -5,
          -3,
          -3,
          -7,
          -4,
          0,
          2,
          -1,
          -1,
          3,
          3,
          0,
          1,
          3,
          6,
          9,
          11,
          14,
          17,
          13,
          10,
          12,
          11,
          11,
          12,
          14,
          14,
          10,
          6,
          7,
          10,
          14,
          17,
          17,
          17,
          19,
          22,
          22,
          23,
          21,
          19,
          18,
          18,
          21,
          21,
          23,
          23,
          23,
          27,
          28,
          31,
          35,
          39,
          40,
          37,
          41,
          41,
          40,
          36,
          34,
          31,
          29,
          31,
          35,
          37,
          35,
          35,
          36,
          38,
          38,
          42,
          38,
          35,
          35,
          32,
          33,
          31,
          28,
          32,
          36,
          32,
          31,
          27,
          27,
          31,
          33,
          34,
          31,
          27,
          31,
          29,
          26,
          26,
          22,
          19,
          16,
          15,
          13,
          9,
          8,
          7,
          6,
          2,
          -1,
          -3,
          -5,
          -9,
          -7,
          -4,
          -6,
          -2,
          2,
          4,
          7,
          5,
          9,
          7,
          3,
          7,
          3,
          0,
          -2,
          -4,
          0,
          0,
          2,
          1,
          4,
          7,
          5,
          5,
          9,
          8,
          8,
          7,
          4,
          7,
          6,
          8,
          5,
          8,
          5,
          7,
          8,
          8,
          4,
          3,
          3,
          6,
          9,
          12,
          12,
          9,
          9,
          11,
          12,
          12,
          12,
          9,
          10,
          7,
          8,
          4,
          6,
          8,
          10,
          10,
          10,
          10,
          8,
          8,
          9,
          7,
          3,
          1,
          -1,
          2,
          2,
          5,
          9,
          5,
          5,
          4,
          4,
          6,
          5,
          5,
          8,
          9,
          6,
          3,
          3,
          1,
          -3,
          -5,
          -7,
          -9,
          -11,
          -10,
          -13,
          -10,
          -9,
          -12,
          -8,
          -11,
          -9,
          -7,
          -9,
          -6,
          -10,
          -8,
          -4,
          -6,
          -2,
          0,
          2,
          2,
          5,
          4,
          1,
          1,
          -1,
          -1,
          -4,
          -4,
          0,
          -3,
          -2,
          -5,
          -5,
          -1,
          -1,
          -2,
          -5,
          -5,
          -2,
          -1,
          -5,
          -1,
          2,
          6,
          3,
          5,
          1,
          1,
          0,
          -2,
          -5,
          -3,
          -4,
          -3,
          -5,
          -1,
          1,
          0,
          -4,
          -1,
          0,
          -1,
          -3,
          -4,
          -3,
          1,
          5,
          9,
          6,
          9,
          12,
          10,
          6,
          8,
          12,
          9,
          9,
          13,
          14,
          17,
          21,
          23,
          25,
          26,
          29,
          25,
          22,
          18,
          22,
          26,
          29,
          31,
          33,
          37,
          39,
          39,
          43,
          42,
          46,
          45,
          45,
          49,
          53,
          53,
          51,
          55,
          52,
          53,
          57,
          54,
          55,
          55,
          57,
          57,
          59,
          63,
          60,
          59,
          59,
          61,
          62,
          62,
          62,
          59,
          59,
          60,
          63,
          59,
          63,
          67,
          63,
          61,
          61,
          63,
          65,
          65,
          69,
          65,
          65,
          61,
          59,
          57,
          59,
          56,
          58,
          62,
          64,
          62,
          63,
          66,
          66,
          67,
          71,
          70,
          66,
          63,
          63,
          66,
          66,
          63,
          60,
          61,
          63,
          67,
          64,
          61,
          61,
          61,
          61,
          61,
          59,
          59,
          59,
          61,
          61,
          57,
          54,
          51,
          52,
          53,
          54,
          54,
          56,
          56,
          58,
          57,
          54,
          53,
          53,
          53,
          52,
          52,
          49,
          48,
          51,
          52,
          54,
          52,
          51,
          51,
          53,
          49,
          52,
          53,
          51,
          51,
          55,
          52,
          54,
          53,
          53,
          50,
          49,
          51,
          47,
          44,
          44,
          41,
          37,
          39,
          36,
          37,
          36,
          37,
          37,
          36,
          33,
          35,
          39,
          35,
          33,
          32,
          29,
          29,
          28,
          27,
          24,
          20,
          24,
          27,
          26,
          26,
          25,
          28,
          32,
          35,
          32,
          29,
          30,
          34,
          33,
          35,
          33,
          36,
          39,
          42,
          39,
          39,
          43,
          45,
          49,
          46,
          47,
          50,
          51,
          52,
          49,
          50,
          54,
          51,
          51,
          52,
          52,
          55,
          56,
          56,
          55,
          53,
          50,
          54,
          53,
          52,
          51,
          50,
          49,
          47,
          51,
          55,
          57,
          57,
          56,
          56,
          59,
          62,
          66,
          65,
          68,
          72,
          74,
          76,
          80,
          78,
          74,
          73,
          72,
          69,
          71,
          67,
          66,
          68,
          68,
          71,
          68,
          71,
          75,
          72,
          70,
          74,
          75,
          74,
          70,
          69,
          66,
          69,
          72,
          74,
          71,
          70,
          70,
          72,
          68,
          68,
          71,
          73,
          73,
          70,
          69,
          66,
          67,
          65,
          63,
          60,
          61,
          61,
          65,
          67,
          67,
          71,
          70,
          71,
          71,
          67,
          65,
          68,
          72,
          72,
          72,
          70,
          71,
          72,
          70,
          73,
          76,
          73,
          71,
          67,
          65,
          61,
          61,
          59,
          57,
          61,
          59,
          59,
          58,
          56,
          54,
          56,
          57,
          53,
          54,
          58,
          61,
          62,
          62,
          64,
          61,
          62,
          61,
          61,
          62,
          65,
          68,
          69,
          67,
          66,
          64,
          62,
          66,
          62,
          61,
          60,
          60,
          58,
          57,
          59,
          56,
          56,
          56,
          59,
          63,
          65,
          69,
          67,
          64,
          67,
          67,
          65,
          69,
          72,
          73,
          71,
          68,
          72,
          72,
          68,
          64,
          62,
          64,
          66,
          66,
          64,
          68,
          68,
          68,
          72,
          71,
          67,
          68,
          64,
          60,
          59,
          59,
          58,
          59,
          59,
          56,
          59,
          62,
          58,
          60,
          56,
          58,
          55,
          57,
          56,
          58,
          55,
          56,
          55,
          53,
          52,
          48,
          51,
          53,
          51,
          48,
          52,
          52,
          48,
          50,
          50,
          48,
          47,
          51,
          51,
          51,
          47,
          47,
          51,
          54,
          56,
          56,
          53,
          56,
          53,
          56,
          53,
          55,
          51,
          49,
          50,
          54,
          52,
          48,
          45,
          48,
          52,
          55,
          59,
          62,
          66,
          69,
          72,
          69,
          66,
          66,
          69,
          73,
          73,
          76,
          75,
          71,
          67,
          63,
          63,
          62,
          60,
          62,
          62,
          62,
          58,
          61,
          59,
          58,
          60,
          62,
          60,
          64,
          66,
          64,
          60,
          58,
          62,
          65,
          68,
          67,
          70,
          70,
          71,
          67,
          71,
          74,
          71,
          74,
          74,
          74,
          72,
          76,
          75,
          78,
          82,
          79,
          76,
          76,
          75,
          73,
          74,
          71,
          74,
          75,
          74,
          70,
          71,
          69,
          69,
          71,
          74,
          70,
          74,
          76,
          78,
          77,
          73,
          77,
          78,
          78,
          79,
          75,
          77,
          76,
          80,
          84,
          83,
          86,
          82,
          82,
          80,
          82,
          81,
          80,
          83,
          79,
          80,
          79,
          81,
          83,
          85,
          89,
          93,
          91,
          94,
          97,
          97,
          96,
          96,
          100,
          100,
          102,
          103,
          106,
          104,
          105,
          105,
          105,
          105,
          103,
          101,
          101,
          105,
          108,
          108,
          106,
          106,
          107,
          107,
          103,
          104,
          101,
          104,
          101,
          100,
          97,
          99,
          103,
          103,
          102,
          106,
          102,
          104,
          107,
          109,
          106,
          108,
          112,
          112,
          113,
          112,
          115,
          111,
          108,
          105,
          106,
          109,
          113,
          113,
          109,
          108,
          106,
          105,
          103,
          105,
          101,
          102,
          99,
          100,
          104,
          101,
          102,
          105,
          101,
          99,
          98,
          98,
          95,
          94,
          95,
          96,
          95,
          93,
          93,
          96,
          96,
          93,
          96,
          97,
          97,
          97,
          97,
          97,
          99,
          96,
          99,
          101,
          97,
          99,
          100,
          104,
          106,
          108,
          107,
          111,
          110,
          108,
          104,
          102,
          101,
          104,
          107,
          107,
          103,
          103,
          99,
          101,
          100,
          103,
          104,
          104,
          104,
          104,
          104,
          108,
          110,
          114,
          110,
          110,
          107,
          110,
          108,
          104,
          100,
          100,
          97,
          98,
          97,
          97,
          97,
          93,
          93,
          90,
          89,
          93,
          91,
          87,
          84,
          87,
          87,
          88,
          91,
          94,
          92,
          89,
          89,
          87,
          84,
          84,
          80,
          78,
          78,
          77,
          80,
          81,
          83,
          79,
          79,
          81,
          79,
          77,
          80,
          77,
          76,
          74,
          76,
          77,
          76,
          77,
          81,
          85,
          84,
          88,
          85,
          89,
          92,
          90,
          92,
          92,
          90,
          92,
          95,
          97,
          93,
          93,
          94,
          93,
          93,
          95,
          95,
          98,
          101,
          97,
          96,
          96,
          100,
          104,
          104,
          106,
          109,
          106,
          107,
          105,
          107,
          106,
          110,
          114,
          116,
          117,
          117,
          114,
          116,
          118,
          119,
          121,
          125,
          122,
          124,
          127,
          126,
          129,
          132,
          135,
          135,
          138,
          137,
          140,
          144,
          142,
          139,
          138,
          138,
          137,
          134,
          130,
          131,
          132,
          135,
          132,
          130,
          131,
          131,
          129,
          128,
          125,
          124,
          123,
          125,
          125,
          123,
          123,
          120,
          124,
          126,
          123,
          119,
          123,
          120,
          124,
          125,
          129,
          132,
          135,
          131,
          134,
          133,
          137,
          138,
          135,
          131,
          132,
          128,
          127,
          123,
          120,
          122,
          119,
          119,
          115,
          113,
          115,
          118,
          122,
          125,
          129,
          132,
          130,
          133,
          134,
          132,
          129,
          132,
          134,
          137,
          141,
          139,
          140,
          138,
          142,
          146,
          149,
          146,
          148,
          151,
          147,
          143,
          142,
          139,
          143,
          147,
          146,
          147,
          145,
          145,
          144,
          144,
          148,
          145,
          147,
          148,
          147,
          149,
          147,
          149,
          147,
          150,
          152,
          154,
          153,
          150,
          147,
          149,
          152,
          151,
          150,
          153,
          150,
          150,
          152,
          152,
          152,
          150,
          150,
          153,
          151,
          149,
          148,
          149,
          148,
          149,
          146,
          144,
          148,
          150,
          146,
          146,
          146,
          149,
          150,
          147,
          147,
          149,
          147,
          147,
          146,
          146,
          148,
          146,
          145,
          142,
          142,
          145,
          146,
          146,
          142,
          143,
          139,
          139,
          135,
          135,
          138,
          139,
          137,
          134,
          138,
          138,
          139,
          141,
          138,
          138,
          141,
          141,
          138,
          137,
          136,
          135,
          138,
          139,
          139,
          135,
          131,
          127,
          124,
          124,
          126,
          126,
          129,
          131,
          133,
          131,
          132,
          134,
          134,
          134,
          138,
          137,
          139,
          139,
          136,
          139,
          137,
          141,
          142,
          145,
          145,
          143,
          140,
          138,
          138,
          137,
          139,
          143,
          142,
          144,
          148,
          150,
          148,
          151,
          153,
          150,
          150,
          148,
          152,
          152,
          151,
          147,
          143,
          146,
          143,
          141,
          139,
          143,
          141,
          138,
          142,
          143,
          141,
          141,
          138,
          137,
          134,
          138,
          134,
          134,
          132,
          128,
          131,
          129,
          129,
          129,
          131,
          129,
          127,
          129,
          126,
          123,
          125,
          125,
          124,
          123,
          121,
          122,
          125,
          129,
          126,
          123,
          126,
          125,
          129,
          125,
          124,
          125,
          126,
          130,
          130,
          132,
          136,
          136,
          136,
          136,
          139,
          136,
          138,
          135,
          135,
          132,
          131,
          131,
          133,
          136,
          136,
          140,
          139,
          140,
          138,
          141,
          144,
          141,
          139,
          139,
          143,
          142,
          143,
          144,
          147,
          148,
          149,
          149,
          149,
          148,
          145,
          148,
          149,
          150,
          150,
          146,
          147,
          144,
          143,
          140,
          141,
          139,
          138,
          135,
          134,
          134,
          132,
          132,
          136,
          138,
          137,
          134,
          135,
          135,
          136,
          132,
          131,
          129,
          126,
          124,
          127,
          127,
          126,
          126,
          130,
          133,
          135,
          132,
          136,
          139,
          136,
          139,
          143,
          142,
          138,
          141,
          142,
          139,
          141,
          139,
          142,
          144,
          140,
          140,
          144,
          146,
          149,
          152,
          153,
          151,
          148,
          149,
          149,
          153,
          153,
          155,
          152,
          152,
          148,
          145,
          146,
          142,
          139,
          136,
          138,
          138,
          135,
          139,
          139,
          142,
          143,
          142,
          142,
          142,
          140,
          140,
          142,
          145,
          146,
          146,
          142,
          143,
          139,
          143,
          147,
          148,
          148,
          147,
          144,
          142,
          145,
          143,
          147,
          147,
          145,
          149,
          150,
          151,
          154,
          151,
          148,
          144,
          145,
          143,
          142,
          140,
          139,
          143,
          146,
          142,
          141,
          144,
          146,
          142,
          144,
          146,
          147,
          146,
          149,
          149,
          151,
          147,
          148,
          145,
          149,
          148,
          147,
          147,
          148,
          150,
          150,
          151,
          151,
          150,
          149,
          147,
          148,
          147,
          143,
          139,
          142,
          142,
          139,
          138,
          138,
          136,
          132,
          135,
          134,
          135,
          131,
          129,
          126,
          128,
          130,
          127,
          126,
          126,
          123,
          124,
          121,
          124,
          121,
          123,
          126,
          129,
          132,
          131,
          133,
          130,
          126,
          127,
          128,
          125,
          121,
          121,
          118,
          117,
          117,
          113,
          111,
          113,
          117,
          113,
          114,
          117,
          117,
          113,
          110,
          109,
          107,
          111,
          111,
          115,
          119,
          121,
          119,
          123,
          119,
          121,
          117,
          118,
          115,
          115,
          112,
          116,
          112,
          114,
          112,
          112,
          109,
          113,
          115,
          119,
          117,
          116,
          117,
          118,
          121,
          121,
          125,
          127,
          127,
          129,
          131,
          129,
          129,
          128,
          126,
          123,
          123,
          125,
          124,
          121,
          123,
          127,
          128,
          128,
          132,
          133,
          136,
          135,
          137,
          140,
          140,
          140,
          143,
          141,
          137,
          139,
          138,
          138,
          138,
          137,
          141,
          143,
          143,
          145,
          144,
          144,
          147,
          148,
          151,
          154,
          156,
          153,
          155,
          157,
          160,
          160,
          159,
          161,
          165,
          166,
          166,
          166,
          165,
          167,
          167,
          167,
          171,
          173,
          176,
          177,
          180,
          183,
          179,
          182,
          178,
          175,
          178,
          181,
          183,
          187,
          183,
          183,
          184,
          185,
          181,
          181,
          181,
          180,
          177,
          174,
          176,
          177,
          178,
          181,
          185,
          186,
          182,
          184,
          182,
          184,
          185,
          185,
          187,
          186,
          185,
          183,
          179,
          177,
          175,
          172,
          174,
          174,
          173,
          173,
          169,
          165,
          167,
          165,
          162,
          160,
          157,
          156,
          152,
          151,
          149,
          146,
          145,
          147,
          144,
          146,
          145,
          148,
          147,
          146,
          142,
          141,
          144,
          144,
          141,
          142,
          140,
          141,
          137,
          141,
          141,
          142,
          142,
          142,
          142,
          144,
          146,
          142,
          142,
          144,
          142,
          142,
          143,
          146,
          144,
          140,
          141,
          137,
          140,
          140,
          138,
          137,
          137,
          135,
          134,
          131,
          128,
          128,
          124,
          126,
          126,
          123,
          122,
          118,
          117,
          119,
          122,
          119,
          115,
          117,
          115,
          119,
          115,
          113,
          112,
          109,
          109,
          107,
          104,
          107,
          110,
          112,
          110,
          110,
          109,
          108,
          109,
          107,
          104,
          100,
          103,
          100,
          101,
          103,
          106,
          104,
          104,
          106,
          104,
          103,
          99,
          99,
          99,
          96,
          98,
          100,
          96,
          97,
          95,
          96,
          94,
          95,
          99,
          97,
          95,
          98,
          95,
          96,
          96,
          96,
          97,
          101,
          97,
          96,
          92,
          94,
          91,
          90,
          86,
          90,
          94,
          97,
          97,
          98,
          100,
          102,
          98,
          95,
          93,
          89,
          92,
          92,
          96,
          99,
          101,
          102,
          103,
          99,
          97,
          100,
          97,
          99,
          97,
          99,
          95,
          95,
          95,
          98,
          101,
          102,
          104,
          106,
          108,
          109,
          106,
          108,
          105,
          106,
          107,
          105,
          109,
          111,
          109,
          105,
          104,
          106,
          106,
          110,
          110,
          108,
          108,
          106,
          106,
          106,
          106,
          102,
          99,
          102,
          102,
          101,
          101,
          97,
          100,
          100,
          103,
          103,
          103,
          100,
          99,
          100,
          104,
          107,
          104,
          107,
          104,
          102,
          106,
          107,
          106,
          104,
          104,
          104,
          103,
          100,
          102,
          104,
          103,
          103,
          102,
          100,
          96,
          96,
          100,
          100,
          100,
          99,
          102,
          103,
          101,
          97,
          96,
          97,
          100,
          104,
          104,
          104,
          106,
          109,
          105,
          101,
          99,
          102,
          99,
          103,
          105,
          107,
          109,
          108,
          107,
          110,
          108,
          111,
          109,
          106,
          106,
          105,
          106,
          107,
          106,
          106,
          105,
          105,
          108,
          107,
          108,
          107,
          107,
          103,
          106,
          106,
          107,
          106,
          108,
          112,
          115,
          115,
          119,
          122,
          124,
          124,
          125,
          125,
          129,
          133,
          129,
          128,
          128,
          129,
          127,
          131,
          130,
          133,
          134,
          137,
          134,
          135,
          134,
          138,
          135,
          138,
          137,
          137,
          140,
          139,
          140,
          139,
          138,
          142,
          144,
          145,
          147,
          150,
          147,
          147,
          143,
          143,
          142,
          142,
          144,
          144,
          148,
          146,
          146,
          150,
          146,
          148,
          148,
          145,
          144,
          142,
          143,
          147,
          147,
          147,
          144,
          145,
          145,
          141,
          143,
          139,
          142,
          146,
          148,
          152,
          154,
          150,
          151,
          150,
          150,
          151,
          151,
          153,
          150,
          147,
          151,
          154,
          153,
          157,
          156,
          153,
          155,
          151,
          155,
          154,
          153,
          149,
          149,
          152,
          154,
          156,
          153,
          152,
          154,
          152,
          156,
          158,
          160,
          162,
          158,
          161,
          157,
          156,
          156,
          159,
          156,
          160,
          158,
          155,
          153,
          154,
          155,
          152,
          152,
          152,
          156,
          160,
          160,
          163,
          161,
          163,
          167,
          163,
          167,
          170,
          166,
          167,
          167,
          164,
          162,
          161,
          160,
          159,
          156,
          153,
          153,
          152,
          154,
          154,
          154,
          155,
          156,
          156,
          160,
          164,
          160,
          164,
          164,
          162,
          166,
          164,
          163,
          162,
          160,
          161,
          158,
          157,
          158,
          159,
          160,
          158,
          162,
          160,
          162,
          158,
          158,
          160,
          157,
          154,
          156,
          158,
          156,
          159,
          156,
          158,
          158,
          162,
          161,
          157,
          159,
          157,
          161,
          157,
          154,
          156,
          156,
          158,
          155,
          152,
          156,
          158,
          160,
          158,
          155,
          156,
          153,
          156,
          158,
          157,
          153,
          150,
          149,
          146,
          146,
          142,
          140,
          138,
          138,
          139,
          138,
          138,
          140,
          136,
          136,
          137,
          133,
          136,
          135,
          133,
          136,
          139,
          142,
          141,
          142,
          144,
          140,
          136,
          137,
          138,
          142,
          138,
          142,
          140,
          139,
          139,
          137,
          137,
          134,
          133,
          137,
          138,
          142,
          138,
          136,
          133,
          136,
          132,
          135,
          132,
          132,
          132,
          133,
          129,
          133,
          137,
          133,
          133,
          137,
          139,
          143,
          145,
          143,
          146,
          149,
          150,
          152,
          149,
          149,
          152,
          152,
          151,
          147,
          148,
          152,
          152,
          149,
          148,
          149,
          151,
          151,
          148,
          152,
          150,
          150,
          152,
          155,
          154,
          157,
          156,
          153,
          152,
          156,
          159,
          163,
          166,
          168,
          164,
          161,
          162,
          159,
          159,
          159,
          155,
          157,
          154,
          155,
          158,
          160,
          164,
          165,
          165,
          164,
          167,
          166,
          170,
          173,
          173,
          171,
          175,
          173,
          172,
          171,
          168,
          165,
          166,
          162,
          165,
          169,
          170,
          166,
          165,
          163,
          161,
          161,
          157,
          155,
          158,
          156,
          160,
          163,
          159,
          159,
          162,
          163,
          161,
          163,
          160,
          160,
          161,
          165,
          162,
          163,
          163,
          165,
          165,
          169,
          168,
          171,
          168,
          170,
          171,
          168,
          168,
          168,
          165,
          162,
          158,
          156,
          157,
          158,
          158,
          160,
          157,
          155,
          156,
          152,
          154,
          156,
          153,
          151,
          148,
          148,
          146,
          146,
          146,
          150,
          146,
          148,
          152,
          152,
          152,
          150,
          151,
          151,
          155,
          155,
          152,
          154,
          153,
          152,
          149,
          146,
          142,
          142,
          139,
          138,
          134,
          134,
          136,
          133,
          132,
          129,
          129,
          130,
          127,
          123,
          120,
          123,
          127,
          131,
          128,
          125,
          127,
          131,
          134,
          134,
          133,
          129,
          129,
          126,
          124,
          128,
          127,
          123,
          123,
          127,
          126,
          126
         ],
         "xaxis": "x",
         "y": [
          0,
          2,
          2,
          6,
          10,
          12,
          11,
          11,
          8,
          12,
          13,
          12,
          15,
          17,
          14,
          14,
          18,
          18,
          15,
          19,
          16,
          19,
          16,
          13,
          15,
          17,
          14,
          17,
          16,
          12,
          13,
          13,
          17,
          17,
          14,
          13,
          13,
          13,
          16,
          19,
          18,
          14,
          16,
          17,
          16,
          20,
          21,
          22,
          18,
          14,
          18,
          14,
          17,
          17,
          16,
          20,
          23,
          20,
          17,
          16,
          15,
          17,
          15,
          17,
          14,
          10,
          13,
          13,
          10,
          12,
          9,
          10,
          7,
          10,
          10,
          8,
          7,
          9,
          11,
          7,
          11,
          10,
          14,
          12,
          15,
          17,
          17,
          18,
          18,
          22,
          20,
          23,
          21,
          23,
          26,
          22,
          22,
          20,
          23,
          19,
          18,
          21,
          21,
          21,
          23,
          23,
          22,
          25,
          28,
          32,
          36,
          40,
          43,
          42,
          42,
          46,
          50,
          51,
          51,
          53,
          56,
          59,
          57,
          61,
          58,
          61,
          58,
          54,
          55,
          56,
          54,
          51,
          47,
          44,
          43,
          44,
          45,
          46,
          46,
          50,
          49,
          48,
          49,
          53,
          55,
          51,
          47,
          49,
          47,
          46,
          46,
          45,
          44,
          46,
          45,
          48,
          52,
          56,
          59,
          58,
          55,
          55,
          58,
          54,
          52,
          52,
          48,
          49,
          47,
          45,
          47,
          47,
          51,
          55,
          56,
          56,
          55,
          55,
          57,
          60,
          56,
          58,
          56,
          55,
          56,
          57,
          58,
          55,
          52,
          54,
          50,
          48,
          49,
          53,
          56,
          53,
          51,
          55,
          54,
          52,
          51,
          52,
          50,
          46,
          42,
          40,
          40,
          43,
          40,
          44,
          40,
          39,
          39,
          39,
          42,
          42,
          44,
          46,
          44,
          45,
          49,
          46,
          46,
          45,
          43,
          46,
          47,
          49,
          50,
          46,
          46,
          48,
          44,
          40,
          43,
          45,
          46,
          45,
          42,
          42,
          46,
          44,
          41,
          38,
          36,
          34,
          38,
          38,
          36,
          37,
          36,
          33,
          33,
          32,
          31,
          31,
          33,
          33,
          34,
          33,
          30,
          31,
          28,
          30,
          30,
          33,
          29,
          30,
          26,
          29,
          26,
          25,
          29,
          33,
          37,
          37,
          33,
          33,
          29,
          26,
          28,
          30,
          31,
          33,
          30,
          26,
          24,
          24,
          20,
          22,
          21,
          22,
          25,
          24,
          27,
          27,
          25,
          29,
          32,
          29,
          25,
          28,
          32,
          32,
          30,
          32,
          33,
          35,
          35,
          32,
          31,
          30,
          26,
          24,
          27,
          27,
          30,
          27,
          27,
          25,
          21,
          19,
          15,
          14,
          16,
          13,
          17,
          16,
          17,
          14,
          12,
          11,
          11,
          14,
          18,
          16,
          13,
          9,
          6,
          8,
          6,
          8,
          12,
          15,
          18,
          17,
          13,
          12,
          13,
          10,
          7,
          7,
          3,
          -1,
          -2,
          1,
          1,
          2,
          2,
          4,
          0,
          -4,
          0,
          -3,
          -5,
          -6,
          -4,
          -1,
          -1,
          -4,
          -3,
          -7,
          -7,
          -6,
          -8,
          -12,
          -12,
          -12,
          -10,
          -11,
          -15,
          -19,
          -22,
          -18,
          -16,
          -18,
          -18,
          -20,
          -22,
          -23,
          -24,
          -23,
          -22,
          -23,
          -19,
          -21,
          -23,
          -23,
          -20,
          -18,
          -22,
          -20,
          -17,
          -16,
          -18,
          -16,
          -16,
          -18,
          -17,
          -21,
          -21,
          -18,
          -14,
          -16,
          -16,
          -13,
          -15,
          -16,
          -18,
          -14,
          -12,
          -9,
          -12,
          -12,
          -13,
          -13,
          -17,
          -16,
          -19,
          -19,
          -20,
          -19,
          -16,
          -14,
          -11,
          -13,
          -12,
          -10,
          -12,
          -10,
          -14,
          -11,
          -11,
          -7,
          -10,
          -11,
          -12,
          -10,
          -8,
          -4,
          0,
          1,
          2,
          2,
          1,
          -2,
          1,
          5,
          1,
          3,
          5,
          7,
          11,
          13,
          12,
          13,
          10,
          10,
          13,
          14,
          16,
          16,
          19,
          20,
          23,
          26,
          29,
          32,
          34,
          34,
          33,
          32,
          29,
          28,
          27,
          27,
          31,
          29,
          31,
          29,
          25,
          21,
          22,
          20,
          18,
          19,
          23,
          25,
          24,
          22,
          20,
          22,
          21,
          19,
          15,
          18,
          19,
          18,
          18,
          22,
          21,
          20,
          22,
          22,
          25,
          23,
          25,
          25,
          24,
          25,
          29,
          32,
          36,
          38,
          38,
          42,
          44,
          48,
          52,
          53,
          49,
          51,
          51,
          52,
          52,
          50,
          50,
          54,
          52,
          56,
          59,
          57,
          56,
          59,
          60,
          61,
          60,
          56,
          57,
          56,
          56,
          54,
          55,
          51,
          50,
          53,
          51,
          53,
          55,
          55,
          57,
          58,
          54,
          58,
          57,
          57,
          57,
          54,
          58,
          61,
          61,
          62,
          60,
          60,
          59,
          60,
          57,
          55,
          51,
          49,
          48,
          50,
          50,
          51,
          49,
          51,
          55,
          53,
          52,
          52,
          52,
          52,
          52,
          53,
          53,
          51,
          52,
          52,
          52,
          48,
          45,
          46,
          50,
          46,
          43,
          40,
          44,
          42,
          42,
          44,
          41,
          44,
          47,
          43,
          44,
          42,
          42,
          42,
          42,
          44,
          47,
          45,
          44,
          44,
          46,
          49,
          52,
          52,
          54,
          55,
          52,
          53,
          54,
          56,
          58,
          60,
          64,
          66,
          68,
          68,
          68,
          68,
          69,
          71,
          72,
          74,
          78,
          79,
          78,
          78,
          74,
          73,
          76,
          78,
          79,
          77,
          77,
          75,
          73,
          73,
          75,
          73,
          71,
          72,
          71,
          72,
          75,
          72,
          72,
          76,
          75,
          74,
          78,
          80,
          77,
          75,
          74,
          78,
          82,
          85,
          83,
          79,
          83,
          81,
          78,
          81,
          83,
          84,
          84,
          81,
          81,
          80,
          80,
          77,
          73,
          76,
          79,
          82,
          86,
          90,
          90,
          90,
          91,
          93,
          96,
          97,
          98,
          100,
          98,
          101,
          100,
          104,
          105,
          106,
          109,
          110,
          110,
          110,
          110,
          114,
          110,
          108,
          109,
          105,
          101,
          105,
          109,
          106,
          105,
          107,
          103,
          99,
          103,
          107,
          109,
          110,
          111,
          111,
          109,
          113,
          117,
          121,
          121,
          120,
          123,
          122,
          121,
          121,
          121,
          125,
          127,
          124,
          123,
          119,
          115,
          111,
          113,
          113,
          110,
          112,
          110,
          114,
          113,
          109,
          109,
          109,
          112,
          110,
          106,
          109,
          106,
          103,
          102,
          102,
          99,
          103,
          104,
          102,
          103,
          103,
          107,
          109,
          109,
          112,
          111,
          107,
          109,
          108,
          110,
          106,
          102,
          104,
          100,
          104,
          107,
          109,
          110,
          114,
          117,
          118,
          122,
          118,
          115,
          114,
          114,
          115,
          111,
          112,
          110,
          114,
          110,
          112,
          109,
          112,
          111,
          112,
          116,
          113,
          115,
          114,
          112,
          115,
          114,
          118,
          118,
          118,
          121,
          117,
          119,
          119,
          119,
          120,
          118,
          121,
          117,
          121,
          123,
          124,
          121,
          125,
          127,
          127,
          130,
          134,
          134,
          135,
          134,
          134,
          137,
          141,
          140,
          140,
          137,
          137,
          134,
          132,
          132,
          136,
          135,
          139,
          137,
          140,
          137,
          135,
          138,
          138,
          140,
          140,
          141,
          137,
          133,
          133,
          133,
          136,
          140,
          143,
          142,
          139,
          138,
          140,
          138,
          134,
          136,
          133,
          130,
          131,
          127,
          131,
          127,
          129,
          131,
          133,
          130,
          132,
          132,
          129,
          133,
          133,
          133,
          130,
          130,
          131,
          131,
          133,
          130,
          130,
          128,
          128,
          132,
          128,
          129,
          129,
          130,
          132,
          131,
          133,
          133,
          131,
          133,
          136,
          140,
          143,
          139,
          137,
          141,
          137,
          137,
          135,
          137,
          138,
          134,
          131,
          135,
          133,
          132,
          128,
          131,
          132,
          132,
          136,
          133,
          133,
          136,
          137,
          134,
          132,
          130,
          131,
          129,
          125,
          128,
          130,
          126,
          128,
          127,
          131,
          135,
          139,
          142,
          143,
          143,
          145,
          145,
          145,
          147,
          149,
          149,
          148,
          151,
          150,
          154,
          157,
          157,
          161,
          158,
          154,
          151,
          147,
          144,
          144,
          140,
          136,
          138,
          137,
          134,
          133,
          136,
          137,
          137,
          137,
          137,
          137,
          134,
          134,
          133,
          134,
          132,
          135,
          132,
          132,
          132,
          132,
          130,
          133,
          135,
          131,
          133,
          131,
          132,
          135,
          139,
          141,
          141,
          139,
          137,
          138,
          137,
          136,
          135,
          138,
          141,
          140,
          141,
          145,
          145,
          142,
          140,
          139,
          136,
          138,
          139,
          143,
          143,
          141,
          141,
          142,
          138,
          140,
          138,
          134,
          137,
          133,
          131,
          127,
          127,
          125,
          129,
          130,
          129,
          129,
          132,
          134,
          132,
          131,
          134,
          138,
          138,
          134,
          130,
          128,
          129,
          129,
          128,
          125,
          123,
          122,
          123,
          124,
          126,
          126,
          123,
          120,
          117,
          120,
          121,
          121,
          121,
          117,
          114,
          114,
          110,
          114,
          112,
          111,
          113,
          110,
          110,
          113,
          116,
          112,
          114,
          113,
          115,
          116,
          119,
          117,
          116,
          116,
          117,
          116,
          112,
          113,
          117,
          121,
          118,
          117,
          118,
          119,
          119,
          115,
          116,
          120,
          123,
          122,
          123,
          124,
          121,
          117,
          117,
          114,
          115,
          114,
          117,
          114,
          111,
          115,
          119,
          117,
          113,
          110,
          110,
          106,
          107,
          108,
          105,
          108,
          107,
          111,
          111,
          114,
          114,
          113,
          110,
          106,
          108,
          108,
          112,
          108,
          107,
          109,
          108,
          110,
          110,
          109,
          110,
          112,
          114,
          114,
          114,
          118,
          122,
          120,
          118,
          114,
          115,
          113,
          112,
          110,
          108,
          109,
          109,
          106,
          106,
          109,
          113,
          113,
          114,
          117,
          114,
          116,
          119,
          116,
          113,
          112,
          115,
          112,
          109,
          108,
          112,
          111,
          113,
          112,
          114,
          112,
          113,
          114,
          111,
          112,
          112,
          115,
          114,
          116,
          116,
          114,
          115,
          115,
          111,
          114,
          114,
          112,
          111,
          111,
          114,
          116,
          120,
          120,
          124,
          123,
          127,
          123,
          123,
          127,
          125,
          127,
          131,
          129,
          127,
          128,
          128,
          131,
          135,
          132,
          136,
          138,
          138,
          140,
          141,
          138,
          137,
          137,
          136,
          138,
          142,
          145,
          144,
          140,
          137,
          140,
          141,
          143,
          143,
          143,
          141,
          140,
          138,
          141,
          141,
          139,
          136,
          133,
          136,
          136,
          137,
          133,
          136,
          136,
          138,
          138,
          139,
          138,
          142,
          139,
          136,
          139,
          139,
          139,
          136,
          139,
          136,
          136,
          139,
          142,
          138,
          134,
          136,
          138,
          142,
          139,
          135,
          131,
          134,
          134,
          138,
          140,
          140,
          140,
          136,
          132,
          135,
          135,
          139,
          142,
          138,
          139,
          141,
          139,
          138,
          139,
          139,
          141,
          138,
          139,
          141,
          140,
          137,
          134,
          136,
          137,
          137,
          139,
          141,
          141,
          143,
          143,
          141,
          145,
          146,
          143,
          140,
          136,
          136,
          133,
          129,
          127,
          123,
          124,
          121,
          120,
          120,
          123,
          120,
          117,
          118,
          119,
          118,
          119,
          117,
          117,
          117,
          115,
          115,
          112,
          116,
          113,
          113,
          116,
          118,
          122,
          120,
          117,
          117,
          115,
          111,
          115,
          117,
          113,
          111,
          110,
          110,
          110,
          112,
          110,
          110,
          112,
          112,
          112,
          111,
          113,
          111,
          111,
          107,
          107,
          105,
          107,
          111,
          108,
          108,
          111,
          112,
          114,
          115,
          115,
          115,
          115,
          115,
          119,
          121,
          121,
          117,
          113,
          114,
          117,
          118,
          121,
          122,
          122,
          125,
          129,
          128,
          127,
          126,
          123,
          119,
          115,
          112,
          110,
          109,
          112,
          111,
          111,
          113,
          117,
          119,
          120,
          116,
          116,
          114,
          116,
          120,
          117,
          115,
          112,
          116,
          116,
          120,
          118,
          116,
          114,
          114,
          112,
          108,
          112,
          108,
          112,
          109,
          107,
          107,
          109,
          112,
          114,
          115,
          115,
          115,
          119,
          121,
          118,
          122,
          123,
          120,
          124,
          125,
          125,
          128,
          131,
          128,
          128,
          124,
          122,
          121,
          121,
          118,
          121,
          120,
          120,
          117,
          118,
          118,
          121,
          124,
          126,
          125,
          129,
          130,
          133,
          132,
          131,
          131,
          135,
          134,
          133,
          129,
          131,
          127,
          130,
          131,
          130,
          134,
          135,
          136,
          133,
          130,
          134,
          138,
          137,
          141,
          144,
          140,
          143,
          144,
          148,
          151,
          150,
          148,
          148,
          149,
          147,
          145,
          144,
          144,
          143,
          143,
          143,
          146,
          149,
          152,
          150,
          146,
          145,
          144,
          145,
          141,
          141,
          145,
          142,
          138,
          138,
          136,
          134,
          130,
          130,
          132,
          132,
          132,
          133,
          136,
          138,
          138,
          134,
          131,
          134,
          130,
          127,
          129,
          133,
          136,
          139,
          142,
          140,
          142,
          143,
          142,
          138,
          138,
          141,
          137,
          137,
          134,
          136,
          135,
          139,
          140,
          140,
          136,
          138,
          137,
          136,
          135,
          135,
          136,
          132,
          128,
          124,
          126,
          123,
          126,
          122,
          119,
          119,
          122,
          126,
          124,
          121,
          119,
          116,
          116,
          120,
          121,
          121,
          122,
          122,
          124,
          123,
          123,
          127,
          123,
          121,
          125,
          129,
          133,
          133,
          137,
          134,
          132,
          130,
          128,
          124,
          124,
          126,
          124,
          120,
          120,
          123,
          125,
          125,
          128,
          131,
          131,
          131,
          132,
          135,
          137,
          137,
          137,
          139,
          138,
          139,
          139,
          143,
          139,
          141,
          142,
          146,
          146,
          145,
          142,
          142,
          142,
          146,
          142,
          144,
          146,
          145,
          146,
          142,
          143,
          143,
          142,
          141,
          142,
          146,
          145,
          142,
          140,
          141,
          140,
          141,
          141,
          139,
          136,
          135,
          136,
          135,
          136,
          136,
          133,
          134,
          133,
          136,
          139,
          135,
          136,
          139,
          139,
          138,
          136,
          139,
          139,
          135,
          133,
          134,
          132,
          129,
          125,
          125,
          121,
          122,
          119,
          122,
          118,
          118,
          122,
          126,
          125,
          121,
          122,
          118,
          118,
          121,
          123,
          120,
          123,
          123,
          120,
          121,
          123,
          122,
          121,
          119,
          123,
          121,
          123,
          123,
          125,
          129,
          131,
          127,
          126,
          123,
          126,
          127,
          123,
          120,
          123,
          120,
          123,
          126,
          130,
          129,
          132,
          132,
          136,
          134,
          135,
          132,
          134,
          138,
          138,
          136,
          133,
          129,
          130,
          128,
          124,
          128,
          126,
          122,
          118,
          118,
          122,
          120,
          122,
          118,
          115,
          113,
          111,
          111,
          111,
          107,
          110,
          106,
          106,
          104,
          106,
          102,
          102,
          100,
          100,
          100,
          104,
          104,
          106,
          103,
          104,
          105,
          105,
          103,
          103,
          107,
          107,
          106,
          103,
          107,
          103,
          107,
          107,
          107,
          109,
          109,
          108,
          104,
          107,
          107,
          110,
          106,
          106,
          106,
          106,
          104,
          100,
          102,
          106,
          106,
          107,
          106,
          104,
          100,
          102,
          101,
          97,
          95,
          96,
          96,
          96,
          98,
          101,
          103,
          105,
          104,
          107,
          105,
          107,
          105,
          109,
          112,
          112,
          115,
          118,
          114,
          116,
          118,
          120,
          120,
          118,
          116,
          114,
          110,
          108,
          104,
          108,
          106,
          104,
          105,
          102,
          106,
          109,
          105,
          101,
          102,
          101,
          99,
          95,
          91,
          92,
          91,
          89,
          93,
          89,
          92,
          92,
          92,
          88,
          89,
          90,
          90,
          90,
          94,
          95,
          99,
          98,
          102,
          101,
          98,
          98,
          96,
          98,
          97,
          93,
          90,
          86,
          83,
          87,
          89,
          92,
          88,
          87,
          89,
          90,
          89,
          92,
          96,
          92,
          90,
          90,
          90,
          86,
          89,
          92,
          95,
          95,
          95,
          93,
          90,
          87,
          90,
          91,
          89,
          89,
          88,
          88,
          92,
          93,
          96,
          92,
          88,
          89,
          92,
          91,
          89,
          91,
          89,
          89,
          87,
          84,
          86,
          82,
          84,
          80,
          83,
          80,
          80,
          77,
          73,
          75,
          78,
          81,
          79,
          75,
          74,
          70,
          66,
          70,
          66,
          69,
          68,
          68,
          69,
          73,
          72,
          68,
          69,
          73,
          73,
          75,
          79,
          76,
          73,
          70,
          67,
          66,
          62,
          66,
          62,
          63,
          67,
          66,
          69,
          71,
          69,
          69,
          72,
          73,
          70,
          67,
          69,
          65,
          61,
          59,
          63,
          60,
          57,
          54,
          50,
          53,
          53,
          54,
          57,
          53,
          57,
          57,
          61,
          57,
          57,
          61,
          60,
          63,
          66,
          67,
          63,
          65,
          67,
          69,
          72,
          70,
          69,
          70,
          68,
          64,
          62,
          60,
          64,
          61,
          61,
          64,
          66,
          70,
          71,
          74,
          78,
          80,
          76,
          72,
          76,
          76,
          76,
          80,
          79,
          78,
          78,
          80,
          76,
          74,
          70,
          74,
          72,
          71,
          67,
          63,
          67,
          71,
          73,
          71,
          75,
          75,
          78,
          80,
          79,
          78,
          81,
          78,
          79,
          76,
          80,
          83,
          83,
          82,
          82,
          85,
          81,
          78,
          75,
          74,
          72,
          75,
          76,
          73,
          76,
          80,
          84,
          81,
          80,
          78,
          75,
          73,
          75,
          76,
          76,
          73,
          74,
          73,
          69,
          72,
          76,
          77,
          79,
          78,
          77,
          81,
          83,
          82,
          78,
          78,
          75,
          78,
          77,
          75,
          71,
          71,
          70,
          68,
          68,
          68,
          70,
          66,
          67,
          69,
          69,
          70,
          72,
          71,
          70,
          66,
          69,
          66,
          66,
          63,
          66,
          69,
          65,
          68,
          71,
          70,
          74,
          78,
          82,
          82,
          79,
          82,
          82,
          83,
          79,
          83,
          81,
          81,
          85,
          85,
          87,
          85,
          86,
          86,
          88,
          92,
          91,
          94,
          97,
          96,
          97,
          93,
          97,
          101,
          97,
          101,
          102,
          101,
          105,
          109,
          109,
          105,
          107,
          111,
          114,
          115,
          119,
          123,
          122,
          126,
          127,
          125,
          121,
          118,
          121,
          120,
          120,
          123,
          120,
          122,
          124,
          126,
          126,
          130,
          131,
          131,
          135,
          135,
          137,
          138,
          138,
          135,
          137,
          134,
          134,
          135,
          131,
          131,
          132,
          134,
          134,
          131,
          131,
          131,
          134,
          130,
          126,
          126,
          130,
          131,
          135,
          138,
          136,
          137,
          134,
          134,
          133,
          137,
          141,
          140,
          143,
          143,
          142,
          138,
          140,
          138,
          134,
          134,
          134,
          131,
          132,
          133,
          130,
          130,
          129,
          131,
          133,
          131,
          128,
          131,
          132,
          135,
          135,
          135,
          132,
          130,
          130,
          130,
          130,
          132,
          134,
          134,
          131,
          132,
          132,
          132,
          128,
          126,
          127,
          125,
          125,
          124,
          126,
          127,
          124,
          127,
          124,
          124,
          120,
          117,
          121,
          120,
          124,
          125,
          129,
          129,
          133,
          136,
          140,
          140,
          138,
          142,
          145,
          147,
          147,
          145,
          141,
          138,
          138,
          138,
          135,
          134,
          130,
          130,
          130,
          132,
          130,
          131,
          132,
          132,
          129,
          133,
          129,
          127,
          127,
          127,
          129,
          126,
          128,
          127,
          128,
          131,
          134,
          135,
          135,
          135,
          134,
          137,
          136,
          133,
          130,
          127,
          123,
          122,
          123,
          125,
          123,
          121,
          119,
          119,
          118,
          120,
          119,
          121,
          123,
          123,
          123,
          122,
          118,
          120,
          122,
          124,
          124,
          124,
          120,
          120,
          119,
          118,
          114,
          117,
          121,
          119,
          115,
          114,
          116,
          114,
          112,
          110,
          110,
          109,
          113,
          115,
          118,
          122,
          126,
          128,
          124,
          123,
          126,
          130,
          127,
          123,
          119,
          119,
          118,
          121,
          125,
          125,
          121,
          125,
          129,
          132,
          129,
          131,
          132,
          130,
          133,
          131,
          133,
          133,
          129,
          125,
          124,
          124,
          123,
          121,
          117,
          121,
          120,
          124,
          126,
          126,
          126,
          124,
          123,
          123,
          120,
          120,
          124,
          123,
          125,
          123,
          123,
          125,
          127,
          123,
          123,
          123,
          122,
          123,
          127,
          126,
          126,
          130,
          128,
          130,
          133,
          133,
          136,
          137,
          138,
          137,
          137,
          138,
          136,
          132,
          128,
          129,
          128,
          129,
          128,
          131,
          133,
          132,
          132,
          133,
          129,
          132,
          131,
          127,
          131,
          127,
          124,
          124,
          128,
          126,
          124,
          123,
          124,
          128,
          128,
          126,
          124,
          124,
          125,
          128,
          127,
          125,
          128,
          130,
          126,
          123,
          121,
          117,
          114,
          117,
          115,
          117,
          115,
          111,
          111,
          115,
          114,
          110,
          114,
          110,
          108,
          104,
          107,
          111,
          112,
          110,
          108,
          110,
          107,
          110,
          110,
          108,
          106,
          103,
          103,
          104,
          103,
          107,
          108,
          104,
          106,
          104,
          101,
          99,
          103,
          100,
          99,
          99,
          98,
          94,
          94,
          91,
          95,
          98,
          94,
          95,
          93,
          94,
          91,
          90,
          94,
          98,
          102,
          102,
          102,
          103,
          103,
          99,
          96,
          96,
          96,
          94,
          95,
          95,
          92,
          96,
          95,
          95,
          94,
          98,
          96,
          95,
          96,
          97,
          99,
          96,
          93,
          90,
          90,
          93,
          92,
          88,
          91,
          91,
          92,
          96,
          93,
          94,
          93,
          89,
          87,
          88,
          89,
          92,
          92,
          88,
          88,
          87,
          86,
          86,
          84,
          80,
          76,
          72,
          74,
          74,
          78,
          78,
          76,
          73,
          76,
          78,
          75,
          73,
          75,
          76,
          80,
          80,
          81,
          79,
          82,
          83,
          79,
          81,
          81,
          81,
          77,
          73,
          75,
          78,
          80,
          80,
          77,
          73,
          77,
          80,
          84,
          84,
          80,
          80,
          79,
          82,
          85,
          89,
          87,
          84,
          85,
          87,
          83,
          87,
          86,
          88,
          88,
          89,
          91,
          91,
          90,
          87,
          86,
          86,
          85,
          83,
          81,
          83,
          86,
          86,
          82,
          84,
          84,
          82,
          78,
          78,
          81,
          85,
          88,
          86,
          85,
          81,
          77,
          77,
          78,
          79,
          80,
          78,
          77,
          75,
          74,
          78,
          77,
          74,
          73,
          73,
          75,
          79,
          83,
          83,
          84,
          81,
          85,
          88,
          87,
          90,
          86,
          85,
          81,
          81,
          81,
          81,
          79,
          76,
          76,
          76,
          72,
          71,
          72,
          69,
          73,
          77,
          80,
          81,
          80,
          80,
          77,
          79,
          80,
          78,
          77,
          73,
          74,
          74,
          76,
          74,
          76,
          79,
          75,
          76,
          73,
          73,
          73,
          77,
          75,
          78,
          75,
          76,
          80,
          80,
          84,
          81,
          83,
          84,
          86,
          86,
          90,
          93,
          91,
          87,
          89,
          88,
          88,
          90,
          86,
          86,
          89,
          85,
          87,
          87,
          87,
          85,
          81,
          78,
          81,
          79,
          76,
          73,
          72,
          74,
          78,
          82,
          82,
          78,
          80,
          76,
          76,
          72,
          74,
          73,
          69,
          71,
          71,
          74,
          74,
          70,
          68,
          70,
          70,
          67,
          69,
          67,
          71,
          72,
          75,
          72,
          72,
          72,
          72,
          68,
          69,
          66,
          65,
          67,
          63,
          59,
          60,
          57,
          57,
          61,
          59,
          59,
          58,
          58,
          59,
          62,
          59,
          63,
          64,
          61,
          65,
          65,
          69,
          67,
          67,
          67,
          67,
          65,
          61,
          64,
          60,
          60,
          60,
          62,
          60,
          60,
          62,
          62,
          63,
          66,
          69,
          66,
          66,
          66,
          64,
          63,
          66,
          65,
          61,
          65,
          67,
          71,
          68,
          67,
          69,
          66,
          66,
          66,
          70,
          71,
          68,
          68,
          66,
          69,
          66,
          65,
          68,
          65,
          68,
          70,
          72,
          75,
          73,
          76,
          72,
          74,
          70,
          73,
          74,
          73,
          69,
          66,
          65,
          61,
          61,
          65,
          65,
          64,
          64,
          68,
          71,
          72,
          70,
          70,
          67,
          65,
          67,
          66,
          68,
          69,
          73,
          76,
          76,
          74,
          71,
          74,
          76,
          76,
          77,
          77,
          81,
          83,
          83,
          85,
          81,
          83,
          80,
          84,
          87,
          87,
          90,
          89,
          86,
          86,
          85,
          88,
          85,
          86,
          86,
          84,
          80,
          83,
          81,
          77,
          79,
          76,
          75,
          75,
          75,
          77,
          81,
          81,
          78,
          79,
          79,
          80,
          79,
          82,
          82,
          81,
          80,
          78,
          74,
          73,
          76,
          74,
          73,
          73,
          72,
          75,
          76,
          79,
          79,
          83,
          83,
          81,
          79,
          82,
          79,
          77,
          80,
          77,
          73,
          69,
          71,
          71,
          67,
          64,
          63,
          65,
          63,
          67,
          64,
          62,
          66,
          68,
          69,
          67,
          71,
          70,
          68,
          68,
          71,
          69,
          73,
          75,
          75,
          74,
          70,
          72,
          71,
          71,
          67,
          69,
          68,
          69,
          70,
          73,
          70,
          67,
          69,
          68,
          67,
          63,
          64,
          63,
          64,
          63,
          59,
          62,
          59,
          61,
          58,
          58,
          54,
          52,
          51,
          50,
          52,
          49,
          53,
          54,
          52,
          52,
          49,
          48,
          45,
          42,
          41,
          40,
          37,
          37,
          33,
          30,
          29,
          31,
          33,
          33,
          37,
          40,
          40,
          40,
          37,
          34,
          35,
          37,
          40,
          37,
          38,
          41,
          39,
          43,
          45,
          46,
          46,
          44,
          46,
          47,
          51,
          48,
          44,
          42,
          41,
          43,
          47,
          45,
          48,
          51,
          49,
          51,
          49,
          46,
          45,
          44,
          46,
          46,
          47,
          44,
          45,
          44,
          48,
          44,
          45,
          41,
          42,
          38,
          40,
          42,
          41,
          45,
          46,
          46,
          44,
          45,
          46,
          45,
          48,
          46,
          46,
          48,
          49,
          52,
          53,
          54,
          57,
          59,
          57,
          54,
          50,
          49,
          49,
          45,
          45,
          47,
          46,
          42,
          45,
          47,
          49,
          46,
          46,
          50,
          49,
          50,
          48,
          45,
          47,
          50,
          48,
          48,
          48,
          46,
          46,
          50,
          50,
          51,
          51,
          51,
          53,
          55,
          57,
          58,
          55,
          58,
          61,
          58,
          54,
          57,
          59,
          59,
          55,
          59,
          63,
          67,
          65,
          64,
          62,
          60,
          56,
          60,
          63,
          59,
          55,
          55,
          51,
          55,
          53,
          52,
          55,
          54,
          50,
          53,
          56,
          55,
          55,
          55,
          59,
          56,
          57,
          56,
          56,
          56,
          53,
          50,
          52,
          53,
          54,
          50,
          51,
          53,
          57,
          53,
          57,
          59,
          59,
          62,
          63,
          67,
          69,
          71,
          74,
          74,
          75,
          74,
          70,
          70,
          71,
          75,
          73,
          76,
          74,
          71,
          75,
          73,
          69,
          69,
          72,
          75,
          78,
          75,
          79,
          83,
          86,
          89,
          89,
          85,
          88,
          92,
          92,
          88,
          88,
          87,
          85,
          85,
          88,
          87,
          86,
          82,
          82,
          79,
          80,
          82,
          82,
          81,
          85,
          87,
          87,
          84,
          82,
          81,
          78,
          80,
          81,
          85,
          86,
          82,
          85,
          86,
          82,
          82,
          85,
          82,
          82,
          85,
          89,
          91,
          94,
          94,
          93,
          93,
          90,
          90,
          90,
          86,
          86,
          86,
          90,
          94,
          92,
          88,
          86,
          88,
          90,
          89,
          91,
          90,
          94,
          90,
          93,
          92,
          92,
          91,
          93,
          95,
          94,
          94,
          91,
          91,
          90,
          91,
          90,
          94,
          97,
          101,
          101,
          102,
          102,
          105,
          104,
          100,
          98,
          100,
          96,
          99,
          102,
          101,
          104,
          108,
          105,
          105,
          107,
          107,
          108,
          105,
          106,
          106,
          109,
          108,
          108,
          111,
          109,
          108,
          107,
          111,
          114,
          114,
          111,
          109,
          112,
          116,
          119,
          119,
          121,
          120,
          120,
          124,
          127,
          126,
          126,
          128,
          132,
          134,
          137,
          137,
          134,
          131,
          134,
          131,
          130,
          134,
          138,
          142,
          139,
          136,
          133,
          132,
          132,
          135,
          133,
          134,
          132,
          129,
          129,
          125,
          125,
          126,
          127,
          125,
          129,
          128,
          125,
          127,
          129,
          126,
          123,
          127,
          127,
          129,
          126,
          129,
          133,
          129,
          131,
          134,
          136,
          139,
          138,
          139,
          139,
          139,
          135,
          138,
          141,
          144,
          147,
          150,
          150,
          150,
          147,
          147,
          145,
          141,
          139,
          142,
          140,
          140,
          141,
          139,
          140,
          137,
          139,
          143,
          139,
          136,
          138,
          135,
          134,
          131,
          127,
          124,
          124,
          125,
          121,
          121,
          117,
          114,
          115,
          117,
          114,
          115,
          115,
          117,
          113,
          117,
          113,
          113,
          110,
          113,
          113,
          115,
          117,
          121,
          121,
          121,
          124,
          124,
          127,
          130,
          128,
          125,
          127,
          127,
          128,
          125,
          121,
          125,
          122,
          123,
          121,
          122,
          118,
          115,
          113,
          113,
          115,
          113,
          112,
          112,
          114,
          116,
          117,
          113,
          116,
          116,
          113,
          110,
          114,
          114,
          115,
          115,
          116,
          117,
          118,
          115,
          115,
          112,
          116,
          120,
          124,
          127,
          124,
          121,
          125,
          128,
          132,
          134,
          134,
          131,
          128,
          132,
          135,
          137,
          136,
          140,
          137,
          140,
          138,
          138,
          141,
          143,
          140,
          137,
          133,
          131,
          132,
          132,
          128,
          125,
          121,
          118,
          115,
          113,
          111,
          107,
          107,
          109,
          111,
          109,
          108,
          108,
          111,
          108,
          105,
          105,
          106,
          106,
          108,
          105,
          103,
          105,
          104,
          108,
          107,
          108,
          104,
          108,
          111,
          113,
          113,
          113,
          113,
          109,
          109,
          105,
          101,
          102,
          99,
          96,
          94,
          95,
          96,
          96,
          97,
          96,
          96,
          94,
          93,
          90,
          90,
          90,
          91,
          92,
          90,
          90,
          86,
          82,
          83,
          86,
          83,
          83,
          79,
          81,
          77,
          79,
          77,
          75,
          78,
          77,
          73,
          74,
          73,
          73,
          69,
          69,
          66,
          67,
          71,
          70,
          73,
          72,
          69,
          71,
          75,
          75,
          74,
          72,
          72,
          69,
          67,
          64,
          67,
          67,
          70,
          72,
          74,
          73,
          73,
          71,
          73,
          70,
          68,
          70,
          74,
          76,
          79,
          78,
          78,
          77,
          81,
          82,
          82,
          80,
          80,
          77,
          81,
          83,
          83,
          82,
          86,
          87,
          86,
          86,
          84,
          85,
          87,
          85,
          89,
          93,
          95,
          96,
          98,
          102,
          106,
          108,
          108,
          108,
          111,
          111,
          107,
          103,
          106,
          109,
          106,
          102,
          103,
          102,
          102,
          101,
          97,
          96,
          96,
          96,
          96,
          98,
          102,
          98,
          97,
          95,
          93,
          96,
          92,
          88,
          85,
          81,
          83,
          87,
          85,
          85,
          85,
          81,
          79,
          80,
          81,
          78,
          80,
          80,
          79,
          83,
          87,
          86,
          84,
          86,
          86,
          88,
          86,
          83,
          81,
          81,
          81,
          85,
          84,
          86,
          90,
          93,
          89,
          89,
          89,
          85,
          86,
          88,
          88,
          89,
          86,
          90,
          90,
          90,
          91,
          94,
          95,
          93,
          97,
          95,
          94,
          96,
          92,
          92,
          92,
          90,
          86,
          86,
          87,
          86,
          87,
          90,
          89,
          86,
          89,
          88,
          84,
          84,
          80,
          77,
          79,
          81,
          85,
          89,
          93,
          90,
          93,
          96,
          98,
          97,
          96,
          93,
          92,
          94,
          91,
          91,
          89,
          89,
          89,
          92,
          88,
          85,
          89,
          89,
          89,
          89,
          85,
          86,
          90,
          89,
          90,
          87,
          90,
          92,
          95,
          96,
          96,
          93,
          93,
          94,
          92,
          90,
          92,
          93,
          92,
          95,
          95,
          96,
          96,
          93,
          90,
          88,
          84,
          82,
          85,
          85,
          88,
          84,
          85,
          84,
          84,
          83,
          81,
          81,
          80,
          81,
          85,
          81,
          82,
          78,
          77,
          74,
          77,
          73,
          73,
          73,
          71,
          74,
          73,
          74,
          75,
          77,
          76,
          76,
          78,
          74,
          70,
          67,
          71,
          67,
          64,
          65,
          69,
          70,
          72,
          72,
          76,
          78,
          80,
          82,
          86,
          89,
          90,
          94,
          94,
          96,
          99,
          97,
          97,
          93,
          95,
          91,
          87,
          85,
          88,
          84,
          84,
          82,
          83,
          79,
          78,
          78,
          80,
          80,
          84,
          81,
          81,
          84,
          85,
          85,
          85,
          88,
          92,
          89,
          89,
          85,
          81,
          81,
          79,
          76,
          76,
          80,
          81,
          80,
          81,
          78,
          74,
          77,
          79,
          77,
          75,
          73,
          77,
          79,
          77,
          81,
          81,
          81,
          84,
          84,
          88,
          90,
          93,
          94,
          94,
          90,
          93,
          91,
          92,
          94,
          90,
          93,
          95,
          94,
          93,
          92,
          91,
          89,
          87,
          83,
          83,
          86,
          87,
          85,
          86,
          86,
          82,
          83,
          83,
          82,
          83,
          86,
          87,
          90,
          88,
          92,
          91,
          88,
          86,
          90,
          93,
          92,
          89,
          92,
          92,
          91,
          89,
          92,
          95,
          94,
          97,
          94,
          91,
          87,
          90,
          87,
          88,
          89,
          87,
          90,
          92,
          94,
          96,
          95,
          99,
          102,
          103,
          99,
          99,
          101,
          101,
          98,
          94,
          95,
          93,
          90,
          90,
          89,
          90,
          91,
          89,
          93,
          95,
          95,
          98,
          98,
          94,
          94,
          96,
          96,
          97,
          99,
          98,
          99,
          98,
          99,
          103,
          103,
          107,
          110,
          111,
          113,
          111,
          112,
          108,
          104,
          105,
          108,
          105,
          101,
          99,
          97,
          93,
          90,
          86,
          89,
          86,
          84,
          80,
          83,
          79,
          83,
          81,
          80,
          79,
          76,
          76,
          73,
          72,
          68,
          71,
          70,
          67,
          64,
          60,
          56,
          54,
          56,
          57,
          54,
          58,
          57,
          57,
          55,
          59,
          59,
          57,
          54,
          57,
          60,
          60,
          64,
          64,
          64,
          63,
          65,
          66,
          68,
          70,
          70,
          69,
          68,
          68,
          66,
          69,
          67,
          63,
          63,
          62,
          65,
          62,
          59,
          61,
          62,
          64,
          61,
          60,
          58,
          58,
          62,
          61,
          64,
          61,
          63,
          64,
          63,
          62,
          64,
          65,
          66,
          68,
          69,
          66,
          67,
          69,
          69,
          69,
          69,
          69,
          73,
          73,
          77,
          77,
          73,
          73,
          74,
          70,
          70,
          71,
          68,
          68,
          71,
          74,
          78,
          82,
          86,
          82,
          78,
          80,
          82,
          78,
          81,
          84,
          84,
          84,
          83,
          81,
          77,
          73,
          72,
          74,
          71,
          75,
          71,
          70,
          73,
          77,
          77,
          73,
          71,
          71,
          72,
          73,
          76,
          78,
          79,
          81,
          84,
          87,
          86,
          82,
          83,
          83,
          79,
          78,
          74,
          72,
          71,
          68,
          68,
          71,
          68,
          69,
          66,
          65,
          68,
          67,
          69,
          66,
          68,
          68,
          68,
          72,
          73,
          73,
          74,
          70,
          69,
          66,
          64,
          60,
          57,
          54,
          54,
          50,
          47,
          49,
          45,
          47,
          47,
          46,
          49,
          51,
          47,
          43,
          42,
          46,
          46,
          49,
          50,
          50,
          54,
          52,
          50,
          54,
          50,
          48,
          46,
          45,
          45,
          41,
          42,
          40,
          44,
          42,
          46,
          46,
          48,
          44,
          45,
          41,
          41,
          41,
          41,
          39,
          39,
          38,
          42,
          40,
          40,
          41,
          38,
          34,
          35,
          35,
          39,
          40,
          37,
          37,
          34,
          34,
          34,
          32,
          31,
          31,
          32,
          29,
          32,
          35,
          36,
          36,
          34,
          37,
          37,
          34,
          34,
          35,
          39,
          39,
          39,
          38,
          39,
          36,
          32,
          33,
          33,
          36,
          37,
          36,
          38,
          34,
          35,
          31,
          31,
          35,
          38,
          38,
          38,
          39,
          41,
          40,
          43,
          42,
          42,
          38,
          40,
          38,
          37,
          36,
          35,
          35,
          35,
          39,
          41,
          38,
          37,
          35,
          37,
          36,
          32,
          35,
          39,
          40,
          40,
          36,
          37,
          37,
          39,
          42,
          45,
          44,
          48,
          46,
          50,
          47,
          51,
          53,
          51,
          49,
          49,
          48,
          44,
          43,
          42,
          41,
          43,
          39,
          38,
          42,
          46,
          46,
          46,
          48,
          49,
          46,
          46,
          44,
          40,
          40,
          37,
          34,
          31,
          31,
          27,
          31,
          27,
          27,
          29,
          29,
          31,
          35,
          34,
          34,
          38,
          40,
          43,
          43,
          47,
          47,
          47,
          45,
          48,
          49,
          45,
          45,
          48,
          50,
          50,
          48,
          49,
          49,
          48,
          45,
          48,
          51,
          50,
          50,
          47,
          51,
          51,
          55,
          56,
          52,
          53,
          55,
          56,
          57,
          58,
          57,
          57,
          53,
          51,
          49,
          49,
          50,
          48,
          44,
          43,
          43,
          47,
          45,
          42,
          42,
          38,
          37,
          34,
          37,
          37,
          36,
          32,
          29,
          32,
          30,
          26,
          23,
          27,
          27,
          30,
          31,
          29,
          27,
          24,
          21,
          19,
          23,
          20,
          17,
          17,
          14,
          12,
          15,
          15,
          15,
          18,
          14,
          17,
          21,
          23,
          23,
          20,
          22,
          21,
          20,
          18,
          20,
          20,
          21,
          17,
          15,
          15,
          19,
          19,
          23,
          19,
          21,
          18,
          14,
          16,
          18,
          14,
          15,
          15,
          13,
          10,
          11,
          14,
          14,
          11,
          10,
          7,
          7,
          10,
          11,
          8,
          7,
          5,
          2,
          6,
          6,
          2,
          2,
          1,
          1,
          0,
          0,
          4,
          7,
          4,
          1,
          5,
          1,
          -3,
          -6,
          -3,
          -6,
          -7,
          -7,
          -8,
          -4,
          -3,
          -3,
          -6,
          -7,
          -8,
          -8,
          -7,
          -9,
          -13,
          -10,
          -14,
          -14,
          -10,
          -12,
          -9,
          -8,
          -5,
          -1,
          -3,
          0,
          1,
          -2,
          1,
          3,
          -1,
          -3,
          -1,
          -5,
          -4,
          -1,
          -3,
          0,
          4,
          8,
          10,
          7,
          4,
          4,
          7,
          9,
          8,
          12,
          15,
          13,
          17,
          17,
          19,
          15,
          15,
          18,
          21,
          20,
          22,
          18,
          19,
          15,
          18,
          22,
          22,
          23,
          27,
          23,
          20,
          19,
          18,
          22,
          18,
          16,
          20,
          16,
          17,
          17,
          18,
          17,
          18,
          21,
          22,
          20,
          17,
          15,
          18,
          22,
          19,
          19,
          21,
          25,
          25,
          21,
          24,
          24,
          26,
          24,
          24,
          26,
          25,
          28,
          27,
          24,
          21,
          21,
          25,
          27,
          26,
          23,
          20,
          20,
          24,
          24,
          26,
          29,
          29,
          30,
          27,
          23,
          23,
          24,
          27,
          27,
          25,
          25,
          22,
          20,
          20,
          16,
          12,
          10,
          10,
          8,
          9,
          9,
          5,
          8,
          9,
          11,
          8,
          6,
          6,
          2,
          5,
          6,
          6,
          6,
          3,
          -1,
          -5,
          -1,
          2,
          -2,
          -1,
          0,
          2,
          4,
          2,
          -2,
          -3,
          -5,
          -7,
          -10,
          -8,
          -6,
          -9,
          -13,
          -17,
          -21,
          -21,
          -20,
          -22,
          -20,
          -18,
          -15,
          -16,
          -15,
          -17,
          -15,
          -18,
          -17,
          -18,
          -18,
          -17,
          -16,
          -19,
          -17,
          -15,
          -13,
          -15,
          -17,
          -15,
          -15,
          -15,
          -15,
          -16,
          -13,
          -16,
          -17,
          -16,
          -17,
          -14,
          -16,
          -16,
          -14,
          -13,
          -15,
          -15,
          -14,
          -10,
          -9,
          -8,
          -8,
          -11,
          -7,
          -4,
          -4,
          -7,
          -11,
          -11,
          -11,
          -8,
          -9,
          -11,
          -7,
          -10,
          -10,
          -11,
          -11,
          -13,
          -16,
          -16,
          -16,
          -16,
          -18,
          -14,
          -13,
          -16,
          -13,
          -15,
          -11,
          -13,
          -12,
          -13,
          -11,
          -10,
          -11,
          -8,
          -5,
          -1,
          -4,
          -5,
          -7,
          -7,
          -4,
          -6,
          -3,
          -4,
          -2,
          -6,
          -7,
          -6,
          -4,
          -4,
          -2,
          -3,
          0,
          -1,
          2,
          1,
          -1,
          -1,
          -1,
          1,
          -1,
          -2,
          1,
          1,
          1,
          -3,
          1,
          -1,
          3,
          2,
          -2,
          -1,
          -5,
          -6,
          -6,
          -8,
          -8,
          -6,
          -4,
          -4,
          -6,
          -5,
          -8,
          -5,
          -6,
          -9,
          -9,
          -13,
          -13,
          -11,
          -14,
          -16,
          -20,
          -18,
          -22,
          -23,
          -23,
          -19,
          -17,
          -18,
          -19,
          -16,
          -18,
          -19,
          -21,
          -20,
          -16,
          -12,
          -14,
          -10,
          -11,
          -11,
          -15,
          -15,
          -17,
          -21,
          -25,
          -26,
          -24,
          -21,
          -19,
          -16,
          -19,
          -22,
          -23,
          -27,
          -30,
          -26,
          -26,
          -23,
          -25,
          -29,
          -31,
          -31,
          -31,
          -27,
          -29,
          -25,
          -24,
          -26,
          -25,
          -22,
          -22,
          -26,
          -22,
          -23,
          -24,
          -20,
          -19,
          -16,
          -14,
          -16,
          -16,
          -12,
          -15,
          -16,
          -20,
          -23,
          -23,
          -20,
          -20,
          -16,
          -16,
          -16,
          -12,
          -16,
          -16,
          -12,
          -16,
          -13,
          -15,
          -14,
          -13,
          -17,
          -18,
          -21,
          -24,
          -25,
          -27,
          -26,
          -30,
          -26,
          -23,
          -23,
          -19,
          -19,
          -15,
          -18,
          -15,
          -12,
          -14,
          -18,
          -22,
          -18,
          -15,
          -12,
          -10,
          -14,
          -12,
          -12,
          -12,
          -13,
          -13,
          -13,
          -10,
          -7,
          -7,
          -11,
          -12,
          -10,
          -10,
          -12,
          -16,
          -13,
          -11,
          -11,
          -14,
          -14,
          -16,
          -14,
          -16,
          -15,
          -19,
          -20,
          -22,
          -23,
          -24,
          -24,
          -25,
          -28,
          -29,
          -27,
          -31,
          -32,
          -32,
          -36,
          -35,
          -39,
          -35,
          -37,
          -37,
          -37,
          -39,
          -43,
          -44,
          -48,
          -50,
          -47,
          -48,
          -49,
          -52,
          -50,
          -52,
          -52,
          -53,
          -54,
          -54,
          -58,
          -62,
          -66,
          -67,
          -65,
          -69,
          -68,
          -67,
          -66,
          -66,
          -66,
          -65,
          -69,
          -70,
          -70,
          -66
         ],
         "yaxis": "y"
        }
       ],
       "layout": {
        "legend": {
         "tracegroupgap": 0
        },
        "margin": {
         "t": 60
        },
        "template": {
         "data": {
          "bar": [
           {
            "error_x": {
             "color": "#2a3f5f"
            },
            "error_y": {
             "color": "#2a3f5f"
            },
            "marker": {
             "line": {
              "color": "#E5ECF6",
              "width": 0.5
             },
             "pattern": {
              "fillmode": "overlay",
              "size": 10,
              "solidity": 0.2
             }
            },
            "type": "bar"
           }
          ],
          "barpolar": [
           {
            "marker": {
             "line": {
              "color": "#E5ECF6",
              "width": 0.5
             },
             "pattern": {
              "fillmode": "overlay",
              "size": 10,
              "solidity": 0.2
             }
            },
            "type": "barpolar"
           }
          ],
          "carpet": [
           {
            "aaxis": {
             "endlinecolor": "#2a3f5f",
             "gridcolor": "white",
             "linecolor": "white",
             "minorgridcolor": "white",
             "startlinecolor": "#2a3f5f"
            },
            "baxis": {
             "endlinecolor": "#2a3f5f",
             "gridcolor": "white",
             "linecolor": "white",
             "minorgridcolor": "white",
             "startlinecolor": "#2a3f5f"
            },
            "type": "carpet"
           }
          ],
          "choropleth": [
           {
            "colorbar": {
             "outlinewidth": 0,
             "ticks": ""
            },
            "type": "choropleth"
           }
          ],
          "contour": [
           {
            "colorbar": {
             "outlinewidth": 0,
             "ticks": ""
            },
            "colorscale": [
             [
              0,
              "#0d0887"
             ],
             [
              0.1111111111111111,
              "#46039f"
             ],
             [
              0.2222222222222222,
              "#7201a8"
             ],
             [
              0.3333333333333333,
              "#9c179e"
             ],
             [
              0.4444444444444444,
              "#bd3786"
             ],
             [
              0.5555555555555556,
              "#d8576b"
             ],
             [
              0.6666666666666666,
              "#ed7953"
             ],
             [
              0.7777777777777778,
              "#fb9f3a"
             ],
             [
              0.8888888888888888,
              "#fdca26"
             ],
             [
              1,
              "#f0f921"
             ]
            ],
            "type": "contour"
           }
          ],
          "contourcarpet": [
           {
            "colorbar": {
             "outlinewidth": 0,
             "ticks": ""
            },
            "type": "contourcarpet"
           }
          ],
          "heatmap": [
           {
            "colorbar": {
             "outlinewidth": 0,
             "ticks": ""
            },
            "colorscale": [
             [
              0,
              "#0d0887"
             ],
             [
              0.1111111111111111,
              "#46039f"
             ],
             [
              0.2222222222222222,
              "#7201a8"
             ],
             [
              0.3333333333333333,
              "#9c179e"
             ],
             [
              0.4444444444444444,
              "#bd3786"
             ],
             [
              0.5555555555555556,
              "#d8576b"
             ],
             [
              0.6666666666666666,
              "#ed7953"
             ],
             [
              0.7777777777777778,
              "#fb9f3a"
             ],
             [
              0.8888888888888888,
              "#fdca26"
             ],
             [
              1,
              "#f0f921"
             ]
            ],
            "type": "heatmap"
           }
          ],
          "heatmapgl": [
           {
            "colorbar": {
             "outlinewidth": 0,
             "ticks": ""
            },
            "colorscale": [
             [
              0,
              "#0d0887"
             ],
             [
              0.1111111111111111,
              "#46039f"
             ],
             [
              0.2222222222222222,
              "#7201a8"
             ],
             [
              0.3333333333333333,
              "#9c179e"
             ],
             [
              0.4444444444444444,
              "#bd3786"
             ],
             [
              0.5555555555555556,
              "#d8576b"
             ],
             [
              0.6666666666666666,
              "#ed7953"
             ],
             [
              0.7777777777777778,
              "#fb9f3a"
             ],
             [
              0.8888888888888888,
              "#fdca26"
             ],
             [
              1,
              "#f0f921"
             ]
            ],
            "type": "heatmapgl"
           }
          ],
          "histogram": [
           {
            "marker": {
             "pattern": {
              "fillmode": "overlay",
              "size": 10,
              "solidity": 0.2
             }
            },
            "type": "histogram"
           }
          ],
          "histogram2d": [
           {
            "colorbar": {
             "outlinewidth": 0,
             "ticks": ""
            },
            "colorscale": [
             [
              0,
              "#0d0887"
             ],
             [
              0.1111111111111111,
              "#46039f"
             ],
             [
              0.2222222222222222,
              "#7201a8"
             ],
             [
              0.3333333333333333,
              "#9c179e"
             ],
             [
              0.4444444444444444,
              "#bd3786"
             ],
             [
              0.5555555555555556,
              "#d8576b"
             ],
             [
              0.6666666666666666,
              "#ed7953"
             ],
             [
              0.7777777777777778,
              "#fb9f3a"
             ],
             [
              0.8888888888888888,
              "#fdca26"
             ],
             [
              1,
              "#f0f921"
             ]
            ],
            "type": "histogram2d"
           }
          ],
          "histogram2dcontour": [
           {
            "colorbar": {
             "outlinewidth": 0,
             "ticks": ""
            },
            "colorscale": [
             [
              0,
              "#0d0887"
             ],
             [
              0.1111111111111111,
              "#46039f"
             ],
             [
              0.2222222222222222,
              "#7201a8"
             ],
             [
              0.3333333333333333,
              "#9c179e"
             ],
             [
              0.4444444444444444,
              "#bd3786"
             ],
             [
              0.5555555555555556,
              "#d8576b"
             ],
             [
              0.6666666666666666,
              "#ed7953"
             ],
             [
              0.7777777777777778,
              "#fb9f3a"
             ],
             [
              0.8888888888888888,
              "#fdca26"
             ],
             [
              1,
              "#f0f921"
             ]
            ],
            "type": "histogram2dcontour"
           }
          ],
          "mesh3d": [
           {
            "colorbar": {
             "outlinewidth": 0,
             "ticks": ""
            },
            "type": "mesh3d"
           }
          ],
          "parcoords": [
           {
            "line": {
             "colorbar": {
              "outlinewidth": 0,
              "ticks": ""
             }
            },
            "type": "parcoords"
           }
          ],
          "pie": [
           {
            "automargin": true,
            "type": "pie"
           }
          ],
          "scatter": [
           {
            "fillpattern": {
             "fillmode": "overlay",
             "size": 10,
             "solidity": 0.2
            },
            "type": "scatter"
           }
          ],
          "scatter3d": [
           {
            "line": {
             "colorbar": {
              "outlinewidth": 0,
              "ticks": ""
             }
            },
            "marker": {
             "colorbar": {
              "outlinewidth": 0,
              "ticks": ""
             }
            },
            "type": "scatter3d"
           }
          ],
          "scattercarpet": [
           {
            "marker": {
             "colorbar": {
              "outlinewidth": 0,
              "ticks": ""
             }
            },
            "type": "scattercarpet"
           }
          ],
          "scattergeo": [
           {
            "marker": {
             "colorbar": {
              "outlinewidth": 0,
              "ticks": ""
             }
            },
            "type": "scattergeo"
           }
          ],
          "scattergl": [
           {
            "marker": {
             "colorbar": {
              "outlinewidth": 0,
              "ticks": ""
             }
            },
            "type": "scattergl"
           }
          ],
          "scattermapbox": [
           {
            "marker": {
             "colorbar": {
              "outlinewidth": 0,
              "ticks": ""
             }
            },
            "type": "scattermapbox"
           }
          ],
          "scatterpolar": [
           {
            "marker": {
             "colorbar": {
              "outlinewidth": 0,
              "ticks": ""
             }
            },
            "type": "scatterpolar"
           }
          ],
          "scatterpolargl": [
           {
            "marker": {
             "colorbar": {
              "outlinewidth": 0,
              "ticks": ""
             }
            },
            "type": "scatterpolargl"
           }
          ],
          "scatterternary": [
           {
            "marker": {
             "colorbar": {
              "outlinewidth": 0,
              "ticks": ""
             }
            },
            "type": "scatterternary"
           }
          ],
          "surface": [
           {
            "colorbar": {
             "outlinewidth": 0,
             "ticks": ""
            },
            "colorscale": [
             [
              0,
              "#0d0887"
             ],
             [
              0.1111111111111111,
              "#46039f"
             ],
             [
              0.2222222222222222,
              "#7201a8"
             ],
             [
              0.3333333333333333,
              "#9c179e"
             ],
             [
              0.4444444444444444,
              "#bd3786"
             ],
             [
              0.5555555555555556,
              "#d8576b"
             ],
             [
              0.6666666666666666,
              "#ed7953"
             ],
             [
              0.7777777777777778,
              "#fb9f3a"
             ],
             [
              0.8888888888888888,
              "#fdca26"
             ],
             [
              1,
              "#f0f921"
             ]
            ],
            "type": "surface"
           }
          ],
          "table": [
           {
            "cells": {
             "fill": {
              "color": "#EBF0F8"
             },
             "line": {
              "color": "white"
             }
            },
            "header": {
             "fill": {
              "color": "#C8D4E3"
             },
             "line": {
              "color": "white"
             }
            },
            "type": "table"
           }
          ]
         },
         "layout": {
          "annotationdefaults": {
           "arrowcolor": "#2a3f5f",
           "arrowhead": 0,
           "arrowwidth": 1
          },
          "autotypenumbers": "strict",
          "coloraxis": {
           "colorbar": {
            "outlinewidth": 0,
            "ticks": ""
           }
          },
          "colorscale": {
           "diverging": [
            [
             0,
             "#8e0152"
            ],
            [
             0.1,
             "#c51b7d"
            ],
            [
             0.2,
             "#de77ae"
            ],
            [
             0.3,
             "#f1b6da"
            ],
            [
             0.4,
             "#fde0ef"
            ],
            [
             0.5,
             "#f7f7f7"
            ],
            [
             0.6,
             "#e6f5d0"
            ],
            [
             0.7,
             "#b8e186"
            ],
            [
             0.8,
             "#7fbc41"
            ],
            [
             0.9,
             "#4d9221"
            ],
            [
             1,
             "#276419"
            ]
           ],
           "sequential": [
            [
             0,
             "#0d0887"
            ],
            [
             0.1111111111111111,
             "#46039f"
            ],
            [
             0.2222222222222222,
             "#7201a8"
            ],
            [
             0.3333333333333333,
             "#9c179e"
            ],
            [
             0.4444444444444444,
             "#bd3786"
            ],
            [
             0.5555555555555556,
             "#d8576b"
            ],
            [
             0.6666666666666666,
             "#ed7953"
            ],
            [
             0.7777777777777778,
             "#fb9f3a"
            ],
            [
             0.8888888888888888,
             "#fdca26"
            ],
            [
             1,
             "#f0f921"
            ]
           ],
           "sequentialminus": [
            [
             0,
             "#0d0887"
            ],
            [
             0.1111111111111111,
             "#46039f"
            ],
            [
             0.2222222222222222,
             "#7201a8"
            ],
            [
             0.3333333333333333,
             "#9c179e"
            ],
            [
             0.4444444444444444,
             "#bd3786"
            ],
            [
             0.5555555555555556,
             "#d8576b"
            ],
            [
             0.6666666666666666,
             "#ed7953"
            ],
            [
             0.7777777777777778,
             "#fb9f3a"
            ],
            [
             0.8888888888888888,
             "#fdca26"
            ],
            [
             1,
             "#f0f921"
            ]
           ]
          },
          "colorway": [
           "#636efa",
           "#EF553B",
           "#00cc96",
           "#ab63fa",
           "#FFA15A",
           "#19d3f3",
           "#FF6692",
           "#B6E880",
           "#FF97FF",
           "#FECB52"
          ],
          "font": {
           "color": "#2a3f5f"
          },
          "geo": {
           "bgcolor": "white",
           "lakecolor": "white",
           "landcolor": "#E5ECF6",
           "showlakes": true,
           "showland": true,
           "subunitcolor": "white"
          },
          "hoverlabel": {
           "align": "left"
          },
          "hovermode": "closest",
          "mapbox": {
           "style": "light"
          },
          "paper_bgcolor": "white",
          "plot_bgcolor": "#E5ECF6",
          "polar": {
           "angularaxis": {
            "gridcolor": "white",
            "linecolor": "white",
            "ticks": ""
           },
           "bgcolor": "#E5ECF6",
           "radialaxis": {
            "gridcolor": "white",
            "linecolor": "white",
            "ticks": ""
           }
          },
          "scene": {
           "xaxis": {
            "backgroundcolor": "#E5ECF6",
            "gridcolor": "white",
            "gridwidth": 2,
            "linecolor": "white",
            "showbackground": true,
            "ticks": "",
            "zerolinecolor": "white"
           },
           "yaxis": {
            "backgroundcolor": "#E5ECF6",
            "gridcolor": "white",
            "gridwidth": 2,
            "linecolor": "white",
            "showbackground": true,
            "ticks": "",
            "zerolinecolor": "white"
           },
           "zaxis": {
            "backgroundcolor": "#E5ECF6",
            "gridcolor": "white",
            "gridwidth": 2,
            "linecolor": "white",
            "showbackground": true,
            "ticks": "",
            "zerolinecolor": "white"
           }
          },
          "shapedefaults": {
           "line": {
            "color": "#2a3f5f"
           }
          },
          "ternary": {
           "aaxis": {
            "gridcolor": "white",
            "linecolor": "white",
            "ticks": ""
           },
           "baxis": {
            "gridcolor": "white",
            "linecolor": "white",
            "ticks": ""
           },
           "bgcolor": "#E5ECF6",
           "caxis": {
            "gridcolor": "white",
            "linecolor": "white",
            "ticks": ""
           }
          },
          "title": {
           "x": 0.05
          },
          "xaxis": {
           "automargin": true,
           "gridcolor": "white",
           "linecolor": "white",
           "ticks": "",
           "title": {
            "standoff": 15
           },
           "zerolinecolor": "white",
           "zerolinewidth": 2
          },
          "yaxis": {
           "automargin": true,
           "gridcolor": "white",
           "linecolor": "white",
           "ticks": "",
           "title": {
            "standoff": 15
           },
           "zerolinecolor": "white",
           "zerolinewidth": 2
          }
         }
        },
        "xaxis": {
         "anchor": "y",
         "domain": [
          0,
          1
         ],
         "title": {
          "text": "x"
         }
        },
        "yaxis": {
         "anchor": "x",
         "domain": [
          0,
          1
         ],
         "title": {
          "text": "y"
         }
        }
       }
      }
     },
     "metadata": {},
     "output_type": "display_data"
    }
   ],
   "source": [
    "# rw_visual.py\n",
    "# 15.3 molecular_motion.py\n",
    "import matplotlib.pyplot as plt\n",
    "import plotly.express as px\n",
    "\n",
    "direction = [-1, 1]\n",
    "distance = [x for x in range(0,5)]\n",
    "\n",
    "rw = RandomWalk(direction, distance)\n",
    "rw.fill_walk()\n",
    "\n",
    "# Plot the points in the walk.\n",
    "plt.style.use('classic')\n",
    "fig, ax = plt.subplots()\n",
    "\n",
    "point_numbers = range(rw.num_points)\n",
    "#ax.plot(rw.x_values, rw.y_values, linewidth=2)\n",
    "ax.scatter(rw.x_values, rw.y_values, s=10)\n",
    "#ax.set_aspect('equal')\n",
    "plt.show()\n",
    "\n",
    "# 15.10 practiving_with_both_libraries.py\n",
    "\"\"\"Use Plotly to make the visualization for a random walk.\"\"\"\n",
    "fig = px.scatter(x=rw.x_values, y=rw.y_values)\n",
    "fig.show()"
   ]
  },
  {
   "cell_type": "code",
   "execution_count": null,
   "metadata": {},
   "outputs": [],
   "source": [
    "# 15.4 modified_random_walks.py\n",
    "import matplotlib.pyplot as plt\n",
    "\n",
    "direction = [-1, 1]\n",
    "distance = [x for x in range(0,9)]\n",
    "\n",
    "rw = RandomWalk(direction, distance)\n",
    "rw.fill_walk()\n",
    "\n",
    "# Plot the points in the walk.\n",
    "plt.style.use('classic')\n",
    "fig, ax = plt.subplots()\n",
    "\n",
    "point_numbers = range(rw.num_points)\n",
    "ax.plot(rw.x_values, rw.y_values, linewidth=2)\n",
    "\n",
    "plt.show()"
   ]
  },
  {
   "attachments": {},
   "cell_type": "markdown",
   "metadata": {},
   "source": [
    "## Rolling Dice with Plotly"
   ]
  },
  {
   "cell_type": "code",
   "execution_count": 3,
   "metadata": {},
   "outputs": [],
   "source": [
    "# die.py\n",
    "from random import randint\n",
    "\n",
    "class Die:\n",
    "    \"\"\"A class representing a single die.\"\"\"\n",
    "\n",
    "    def __init__(self, num_sides=6):\n",
    "        \"\"\"Assume a six-sided die.\"\"\"\n",
    "        self.num_sides = num_sides\n",
    "\n",
    "    def roll(self):\n",
    "        \"\"\"Return a random value between 1 and number of sides.\"\"\"\n",
    "        return randint(1, self.num_sides)"
   ]
  },
  {
   "cell_type": "code",
   "execution_count": 4,
   "metadata": {},
   "outputs": [
    {
     "data": {
      "application/vnd.plotly.v1+json": {
       "config": {
        "plotlyServerURL": "https://plot.ly"
       },
       "data": [
        {
         "alignmentgroup": "True",
         "hovertemplate": "Result=%{x}<br>Frequency of Result=%{y}<extra></extra>",
         "legendgroup": "",
         "marker": {
          "color": "#636efa",
          "pattern": {
           "shape": ""
          }
         },
         "name": "",
         "offsetgroup": "",
         "orientation": "v",
         "showlegend": false,
         "textposition": "auto",
         "type": "bar",
         "x": [
          1,
          2,
          3,
          4,
          5,
          6
         ],
         "xaxis": "x",
         "y": [
          159,
          170,
          141,
          198,
          165,
          167
         ],
         "yaxis": "y"
        }
       ],
       "layout": {
        "barmode": "relative",
        "legend": {
         "tracegroupgap": 0
        },
        "template": {
         "data": {
          "bar": [
           {
            "error_x": {
             "color": "#2a3f5f"
            },
            "error_y": {
             "color": "#2a3f5f"
            },
            "marker": {
             "line": {
              "color": "#E5ECF6",
              "width": 0.5
             },
             "pattern": {
              "fillmode": "overlay",
              "size": 10,
              "solidity": 0.2
             }
            },
            "type": "bar"
           }
          ],
          "barpolar": [
           {
            "marker": {
             "line": {
              "color": "#E5ECF6",
              "width": 0.5
             },
             "pattern": {
              "fillmode": "overlay",
              "size": 10,
              "solidity": 0.2
             }
            },
            "type": "barpolar"
           }
          ],
          "carpet": [
           {
            "aaxis": {
             "endlinecolor": "#2a3f5f",
             "gridcolor": "white",
             "linecolor": "white",
             "minorgridcolor": "white",
             "startlinecolor": "#2a3f5f"
            },
            "baxis": {
             "endlinecolor": "#2a3f5f",
             "gridcolor": "white",
             "linecolor": "white",
             "minorgridcolor": "white",
             "startlinecolor": "#2a3f5f"
            },
            "type": "carpet"
           }
          ],
          "choropleth": [
           {
            "colorbar": {
             "outlinewidth": 0,
             "ticks": ""
            },
            "type": "choropleth"
           }
          ],
          "contour": [
           {
            "colorbar": {
             "outlinewidth": 0,
             "ticks": ""
            },
            "colorscale": [
             [
              0,
              "#0d0887"
             ],
             [
              0.1111111111111111,
              "#46039f"
             ],
             [
              0.2222222222222222,
              "#7201a8"
             ],
             [
              0.3333333333333333,
              "#9c179e"
             ],
             [
              0.4444444444444444,
              "#bd3786"
             ],
             [
              0.5555555555555556,
              "#d8576b"
             ],
             [
              0.6666666666666666,
              "#ed7953"
             ],
             [
              0.7777777777777778,
              "#fb9f3a"
             ],
             [
              0.8888888888888888,
              "#fdca26"
             ],
             [
              1,
              "#f0f921"
             ]
            ],
            "type": "contour"
           }
          ],
          "contourcarpet": [
           {
            "colorbar": {
             "outlinewidth": 0,
             "ticks": ""
            },
            "type": "contourcarpet"
           }
          ],
          "heatmap": [
           {
            "colorbar": {
             "outlinewidth": 0,
             "ticks": ""
            },
            "colorscale": [
             [
              0,
              "#0d0887"
             ],
             [
              0.1111111111111111,
              "#46039f"
             ],
             [
              0.2222222222222222,
              "#7201a8"
             ],
             [
              0.3333333333333333,
              "#9c179e"
             ],
             [
              0.4444444444444444,
              "#bd3786"
             ],
             [
              0.5555555555555556,
              "#d8576b"
             ],
             [
              0.6666666666666666,
              "#ed7953"
             ],
             [
              0.7777777777777778,
              "#fb9f3a"
             ],
             [
              0.8888888888888888,
              "#fdca26"
             ],
             [
              1,
              "#f0f921"
             ]
            ],
            "type": "heatmap"
           }
          ],
          "heatmapgl": [
           {
            "colorbar": {
             "outlinewidth": 0,
             "ticks": ""
            },
            "colorscale": [
             [
              0,
              "#0d0887"
             ],
             [
              0.1111111111111111,
              "#46039f"
             ],
             [
              0.2222222222222222,
              "#7201a8"
             ],
             [
              0.3333333333333333,
              "#9c179e"
             ],
             [
              0.4444444444444444,
              "#bd3786"
             ],
             [
              0.5555555555555556,
              "#d8576b"
             ],
             [
              0.6666666666666666,
              "#ed7953"
             ],
             [
              0.7777777777777778,
              "#fb9f3a"
             ],
             [
              0.8888888888888888,
              "#fdca26"
             ],
             [
              1,
              "#f0f921"
             ]
            ],
            "type": "heatmapgl"
           }
          ],
          "histogram": [
           {
            "marker": {
             "pattern": {
              "fillmode": "overlay",
              "size": 10,
              "solidity": 0.2
             }
            },
            "type": "histogram"
           }
          ],
          "histogram2d": [
           {
            "colorbar": {
             "outlinewidth": 0,
             "ticks": ""
            },
            "colorscale": [
             [
              0,
              "#0d0887"
             ],
             [
              0.1111111111111111,
              "#46039f"
             ],
             [
              0.2222222222222222,
              "#7201a8"
             ],
             [
              0.3333333333333333,
              "#9c179e"
             ],
             [
              0.4444444444444444,
              "#bd3786"
             ],
             [
              0.5555555555555556,
              "#d8576b"
             ],
             [
              0.6666666666666666,
              "#ed7953"
             ],
             [
              0.7777777777777778,
              "#fb9f3a"
             ],
             [
              0.8888888888888888,
              "#fdca26"
             ],
             [
              1,
              "#f0f921"
             ]
            ],
            "type": "histogram2d"
           }
          ],
          "histogram2dcontour": [
           {
            "colorbar": {
             "outlinewidth": 0,
             "ticks": ""
            },
            "colorscale": [
             [
              0,
              "#0d0887"
             ],
             [
              0.1111111111111111,
              "#46039f"
             ],
             [
              0.2222222222222222,
              "#7201a8"
             ],
             [
              0.3333333333333333,
              "#9c179e"
             ],
             [
              0.4444444444444444,
              "#bd3786"
             ],
             [
              0.5555555555555556,
              "#d8576b"
             ],
             [
              0.6666666666666666,
              "#ed7953"
             ],
             [
              0.7777777777777778,
              "#fb9f3a"
             ],
             [
              0.8888888888888888,
              "#fdca26"
             ],
             [
              1,
              "#f0f921"
             ]
            ],
            "type": "histogram2dcontour"
           }
          ],
          "mesh3d": [
           {
            "colorbar": {
             "outlinewidth": 0,
             "ticks": ""
            },
            "type": "mesh3d"
           }
          ],
          "parcoords": [
           {
            "line": {
             "colorbar": {
              "outlinewidth": 0,
              "ticks": ""
             }
            },
            "type": "parcoords"
           }
          ],
          "pie": [
           {
            "automargin": true,
            "type": "pie"
           }
          ],
          "scatter": [
           {
            "fillpattern": {
             "fillmode": "overlay",
             "size": 10,
             "solidity": 0.2
            },
            "type": "scatter"
           }
          ],
          "scatter3d": [
           {
            "line": {
             "colorbar": {
              "outlinewidth": 0,
              "ticks": ""
             }
            },
            "marker": {
             "colorbar": {
              "outlinewidth": 0,
              "ticks": ""
             }
            },
            "type": "scatter3d"
           }
          ],
          "scattercarpet": [
           {
            "marker": {
             "colorbar": {
              "outlinewidth": 0,
              "ticks": ""
             }
            },
            "type": "scattercarpet"
           }
          ],
          "scattergeo": [
           {
            "marker": {
             "colorbar": {
              "outlinewidth": 0,
              "ticks": ""
             }
            },
            "type": "scattergeo"
           }
          ],
          "scattergl": [
           {
            "marker": {
             "colorbar": {
              "outlinewidth": 0,
              "ticks": ""
             }
            },
            "type": "scattergl"
           }
          ],
          "scattermapbox": [
           {
            "marker": {
             "colorbar": {
              "outlinewidth": 0,
              "ticks": ""
             }
            },
            "type": "scattermapbox"
           }
          ],
          "scatterpolar": [
           {
            "marker": {
             "colorbar": {
              "outlinewidth": 0,
              "ticks": ""
             }
            },
            "type": "scatterpolar"
           }
          ],
          "scatterpolargl": [
           {
            "marker": {
             "colorbar": {
              "outlinewidth": 0,
              "ticks": ""
             }
            },
            "type": "scatterpolargl"
           }
          ],
          "scatterternary": [
           {
            "marker": {
             "colorbar": {
              "outlinewidth": 0,
              "ticks": ""
             }
            },
            "type": "scatterternary"
           }
          ],
          "surface": [
           {
            "colorbar": {
             "outlinewidth": 0,
             "ticks": ""
            },
            "colorscale": [
             [
              0,
              "#0d0887"
             ],
             [
              0.1111111111111111,
              "#46039f"
             ],
             [
              0.2222222222222222,
              "#7201a8"
             ],
             [
              0.3333333333333333,
              "#9c179e"
             ],
             [
              0.4444444444444444,
              "#bd3786"
             ],
             [
              0.5555555555555556,
              "#d8576b"
             ],
             [
              0.6666666666666666,
              "#ed7953"
             ],
             [
              0.7777777777777778,
              "#fb9f3a"
             ],
             [
              0.8888888888888888,
              "#fdca26"
             ],
             [
              1,
              "#f0f921"
             ]
            ],
            "type": "surface"
           }
          ],
          "table": [
           {
            "cells": {
             "fill": {
              "color": "#EBF0F8"
             },
             "line": {
              "color": "white"
             }
            },
            "header": {
             "fill": {
              "color": "#C8D4E3"
             },
             "line": {
              "color": "white"
             }
            },
            "type": "table"
           }
          ]
         },
         "layout": {
          "annotationdefaults": {
           "arrowcolor": "#2a3f5f",
           "arrowhead": 0,
           "arrowwidth": 1
          },
          "autotypenumbers": "strict",
          "coloraxis": {
           "colorbar": {
            "outlinewidth": 0,
            "ticks": ""
           }
          },
          "colorscale": {
           "diverging": [
            [
             0,
             "#8e0152"
            ],
            [
             0.1,
             "#c51b7d"
            ],
            [
             0.2,
             "#de77ae"
            ],
            [
             0.3,
             "#f1b6da"
            ],
            [
             0.4,
             "#fde0ef"
            ],
            [
             0.5,
             "#f7f7f7"
            ],
            [
             0.6,
             "#e6f5d0"
            ],
            [
             0.7,
             "#b8e186"
            ],
            [
             0.8,
             "#7fbc41"
            ],
            [
             0.9,
             "#4d9221"
            ],
            [
             1,
             "#276419"
            ]
           ],
           "sequential": [
            [
             0,
             "#0d0887"
            ],
            [
             0.1111111111111111,
             "#46039f"
            ],
            [
             0.2222222222222222,
             "#7201a8"
            ],
            [
             0.3333333333333333,
             "#9c179e"
            ],
            [
             0.4444444444444444,
             "#bd3786"
            ],
            [
             0.5555555555555556,
             "#d8576b"
            ],
            [
             0.6666666666666666,
             "#ed7953"
            ],
            [
             0.7777777777777778,
             "#fb9f3a"
            ],
            [
             0.8888888888888888,
             "#fdca26"
            ],
            [
             1,
             "#f0f921"
            ]
           ],
           "sequentialminus": [
            [
             0,
             "#0d0887"
            ],
            [
             0.1111111111111111,
             "#46039f"
            ],
            [
             0.2222222222222222,
             "#7201a8"
            ],
            [
             0.3333333333333333,
             "#9c179e"
            ],
            [
             0.4444444444444444,
             "#bd3786"
            ],
            [
             0.5555555555555556,
             "#d8576b"
            ],
            [
             0.6666666666666666,
             "#ed7953"
            ],
            [
             0.7777777777777778,
             "#fb9f3a"
            ],
            [
             0.8888888888888888,
             "#fdca26"
            ],
            [
             1,
             "#f0f921"
            ]
           ]
          },
          "colorway": [
           "#636efa",
           "#EF553B",
           "#00cc96",
           "#ab63fa",
           "#FFA15A",
           "#19d3f3",
           "#FF6692",
           "#B6E880",
           "#FF97FF",
           "#FECB52"
          ],
          "font": {
           "color": "#2a3f5f"
          },
          "geo": {
           "bgcolor": "white",
           "lakecolor": "white",
           "landcolor": "#E5ECF6",
           "showlakes": true,
           "showland": true,
           "subunitcolor": "white"
          },
          "hoverlabel": {
           "align": "left"
          },
          "hovermode": "closest",
          "mapbox": {
           "style": "light"
          },
          "paper_bgcolor": "white",
          "plot_bgcolor": "#E5ECF6",
          "polar": {
           "angularaxis": {
            "gridcolor": "white",
            "linecolor": "white",
            "ticks": ""
           },
           "bgcolor": "#E5ECF6",
           "radialaxis": {
            "gridcolor": "white",
            "linecolor": "white",
            "ticks": ""
           }
          },
          "scene": {
           "xaxis": {
            "backgroundcolor": "#E5ECF6",
            "gridcolor": "white",
            "gridwidth": 2,
            "linecolor": "white",
            "showbackground": true,
            "ticks": "",
            "zerolinecolor": "white"
           },
           "yaxis": {
            "backgroundcolor": "#E5ECF6",
            "gridcolor": "white",
            "gridwidth": 2,
            "linecolor": "white",
            "showbackground": true,
            "ticks": "",
            "zerolinecolor": "white"
           },
           "zaxis": {
            "backgroundcolor": "#E5ECF6",
            "gridcolor": "white",
            "gridwidth": 2,
            "linecolor": "white",
            "showbackground": true,
            "ticks": "",
            "zerolinecolor": "white"
           }
          },
          "shapedefaults": {
           "line": {
            "color": "#2a3f5f"
           }
          },
          "ternary": {
           "aaxis": {
            "gridcolor": "white",
            "linecolor": "white",
            "ticks": ""
           },
           "baxis": {
            "gridcolor": "white",
            "linecolor": "white",
            "ticks": ""
           },
           "bgcolor": "#E5ECF6",
           "caxis": {
            "gridcolor": "white",
            "linecolor": "white",
            "ticks": ""
           }
          },
          "title": {
           "x": 0.05
          },
          "xaxis": {
           "automargin": true,
           "gridcolor": "white",
           "linecolor": "white",
           "ticks": "",
           "title": {
            "standoff": 15
           },
           "zerolinecolor": "white",
           "zerolinewidth": 2
          },
          "yaxis": {
           "automargin": true,
           "gridcolor": "white",
           "linecolor": "white",
           "ticks": "",
           "title": {
            "standoff": 15
           },
           "zerolinecolor": "white",
           "zerolinewidth": 2
          }
         }
        },
        "title": {
         "text": "Results of Rolling One D6 1,000 Times"
        },
        "xaxis": {
         "anchor": "y",
         "domain": [
          0,
          1
         ],
         "dtick": 1,
         "title": {
          "text": "Result"
         }
        },
        "yaxis": {
         "anchor": "x",
         "domain": [
          0,
          1
         ],
         "title": {
          "text": "Frequency of Result"
         }
        }
       }
      }
     },
     "metadata": {},
     "output_type": "display_data"
    }
   ],
   "source": [
    "# die_visual.py\n",
    "import plotly.express as px\n",
    "\n",
    "# Create a D6\n",
    "die = Die()\n",
    "\n",
    "# Make some rolls, and store results in a list.\n",
    "results = []\n",
    "for roll_num in range(1000):\n",
    "    result = die.roll()\n",
    "    results.append(result)\n",
    "\n",
    "# Analyze the results.\n",
    "frequencies = []\n",
    "poss_results = range(1, die.num_sides+1)\n",
    "for value in poss_results:\n",
    "    frequency = results.count(value)\n",
    "    frequencies.append(frequency)\n",
    "\n",
    "# Visualize the results.\n",
    "title = \"Results of Rolling One D6 1,000 Times\"\n",
    "labels = {'x': 'Result', 'y': 'Frequency of Result'}\n",
    "fig = px.bar(x=poss_results, y=frequencies, title=title, labels=labels)\n",
    "\n",
    "# Further customize chart.\n",
    "fig.update_layout(xaxis_dtick=1)\n",
    "\n",
    "fig.show()\n",
    "#fig.write_html('dice_visual_d6.html')"
   ]
  },
  {
   "cell_type": "code",
   "execution_count": 6,
   "metadata": {},
   "outputs": [
    {
     "data": {
      "application/vnd.plotly.v1+json": {
       "config": {
        "plotlyServerURL": "https://plot.ly"
       },
       "data": [
        {
         "alignmentgroup": "True",
         "hovertemplate": "Result=%{x}<br>Frequency of Result=%{y}<extra></extra>",
         "legendgroup": "",
         "marker": {
          "color": "#636efa",
          "pattern": {
           "shape": ""
          }
         },
         "name": "",
         "offsetgroup": "",
         "orientation": "v",
         "showlegend": false,
         "textposition": "auto",
         "type": "bar",
         "x": [
          2,
          3,
          4,
          5,
          6,
          7,
          8,
          9,
          10,
          11,
          12
         ],
         "xaxis": "x",
         "y": [
          25,
          58,
          67,
          117,
          157,
          153,
          131,
          124,
          86,
          50,
          32
         ],
         "yaxis": "y"
        }
       ],
       "layout": {
        "barmode": "relative",
        "legend": {
         "tracegroupgap": 0
        },
        "template": {
         "data": {
          "bar": [
           {
            "error_x": {
             "color": "#2a3f5f"
            },
            "error_y": {
             "color": "#2a3f5f"
            },
            "marker": {
             "line": {
              "color": "#E5ECF6",
              "width": 0.5
             },
             "pattern": {
              "fillmode": "overlay",
              "size": 10,
              "solidity": 0.2
             }
            },
            "type": "bar"
           }
          ],
          "barpolar": [
           {
            "marker": {
             "line": {
              "color": "#E5ECF6",
              "width": 0.5
             },
             "pattern": {
              "fillmode": "overlay",
              "size": 10,
              "solidity": 0.2
             }
            },
            "type": "barpolar"
           }
          ],
          "carpet": [
           {
            "aaxis": {
             "endlinecolor": "#2a3f5f",
             "gridcolor": "white",
             "linecolor": "white",
             "minorgridcolor": "white",
             "startlinecolor": "#2a3f5f"
            },
            "baxis": {
             "endlinecolor": "#2a3f5f",
             "gridcolor": "white",
             "linecolor": "white",
             "minorgridcolor": "white",
             "startlinecolor": "#2a3f5f"
            },
            "type": "carpet"
           }
          ],
          "choropleth": [
           {
            "colorbar": {
             "outlinewidth": 0,
             "ticks": ""
            },
            "type": "choropleth"
           }
          ],
          "contour": [
           {
            "colorbar": {
             "outlinewidth": 0,
             "ticks": ""
            },
            "colorscale": [
             [
              0,
              "#0d0887"
             ],
             [
              0.1111111111111111,
              "#46039f"
             ],
             [
              0.2222222222222222,
              "#7201a8"
             ],
             [
              0.3333333333333333,
              "#9c179e"
             ],
             [
              0.4444444444444444,
              "#bd3786"
             ],
             [
              0.5555555555555556,
              "#d8576b"
             ],
             [
              0.6666666666666666,
              "#ed7953"
             ],
             [
              0.7777777777777778,
              "#fb9f3a"
             ],
             [
              0.8888888888888888,
              "#fdca26"
             ],
             [
              1,
              "#f0f921"
             ]
            ],
            "type": "contour"
           }
          ],
          "contourcarpet": [
           {
            "colorbar": {
             "outlinewidth": 0,
             "ticks": ""
            },
            "type": "contourcarpet"
           }
          ],
          "heatmap": [
           {
            "colorbar": {
             "outlinewidth": 0,
             "ticks": ""
            },
            "colorscale": [
             [
              0,
              "#0d0887"
             ],
             [
              0.1111111111111111,
              "#46039f"
             ],
             [
              0.2222222222222222,
              "#7201a8"
             ],
             [
              0.3333333333333333,
              "#9c179e"
             ],
             [
              0.4444444444444444,
              "#bd3786"
             ],
             [
              0.5555555555555556,
              "#d8576b"
             ],
             [
              0.6666666666666666,
              "#ed7953"
             ],
             [
              0.7777777777777778,
              "#fb9f3a"
             ],
             [
              0.8888888888888888,
              "#fdca26"
             ],
             [
              1,
              "#f0f921"
             ]
            ],
            "type": "heatmap"
           }
          ],
          "heatmapgl": [
           {
            "colorbar": {
             "outlinewidth": 0,
             "ticks": ""
            },
            "colorscale": [
             [
              0,
              "#0d0887"
             ],
             [
              0.1111111111111111,
              "#46039f"
             ],
             [
              0.2222222222222222,
              "#7201a8"
             ],
             [
              0.3333333333333333,
              "#9c179e"
             ],
             [
              0.4444444444444444,
              "#bd3786"
             ],
             [
              0.5555555555555556,
              "#d8576b"
             ],
             [
              0.6666666666666666,
              "#ed7953"
             ],
             [
              0.7777777777777778,
              "#fb9f3a"
             ],
             [
              0.8888888888888888,
              "#fdca26"
             ],
             [
              1,
              "#f0f921"
             ]
            ],
            "type": "heatmapgl"
           }
          ],
          "histogram": [
           {
            "marker": {
             "pattern": {
              "fillmode": "overlay",
              "size": 10,
              "solidity": 0.2
             }
            },
            "type": "histogram"
           }
          ],
          "histogram2d": [
           {
            "colorbar": {
             "outlinewidth": 0,
             "ticks": ""
            },
            "colorscale": [
             [
              0,
              "#0d0887"
             ],
             [
              0.1111111111111111,
              "#46039f"
             ],
             [
              0.2222222222222222,
              "#7201a8"
             ],
             [
              0.3333333333333333,
              "#9c179e"
             ],
             [
              0.4444444444444444,
              "#bd3786"
             ],
             [
              0.5555555555555556,
              "#d8576b"
             ],
             [
              0.6666666666666666,
              "#ed7953"
             ],
             [
              0.7777777777777778,
              "#fb9f3a"
             ],
             [
              0.8888888888888888,
              "#fdca26"
             ],
             [
              1,
              "#f0f921"
             ]
            ],
            "type": "histogram2d"
           }
          ],
          "histogram2dcontour": [
           {
            "colorbar": {
             "outlinewidth": 0,
             "ticks": ""
            },
            "colorscale": [
             [
              0,
              "#0d0887"
             ],
             [
              0.1111111111111111,
              "#46039f"
             ],
             [
              0.2222222222222222,
              "#7201a8"
             ],
             [
              0.3333333333333333,
              "#9c179e"
             ],
             [
              0.4444444444444444,
              "#bd3786"
             ],
             [
              0.5555555555555556,
              "#d8576b"
             ],
             [
              0.6666666666666666,
              "#ed7953"
             ],
             [
              0.7777777777777778,
              "#fb9f3a"
             ],
             [
              0.8888888888888888,
              "#fdca26"
             ],
             [
              1,
              "#f0f921"
             ]
            ],
            "type": "histogram2dcontour"
           }
          ],
          "mesh3d": [
           {
            "colorbar": {
             "outlinewidth": 0,
             "ticks": ""
            },
            "type": "mesh3d"
           }
          ],
          "parcoords": [
           {
            "line": {
             "colorbar": {
              "outlinewidth": 0,
              "ticks": ""
             }
            },
            "type": "parcoords"
           }
          ],
          "pie": [
           {
            "automargin": true,
            "type": "pie"
           }
          ],
          "scatter": [
           {
            "fillpattern": {
             "fillmode": "overlay",
             "size": 10,
             "solidity": 0.2
            },
            "type": "scatter"
           }
          ],
          "scatter3d": [
           {
            "line": {
             "colorbar": {
              "outlinewidth": 0,
              "ticks": ""
             }
            },
            "marker": {
             "colorbar": {
              "outlinewidth": 0,
              "ticks": ""
             }
            },
            "type": "scatter3d"
           }
          ],
          "scattercarpet": [
           {
            "marker": {
             "colorbar": {
              "outlinewidth": 0,
              "ticks": ""
             }
            },
            "type": "scattercarpet"
           }
          ],
          "scattergeo": [
           {
            "marker": {
             "colorbar": {
              "outlinewidth": 0,
              "ticks": ""
             }
            },
            "type": "scattergeo"
           }
          ],
          "scattergl": [
           {
            "marker": {
             "colorbar": {
              "outlinewidth": 0,
              "ticks": ""
             }
            },
            "type": "scattergl"
           }
          ],
          "scattermapbox": [
           {
            "marker": {
             "colorbar": {
              "outlinewidth": 0,
              "ticks": ""
             }
            },
            "type": "scattermapbox"
           }
          ],
          "scatterpolar": [
           {
            "marker": {
             "colorbar": {
              "outlinewidth": 0,
              "ticks": ""
             }
            },
            "type": "scatterpolar"
           }
          ],
          "scatterpolargl": [
           {
            "marker": {
             "colorbar": {
              "outlinewidth": 0,
              "ticks": ""
             }
            },
            "type": "scatterpolargl"
           }
          ],
          "scatterternary": [
           {
            "marker": {
             "colorbar": {
              "outlinewidth": 0,
              "ticks": ""
             }
            },
            "type": "scatterternary"
           }
          ],
          "surface": [
           {
            "colorbar": {
             "outlinewidth": 0,
             "ticks": ""
            },
            "colorscale": [
             [
              0,
              "#0d0887"
             ],
             [
              0.1111111111111111,
              "#46039f"
             ],
             [
              0.2222222222222222,
              "#7201a8"
             ],
             [
              0.3333333333333333,
              "#9c179e"
             ],
             [
              0.4444444444444444,
              "#bd3786"
             ],
             [
              0.5555555555555556,
              "#d8576b"
             ],
             [
              0.6666666666666666,
              "#ed7953"
             ],
             [
              0.7777777777777778,
              "#fb9f3a"
             ],
             [
              0.8888888888888888,
              "#fdca26"
             ],
             [
              1,
              "#f0f921"
             ]
            ],
            "type": "surface"
           }
          ],
          "table": [
           {
            "cells": {
             "fill": {
              "color": "#EBF0F8"
             },
             "line": {
              "color": "white"
             }
            },
            "header": {
             "fill": {
              "color": "#C8D4E3"
             },
             "line": {
              "color": "white"
             }
            },
            "type": "table"
           }
          ]
         },
         "layout": {
          "annotationdefaults": {
           "arrowcolor": "#2a3f5f",
           "arrowhead": 0,
           "arrowwidth": 1
          },
          "autotypenumbers": "strict",
          "coloraxis": {
           "colorbar": {
            "outlinewidth": 0,
            "ticks": ""
           }
          },
          "colorscale": {
           "diverging": [
            [
             0,
             "#8e0152"
            ],
            [
             0.1,
             "#c51b7d"
            ],
            [
             0.2,
             "#de77ae"
            ],
            [
             0.3,
             "#f1b6da"
            ],
            [
             0.4,
             "#fde0ef"
            ],
            [
             0.5,
             "#f7f7f7"
            ],
            [
             0.6,
             "#e6f5d0"
            ],
            [
             0.7,
             "#b8e186"
            ],
            [
             0.8,
             "#7fbc41"
            ],
            [
             0.9,
             "#4d9221"
            ],
            [
             1,
             "#276419"
            ]
           ],
           "sequential": [
            [
             0,
             "#0d0887"
            ],
            [
             0.1111111111111111,
             "#46039f"
            ],
            [
             0.2222222222222222,
             "#7201a8"
            ],
            [
             0.3333333333333333,
             "#9c179e"
            ],
            [
             0.4444444444444444,
             "#bd3786"
            ],
            [
             0.5555555555555556,
             "#d8576b"
            ],
            [
             0.6666666666666666,
             "#ed7953"
            ],
            [
             0.7777777777777778,
             "#fb9f3a"
            ],
            [
             0.8888888888888888,
             "#fdca26"
            ],
            [
             1,
             "#f0f921"
            ]
           ],
           "sequentialminus": [
            [
             0,
             "#0d0887"
            ],
            [
             0.1111111111111111,
             "#46039f"
            ],
            [
             0.2222222222222222,
             "#7201a8"
            ],
            [
             0.3333333333333333,
             "#9c179e"
            ],
            [
             0.4444444444444444,
             "#bd3786"
            ],
            [
             0.5555555555555556,
             "#d8576b"
            ],
            [
             0.6666666666666666,
             "#ed7953"
            ],
            [
             0.7777777777777778,
             "#fb9f3a"
            ],
            [
             0.8888888888888888,
             "#fdca26"
            ],
            [
             1,
             "#f0f921"
            ]
           ]
          },
          "colorway": [
           "#636efa",
           "#EF553B",
           "#00cc96",
           "#ab63fa",
           "#FFA15A",
           "#19d3f3",
           "#FF6692",
           "#B6E880",
           "#FF97FF",
           "#FECB52"
          ],
          "font": {
           "color": "#2a3f5f"
          },
          "geo": {
           "bgcolor": "white",
           "lakecolor": "white",
           "landcolor": "#E5ECF6",
           "showlakes": true,
           "showland": true,
           "subunitcolor": "white"
          },
          "hoverlabel": {
           "align": "left"
          },
          "hovermode": "closest",
          "mapbox": {
           "style": "light"
          },
          "paper_bgcolor": "white",
          "plot_bgcolor": "#E5ECF6",
          "polar": {
           "angularaxis": {
            "gridcolor": "white",
            "linecolor": "white",
            "ticks": ""
           },
           "bgcolor": "#E5ECF6",
           "radialaxis": {
            "gridcolor": "white",
            "linecolor": "white",
            "ticks": ""
           }
          },
          "scene": {
           "xaxis": {
            "backgroundcolor": "#E5ECF6",
            "gridcolor": "white",
            "gridwidth": 2,
            "linecolor": "white",
            "showbackground": true,
            "ticks": "",
            "zerolinecolor": "white"
           },
           "yaxis": {
            "backgroundcolor": "#E5ECF6",
            "gridcolor": "white",
            "gridwidth": 2,
            "linecolor": "white",
            "showbackground": true,
            "ticks": "",
            "zerolinecolor": "white"
           },
           "zaxis": {
            "backgroundcolor": "#E5ECF6",
            "gridcolor": "white",
            "gridwidth": 2,
            "linecolor": "white",
            "showbackground": true,
            "ticks": "",
            "zerolinecolor": "white"
           }
          },
          "shapedefaults": {
           "line": {
            "color": "#2a3f5f"
           }
          },
          "ternary": {
           "aaxis": {
            "gridcolor": "white",
            "linecolor": "white",
            "ticks": ""
           },
           "baxis": {
            "gridcolor": "white",
            "linecolor": "white",
            "ticks": ""
           },
           "bgcolor": "#E5ECF6",
           "caxis": {
            "gridcolor": "white",
            "linecolor": "white",
            "ticks": ""
           }
          },
          "title": {
           "x": 0.05
          },
          "xaxis": {
           "automargin": true,
           "gridcolor": "white",
           "linecolor": "white",
           "ticks": "",
           "title": {
            "standoff": 15
           },
           "zerolinecolor": "white",
           "zerolinewidth": 2
          },
          "yaxis": {
           "automargin": true,
           "gridcolor": "white",
           "linecolor": "white",
           "ticks": "",
           "title": {
            "standoff": 15
           },
           "zerolinecolor": "white",
           "zerolinewidth": 2
          }
         }
        },
        "title": {
         "text": "Results of Rolling 2 D6 1000 Times"
        },
        "xaxis": {
         "anchor": "y",
         "domain": [
          0,
          1
         ],
         "title": {
          "text": "Result"
         }
        },
        "yaxis": {
         "anchor": "x",
         "domain": [
          0,
          1
         ],
         "title": {
          "text": "Frequency of Result"
         }
        }
       }
      }
     },
     "metadata": {},
     "output_type": "display_data"
    },
    {
     "data": {
      "image/png": "[encoded data removed]",
      "text/plain": [
       "<Figure size 800x550 with 1 Axes>"
      ]
     },
     "metadata": {},
     "output_type": "display_data"
    }
   ],
   "source": [
    "# 15.6-15.10\n",
    "import plotly.express as px\n",
    "import matplotlib.pyplot as plt\n",
    "from random import seed\n",
    "seed(10)\n",
    "\n",
    "class Dies(Die):\n",
    "    \"\"\"A class representing multiple dies.\"\"\"\n",
    "\n",
    "    def __init__(self, num_dies, num_sides, operation='add'):\n",
    "        \"\"\" Assume six-sided die. \"\"\"\n",
    "        \n",
    "        super().__init__(num_sides=6)\n",
    "\n",
    "        # Adjust dice number in 15.7\n",
    "        self.num_dies = num_dies\n",
    "        # Adjust sides number in 15.6\n",
    "        self.num_sides = num_sides\n",
    "        # Adjust operation in 15.8\n",
    "        self.operation = operation\n",
    "\n",
    "        # Calculate min and max result based on operation\n",
    "        if self.operation == 'add':\n",
    "            self.min_result = num_dies\n",
    "            self.max_result = num_dies*num_sides\n",
    "        elif self.operation == 'multiply':\n",
    "            self.min_result = 1\n",
    "            self.max_result = num_sides**num_dies\n",
    "    \n",
    "    def dies(self):\n",
    "        \"\"\"Return a result for all dies in one roll.\"\"\"\n",
    "\n",
    "        if self.operation == 'add':\n",
    "            result = 0\n",
    "            for num_die in range(self.num_dies):\n",
    "                result += self.roll()\n",
    "        elif self.operation == 'multiply':\n",
    "            result = 1\n",
    "            for num_die in range(self.num_dies):\n",
    "                result *= self.roll()\n",
    "        return result\n",
    "\n",
    "    def rolls(self, num_rolls):\n",
    "        \"\"\"Return results for all dies in all rolls.\"\"\"\n",
    "\n",
    "        self.num_rolls = num_rolls\n",
    "        \"\"\"\n",
    "        results = []\n",
    "        for roll_num in range(self.num_rolls):\n",
    "            result = self.dies()\n",
    "            results.append(result)\n",
    "        \"\"\"\n",
    "        # List comprehensions in 15.9\n",
    "        results = [self.dies() for roll_num in range(self.num_rolls)]\n",
    "        return results\n",
    "\n",
    "# Roll multiple dies for multiple rolls\n",
    "dies = Dies(num_dies=2, num_sides=6)\n",
    "results = dies.rolls( num_rolls = 1000)\n",
    "\n",
    "# Analyze the results.\n",
    "poss_results = range(dies.min_result, dies.max_result+1)\n",
    "\"\"\"\n",
    "frequencies = []\n",
    "for value in poss_results:\n",
    "    frequency = results.count(value)\n",
    "    frequencies.append(frequency)\n",
    "\"\"\"\n",
    "# List comprehensions in 15.9\n",
    "frequencies = [results.count(value) for value in poss_results]\n",
    "\n",
    "# Visualize the results.\n",
    "title = f\"Results of Rolling {dies.num_dies} D{dies.num_sides} {dies.num_rolls} Times\"\n",
    "labels = {'x': 'Result', 'y': 'Frequency of Result'}\n",
    "fig = px.bar(x=poss_results, y=frequencies, title=title, labels=labels)\n",
    "\n",
    "# Further customize chart.\n",
    "#fig.update_layout(xaxis_dtick=1)\n",
    "\n",
    "fig.show()\n",
    "#fig.write_html('dice_visual.html')\n",
    "\n",
    "# 15.10 practiving_with_both_libraries.py\n",
    "\"\"\"Use Matplotlib to make a die-rolling visualization.\"\"\"\n",
    "plt.style.use('seaborn-v0_8')\n",
    "fig, ax = plt.subplots()\n",
    "ax.bar(poss_results, frequencies)\n",
    "plt.xlabel('Result')\n",
    "plt.ylabel('Frequency of Result')\n",
    "plt.title(title)\n",
    "plt.show()"
   ]
  },
  {
   "attachments": {},
   "cell_type": "markdown",
   "metadata": {},
   "source": [
    "# Chapter 16 Downloading Data\n",
    "## The CSV File Format"
   ]
  },
  {
   "cell_type": "code",
   "execution_count": null,
   "metadata": {},
   "outputs": [],
   "source": [
    "# 16.1 sitka_rainfall.py\n",
    "from pathlib import Path\n",
    "import csv\n",
    "from datetime import datetime\n",
    "\n",
    "import matplotlib.pyplot as plt\n",
    "\n",
    "\n",
    "path = Path('chapter_16/weather_data/sitka_weather_2021_full.csv')\n",
    "lines = path.read_text().splitlines()\n",
    "\n",
    "reader = csv.reader(lines)\n",
    "header_row = next(reader)\n",
    "\n",
    "# Extract dates, and high and low temperatures.\n",
    "dates, rainfalls = [], []\n",
    "for row in reader:\n",
    "    current_date = datetime.strptime(row[2], '%Y-%m-%d')\n",
    "    rainfall = float(row[5])\n",
    "    dates.append(current_date)\n",
    "    rainfalls.append(rainfall)\n",
    "\n",
    "# Plot the high and low temperatures.\n",
    "plt.style.use('seaborn-v0_8')\n",
    "fig, ax = plt.subplots()\n",
    "ax.plot(dates, rainfalls, color='red', alpha=0.5)\n",
    "\n",
    "# Format plot.\n",
    "ax.set_title(\"Daily Rainfall Amounts, 2021\", fontsize=24)\n",
    "ax.set_xlabel('', fontsize=16)\n",
    "fig.autofmt_xdate()\n",
    "ax.set_ylabel(\"Rainfall (mm)\", fontsize=16)\n",
    "ax.tick_params(labelsize=16)\n",
    "\n",
    "plt.show()"
   ]
  },
  {
   "cell_type": "code",
   "execution_count": null,
   "metadata": {},
   "outputs": [],
   "source": [
    "# 16.2 sitka-death_valley_comparison.py\n",
    "from pathlib import Path\n",
    "import csv\n",
    "from datetime import datetime\n",
    "\n",
    "import matplotlib.pyplot as plt\n",
    "\n",
    "\n",
    "path = Path('chapter_16/weather_data/death_valley_2021_simple.csv')\n",
    "lines = path.read_text().splitlines()\n",
    "\n",
    "reader = csv.reader(lines)\n",
    "header_row = next(reader)\n",
    "\n",
    "# Extract dates, and high and low temperatures.\n",
    "dates, highs, lows = [], [], []\n",
    "for row in reader:\n",
    "    current_date = datetime.strptime(row[2], '%Y-%m-%d')\n",
    "    try:\n",
    "        high = int(row[3])\n",
    "        low = int(row[4])\n",
    "    except ValueError:\n",
    "        print(f\"Missing data for {current_date}\")\n",
    "    else:\n",
    "        dates.append(current_date)\n",
    "        highs.append(high)\n",
    "        lows.append(low)\n",
    "\n",
    "# Plot the high and low temperatures.\n",
    "plt.style.use('seaborn-v0_8')\n",
    "fig, ax = plt.subplots()\n",
    "ax.plot(dates, highs, color='red', alpha=0.5)\n",
    "ax.plot(dates, lows, color='blue', alpha=0.5)\n",
    "ax.fill_between(dates, highs, lows, facecolor='blue', alpha=0.1)\n",
    "\n",
    "# Format plot.\n",
    "title = \"Daily High and Low Temperatures, 2021\\nDeath Valley, CA\"\n",
    "ax.set_title(title, fontsize=20)\n",
    "fig.autofmt_xdate()\n",
    "ax.set_ylabel(\"Temperature (F)\", fontsize=16)\n",
    "ax.tick_params(labelsize=16)\n",
    "\n",
    "# Set the range for each axis.\n",
    "ax.set_ylim([0, 140])\n",
    "\n",
    "plt.show()"
   ]
  },
  {
   "cell_type": "code",
   "execution_count": null,
   "metadata": {},
   "outputs": [],
   "source": [
    "# 16.3 san_fransisco.py\n",
    "from pathlib import Path\n",
    "import csv\n",
    "from datetime import datetime\n",
    "\n",
    "import matplotlib.pyplot as plt\n",
    "\n",
    "\n",
    "path = Path('chapter_16/weather_data/san_francisco_weather_2021_simple.csv')\n",
    "lines = path.read_text().splitlines()\n",
    "\n",
    "reader = csv.reader(lines)\n",
    "header_row = next(reader)\n",
    "\n",
    "# Extract dates, and high and low temperatures.\n",
    "dates, highs, lows = [], [], []\n",
    "for row in reader:\n",
    "    current_date = datetime.strptime(row[2], '%Y-%m-%d')\n",
    "    try:\n",
    "        high = int(row[4])\n",
    "        low = int(row[5])\n",
    "    except ValueError:\n",
    "        print(f\"Missing data for {current_date}\")\n",
    "    else:\n",
    "        dates.append(current_date)\n",
    "        highs.append(high)\n",
    "        lows.append(low)\n",
    "\n",
    "# Plot the high and low temperatures.\n",
    "plt.style.use('seaborn-v0_8')\n",
    "fig, ax = plt.subplots()\n",
    "ax.plot(dates, highs, color='red', alpha=0.5)\n",
    "ax.plot(dates, lows, color='blue', alpha=0.5)\n",
    "ax.fill_between(dates, highs, lows, facecolor='blue', alpha=0.1)\n",
    "\n",
    "# Format plot.\n",
    "title = \"Daily High and Low Temperatures, 2021\\nSan Francisco, CA\"\n",
    "ax.set_title(title, fontsize=20)\n",
    "fig.autofmt_xdate()\n",
    "ax.set_ylabel(\"Temperature (F)\", fontsize=16)\n",
    "ax.tick_params(labelsize=16)\n",
    "\n",
    "# Set the range for each axis.\n",
    "ax.set_ylim([0, 140])\n",
    "\n",
    "plt.show()"
   ]
  },
  {
   "cell_type": "code",
   "execution_count": null,
   "metadata": {},
   "outputs": [],
   "source": [
    "# 16.4 automatic_indexes.py\n",
    "from pathlib import Path\n",
    "import csv\n",
    "from datetime import datetime\n",
    "\n",
    "import matplotlib.pyplot as plt\n",
    "\n",
    "def auto_graph(path):\n",
    "    lines = path.read_text().splitlines()\n",
    "\n",
    "    reader = csv.reader(lines)\n",
    "    header_row = next(reader)\n",
    "\n",
    "    for index, column_header in enumerate(header_row):\n",
    "        if column_header == 'TMAX':\n",
    "            high_index = index\n",
    "        if column_header == 'TMIN':\n",
    "            low_index = index\n",
    "\n",
    "    first_row = next(reader)\n",
    "    [name, location] = first_row[1].split(',')\n",
    "    station_name = f\"{name.title()}, {location}\"\n",
    "\n",
    "    # Extract dates, and high and low temperatures.\n",
    "    dates, highs, lows = [], [], []\n",
    "    for row in reader:\n",
    "        current_date = datetime.strptime(row[2], '%Y-%m-%d')\n",
    "        try:\n",
    "            high = int(row[high_index])\n",
    "            low = int(row[low_index])\n",
    "        except ValueError:\n",
    "            print(f\"Missing data for {current_date}\")\n",
    "        else:\n",
    "            dates.append(current_date)\n",
    "            highs.append(high)\n",
    "            lows.append(low)\n",
    "\n",
    "    # Plot the high and low temperatures.\n",
    "    plt.style.use('seaborn-v0_8')\n",
    "    fig, ax = plt.subplots()\n",
    "    ax.plot(dates, highs, color='red', alpha=0.5)\n",
    "    ax.plot(dates, lows, color='blue', alpha=0.5)\n",
    "    ax.fill_between(dates, highs, lows, facecolor='blue', alpha=0.1)\n",
    "\n",
    "    # Format plot.\n",
    "    ax.set_title(f\"Daily High and Low Temperatures, 2021\\n{station_name}\", fontsize=24)\n",
    "    ax.set_xlabel('', fontsize=16)\n",
    "    fig.autofmt_xdate()\n",
    "    ax.set_ylabel(\"Temperature (F)\", fontsize=16)\n",
    "    ax.tick_params(labelsize=16)\n",
    "\n",
    "    # Set the range for each axis.\n",
    "    ax.set_ylim([0, 140])\n",
    "\n",
    "    plt.show()\n",
    "\n",
    "path_sitka = Path('chapter_16/weather_data/sitka_weather_2021_simple.csv')\n",
    "path_death_valley = Path('chapter_16/weather_data/death_valley_2021_simple.csv')\n",
    "auto_graph(path_sitka)\n",
    "auto_graph(path_death_valley)"
   ]
  },
  {
   "cell_type": "code",
   "execution_count": null,
   "metadata": {},
   "outputs": [],
   "source": [
    "# 16.5 explore.py\n",
    "from pathlib import Path\n",
    "import csv\n",
    "from datetime import datetime\n",
    "\n",
    "import matplotlib.pyplot as plt\n",
    "\n",
    "def find_index(header_row, headers):\n",
    "    \"\"\"Return a dictionary where the key is the header and \n",
    "     the value is the index of the header in header row.\"\"\"\n",
    "    \n",
    "    header_index = {}\n",
    "    for index, column_header in enumerate(header_row):\n",
    "        if column_header in headers:\n",
    "            header_index[column_header] = index\n",
    "    return header_index\n",
    "\n",
    "def extract_value(reader, header_index):\n",
    "    \"\"\"Extract the value of the headers in the reader.\n",
    "    Return a dictionary where the key is the header and the value is the data\"\"\"\n",
    "\n",
    "    data = {}\n",
    "    data['valid'], data['speed'] = [], []\n",
    "\n",
    "    for row in reader:\n",
    "        current_time = datetime.strptime(row[1], '%m/%d/%Y %I:%M:%S %p')\n",
    "        try:\n",
    "            current_data = float(row[2])\n",
    "        except ValueError:\n",
    "            continue\n",
    "        else:\n",
    "            data['valid'].append(current_time)\n",
    "            data['speed'].append(current_data)\n",
    "\n",
    "    return data\n",
    "\n",
    "def plot_data(data):\n",
    "    \"\"\"Plot the values in the data dictionary.\"\"\"\n",
    "\n",
    "    plt.style.use('seaborn-v0_8')\n",
    "    fig, ax = plt.subplots()\n",
    "    for header, value in data.items():\n",
    "        if header != 'valid':\n",
    "            ax.plot(data['valid'], value, color='blue', alpha=0.5)\n",
    "\n",
    "    # Format plot.\n",
    "    ax.set_title(f\"Daily Wind Speed in FYV\", fontsize=24)\n",
    "    ax.set_xlabel('', fontsize=16)\n",
    "    fig.autofmt_xdate()\n",
    "    ax.set_ylabel(\"Speed (m/s)\", fontsize=16)\n",
    "    ax.tick_params(labelsize=16)\n",
    "\n",
    "    plt.show()\n",
    "\n",
    "\n",
    "def auto_graph(path, headers=['valid', 'speed']):\n",
    "    \"\"\"Automaticly plot the graph of selected headers of given csv path.\n",
    "    path is an instance of Path class, headers is a list.\"\"\"\n",
    "\n",
    "    lines = path.read_text().splitlines()\n",
    "\n",
    "    reader = csv.reader(lines)\n",
    "    header_row = next(reader)\n",
    "\n",
    "    header_index = find_index(header_row, headers)\n",
    "    data = extract_value(reader, header_index)\n",
    "    plot_data(data)\n",
    "\n",
    "path_fyv = Path('chapter_16/weather_data/FYV.csv')\n",
    "auto_graph(path_fyv)"
   ]
  },
  {
   "attachments": {},
   "cell_type": "markdown",
   "metadata": {},
   "source": [
    "## Mapping Global Datasets: GeoJSON Format"
   ]
  },
  {
   "cell_type": "code",
   "execution_count": null,
   "metadata": {},
   "outputs": [],
   "source": [
    "from pathlib import Path\n",
    "import json\n",
    "\n",
    "\n",
    "# Read data as a string and convert to a Python object.\n",
    "path = Path('chapter_16/eq_data/eq_data_1_day_m1.geojson')\n",
    "contents = path.read_text()\n",
    "all_eq_data = json.loads(contents)\n",
    "\n",
    "# Examine all earthquakes in the dataset.\n",
    "all_eq_dicts = all_eq_data['features']\n",
    "\n",
    "mags, lons, lats = [], [], []\n",
    "for eq_dict in all_eq_dicts:\n",
    "    mag = eq_dict['properties']['mag']\n",
    "    lon = eq_dict['geometry']['coordinates'][0]\n",
    "    lat = eq_dict['geometry']['coordinates'][1]\n",
    "    mags.append(mag)\n",
    "    lons.append(lon)\n",
    "    lats.append(lat)\n",
    "\n",
    "print(mags[:10])\n",
    "print(lons[:5])\n",
    "print(lats[:5])"
   ]
  },
  {
   "cell_type": "code",
   "execution_count": null,
   "metadata": {},
   "outputs": [],
   "source": [
    "from pathlib import Path\n",
    "import json\n",
    "\n",
    "import plotly.express as px\n",
    "\n",
    "\n",
    "# Read data as a string and convert to a Python object.\n",
    "path = Path('chapter_16/eq_data/eq_data_30_day_m1.geojson')\n",
    "contents = path.read_text()\n",
    "all_eq_data = json.loads(contents)\n",
    "\n",
    "# Examine all earthquakes in the dataset.\n",
    "all_eq_dicts = all_eq_data['features']\n",
    "\n",
    "mags, lons, lats, eq_titles = [], [], [], []\n",
    "for eq_dict in all_eq_dicts:\n",
    "    mag = eq_dict['properties']['mag']\n",
    "    lon = eq_dict['geometry']['coordinates'][0]\n",
    "    lat = eq_dict['geometry']['coordinates'][1]\n",
    "    eq_title = eq_dict['properties']['title']\n",
    "    mags.append(mag)\n",
    "    lons.append(lon)\n",
    "    lats.append(lat)\n",
    "    eq_titles.append(eq_title)\n",
    "\n",
    "title = 'Global Earthquakes'\n",
    "fig = px.scatter_geo(lat=lats, lon=lons, size=mags, title=title,\n",
    "        color=mags,\n",
    "        color_continuous_scale='blackbody',\n",
    "        labels={'color':'Magnitude'},\n",
    "        projection='natural earth',\n",
    "        hover_name=eq_titles,\n",
    "    )\n",
    "fig.show()"
   ]
  },
  {
   "cell_type": "code",
   "execution_count": null,
   "metadata": {},
   "outputs": [],
   "source": [
    "# 16.6-16.7\n",
    "from pathlib import Path\n",
    "import json\n",
    "\n",
    "import plotly.express as px\n",
    "\n",
    "\n",
    "# Read data as a string and convert to a Python object.\n",
    "path = Path('chapter_16/eq_data/eq_data_30_day_m1.geojson')\n",
    "contents = path.read_text()\n",
    "all_eq_data = json.loads(contents)\n",
    "\n",
    "# Examine all earthquakes in the dataset.\n",
    "all_eq_dicts = all_eq_data['features']\n",
    "\n",
    "#  16.6 Pull data from eq_dict by refactoring.\n",
    "mags = [eq_dict['properties']['mag'] for eq_dict in all_eq_dicts]\n",
    "lons = [eq_dict['geometry']['coordinates'][0] for eq_dict in all_eq_dicts]\n",
    "lats = [eq_dict['geometry']['coordinates'][1] for eq_dict in all_eq_dicts]\n",
    "eq_titles = [eq_dict['properties']['title'] for eq_dict in all_eq_dicts]\n",
    "\n",
    "# 16.7 Automated title from the metadata part\n",
    "title = all_eq_data['metadata']['title']\n",
    "fig = px.scatter_geo(lat=lats, lon=lons, size=mags, title=title,\n",
    "        color=mags,\n",
    "        color_continuous_scale='blackbody',\n",
    "        labels={'color':'Magnitude'},\n",
    "        projection='natural earth',\n",
    "        hover_name=eq_titles,\n",
    "    )\n",
    "fig.show()"
   ]
  },
  {
   "cell_type": "code",
   "execution_count": null,
   "metadata": {},
   "outputs": [],
   "source": [
    "# 16.8 recent_earthquakes.py\n",
    "from pathlib import Path\n",
    "import json\n",
    "\n",
    "import plotly.express as px\n",
    "\n",
    "\n",
    "# Read data as a string and convert to a Python object.\n",
    "path = Path('chapter_16/eq_data/eq_data_30_day_m4.5.geojson')\n",
    "contents = path.read_text()\n",
    "all_eq_data = json.loads(contents)\n",
    "\n",
    "# Create a more readable version of the data file.\n",
    "path = Path('chapter_16/eq_data/readable_eq_data.geojson')\n",
    "readable_contents = json.dumps(all_eq_data, indent=4)\n",
    "path.write_text(readable_contents)\n",
    "\n",
    "# Examine all earthquakes in the dataset.\n",
    "all_eq_dicts = all_eq_data['features']\n",
    "\n",
    "# Pull data from eq_dict by refactoring.\n",
    "mags = [eq_dict['properties']['mag'] for eq_dict in all_eq_dicts]\n",
    "lons = [eq_dict['geometry']['coordinates'][0] for eq_dict in all_eq_dicts]\n",
    "lats = [eq_dict['geometry']['coordinates'][1] for eq_dict in all_eq_dicts]\n",
    "eq_titles = [eq_dict['properties']['title'] for eq_dict in all_eq_dicts]\n",
    "\n",
    "# Automated title from the metadata part\n",
    "title = all_eq_data['metadata']['title']\n",
    "fig = px.scatter_geo(lat=lats, lon=lons, size=mags, title=title,\n",
    "        color=mags,\n",
    "        color_continuous_scale='oranges',\n",
    "        labels={'color':'Magnitude'},\n",
    "        projection='natural earth',\n",
    "        hover_name=eq_titles,\n",
    "    )\n",
    "fig.show()"
   ]
  },
  {
   "cell_type": "code",
   "execution_count": 31,
   "metadata": {},
   "outputs": [
    {
     "data": {
      "application/vnd.plotly.v1+json": {
       "config": {
        "plotlyServerURL": "https://plot.ly"
       },
       "data": [
        {
         "customdata": [
          [
           "2022-04-03",
           "00:50:00"
          ],
          [
           "2022-04-03",
           "00:50:00"
          ],
          [
           "2022-04-03",
           "00:50:00"
          ],
          [
           "2022-04-03",
           "00:50:00"
          ],
          [
           "2022-04-03",
           "00:50:00"
          ],
          [
           "2022-04-03",
           "00:50:00"
          ],
          [
           "2022-04-03",
           "00:50:00"
          ],
          [
           "2022-04-03",
           "00:50:00"
          ],
          [
           "2022-04-03",
           "00:50:00"
          ],
          [
           "2022-04-03",
           "00:50:00"
          ],
          [
           "2022-04-03",
           "00:50:00"
          ],
          [
           "2022-04-03",
           "00:50:00"
          ],
          [
           "2022-04-03",
           "00:50:00"
          ],
          [
           "2022-04-03",
           "00:50:00"
          ],
          [
           "2022-04-03",
           "00:50:00"
          ],
          [
           "2022-04-03",
           "00:50:00"
          ],
          [
           "2022-04-03",
           "00:50:00"
          ],
          [
           "2022-04-03",
           "00:50:00"
          ],
          [
           "2022-04-03",
           "00:50:00"
          ],
          [
           "2022-04-03",
           "00:50:00"
          ],
          [
           "2022-04-03",
           "00:50:00"
          ],
          [
           "2022-04-03",
           "00:50:00"
          ],
          [
           "2022-04-03",
           "00:50:00"
          ],
          [
           "2022-04-03",
           "00:50:00"
          ],
          [
           "2022-04-03",
           "00:50:00"
          ],
          [
           "2022-04-03",
           "00:50:00"
          ],
          [
           "2022-04-03",
           "00:50:00"
          ],
          [
           "2022-04-03",
           "00:50:00"
          ],
          [
           "2022-04-03",
           "00:50:00"
          ],
          [
           "2022-04-03",
           "00:50:00"
          ],
          [
           "2022-04-03",
           "00:50:00"
          ],
          [
           "2022-04-03",
           "00:50:00"
          ],
          [
           "2022-04-03",
           "00:50:00"
          ],
          [
           "2022-04-03",
           "00:50:00"
          ],
          [
           "2022-04-03",
           "00:50:00"
          ],
          [
           "2022-04-03",
           "00:50:00"
          ],
          [
           "2022-04-03",
           "00:50:00"
          ],
          [
           "2022-04-03",
           "00:50:00"
          ],
          [
           "2022-04-03",
           "00:50:00"
          ],
          [
           "2022-04-03",
           "00:50:00"
          ],
          [
           "2022-04-03",
           "00:50:00"
          ],
          [
           "2022-04-03",
           "00:50:00"
          ],
          [
           "2022-04-03",
           "00:50:00"
          ],
          [
           "2022-04-03",
           "00:50:00"
          ],
          [
           "2022-04-03",
           "00:50:00"
          ],
          [
           "2022-04-03",
           "00:50:00"
          ],
          [
           "2022-04-03",
           "00:52:00"
          ],
          [
           "2022-04-03",
           "00:52:00"
          ],
          [
           "2022-04-03",
           "00:52:00"
          ],
          [
           "2022-04-03",
           "00:52:00"
          ],
          [
           "2022-04-03",
           "00:52:00"
          ],
          [
           "2022-04-03",
           "00:52:00"
          ],
          [
           "2022-04-03",
           "00:52:00"
          ],
          [
           "2022-04-03",
           "00:54:00"
          ],
          [
           "2022-04-03",
           "00:54:00"
          ],
          [
           "2022-04-03",
           "00:54:00"
          ],
          [
           "2022-04-03",
           "00:54:00"
          ],
          [
           "2022-04-03",
           "00:54:00"
          ],
          [
           "2022-04-03",
           "00:54:00"
          ],
          [
           "2022-04-03",
           "00:54:00"
          ],
          [
           "2022-04-03",
           "00:54:00"
          ],
          [
           "2022-04-03",
           "01:30:00"
          ],
          [
           "2022-04-03",
           "01:30:00"
          ],
          [
           "2022-04-03",
           "01:30:00"
          ],
          [
           "2022-04-03",
           "01:30:00"
          ],
          [
           "2022-04-03",
           "01:28:00"
          ],
          [
           "2022-04-03",
           "01:28:00"
          ],
          [
           "2022-04-03",
           "01:28:00"
          ],
          [
           "2022-04-03",
           "01:28:00"
          ],
          [
           "2022-04-03",
           "02:15:00"
          ],
          [
           "2022-04-03",
           "02:19:00"
          ],
          [
           "2022-04-03",
           "02:21:00"
          ],
          [
           "2022-04-03",
           "02:21:00"
          ],
          [
           "2022-04-03",
           "02:24:00"
          ],
          [
           "2022-04-03",
           "02:24:00"
          ],
          [
           "2022-04-03",
           "02:09:00"
          ],
          [
           "2022-04-03",
           "02:09:00"
          ],
          [
           "2022-04-03",
           "02:09:00"
          ],
          [
           "2022-04-03",
           "02:09:00"
          ],
          [
           "2022-04-03",
           "02:09:00"
          ],
          [
           "2022-04-03",
           "02:09:00"
          ],
          [
           "2022-04-03",
           "02:09:00"
          ],
          [
           "2022-04-03",
           "02:09:00"
          ],
          [
           "2022-04-03",
           "02:09:00"
          ],
          [
           "2022-04-03",
           "02:09:00"
          ],
          [
           "2022-04-03",
           "02:09:00"
          ],
          [
           "2022-04-03",
           "02:09:00"
          ],
          [
           "2022-04-03",
           "02:09:00"
          ],
          [
           "2022-04-03",
           "02:09:00"
          ],
          [
           "2022-04-03",
           "02:09:00"
          ],
          [
           "2022-04-03",
           "02:09:00"
          ],
          [
           "2022-04-03",
           "02:09:00"
          ],
          [
           "2022-04-03",
           "02:09:00"
          ],
          [
           "2022-04-03",
           "02:09:00"
          ],
          [
           "2022-04-03",
           "02:09:00"
          ],
          [
           "2022-04-03",
           "02:09:00"
          ],
          [
           "2022-04-03",
           "02:09:00"
          ],
          [
           "2022-04-03",
           "02:09:00"
          ],
          [
           "2022-04-03",
           "02:09:00"
          ],
          [
           "2022-04-03",
           "02:09:00"
          ],
          [
           "2022-04-03",
           "02:09:00"
          ],
          [
           "2022-04-03",
           "02:09:00"
          ],
          [
           "2022-04-03",
           "02:09:00"
          ],
          [
           "2022-04-03",
           "02:09:00"
          ],
          [
           "2022-04-03",
           "02:09:00"
          ],
          [
           "2022-04-03",
           "02:09:00"
          ],
          [
           "2022-04-03",
           "02:09:00"
          ],
          [
           "2022-04-03",
           "02:09:00"
          ],
          [
           "2022-04-03",
           "02:09:00"
          ],
          [
           "2022-04-03",
           "02:09:00"
          ],
          [
           "2022-04-03",
           "02:09:00"
          ],
          [
           "2022-04-03",
           "02:09:00"
          ],
          [
           "2022-04-03",
           "02:09:00"
          ],
          [
           "2022-04-03",
           "02:09:00"
          ],
          [
           "2022-04-03",
           "02:09:00"
          ],
          [
           "2022-04-03",
           "02:09:00"
          ],
          [
           "2022-04-03",
           "02:09:00"
          ],
          [
           "2022-04-03",
           "02:09:00"
          ],
          [
           "2022-04-03",
           "02:09:00"
          ],
          [
           "2022-04-03",
           "02:09:00"
          ],
          [
           "2022-04-03",
           "02:09:00"
          ],
          [
           "2022-04-03",
           "02:09:00"
          ],
          [
           "2022-04-03",
           "02:09:00"
          ],
          [
           "2022-04-03",
           "02:09:00"
          ],
          [
           "2022-04-03",
           "02:09:00"
          ],
          [
           "2022-04-03",
           "02:09:00"
          ],
          [
           "2022-04-03",
           "02:09:00"
          ],
          [
           "2022-04-03",
           "02:09:00"
          ],
          [
           "2022-04-03",
           "02:09:00"
          ],
          [
           "2022-04-03",
           "02:09:00"
          ],
          [
           "2022-04-03",
           "02:09:00"
          ],
          [
           "2022-04-03",
           "02:09:00"
          ],
          [
           "2022-04-03",
           "02:09:00"
          ],
          [
           "2022-04-03",
           "02:09:00"
          ],
          [
           "2022-04-03",
           "02:09:00"
          ],
          [
           "2022-04-03",
           "02:09:00"
          ],
          [
           "2022-04-03",
           "02:09:00"
          ],
          [
           "2022-04-03",
           "02:09:00"
          ],
          [
           "2022-04-03",
           "02:09:00"
          ],
          [
           "2022-04-03",
           "02:09:00"
          ],
          [
           "2022-04-03",
           "02:09:00"
          ],
          [
           "2022-04-03",
           "02:09:00"
          ],
          [
           "2022-04-03",
           "02:09:00"
          ],
          [
           "2022-04-03",
           "02:09:00"
          ],
          [
           "2022-04-03",
           "02:09:00"
          ],
          [
           "2022-04-03",
           "02:09:00"
          ],
          [
           "2022-04-03",
           "02:09:00"
          ],
          [
           "2022-04-03",
           "02:09:00"
          ],
          [
           "2022-04-03",
           "02:09:00"
          ],
          [
           "2022-04-03",
           "02:09:00"
          ],
          [
           "2022-04-03",
           "02:09:00"
          ],
          [
           "2022-04-03",
           "02:09:00"
          ],
          [
           "2022-04-03",
           "02:09:00"
          ],
          [
           "2022-04-03",
           "02:09:00"
          ],
          [
           "2022-04-03",
           "02:11:00"
          ],
          [
           "2022-04-03",
           "02:11:00"
          ],
          [
           "2022-04-03",
           "02:11:00"
          ],
          [
           "2022-04-03",
           "02:11:00"
          ],
          [
           "2022-04-03",
           "02:11:00"
          ],
          [
           "2022-04-03",
           "02:11:00"
          ],
          [
           "2022-04-03",
           "02:11:00"
          ],
          [
           "2022-04-03",
           "02:11:00"
          ],
          [
           "2022-04-03",
           "02:11:00"
          ],
          [
           "2022-04-03",
           "02:11:00"
          ],
          [
           "2022-04-03",
           "02:11:00"
          ],
          [
           "2022-04-03",
           "02:11:00"
          ],
          [
           "2022-04-03",
           "02:11:00"
          ],
          [
           "2022-04-03",
           "02:11:00"
          ],
          [
           "2022-04-03",
           "02:11:00"
          ],
          [
           "2022-04-03",
           "02:11:00"
          ],
          [
           "2022-04-03",
           "02:11:00"
          ],
          [
           "2022-04-03",
           "02:11:00"
          ],
          [
           "2022-04-03",
           "02:11:00"
          ],
          [
           "2022-04-03",
           "02:11:00"
          ],
          [
           "2022-04-03",
           "02:11:00"
          ],
          [
           "2022-04-03",
           "02:11:00"
          ],
          [
           "2022-04-03",
           "02:11:00"
          ],
          [
           "2022-04-03",
           "02:11:00"
          ],
          [
           "2022-04-03",
           "02:11:00"
          ],
          [
           "2022-04-03",
           "02:11:00"
          ],
          [
           "2022-04-03",
           "02:11:00"
          ],
          [
           "2022-04-03",
           "02:11:00"
          ],
          [
           "2022-04-03",
           "02:11:00"
          ],
          [
           "2022-04-03",
           "02:11:00"
          ],
          [
           "2022-04-03",
           "02:11:00"
          ],
          [
           "2022-04-03",
           "02:11:00"
          ],
          [
           "2022-04-03",
           "02:11:00"
          ],
          [
           "2022-04-03",
           "02:11:00"
          ],
          [
           "2022-04-03",
           "02:11:00"
          ],
          [
           "2022-04-03",
           "02:11:00"
          ],
          [
           "2022-04-03",
           "02:11:00"
          ],
          [
           "2022-04-03",
           "02:11:00"
          ],
          [
           "2022-04-03",
           "02:11:00"
          ],
          [
           "2022-04-03",
           "02:11:00"
          ],
          [
           "2022-04-03",
           "02:11:00"
          ],
          [
           "2022-04-03",
           "02:11:00"
          ],
          [
           "2022-04-03",
           "02:11:00"
          ],
          [
           "2022-04-03",
           "02:11:00"
          ],
          [
           "2022-04-03",
           "02:11:00"
          ],
          [
           "2022-04-03",
           "02:11:00"
          ],
          [
           "2022-04-03",
           "02:11:00"
          ],
          [
           "2022-04-03",
           "02:11:00"
          ],
          [
           "2022-04-03",
           "02:11:00"
          ],
          [
           "2022-04-03",
           "02:11:00"
          ],
          [
           "2022-04-03",
           "02:11:00"
          ],
          [
           "2022-04-03",
           "02:11:00"
          ],
          [
           "2022-04-03",
           "02:11:00"
          ],
          [
           "2022-04-03",
           "02:11:00"
          ],
          [
           "2022-04-03",
           "02:11:00"
          ],
          [
           "2022-04-03",
           "02:11:00"
          ],
          [
           "2022-04-03",
           "02:11:00"
          ],
          [
           "2022-04-03",
           "02:11:00"
          ],
          [
           "2022-04-03",
           "02:11:00"
          ],
          [
           "2022-04-03",
           "02:11:00"
          ],
          [
           "2022-04-03",
           "02:11:00"
          ],
          [
           "2022-04-03",
           "02:11:00"
          ],
          [
           "2022-04-03",
           "02:11:00"
          ],
          [
           "2022-04-03",
           "02:11:00"
          ],
          [
           "2022-04-03",
           "02:11:00"
          ],
          [
           "2022-04-03",
           "02:11:00"
          ],
          [
           "2022-04-03",
           "02:11:00"
          ],
          [
           "2022-04-03",
           "02:11:00"
          ],
          [
           "2022-04-03",
           "02:11:00"
          ],
          [
           "2022-04-03",
           "02:11:00"
          ],
          [
           "2022-04-03",
           "02:11:00"
          ],
          [
           "2022-04-03",
           "02:11:00"
          ],
          [
           "2022-04-03",
           "02:11:00"
          ],
          [
           "2022-04-03",
           "02:11:00"
          ],
          [
           "2022-04-03",
           "02:11:00"
          ],
          [
           "2022-04-03",
           "02:11:00"
          ],
          [
           "2022-04-03",
           "02:11:00"
          ],
          [
           "2022-04-03",
           "02:11:00"
          ],
          [
           "2022-04-03",
           "02:11:00"
          ],
          [
           "2022-04-03",
           "02:11:00"
          ],
          [
           "2022-04-03",
           "02:11:00"
          ],
          [
           "2022-04-03",
           "02:11:00"
          ],
          [
           "2022-04-03",
           "02:11:00"
          ],
          [
           "2022-04-03",
           "02:11:00"
          ],
          [
           "2022-04-03",
           "02:11:00"
          ],
          [
           "2022-04-03",
           "02:11:00"
          ],
          [
           "2022-04-03",
           "02:11:00"
          ],
          [
           "2022-04-03",
           "02:11:00"
          ],
          [
           "2022-04-03",
           "02:11:00"
          ],
          [
           "2022-04-03",
           "02:11:00"
          ],
          [
           "2022-04-03",
           "02:11:00"
          ],
          [
           "2022-04-03",
           "02:11:00"
          ],
          [
           "2022-04-03",
           "02:11:00"
          ],
          [
           "2022-04-03",
           "02:11:00"
          ],
          [
           "2022-04-03",
           "02:11:00"
          ],
          [
           "2022-04-03",
           "02:11:00"
          ],
          [
           "2022-04-03",
           "02:11:00"
          ],
          [
           "2022-04-03",
           "02:11:00"
          ],
          [
           "2022-04-03",
           "02:11:00"
          ],
          [
           "2022-04-03",
           "02:11:00"
          ],
          [
           "2022-04-03",
           "02:11:00"
          ],
          [
           "2022-04-03",
           "02:11:00"
          ],
          [
           "2022-04-03",
           "02:11:00"
          ],
          [
           "2022-04-03",
           "02:11:00"
          ],
          [
           "2022-04-03",
           "02:11:00"
          ],
          [
           "2022-04-03",
           "02:11:00"
          ],
          [
           "2022-04-03",
           "02:11:00"
          ],
          [
           "2022-04-03",
           "02:11:00"
          ],
          [
           "2022-04-03",
           "02:11:00"
          ],
          [
           "2022-04-03",
           "02:11:00"
          ],
          [
           "2022-04-03",
           "02:11:00"
          ],
          [
           "2022-04-03",
           "02:11:00"
          ],
          [
           "2022-04-03",
           "02:11:00"
          ],
          [
           "2022-04-03",
           "02:11:00"
          ],
          [
           "2022-04-03",
           "02:11:00"
          ],
          [
           "2022-04-03",
           "02:11:00"
          ],
          [
           "2022-04-03",
           "02:11:00"
          ],
          [
           "2022-04-03",
           "02:11:00"
          ],
          [
           "2022-04-03",
           "02:11:00"
          ],
          [
           "2022-04-03",
           "02:11:00"
          ],
          [
           "2022-04-03",
           "02:11:00"
          ],
          [
           "2022-04-03",
           "02:11:00"
          ],
          [
           "2022-04-03",
           "02:11:00"
          ],
          [
           "2022-04-03",
           "02:11:00"
          ],
          [
           "2022-04-03",
           "02:11:00"
          ],
          [
           "2022-04-03",
           "02:11:00"
          ],
          [
           "2022-04-03",
           "02:11:00"
          ],
          [
           "2022-04-03",
           "02:11:00"
          ],
          [
           "2022-04-03",
           "02:11:00"
          ],
          [
           "2022-04-03",
           "02:11:00"
          ],
          [
           "2022-04-03",
           "02:11:00"
          ],
          [
           "2022-04-03",
           "02:11:00"
          ],
          [
           "2022-04-03",
           "02:11:00"
          ],
          [
           "2022-04-03",
           "02:11:00"
          ],
          [
           "2022-04-03",
           "02:11:00"
          ],
          [
           "2022-04-03",
           "02:11:00"
          ],
          [
           "2022-04-03",
           "02:13:00"
          ],
          [
           "2022-04-03",
           "02:13:00"
          ],
          [
           "2022-04-03",
           "02:13:00"
          ],
          [
           "2022-04-03",
           "02:13:00"
          ],
          [
           "2022-04-03",
           "02:13:00"
          ],
          [
           "2022-04-03",
           "02:13:00"
          ],
          [
           "2022-04-03",
           "02:13:00"
          ],
          [
           "2022-04-03",
           "02:13:00"
          ],
          [
           "2022-04-03",
           "02:13:00"
          ],
          [
           "2022-04-03",
           "02:13:00"
          ],
          [
           "2022-04-03",
           "02:13:00"
          ],
          [
           "2022-04-03",
           "02:13:00"
          ],
          [
           "2022-04-03",
           "02:13:00"
          ],
          [
           "2022-04-03",
           "02:13:00"
          ],
          [
           "2022-04-03",
           "02:13:00"
          ],
          [
           "2022-04-03",
           "02:13:00"
          ],
          [
           "2022-04-03",
           "02:13:00"
          ],
          [
           "2022-04-03",
           "02:24:00"
          ],
          [
           "2022-04-03",
           "02:24:00"
          ],
          [
           "2022-04-03",
           "02:26:00"
          ],
          [
           "2022-04-03",
           "02:26:00"
          ],
          [
           "2022-04-03",
           "02:26:00"
          ],
          [
           "2022-04-03",
           "02:26:00"
          ],
          [
           "2022-04-03",
           "02:26:00"
          ],
          [
           "2022-04-03",
           "02:26:00"
          ],
          [
           "2022-04-03",
           "02:26:00"
          ],
          [
           "2022-04-03",
           "02:26:00"
          ],
          [
           "2022-04-03",
           "02:26:00"
          ],
          [
           "2022-04-03",
           "02:26:00"
          ],
          [
           "2022-04-03",
           "02:28:00"
          ],
          [
           "2022-04-03",
           "02:28:00"
          ],
          [
           "2022-04-03",
           "02:28:00"
          ],
          [
           "2022-04-03",
           "02:28:00"
          ],
          [
           "2022-04-03",
           "02:28:00"
          ],
          [
           "2022-04-03",
           "02:28:00"
          ],
          [
           "2022-04-03",
           "03:04:00"
          ],
          [
           "2022-04-03",
           "03:49:00"
          ],
          [
           "2022-04-03",
           "03:49:00"
          ],
          [
           "2022-04-03",
           "03:51:00"
          ],
          [
           "2022-04-03",
           "03:51:00"
          ],
          [
           "2022-04-03",
           "03:51:00"
          ],
          [
           "2022-04-03",
           "03:51:00"
          ],
          [
           "2022-04-03",
           "03:51:00"
          ],
          [
           "2022-04-03",
           "03:51:00"
          ],
          [
           "2022-04-03",
           "03:51:00"
          ],
          [
           "2022-04-03",
           "03:51:00"
          ],
          [
           "2022-04-03",
           "03:51:00"
          ],
          [
           "2022-04-03",
           "03:51:00"
          ],
          [
           "2022-04-03",
           "03:51:00"
          ],
          [
           "2022-04-03",
           "03:51:00"
          ],
          [
           "2022-04-03",
           "03:51:00"
          ],
          [
           "2022-04-03",
           "03:51:00"
          ],
          [
           "2022-04-03",
           "03:51:00"
          ],
          [
           "2022-04-03",
           "03:51:00"
          ],
          [
           "2022-04-03",
           "03:51:00"
          ],
          [
           "2022-04-03",
           "03:51:00"
          ],
          [
           "2022-04-03",
           "03:51:00"
          ],
          [
           "2022-04-03",
           "03:51:00"
          ],
          [
           "2022-04-03",
           "03:51:00"
          ],
          [
           "2022-04-03",
           "03:51:00"
          ],
          [
           "2022-04-03",
           "03:51:00"
          ],
          [
           "2022-04-03",
           "03:51:00"
          ],
          [
           "2022-04-03",
           "03:53:00"
          ],
          [
           "2022-04-03",
           "03:53:00"
          ],
          [
           "2022-04-03",
           "03:53:00"
          ],
          [
           "2022-04-03",
           "03:53:00"
          ],
          [
           "2022-04-03",
           "03:53:00"
          ],
          [
           "2022-04-03",
           "03:53:00"
          ],
          [
           "2022-04-03",
           "03:53:00"
          ],
          [
           "2022-04-03",
           "03:53:00"
          ],
          [
           "2022-04-03",
           "03:53:00"
          ],
          [
           "2022-04-03",
           "03:53:00"
          ],
          [
           "2022-04-03",
           "03:53:00"
          ],
          [
           "2022-04-03",
           "03:47:00"
          ],
          [
           "2022-04-03",
           "03:47:00"
          ],
          [
           "2022-04-03",
           "03:47:00"
          ],
          [
           "2022-04-03",
           "03:47:00"
          ],
          [
           "2022-04-03",
           "03:47:00"
          ],
          [
           "2022-04-03",
           "03:47:00"
          ],
          [
           "2022-04-03",
           "03:47:00"
          ],
          [
           "2022-04-03",
           "03:47:00"
          ],
          [
           "2022-04-03",
           "03:49:00"
          ],
          [
           "2022-04-03",
           "03:49:00"
          ],
          [
           "2022-04-03",
           "03:49:00"
          ],
          [
           "2022-04-03",
           "03:49:00"
          ],
          [
           "2022-04-03",
           "04:02:00"
          ],
          [
           "2022-04-03",
           "04:02:00"
          ],
          [
           "2022-04-03",
           "04:02:00"
          ],
          [
           "2022-04-03",
           "03:55:00"
          ],
          [
           "2022-04-03",
           "03:55:00"
          ],
          [
           "2022-04-03",
           "03:55:00"
          ],
          [
           "2022-04-03",
           "03:55:00"
          ],
          [
           "2022-04-03",
           "03:55:00"
          ],
          [
           "2022-04-03",
           "03:55:00"
          ],
          [
           "2022-04-03",
           "03:55:00"
          ],
          [
           "2022-04-03",
           "03:55:00"
          ],
          [
           "2022-04-03",
           "03:55:00"
          ],
          [
           "2022-04-03",
           "03:55:00"
          ],
          [
           "2022-04-03",
           "03:55:00"
          ],
          [
           "2022-04-03",
           "03:55:00"
          ],
          [
           "2022-04-03",
           "03:55:00"
          ],
          [
           "2022-04-03",
           "03:55:00"
          ],
          [
           "2022-04-03",
           "03:55:00"
          ],
          [
           "2022-04-03",
           "03:55:00"
          ],
          [
           "2022-04-03",
           "03:55:00"
          ],
          [
           "2022-04-03",
           "03:55:00"
          ],
          [
           "2022-04-03",
           "03:55:00"
          ],
          [
           "2022-04-03",
           "03:55:00"
          ],
          [
           "2022-04-03",
           "03:55:00"
          ],
          [
           "2022-04-03",
           "03:55:00"
          ],
          [
           "2022-04-03",
           "03:55:00"
          ],
          [
           "2022-04-03",
           "03:55:00"
          ],
          [
           "2022-04-03",
           "03:55:00"
          ],
          [
           "2022-04-03",
           "03:55:00"
          ],
          [
           "2022-04-03",
           "03:55:00"
          ],
          [
           "2022-04-03",
           "03:55:00"
          ],
          [
           "2022-04-03",
           "03:55:00"
          ],
          [
           "2022-04-03",
           "03:55:00"
          ],
          [
           "2022-04-03",
           "03:55:00"
          ],
          [
           "2022-04-03",
           "03:55:00"
          ],
          [
           "2022-04-03",
           "03:55:00"
          ],
          [
           "2022-04-03",
           "03:55:00"
          ],
          [
           "2022-04-03",
           "03:55:00"
          ],
          [
           "2022-04-03",
           "03:55:00"
          ],
          [
           "2022-04-03",
           "03:55:00"
          ],
          [
           "2022-04-03",
           "03:55:00"
          ],
          [
           "2022-04-03",
           "03:55:00"
          ],
          [
           "2022-04-03",
           "03:55:00"
          ],
          [
           "2022-04-03",
           "03:55:00"
          ],
          [
           "2022-04-03",
           "03:55:00"
          ],
          [
           "2022-04-03",
           "03:55:00"
          ],
          [
           "2022-04-03",
           "03:55:00"
          ],
          [
           "2022-04-03",
           "03:55:00"
          ],
          [
           "2022-04-03",
           "03:55:00"
          ],
          [
           "2022-04-03",
           "03:55:00"
          ],
          [
           "2022-04-03",
           "03:55:00"
          ],
          [
           "2022-04-03",
           "03:55:00"
          ],
          [
           "2022-04-03",
           "03:55:00"
          ],
          [
           "2022-04-03",
           "03:55:00"
          ],
          [
           "2022-04-03",
           "03:55:00"
          ],
          [
           "2022-04-03",
           "03:55:00"
          ],
          [
           "2022-04-03",
           "03:55:00"
          ],
          [
           "2022-04-03",
           "03:55:00"
          ],
          [
           "2022-04-03",
           "03:55:00"
          ],
          [
           "2022-04-03",
           "03:55:00"
          ],
          [
           "2022-04-03",
           "03:55:00"
          ],
          [
           "2022-04-03",
           "03:55:00"
          ],
          [
           "2022-04-03",
           "03:55:00"
          ],
          [
           "2022-04-03",
           "03:55:00"
          ],
          [
           "2022-04-03",
           "03:55:00"
          ],
          [
           "2022-04-03",
           "03:55:00"
          ],
          [
           "2022-04-03",
           "03:55:00"
          ],
          [
           "2022-04-03",
           "03:55:00"
          ],
          [
           "2022-04-03",
           "03:55:00"
          ],
          [
           "2022-04-03",
           "03:55:00"
          ],
          [
           "2022-04-03",
           "03:55:00"
          ],
          [
           "2022-04-03",
           "03:55:00"
          ],
          [
           "2022-04-03",
           "03:55:00"
          ],
          [
           "2022-04-03",
           "03:55:00"
          ],
          [
           "2022-04-03",
           "03:55:00"
          ],
          [
           "2022-04-03",
           "03:55:00"
          ],
          [
           "2022-04-03",
           "03:55:00"
          ],
          [
           "2022-04-03",
           "03:55:00"
          ],
          [
           "2022-04-03",
           "03:55:00"
          ],
          [
           "2022-04-03",
           "03:55:00"
          ],
          [
           "2022-04-03",
           "03:57:00"
          ],
          [
           "2022-04-03",
           "03:57:00"
          ],
          [
           "2022-04-03",
           "03:57:00"
          ],
          [
           "2022-04-03",
           "03:57:00"
          ],
          [
           "2022-04-03",
           "03:57:00"
          ],
          [
           "2022-04-03",
           "03:57:00"
          ],
          [
           "2022-04-03",
           "03:57:00"
          ],
          [
           "2022-04-03",
           "03:57:00"
          ],
          [
           "2022-04-03",
           "03:57:00"
          ],
          [
           "2022-04-03",
           "03:57:00"
          ],
          [
           "2022-04-03",
           "03:57:00"
          ],
          [
           "2022-04-03",
           "03:57:00"
          ],
          [
           "2022-04-03",
           "03:57:00"
          ],
          [
           "2022-04-03",
           "03:57:00"
          ],
          [
           "2022-04-03",
           "03:57:00"
          ],
          [
           "2022-04-03",
           "03:57:00"
          ],
          [
           "2022-04-03",
           "03:57:00"
          ],
          [
           "2022-04-03",
           "03:57:00"
          ],
          [
           "2022-04-03",
           "03:57:00"
          ],
          [
           "2022-04-03",
           "03:57:00"
          ],
          [
           "2022-04-03",
           "03:57:00"
          ],
          [
           "2022-04-03",
           "03:57:00"
          ],
          [
           "2022-04-03",
           "03:57:00"
          ],
          [
           "2022-04-03",
           "03:57:00"
          ],
          [
           "2022-04-03",
           "03:57:00"
          ],
          [
           "2022-04-03",
           "03:57:00"
          ],
          [
           "2022-04-03",
           "03:57:00"
          ],
          [
           "2022-04-03",
           "03:57:00"
          ],
          [
           "2022-04-03",
           "03:57:00"
          ],
          [
           "2022-04-03",
           "03:57:00"
          ],
          [
           "2022-04-03",
           "03:57:00"
          ],
          [
           "2022-04-03",
           "03:57:00"
          ],
          [
           "2022-04-03",
           "03:57:00"
          ],
          [
           "2022-04-03",
           "03:57:00"
          ],
          [
           "2022-04-03",
           "03:57:00"
          ],
          [
           "2022-04-03",
           "03:57:00"
          ],
          [
           "2022-04-03",
           "03:57:00"
          ],
          [
           "2022-04-03",
           "03:57:00"
          ],
          [
           "2022-04-03",
           "03:57:00"
          ],
          [
           "2022-04-03",
           "03:57:00"
          ],
          [
           "2022-04-03",
           "03:57:00"
          ],
          [
           "2022-04-03",
           "03:57:00"
          ],
          [
           "2022-04-03",
           "03:57:00"
          ],
          [
           "2022-04-03",
           "03:57:00"
          ],
          [
           "2022-04-03",
           "03:57:00"
          ],
          [
           "2022-04-03",
           "03:57:00"
          ],
          [
           "2022-04-03",
           "03:57:00"
          ],
          [
           "2022-04-03",
           "03:57:00"
          ],
          [
           "2022-04-03",
           "03:57:00"
          ],
          [
           "2022-04-03",
           "03:57:00"
          ],
          [
           "2022-04-03",
           "03:57:00"
          ],
          [
           "2022-04-03",
           "03:57:00"
          ],
          [
           "2022-04-03",
           "03:57:00"
          ],
          [
           "2022-04-03",
           "03:57:00"
          ],
          [
           "2022-04-03",
           "03:57:00"
          ],
          [
           "2022-04-03",
           "03:57:00"
          ],
          [
           "2022-04-03",
           "03:57:00"
          ],
          [
           "2022-04-03",
           "03:57:00"
          ],
          [
           "2022-04-03",
           "03:57:00"
          ],
          [
           "2022-04-03",
           "03:57:00"
          ],
          [
           "2022-04-03",
           "03:57:00"
          ],
          [
           "2022-04-03",
           "03:57:00"
          ],
          [
           "2022-04-03",
           "03:57:00"
          ],
          [
           "2022-04-03",
           "03:57:00"
          ],
          [
           "2022-04-03",
           "03:57:00"
          ],
          [
           "2022-04-03",
           "03:57:00"
          ],
          [
           "2022-04-03",
           "03:57:00"
          ],
          [
           "2022-04-03",
           "03:57:00"
          ],
          [
           "2022-04-03",
           "03:57:00"
          ],
          [
           "2022-04-03",
           "03:57:00"
          ],
          [
           "2022-04-03",
           "03:57:00"
          ],
          [
           "2022-04-03",
           "03:57:00"
          ],
          [
           "2022-04-03",
           "03:57:00"
          ],
          [
           "2022-04-03",
           "03:57:00"
          ],
          [
           "2022-04-03",
           "03:57:00"
          ],
          [
           "2022-04-03",
           "03:57:00"
          ],
          [
           "2022-04-03",
           "03:57:00"
          ],
          [
           "2022-04-03",
           "03:57:00"
          ],
          [
           "2022-04-03",
           "03:57:00"
          ],
          [
           "2022-04-03",
           "03:57:00"
          ],
          [
           "2022-04-03",
           "03:57:00"
          ],
          [
           "2022-04-03",
           "03:57:00"
          ],
          [
           "2022-04-03",
           "03:57:00"
          ],
          [
           "2022-04-03",
           "03:57:00"
          ],
          [
           "2022-04-03",
           "03:57:00"
          ],
          [
           "2022-04-03",
           "03:57:00"
          ],
          [
           "2022-04-03",
           "03:57:00"
          ],
          [
           "2022-04-03",
           "03:57:00"
          ],
          [
           "2022-04-03",
           "03:57:00"
          ],
          [
           "2022-04-03",
           "03:57:00"
          ],
          [
           "2022-04-03",
           "03:57:00"
          ],
          [
           "2022-04-03",
           "03:57:00"
          ],
          [
           "2022-04-03",
           "03:57:00"
          ],
          [
           "2022-04-03",
           "03:57:00"
          ],
          [
           "2022-04-03",
           "03:57:00"
          ],
          [
           "2022-04-03",
           "03:57:00"
          ],
          [
           "2022-04-03",
           "03:57:00"
          ],
          [
           "2022-04-03",
           "03:13:00"
          ],
          [
           "2022-04-03",
           "03:13:00"
          ],
          [
           "2022-04-03",
           "03:13:00"
          ],
          [
           "2022-04-03",
           "03:13:00"
          ],
          [
           "2022-04-03",
           "03:15:00"
          ],
          [
           "2022-04-03",
           "03:15:00"
          ],
          [
           "2022-04-03",
           "03:15:00"
          ],
          [
           "2022-04-03",
           "03:15:00"
          ],
          [
           "2022-04-03",
           "03:15:00"
          ],
          [
           "2022-04-03",
           "03:15:00"
          ],
          [
           "2022-04-03",
           "03:15:00"
          ],
          [
           "2022-04-03",
           "03:15:00"
          ],
          [
           "2022-04-03",
           "03:15:00"
          ],
          [
           "2022-04-03",
           "03:15:00"
          ],
          [
           "2022-04-03",
           "03:15:00"
          ],
          [
           "2022-04-03",
           "03:15:00"
          ],
          [
           "2022-04-03",
           "03:15:00"
          ],
          [
           "2022-04-03",
           "03:15:00"
          ],
          [
           "2022-04-03",
           "03:15:00"
          ],
          [
           "2022-04-03",
           "03:15:00"
          ],
          [
           "2022-04-03",
           "03:15:00"
          ],
          [
           "2022-04-03",
           "03:15:00"
          ],
          [
           "2022-04-03",
           "03:15:00"
          ],
          [
           "2022-04-03",
           "03:15:00"
          ],
          [
           "2022-04-03",
           "03:15:00"
          ],
          [
           "2022-04-03",
           "03:15:00"
          ],
          [
           "2022-04-03",
           "03:15:00"
          ],
          [
           "2022-04-03",
           "03:15:00"
          ],
          [
           "2022-04-03",
           "03:15:00"
          ],
          [
           "2022-04-03",
           "03:06:00"
          ],
          [
           "2022-04-03",
           "03:06:00"
          ],
          [
           "2022-04-03",
           "03:06:00"
          ],
          [
           "2022-04-03",
           "03:06:00"
          ],
          [
           "2022-04-03",
           "03:06:00"
          ],
          [
           "2022-04-03",
           "03:06:00"
          ],
          [
           "2022-04-03",
           "03:06:00"
          ],
          [
           "2022-04-03",
           "03:06:00"
          ],
          [
           "2022-04-03",
           "03:06:00"
          ],
          [
           "2022-04-03",
           "03:06:00"
          ],
          [
           "2022-04-03",
           "03:06:00"
          ],
          [
           "2022-04-03",
           "03:06:00"
          ],
          [
           "2022-04-03",
           "03:06:00"
          ],
          [
           "2022-04-03",
           "03:06:00"
          ],
          [
           "2022-04-03",
           "03:06:00"
          ],
          [
           "2022-04-03",
           "03:06:00"
          ],
          [
           "2022-04-03",
           "03:06:00"
          ],
          [
           "2022-04-03",
           "03:06:00"
          ],
          [
           "2022-04-03",
           "03:08:00"
          ],
          [
           "2022-04-03",
           "03:08:00"
          ],
          [
           "2022-04-03",
           "03:15:00"
          ],
          [
           "2022-04-03",
           "03:15:00"
          ],
          [
           "2022-04-03",
           "03:15:00"
          ],
          [
           "2022-04-03",
           "03:15:00"
          ],
          [
           "2022-04-03",
           "03:15:00"
          ],
          [
           "2022-04-03",
           "03:15:00"
          ],
          [
           "2022-04-03",
           "03:15:00"
          ],
          [
           "2022-04-03",
           "03:15:00"
          ],
          [
           "2022-04-03",
           "03:15:00"
          ],
          [
           "2022-04-03",
           "03:15:00"
          ],
          [
           "2022-04-03",
           "03:15:00"
          ],
          [
           "2022-04-03",
           "03:15:00"
          ],
          [
           "2022-04-03",
           "03:15:00"
          ],
          [
           "2022-04-03",
           "03:15:00"
          ],
          [
           "2022-04-03",
           "03:15:00"
          ],
          [
           "2022-04-03",
           "03:15:00"
          ],
          [
           "2022-04-03",
           "03:15:00"
          ],
          [
           "2022-04-03",
           "03:15:00"
          ],
          [
           "2022-04-03",
           "03:15:00"
          ],
          [
           "2022-04-03",
           "03:15:00"
          ],
          [
           "2022-04-03",
           "03:15:00"
          ],
          [
           "2022-04-03",
           "03:15:00"
          ],
          [
           "2022-04-03",
           "03:15:00"
          ],
          [
           "2022-04-03",
           "03:15:00"
          ],
          [
           "2022-04-03",
           "03:15:00"
          ],
          [
           "2022-04-03",
           "03:15:00"
          ],
          [
           "2022-04-03",
           "03:15:00"
          ],
          [
           "2022-04-03",
           "03:15:00"
          ],
          [
           "2022-04-03",
           "03:15:00"
          ],
          [
           "2022-04-03",
           "03:15:00"
          ],
          [
           "2022-04-03",
           "03:15:00"
          ],
          [
           "2022-04-03",
           "03:15:00"
          ],
          [
           "2022-04-03",
           "03:15:00"
          ],
          [
           "2022-04-03",
           "03:15:00"
          ],
          [
           "2022-04-03",
           "03:15:00"
          ],
          [
           "2022-04-03",
           "03:15:00"
          ],
          [
           "2022-04-03",
           "03:15:00"
          ],
          [
           "2022-04-03",
           "03:15:00"
          ],
          [
           "2022-04-03",
           "03:15:00"
          ],
          [
           "2022-04-03",
           "03:15:00"
          ],
          [
           "2022-04-03",
           "03:15:00"
          ],
          [
           "2022-04-03",
           "03:15:00"
          ],
          [
           "2022-04-03",
           "03:15:00"
          ],
          [
           "2022-04-03",
           "03:15:00"
          ],
          [
           "2022-04-03",
           "03:15:00"
          ],
          [
           "2022-04-03",
           "03:15:00"
          ],
          [
           "2022-04-03",
           "03:15:00"
          ],
          [
           "2022-04-03",
           "03:15:00"
          ],
          [
           "2022-04-03",
           "03:15:00"
          ],
          [
           "2022-04-03",
           "03:15:00"
          ],
          [
           "2022-04-03",
           "03:15:00"
          ],
          [
           "2022-04-03",
           "03:15:00"
          ],
          [
           "2022-04-03",
           "03:15:00"
          ],
          [
           "2022-04-03",
           "03:15:00"
          ],
          [
           "2022-04-03",
           "03:15:00"
          ],
          [
           "2022-04-03",
           "03:15:00"
          ],
          [
           "2022-04-03",
           "03:15:00"
          ],
          [
           "2022-04-03",
           "03:15:00"
          ],
          [
           "2022-04-03",
           "03:15:00"
          ],
          [
           "2022-04-03",
           "03:15:00"
          ],
          [
           "2022-04-03",
           "03:15:00"
          ],
          [
           "2022-04-03",
           "03:15:00"
          ],
          [
           "2022-04-03",
           "03:15:00"
          ],
          [
           "2022-04-03",
           "03:15:00"
          ],
          [
           "2022-04-03",
           "03:15:00"
          ],
          [
           "2022-04-03",
           "03:15:00"
          ],
          [
           "2022-04-03",
           "03:17:00"
          ],
          [
           "2022-04-03",
           "03:17:00"
          ],
          [
           "2022-04-03",
           "03:17:00"
          ],
          [
           "2022-04-03",
           "03:19:00"
          ],
          [
           "2022-04-03",
           "03:19:00"
          ],
          [
           "2022-04-03",
           "03:19:00"
          ],
          [
           "2022-04-03",
           "03:19:00"
          ],
          [
           "2022-04-03",
           "03:19:00"
          ],
          [
           "2022-04-03",
           "03:19:00"
          ],
          [
           "2022-04-03",
           "03:19:00"
          ],
          [
           "2022-04-03",
           "03:19:00"
          ],
          [
           "2022-04-03",
           "03:19:00"
          ],
          [
           "2022-04-03",
           "03:19:00"
          ],
          [
           "2022-04-03",
           "05:29:00"
          ],
          [
           "2022-04-03",
           "05:29:00"
          ],
          [
           "2022-04-03",
           "05:29:00"
          ],
          [
           "2022-04-03",
           "05:31:00"
          ],
          [
           "2022-04-03",
           "05:31:00"
          ],
          [
           "2022-04-03",
           "05:31:00"
          ],
          [
           "2022-04-03",
           "05:31:00"
          ],
          [
           "2022-04-03",
           "05:31:00"
          ],
          [
           "2022-04-03",
           "05:31:00"
          ],
          [
           "2022-04-03",
           "05:31:00"
          ],
          [
           "2022-04-03",
           "05:31:00"
          ],
          [
           "2022-04-03",
           "05:31:00"
          ],
          [
           "2022-04-03",
           "05:31:00"
          ],
          [
           "2022-04-03",
           "05:31:00"
          ],
          [
           "2022-04-03",
           "05:31:00"
          ],
          [
           "2022-04-03",
           "05:31:00"
          ],
          [
           "2022-04-03",
           "05:31:00"
          ],
          [
           "2022-04-03",
           "05:33:00"
          ],
          [
           "2022-04-03",
           "05:33:00"
          ],
          [
           "2022-04-03",
           "05:33:00"
          ],
          [
           "2022-04-03",
           "05:33:00"
          ],
          [
           "2022-04-03",
           "05:33:00"
          ],
          [
           "2022-04-03",
           "05:33:00"
          ],
          [
           "2022-04-03",
           "05:33:00"
          ],
          [
           "2022-04-03",
           "05:33:00"
          ],
          [
           "2022-04-03",
           "05:33:00"
          ],
          [
           "2022-04-03",
           "05:33:00"
          ],
          [
           "2022-04-03",
           "05:33:00"
          ],
          [
           "2022-04-03",
           "05:33:00"
          ],
          [
           "2022-04-03",
           "05:33:00"
          ],
          [
           "2022-04-03",
           "05:33:00"
          ],
          [
           "2022-04-03",
           "05:33:00"
          ],
          [
           "2022-04-03",
           "05:33:00"
          ],
          [
           "2022-04-03",
           "05:33:00"
          ],
          [
           "2022-04-03",
           "05:33:00"
          ],
          [
           "2022-04-03",
           "05:33:00"
          ],
          [
           "2022-04-03",
           "05:33:00"
          ],
          [
           "2022-04-03",
           "05:33:00"
          ],
          [
           "2022-04-03",
           "05:33:00"
          ],
          [
           "2022-04-03",
           "05:33:00"
          ],
          [
           "2022-04-03",
           "05:33:00"
          ],
          [
           "2022-04-03",
           "05:33:00"
          ],
          [
           "2022-04-03",
           "05:33:00"
          ],
          [
           "2022-04-03",
           "05:33:00"
          ],
          [
           "2022-04-03",
           "05:33:00"
          ],
          [
           "2022-04-03",
           "05:33:00"
          ],
          [
           "2022-04-03",
           "05:33:00"
          ],
          [
           "2022-04-03",
           "05:33:00"
          ],
          [
           "2022-04-03",
           "05:33:00"
          ],
          [
           "2022-04-03",
           "05:33:00"
          ],
          [
           "2022-04-03",
           "05:33:00"
          ],
          [
           "2022-04-03",
           "05:33:00"
          ],
          [
           "2022-04-03",
           "05:33:00"
          ],
          [
           "2022-04-03",
           "05:33:00"
          ],
          [
           "2022-04-03",
           "05:33:00"
          ],
          [
           "2022-04-03",
           "05:33:00"
          ],
          [
           "2022-04-03",
           "05:33:00"
          ],
          [
           "2022-04-03",
           "05:33:00"
          ],
          [
           "2022-04-03",
           "05:33:00"
          ],
          [
           "2022-04-03",
           "05:33:00"
          ],
          [
           "2022-04-03",
           "05:33:00"
          ],
          [
           "2022-04-03",
           "05:33:00"
          ],
          [
           "2022-04-03",
           "05:33:00"
          ],
          [
           "2022-04-03",
           "05:33:00"
          ],
          [
           "2022-04-03",
           "05:33:00"
          ],
          [
           "2022-04-03",
           "05:33:00"
          ],
          [
           "2022-04-03",
           "05:33:00"
          ],
          [
           "2022-04-03",
           "05:33:00"
          ],
          [
           "2022-04-03",
           "05:33:00"
          ],
          [
           "2022-04-03",
           "05:33:00"
          ],
          [
           "2022-04-03",
           "05:33:00"
          ],
          [
           "2022-04-03",
           "05:33:00"
          ],
          [
           "2022-04-03",
           "05:33:00"
          ],
          [
           "2022-04-03",
           "05:33:00"
          ],
          [
           "2022-04-03",
           "05:33:00"
          ],
          [
           "2022-04-03",
           "05:33:00"
          ],
          [
           "2022-04-03",
           "05:29:00"
          ],
          [
           "2022-04-03",
           "05:29:00"
          ],
          [
           "2022-04-03",
           "05:29:00"
          ],
          [
           "2022-04-03",
           "05:29:00"
          ],
          [
           "2022-04-03",
           "05:29:00"
          ],
          [
           "2022-04-03",
           "05:29:00"
          ],
          [
           "2022-04-03",
           "05:29:00"
          ],
          [
           "2022-04-03",
           "05:29:00"
          ],
          [
           "2022-04-03",
           "05:29:00"
          ],
          [
           "2022-04-03",
           "05:29:00"
          ],
          [
           "2022-04-03",
           "05:29:00"
          ],
          [
           "2022-04-03",
           "05:29:00"
          ],
          [
           "2022-04-03",
           "05:29:00"
          ],
          [
           "2022-04-03",
           "05:29:00"
          ],
          [
           "2022-04-03",
           "05:29:00"
          ],
          [
           "2022-04-03",
           "05:29:00"
          ],
          [
           "2022-04-03",
           "05:29:00"
          ],
          [
           "2022-04-03",
           "05:29:00"
          ],
          [
           "2022-04-03",
           "05:29:00"
          ],
          [
           "2022-04-03",
           "05:29:00"
          ],
          [
           "2022-04-03",
           "05:29:00"
          ],
          [
           "2022-04-03",
           "05:29:00"
          ],
          [
           "2022-04-03",
           "05:29:00"
          ],
          [
           "2022-04-03",
           "05:29:00"
          ],
          [
           "2022-04-03",
           "05:29:00"
          ],
          [
           "2022-04-03",
           "05:29:00"
          ],
          [
           "2022-04-03",
           "05:29:00"
          ],
          [
           "2022-04-03",
           "05:29:00"
          ],
          [
           "2022-04-03",
           "05:29:00"
          ],
          [
           "2022-04-03",
           "05:29:00"
          ],
          [
           "2022-04-03",
           "05:29:00"
          ],
          [
           "2022-04-03",
           "05:29:00"
          ],
          [
           "2022-04-03",
           "05:29:00"
          ],
          [
           "2022-04-03",
           "05:29:00"
          ],
          [
           "2022-04-03",
           "05:29:00"
          ],
          [
           "2022-04-03",
           "05:29:00"
          ],
          [
           "2022-04-03",
           "05:29:00"
          ],
          [
           "2022-04-03",
           "05:29:00"
          ],
          [
           "2022-04-03",
           "05:29:00"
          ],
          [
           "2022-04-03",
           "05:29:00"
          ],
          [
           "2022-04-03",
           "05:29:00"
          ],
          [
           "2022-04-03",
           "05:29:00"
          ],
          [
           "2022-04-03",
           "05:29:00"
          ],
          [
           "2022-04-03",
           "05:29:00"
          ],
          [
           "2022-04-03",
           "05:29:00"
          ],
          [
           "2022-04-03",
           "05:36:00"
          ],
          [
           "2022-04-03",
           "05:36:00"
          ],
          [
           "2022-04-03",
           "05:36:00"
          ],
          [
           "2022-04-03",
           "05:36:00"
          ],
          [
           "2022-04-03",
           "05:36:00"
          ],
          [
           "2022-04-03",
           "05:36:00"
          ],
          [
           "2022-04-03",
           "05:36:00"
          ],
          [
           "2022-04-03",
           "05:36:00"
          ],
          [
           "2022-04-03",
           "05:36:00"
          ],
          [
           "2022-04-03",
           "05:36:00"
          ],
          [
           "2022-04-03",
           "05:36:00"
          ],
          [
           "2022-04-03",
           "05:36:00"
          ],
          [
           "2022-04-03",
           "05:36:00"
          ],
          [
           "2022-04-03",
           "05:36:00"
          ],
          [
           "2022-04-03",
           "05:36:00"
          ],
          [
           "2022-04-03",
           "05:36:00"
          ],
          [
           "2022-04-03",
           "05:36:00"
          ],
          [
           "2022-04-03",
           "05:36:00"
          ],
          [
           "2022-04-03",
           "05:36:00"
          ],
          [
           "2022-04-03",
           "05:36:00"
          ],
          [
           "2022-04-03",
           "05:36:00"
          ],
          [
           "2022-04-03",
           "05:36:00"
          ],
          [
           "2022-04-03",
           "05:36:00"
          ],
          [
           "2022-04-03",
           "05:36:00"
          ],
          [
           "2022-04-03",
           "05:36:00"
          ],
          [
           "2022-04-03",
           "05:36:00"
          ],
          [
           "2022-04-03",
           "05:36:00"
          ],
          [
           "2022-04-03",
           "05:36:00"
          ],
          [
           "2022-04-03",
           "05:36:00"
          ],
          [
           "2022-04-03",
           "05:36:00"
          ],
          [
           "2022-04-03",
           "05:36:00"
          ],
          [
           "2022-04-03",
           "05:36:00"
          ],
          [
           "2022-04-03",
           "05:36:00"
          ],
          [
           "2022-04-03",
           "05:36:00"
          ],
          [
           "2022-04-03",
           "05:36:00"
          ],
          [
           "2022-04-03",
           "05:36:00"
          ],
          [
           "2022-04-03",
           "05:36:00"
          ],
          [
           "2022-04-03",
           "05:36:00"
          ],
          [
           "2022-04-03",
           "05:36:00"
          ],
          [
           "2022-04-03",
           "05:36:00"
          ],
          [
           "2022-04-03",
           "05:36:00"
          ],
          [
           "2022-04-03",
           "05:36:00"
          ],
          [
           "2022-04-03",
           "05:36:00"
          ],
          [
           "2022-04-03",
           "05:36:00"
          ],
          [
           "2022-04-03",
           "05:36:00"
          ],
          [
           "2022-04-03",
           "05:36:00"
          ],
          [
           "2022-04-03",
           "05:36:00"
          ],
          [
           "2022-04-03",
           "05:36:00"
          ],
          [
           "2022-04-03",
           "05:36:00"
          ],
          [
           "2022-04-03",
           "05:36:00"
          ],
          [
           "2022-04-03",
           "05:36:00"
          ],
          [
           "2022-04-03",
           "05:36:00"
          ],
          [
           "2022-04-03",
           "05:36:00"
          ],
          [
           "2022-04-03",
           "05:36:00"
          ],
          [
           "2022-04-03",
           "05:36:00"
          ],
          [
           "2022-04-03",
           "05:36:00"
          ],
          [
           "2022-04-03",
           "05:36:00"
          ],
          [
           "2022-04-03",
           "05:36:00"
          ],
          [
           "2022-04-03",
           "05:36:00"
          ],
          [
           "2022-04-03",
           "05:36:00"
          ],
          [
           "2022-04-03",
           "05:36:00"
          ],
          [
           "2022-04-03",
           "05:36:00"
          ],
          [
           "2022-04-03",
           "05:36:00"
          ],
          [
           "2022-04-03",
           "05:36:00"
          ],
          [
           "2022-04-03",
           "05:36:00"
          ],
          [
           "2022-04-03",
           "05:36:00"
          ],
          [
           "2022-04-03",
           "05:36:00"
          ],
          [
           "2022-04-03",
           "05:36:00"
          ],
          [
           "2022-04-03",
           "05:36:00"
          ],
          [
           "2022-04-03",
           "05:36:00"
          ],
          [
           "2022-04-03",
           "05:36:00"
          ],
          [
           "2022-04-03",
           "05:36:00"
          ],
          [
           "2022-04-03",
           "05:36:00"
          ],
          [
           "2022-04-03",
           "05:36:00"
          ],
          [
           "2022-04-03",
           "05:36:00"
          ],
          [
           "2022-04-03",
           "05:36:00"
          ],
          [
           "2022-04-03",
           "05:36:00"
          ],
          [
           "2022-04-03",
           "05:36:00"
          ],
          [
           "2022-04-03",
           "05:36:00"
          ],
          [
           "2022-04-03",
           "05:36:00"
          ],
          [
           "2022-04-03",
           "05:36:00"
          ],
          [
           "2022-04-03",
           "05:36:00"
          ],
          [
           "2022-04-03",
           "05:36:00"
          ],
          [
           "2022-04-03",
           "05:36:00"
          ],
          [
           "2022-04-03",
           "05:36:00"
          ],
          [
           "2022-04-03",
           "05:36:00"
          ],
          [
           "2022-04-03",
           "05:36:00"
          ],
          [
           "2022-04-03",
           "05:38:00"
          ],
          [
           "2022-04-03",
           "05:38:00"
          ],
          [
           "2022-04-03",
           "05:38:00"
          ],
          [
           "2022-04-03",
           "05:38:00"
          ],
          [
           "2022-04-03",
           "05:38:00"
          ],
          [
           "2022-04-03",
           "05:38:00"
          ],
          [
           "2022-04-03",
           "05:38:00"
          ],
          [
           "2022-04-03",
           "05:38:00"
          ],
          [
           "2022-04-03",
           "05:38:00"
          ],
          [
           "2022-04-03",
           "05:38:00"
          ],
          [
           "2022-04-03",
           "05:38:00"
          ],
          [
           "2022-04-03",
           "05:38:00"
          ],
          [
           "2022-04-03",
           "05:38:00"
          ],
          [
           "2022-04-03",
           "05:38:00"
          ],
          [
           "2022-04-03",
           "05:38:00"
          ],
          [
           "2022-04-03",
           "05:38:00"
          ],
          [
           "2022-04-03",
           "05:38:00"
          ],
          [
           "2022-04-03",
           "05:38:00"
          ],
          [
           "2022-04-03",
           "05:38:00"
          ],
          [
           "2022-04-03",
           "05:40:00"
          ],
          [
           "2022-04-03",
           "05:40:00"
          ],
          [
           "2022-04-03",
           "04:59:00"
          ],
          [
           "2022-04-03",
           "04:59:00"
          ],
          [
           "2022-04-03",
           "04:51:00"
          ],
          [
           "2022-04-03",
           "04:51:00"
          ],
          [
           "2022-04-03",
           "04:51:00"
          ],
          [
           "2022-04-03",
           "04:57:00"
          ],
          [
           "2022-04-03",
           "04:57:00"
          ],
          [
           "2022-04-03",
           "04:57:00"
          ],
          [
           "2022-04-03",
           "04:57:00"
          ],
          [
           "2022-04-03",
           "04:57:00"
          ],
          [
           "2022-04-03",
           "04:57:00"
          ],
          [
           "2022-04-03",
           "04:57:00"
          ],
          [
           "2022-04-03",
           "04:57:00"
          ],
          [
           "2022-04-03",
           "04:57:00"
          ],
          [
           "2022-04-03",
           "04:57:00"
          ],
          [
           "2022-04-03",
           "04:57:00"
          ],
          [
           "2022-04-03",
           "04:57:00"
          ],
          [
           "2022-04-03",
           "04:57:00"
          ],
          [
           "2022-04-03",
           "04:57:00"
          ],
          [
           "2022-04-03",
           "04:57:00"
          ],
          [
           "2022-04-03",
           "04:57:00"
          ],
          [
           "2022-04-03",
           "04:57:00"
          ],
          [
           "2022-04-03",
           "04:57:00"
          ],
          [
           "2022-04-03",
           "04:57:00"
          ],
          [
           "2022-04-03",
           "04:57:00"
          ],
          [
           "2022-04-03",
           "04:57:00"
          ],
          [
           "2022-04-03",
           "04:57:00"
          ],
          [
           "2022-04-03",
           "04:57:00"
          ],
          [
           "2022-04-03",
           "04:57:00"
          ],
          [
           "2022-04-03",
           "04:57:00"
          ],
          [
           "2022-04-03",
           "04:57:00"
          ],
          [
           "2022-04-03",
           "04:57:00"
          ],
          [
           "2022-04-03",
           "04:57:00"
          ],
          [
           "2022-04-03",
           "04:57:00"
          ],
          [
           "2022-04-03",
           "04:57:00"
          ],
          [
           "2022-04-03",
           "04:57:00"
          ],
          [
           "2022-04-03",
           "04:57:00"
          ],
          [
           "2022-04-03",
           "04:59:00"
          ],
          [
           "2022-04-03",
           "04:59:00"
          ],
          [
           "2022-04-03",
           "04:59:00"
          ],
          [
           "2022-04-03",
           "04:59:00"
          ],
          [
           "2022-04-03",
           "07:24:00"
          ],
          [
           "2022-04-03",
           "07:07:00"
          ],
          [
           "2022-04-03",
           "07:07:00"
          ],
          [
           "2022-04-03",
           "07:07:00"
          ],
          [
           "2022-04-03",
           "07:07:00"
          ],
          [
           "2022-04-03",
           "07:07:00"
          ],
          [
           "2022-04-03",
           "07:07:00"
          ],
          [
           "2022-04-03",
           "07:07:00"
          ],
          [
           "2022-04-03",
           "07:07:00"
          ],
          [
           "2022-04-03",
           "07:07:00"
          ],
          [
           "2022-04-03",
           "07:07:00"
          ],
          [
           "2022-04-03",
           "07:07:00"
          ],
          [
           "2022-04-03",
           "07:07:00"
          ],
          [
           "2022-04-03",
           "07:07:00"
          ],
          [
           "2022-04-03",
           "07:07:00"
          ],
          [
           "2022-04-03",
           "07:07:00"
          ],
          [
           "2022-04-03",
           "07:07:00"
          ],
          [
           "2022-04-03",
           "07:07:00"
          ],
          [
           "2022-04-03",
           "07:07:00"
          ],
          [
           "2022-04-03",
           "07:07:00"
          ],
          [
           "2022-04-03",
           "07:07:00"
          ],
          [
           "2022-04-03",
           "07:07:00"
          ],
          [
           "2022-04-03",
           "07:09:00"
          ],
          [
           "2022-04-03",
           "07:09:00"
          ],
          [
           "2022-04-03",
           "07:09:00"
          ],
          [
           "2022-04-03",
           "07:09:00"
          ],
          [
           "2022-04-03",
           "07:09:00"
          ],
          [
           "2022-04-03",
           "07:09:00"
          ],
          [
           "2022-04-03",
           "07:09:00"
          ],
          [
           "2022-04-03",
           "07:09:00"
          ],
          [
           "2022-04-03",
           "07:09:00"
          ],
          [
           "2022-04-03",
           "07:09:00"
          ],
          [
           "2022-04-03",
           "07:09:00"
          ],
          [
           "2022-04-03",
           "07:09:00"
          ],
          [
           "2022-04-03",
           "07:09:00"
          ],
          [
           "2022-04-03",
           "07:09:00"
          ],
          [
           "2022-04-03",
           "07:09:00"
          ],
          [
           "2022-04-03",
           "07:09:00"
          ],
          [
           "2022-04-03",
           "07:09:00"
          ],
          [
           "2022-04-03",
           "07:09:00"
          ],
          [
           "2022-04-03",
           "07:09:00"
          ],
          [
           "2022-04-03",
           "07:09:00"
          ],
          [
           "2022-04-03",
           "07:09:00"
          ],
          [
           "2022-04-03",
           "07:09:00"
          ],
          [
           "2022-04-03",
           "07:09:00"
          ],
          [
           "2022-04-03",
           "07:09:00"
          ],
          [
           "2022-04-03",
           "07:09:00"
          ],
          [
           "2022-04-03",
           "07:09:00"
          ],
          [
           "2022-04-03",
           "07:09:00"
          ],
          [
           "2022-04-03",
           "07:09:00"
          ],
          [
           "2022-04-03",
           "07:26:00"
          ],
          [
           "2022-04-03",
           "07:26:00"
          ],
          [
           "2022-04-03",
           "07:09:00"
          ],
          [
           "2022-04-03",
           "07:09:00"
          ],
          [
           "2022-04-03",
           "07:12:00"
          ],
          [
           "2022-04-03",
           "07:12:00"
          ],
          [
           "2022-04-03",
           "07:12:00"
          ],
          [
           "2022-04-03",
           "07:12:00"
          ],
          [
           "2022-04-03",
           "07:12:00"
          ],
          [
           "2022-04-03",
           "07:12:00"
          ],
          [
           "2022-04-03",
           "07:12:00"
          ],
          [
           "2022-04-03",
           "07:12:00"
          ],
          [
           "2022-04-03",
           "07:12:00"
          ],
          [
           "2022-04-03",
           "07:12:00"
          ],
          [
           "2022-04-03",
           "07:12:00"
          ],
          [
           "2022-04-03",
           "07:12:00"
          ],
          [
           "2022-04-03",
           "07:12:00"
          ],
          [
           "2022-04-03",
           "07:12:00"
          ],
          [
           "2022-04-03",
           "07:12:00"
          ],
          [
           "2022-04-03",
           "07:12:00"
          ],
          [
           "2022-04-03",
           "07:12:00"
          ],
          [
           "2022-04-03",
           "07:12:00"
          ],
          [
           "2022-04-03",
           "07:12:00"
          ],
          [
           "2022-04-03",
           "07:12:00"
          ],
          [
           "2022-04-03",
           "07:12:00"
          ],
          [
           "2022-04-03",
           "07:12:00"
          ],
          [
           "2022-04-03",
           "07:12:00"
          ],
          [
           "2022-04-03",
           "07:12:00"
          ],
          [
           "2022-04-03",
           "07:12:00"
          ],
          [
           "2022-04-03",
           "07:12:00"
          ],
          [
           "2022-04-03",
           "07:12:00"
          ],
          [
           "2022-04-03",
           "07:12:00"
          ],
          [
           "2022-04-03",
           "07:12:00"
          ],
          [
           "2022-04-03",
           "07:12:00"
          ],
          [
           "2022-04-03",
           "07:12:00"
          ],
          [
           "2022-04-03",
           "07:12:00"
          ],
          [
           "2022-04-03",
           "07:12:00"
          ],
          [
           "2022-04-03",
           "07:12:00"
          ],
          [
           "2022-04-03",
           "07:12:00"
          ],
          [
           "2022-04-03",
           "07:12:00"
          ],
          [
           "2022-04-03",
           "07:14:00"
          ],
          [
           "2022-04-03",
           "07:16:00"
          ],
          [
           "2022-04-03",
           "07:16:00"
          ],
          [
           "2022-04-03",
           "08:16:00"
          ],
          [
           "2022-04-03",
           "08:16:00"
          ],
          [
           "2022-04-03",
           "09:09:00"
          ],
          [
           "2022-04-03",
           "08:45:00"
          ],
          [
           "2022-04-03",
           "08:45:00"
          ],
          [
           "2022-04-03",
           "08:45:00"
          ],
          [
           "2022-04-03",
           "08:45:00"
          ],
          [
           "2022-04-03",
           "08:45:00"
          ],
          [
           "2022-04-03",
           "08:45:00"
          ],
          [
           "2022-04-03",
           "08:45:00"
          ],
          [
           "2022-04-03",
           "08:45:00"
          ],
          [
           "2022-04-03",
           "08:45:00"
          ],
          [
           "2022-04-03",
           "08:45:00"
          ],
          [
           "2022-04-03",
           "08:45:00"
          ],
          [
           "2022-04-03",
           "08:45:00"
          ],
          [
           "2022-04-03",
           "08:45:00"
          ],
          [
           "2022-04-03",
           "08:45:00"
          ],
          [
           "2022-04-03",
           "08:45:00"
          ],
          [
           "2022-04-03",
           "08:45:00"
          ],
          [
           "2022-04-03",
           "08:45:00"
          ],
          [
           "2022-04-03",
           "08:45:00"
          ],
          [
           "2022-04-03",
           "08:45:00"
          ],
          [
           "2022-04-03",
           "08:45:00"
          ],
          [
           "2022-04-03",
           "08:45:00"
          ],
          [
           "2022-04-03",
           "08:45:00"
          ],
          [
           "2022-04-03",
           "08:45:00"
          ],
          [
           "2022-04-03",
           "08:45:00"
          ],
          [
           "2022-04-03",
           "08:48:00"
          ],
          [
           "2022-04-03",
           "08:48:00"
          ],
          [
           "2022-04-03",
           "08:48:00"
          ],
          [
           "2022-04-03",
           "08:48:00"
          ],
          [
           "2022-04-03",
           "08:48:00"
          ],
          [
           "2022-04-03",
           "08:48:00"
          ],
          [
           "2022-04-03",
           "08:48:00"
          ],
          [
           "2022-04-03",
           "08:48:00"
          ],
          [
           "2022-04-03",
           "08:48:00"
          ],
          [
           "2022-04-03",
           "08:48:00"
          ],
          [
           "2022-04-03",
           "08:48:00"
          ],
          [
           "2022-04-03",
           "08:48:00"
          ],
          [
           "2022-04-03",
           "08:48:00"
          ],
          [
           "2022-04-03",
           "08:48:00"
          ],
          [
           "2022-04-03",
           "08:48:00"
          ],
          [
           "2022-04-03",
           "08:48:00"
          ],
          [
           "2022-04-03",
           "08:48:00"
          ],
          [
           "2022-04-03",
           "08:48:00"
          ],
          [
           "2022-04-03",
           "08:48:00"
          ],
          [
           "2022-04-03",
           "08:48:00"
          ],
          [
           "2022-04-03",
           "08:48:00"
          ],
          [
           "2022-04-03",
           "08:48:00"
          ],
          [
           "2022-04-03",
           "08:48:00"
          ],
          [
           "2022-04-03",
           "08:48:00"
          ],
          [
           "2022-04-03",
           "08:48:00"
          ],
          [
           "2022-04-03",
           "08:48:00"
          ],
          [
           "2022-04-03",
           "08:48:00"
          ],
          [
           "2022-04-03",
           "08:48:00"
          ],
          [
           "2022-04-03",
           "08:48:00"
          ],
          [
           "2022-04-03",
           "08:48:00"
          ],
          [
           "2022-04-03",
           "08:50:00"
          ],
          [
           "2022-04-03",
           "08:50:00"
          ],
          [
           "2022-04-03",
           "08:50:00"
          ],
          [
           "2022-04-03",
           "08:50:00"
          ],
          [
           "2022-04-03",
           "08:50:00"
          ],
          [
           "2022-04-03",
           "08:50:00"
          ],
          [
           "2022-04-03",
           "08:50:00"
          ],
          [
           "2022-04-03",
           "08:50:00"
          ],
          [
           "2022-04-03",
           "08:50:00"
          ],
          [
           "2022-04-03",
           "08:50:00"
          ],
          [
           "2022-04-03",
           "08:50:00"
          ],
          [
           "2022-04-03",
           "08:50:00"
          ],
          [
           "2022-04-03",
           "08:50:00"
          ],
          [
           "2022-04-03",
           "09:00:00"
          ],
          [
           "2022-04-03",
           "09:00:00"
          ],
          [
           "2022-04-03",
           "09:00:00"
          ],
          [
           "2022-04-03",
           "09:00:00"
          ],
          [
           "2022-04-03",
           "09:00:00"
          ],
          [
           "2022-04-03",
           "09:00:00"
          ],
          [
           "2022-04-03",
           "09:00:00"
          ],
          [
           "2022-04-03",
           "09:00:00"
          ],
          [
           "2022-04-03",
           "09:02:00"
          ],
          [
           "2022-04-03",
           "08:54:00"
          ],
          [
           "2022-04-03",
           "08:54:00"
          ],
          [
           "2022-04-03",
           "08:54:00"
          ],
          [
           "2022-04-03",
           "08:54:00"
          ],
          [
           "2022-04-03",
           "08:54:00"
          ],
          [
           "2022-04-03",
           "08:54:00"
          ],
          [
           "2022-04-03",
           "08:54:00"
          ],
          [
           "2022-04-03",
           "08:54:00"
          ],
          [
           "2022-04-03",
           "08:54:00"
          ],
          [
           "2022-04-03",
           "08:54:00"
          ],
          [
           "2022-04-03",
           "08:54:00"
          ],
          [
           "2022-04-03",
           "08:54:00"
          ],
          [
           "2022-04-03",
           "08:54:00"
          ],
          [
           "2022-04-03",
           "08:54:00"
          ],
          [
           "2022-04-03",
           "08:54:00"
          ],
          [
           "2022-04-03",
           "08:54:00"
          ],
          [
           "2022-04-03",
           "08:54:00"
          ],
          [
           "2022-04-03",
           "08:56:00"
          ],
          [
           "2022-04-03",
           "08:56:00"
          ],
          [
           "2022-04-03",
           "08:56:00"
          ],
          [
           "2022-04-03",
           "08:56:00"
          ],
          [
           "2022-04-03",
           "08:56:00"
          ],
          [
           "2022-04-03",
           "08:56:00"
          ],
          [
           "2022-04-03",
           "08:56:00"
          ],
          [
           "2022-04-03",
           "08:56:00"
          ],
          [
           "2022-04-03",
           "08:56:00"
          ],
          [
           "2022-04-03",
           "08:56:00"
          ],
          [
           "2022-04-03",
           "08:56:00"
          ],
          [
           "2022-04-03",
           "08:56:00"
          ],
          [
           "2022-04-03",
           "08:56:00"
          ],
          [
           "2022-04-03",
           "08:56:00"
          ],
          [
           "2022-04-03",
           "08:56:00"
          ],
          [
           "2022-04-03",
           "08:56:00"
          ],
          [
           "2022-04-03",
           "08:56:00"
          ],
          [
           "2022-04-03",
           "08:56:00"
          ],
          [
           "2022-04-03",
           "08:56:00"
          ],
          [
           "2022-04-03",
           "08:56:00"
          ],
          [
           "2022-04-03",
           "08:56:00"
          ],
          [
           "2022-04-03",
           "08:56:00"
          ],
          [
           "2022-04-03",
           "08:56:00"
          ],
          [
           "2022-04-03",
           "08:56:00"
          ],
          [
           "2022-04-03",
           "08:56:00"
          ],
          [
           "2022-04-03",
           "08:56:00"
          ],
          [
           "2022-04-03",
           "08:56:00"
          ],
          [
           "2022-04-03",
           "08:56:00"
          ],
          [
           "2022-04-03",
           "08:56:00"
          ],
          [
           "2022-04-03",
           "08:56:00"
          ],
          [
           "2022-04-03",
           "08:56:00"
          ],
          [
           "2022-04-03",
           "08:56:00"
          ],
          [
           "2022-04-03",
           "08:56:00"
          ],
          [
           "2022-04-03",
           "08:56:00"
          ],
          [
           "2022-04-03",
           "08:56:00"
          ],
          [
           "2022-04-03",
           "08:56:00"
          ],
          [
           "2022-04-03",
           "08:56:00"
          ],
          [
           "2022-04-03",
           "08:56:00"
          ],
          [
           "2022-04-03",
           "08:56:00"
          ],
          [
           "2022-04-03",
           "08:56:00"
          ],
          [
           "2022-04-03",
           "08:56:00"
          ],
          [
           "2022-04-03",
           "08:56:00"
          ],
          [
           "2022-04-03",
           "08:56:00"
          ],
          [
           "2022-04-03",
           "08:56:00"
          ],
          [
           "2022-04-03",
           "08:43:00"
          ],
          [
           "2022-04-03",
           "08:43:00"
          ],
          [
           "2022-04-03",
           "10:21:00"
          ],
          [
           "2022-04-03",
           "10:21:00"
          ],
          [
           "2022-04-03",
           "10:21:00"
          ],
          [
           "2022-04-03",
           "10:21:00"
          ],
          [
           "2022-04-03",
           "10:24:00"
          ],
          [
           "2022-04-03",
           "10:24:00"
          ],
          [
           "2022-04-03",
           "10:24:00"
          ],
          [
           "2022-04-03",
           "10:24:00"
          ],
          [
           "2022-04-03",
           "10:24:00"
          ],
          [
           "2022-04-03",
           "10:24:00"
          ],
          [
           "2022-04-03",
           "10:24:00"
          ],
          [
           "2022-04-03",
           "10:24:00"
          ],
          [
           "2022-04-03",
           "10:24:00"
          ],
          [
           "2022-04-03",
           "10:24:00"
          ],
          [
           "2022-04-03",
           "10:24:00"
          ],
          [
           "2022-04-03",
           "10:34:00"
          ],
          [
           "2022-04-03",
           "10:34:00"
          ],
          [
           "2022-04-03",
           "10:34:00"
          ],
          [
           "2022-04-03",
           "10:34:00"
          ],
          [
           "2022-04-03",
           "10:34:00"
          ],
          [
           "2022-04-03",
           "10:34:00"
          ],
          [
           "2022-04-03",
           "10:34:00"
          ],
          [
           "2022-04-03",
           "10:34:00"
          ],
          [
           "2022-04-03",
           "10:34:00"
          ],
          [
           "2022-04-03",
           "10:36:00"
          ],
          [
           "2022-04-03",
           "11:17:00"
          ],
          [
           "2022-04-03",
           "12:57:00"
          ],
          [
           "2022-04-03",
           "12:57:00"
          ],
          [
           "2022-04-03",
           "12:57:00"
          ],
          [
           "2022-04-03",
           "12:57:00"
          ],
          [
           "2022-04-03",
           "13:18:00"
          ],
          [
           "2022-04-03",
           "13:18:00"
          ],
          [
           "2022-04-03",
           "13:18:00"
          ],
          [
           "2022-04-03",
           "13:18:00"
          ],
          [
           "2022-04-03",
           "13:18:00"
          ],
          [
           "2022-04-03",
           "13:18:00"
          ],
          [
           "2022-04-03",
           "13:18:00"
          ],
          [
           "2022-04-03",
           "13:18:00"
          ],
          [
           "2022-04-03",
           "13:18:00"
          ],
          [
           "2022-04-03",
           "13:18:00"
          ],
          [
           "2022-04-03",
           "13:18:00"
          ],
          [
           "2022-04-03",
           "13:18:00"
          ],
          [
           "2022-04-03",
           "13:18:00"
          ],
          [
           "2022-04-03",
           "13:18:00"
          ],
          [
           "2022-04-03",
           "13:18:00"
          ],
          [
           "2022-04-03",
           "13:18:00"
          ],
          [
           "2022-04-03",
           "13:18:00"
          ],
          [
           "2022-04-03",
           "13:18:00"
          ],
          [
           "2022-04-03",
           "13:18:00"
          ],
          [
           "2022-04-03",
           "13:21:00"
          ],
          [
           "2022-04-03",
           "13:21:00"
          ],
          [
           "2022-04-03",
           "13:21:00"
          ],
          [
           "2022-04-03",
           "13:21:00"
          ],
          [
           "2022-04-03",
           "13:21:00"
          ],
          [
           "2022-04-03",
           "13:21:00"
          ],
          [
           "2022-04-03",
           "13:21:00"
          ],
          [
           "2022-04-03",
           "13:14:00"
          ],
          [
           "2022-04-03",
           "13:16:00"
          ],
          [
           "2022-04-03",
           "13:16:00"
          ],
          [
           "2022-04-03",
           "13:16:00"
          ],
          [
           "2022-04-03",
           "13:18:00"
          ],
          [
           "2022-04-03",
           "13:18:00"
          ],
          [
           "2022-04-03",
           "13:18:00"
          ],
          [
           "2022-04-03",
           "13:18:00"
          ],
          [
           "2022-04-03",
           "13:18:00"
          ],
          [
           "2022-04-03",
           "13:18:00"
          ],
          [
           "2022-04-03",
           "13:18:00"
          ],
          [
           "2022-04-03",
           "13:18:00"
          ],
          [
           "2022-04-03",
           "13:18:00"
          ],
          [
           "2022-04-03",
           "13:18:00"
          ],
          [
           "2022-04-03",
           "13:18:00"
          ],
          [
           "2022-04-03",
           "13:18:00"
          ],
          [
           "2022-04-03",
           "13:18:00"
          ],
          [
           "2022-04-03",
           "13:18:00"
          ],
          [
           "2022-04-03",
           "13:18:00"
          ],
          [
           "2022-04-03",
           "13:18:00"
          ],
          [
           "2022-04-03",
           "13:18:00"
          ],
          [
           "2022-04-03",
           "13:18:00"
          ],
          [
           "2022-04-03",
           "13:18:00"
          ],
          [
           "2022-04-03",
           "13:18:00"
          ],
          [
           "2022-04-03",
           "13:18:00"
          ],
          [
           "2022-04-03",
           "13:18:00"
          ],
          [
           "2022-04-03",
           "13:18:00"
          ],
          [
           "2022-04-03",
           "12:59:00"
          ],
          [
           "2022-04-03",
           "13:01:00"
          ],
          [
           "2022-04-03",
           "13:01:00"
          ],
          [
           "2022-04-03",
           "13:01:00"
          ],
          [
           "2022-04-03",
           "13:01:00"
          ],
          [
           "2022-04-03",
           "13:01:00"
          ],
          [
           "2022-04-03",
           "13:01:00"
          ],
          [
           "2022-04-03",
           "13:01:00"
          ],
          [
           "2022-04-03",
           "13:01:00"
          ],
          [
           "2022-04-03",
           "13:01:00"
          ],
          [
           "2022-04-03",
           "13:01:00"
          ],
          [
           "2022-04-03",
           "13:01:00"
          ],
          [
           "2022-04-03",
           "13:01:00"
          ],
          [
           "2022-04-03",
           "13:57:00"
          ],
          [
           "2022-04-03",
           "13:57:00"
          ],
          [
           "2022-04-03",
           "13:57:00"
          ],
          [
           "2022-04-03",
           "13:57:00"
          ],
          [
           "2022-04-03",
           "13:57:00"
          ],
          [
           "2022-04-03",
           "13:57:00"
          ],
          [
           "2022-04-03",
           "13:57:00"
          ],
          [
           "2022-04-03",
           "13:57:00"
          ],
          [
           "2022-04-03",
           "13:57:00"
          ],
          [
           "2022-04-03",
           "13:57:00"
          ],
          [
           "2022-04-03",
           "13:57:00"
          ],
          [
           "2022-04-03",
           "13:59:00"
          ],
          [
           "2022-04-03",
           "13:59:00"
          ],
          [
           "2022-04-03",
           "13:59:00"
          ],
          [
           "2022-04-03",
           "13:59:00"
          ],
          [
           "2022-04-03",
           "13:59:00"
          ],
          [
           "2022-04-03",
           "13:59:00"
          ],
          [
           "2022-04-03",
           "13:59:00"
          ],
          [
           "2022-04-03",
           "13:59:00"
          ],
          [
           "2022-04-03",
           "13:59:00"
          ],
          [
           "2022-04-03",
           "13:59:00"
          ],
          [
           "2022-04-03",
           "13:59:00"
          ],
          [
           "2022-04-03",
           "13:59:00"
          ],
          [
           "2022-04-03",
           "13:59:00"
          ],
          [
           "2022-04-03",
           "13:59:00"
          ],
          [
           "2022-04-03",
           "13:59:00"
          ],
          [
           "2022-04-03",
           "13:59:00"
          ],
          [
           "2022-04-03",
           "13:59:00"
          ],
          [
           "2022-04-03",
           "13:59:00"
          ],
          [
           "2022-04-03",
           "13:59:00"
          ],
          [
           "2022-04-03",
           "13:59:00"
          ],
          [
           "2022-04-03",
           "13:59:00"
          ],
          [
           "2022-04-03",
           "13:59:00"
          ],
          [
           "2022-04-03",
           "13:59:00"
          ],
          [
           "2022-04-03",
           "13:59:00"
          ],
          [
           "2022-04-03",
           "13:59:00"
          ],
          [
           "2022-04-03",
           "13:59:00"
          ],
          [
           "2022-04-03",
           "13:59:00"
          ],
          [
           "2022-04-03",
           "13:59:00"
          ],
          [
           "2022-04-03",
           "13:59:00"
          ],
          [
           "2022-04-03",
           "13:59:00"
          ],
          [
           "2022-04-03",
           "13:59:00"
          ],
          [
           "2022-04-03",
           "13:59:00"
          ],
          [
           "2022-04-03",
           "13:59:00"
          ],
          [
           "2022-04-03",
           "13:59:00"
          ],
          [
           "2022-04-03",
           "13:59:00"
          ],
          [
           "2022-04-03",
           "13:59:00"
          ],
          [
           "2022-04-03",
           "13:59:00"
          ],
          [
           "2022-04-03",
           "13:59:00"
          ],
          [
           "2022-04-03",
           "13:59:00"
          ],
          [
           "2022-04-03",
           "13:59:00"
          ],
          [
           "2022-04-03",
           "13:59:00"
          ],
          [
           "2022-04-03",
           "13:59:00"
          ],
          [
           "2022-04-03",
           "13:59:00"
          ],
          [
           "2022-04-03",
           "13:59:00"
          ],
          [
           "2022-04-03",
           "13:59:00"
          ],
          [
           "2022-04-03",
           "13:59:00"
          ],
          [
           "2022-04-03",
           "13:59:00"
          ],
          [
           "2022-04-03",
           "13:59:00"
          ],
          [
           "2022-04-03",
           "13:59:00"
          ],
          [
           "2022-04-03",
           "13:59:00"
          ],
          [
           "2022-04-03",
           "13:59:00"
          ],
          [
           "2022-04-03",
           "13:59:00"
          ],
          [
           "2022-04-03",
           "13:59:00"
          ],
          [
           "2022-04-03",
           "13:59:00"
          ],
          [
           "2022-04-03",
           "13:59:00"
          ],
          [
           "2022-04-03",
           "13:59:00"
          ],
          [
           "2022-04-03",
           "13:59:00"
          ],
          [
           "2022-04-03",
           "13:59:00"
          ],
          [
           "2022-04-03",
           "13:59:00"
          ],
          [
           "2022-04-03",
           "13:59:00"
          ],
          [
           "2022-04-03",
           "13:59:00"
          ],
          [
           "2022-04-03",
           "13:59:00"
          ],
          [
           "2022-04-03",
           "13:59:00"
          ],
          [
           "2022-04-03",
           "13:59:00"
          ],
          [
           "2022-04-03",
           "13:59:00"
          ],
          [
           "2022-04-03",
           "13:59:00"
          ],
          [
           "2022-04-03",
           "13:59:00"
          ],
          [
           "2022-04-03",
           "13:59:00"
          ],
          [
           "2022-04-03",
           "13:59:00"
          ],
          [
           "2022-04-03",
           "13:59:00"
          ],
          [
           "2022-04-03",
           "13:59:00"
          ],
          [
           "2022-04-03",
           "13:59:00"
          ],
          [
           "2022-04-03",
           "13:59:00"
          ],
          [
           "2022-04-03",
           "13:59:00"
          ],
          [
           "2022-04-03",
           "13:59:00"
          ],
          [
           "2022-04-03",
           "13:59:00"
          ],
          [
           "2022-04-03",
           "13:59:00"
          ],
          [
           "2022-04-03",
           "13:59:00"
          ],
          [
           "2022-04-03",
           "13:59:00"
          ],
          [
           "2022-04-03",
           "13:59:00"
          ],
          [
           "2022-04-03",
           "13:59:00"
          ],
          [
           "2022-04-03",
           "13:59:00"
          ],
          [
           "2022-04-03",
           "13:59:00"
          ],
          [
           "2022-04-03",
           "13:59:00"
          ],
          [
           "2022-04-03",
           "13:59:00"
          ],
          [
           "2022-04-03",
           "13:59:00"
          ],
          [
           "2022-04-03",
           "13:59:00"
          ],
          [
           "2022-04-03",
           "13:59:00"
          ],
          [
           "2022-04-03",
           "13:59:00"
          ],
          [
           "2022-04-03",
           "13:59:00"
          ],
          [
           "2022-04-03",
           "13:59:00"
          ],
          [
           "2022-04-03",
           "13:59:00"
          ],
          [
           "2022-04-03",
           "13:59:00"
          ],
          [
           "2022-04-03",
           "13:59:00"
          ],
          [
           "2022-04-03",
           "13:59:00"
          ],
          [
           "2022-04-03",
           "13:59:00"
          ],
          [
           "2022-04-03",
           "13:59:00"
          ],
          [
           "2022-04-03",
           "13:59:00"
          ],
          [
           "2022-04-03",
           "13:59:00"
          ],
          [
           "2022-04-03",
           "13:59:00"
          ],
          [
           "2022-04-03",
           "13:59:00"
          ],
          [
           "2022-04-03",
           "13:59:00"
          ],
          [
           "2022-04-03",
           "13:59:00"
          ],
          [
           "2022-04-03",
           "13:59:00"
          ],
          [
           "2022-04-03",
           "13:59:00"
          ],
          [
           "2022-04-03",
           "13:59:00"
          ],
          [
           "2022-04-03",
           "13:59:00"
          ],
          [
           "2022-04-03",
           "13:59:00"
          ],
          [
           "2022-04-03",
           "13:59:00"
          ],
          [
           "2022-04-03",
           "13:59:00"
          ],
          [
           "2022-04-03",
           "13:59:00"
          ],
          [
           "2022-04-03",
           "13:59:00"
          ],
          [
           "2022-04-03",
           "13:59:00"
          ],
          [
           "2022-04-03",
           "13:59:00"
          ],
          [
           "2022-04-03",
           "13:59:00"
          ],
          [
           "2022-04-03",
           "13:59:00"
          ],
          [
           "2022-04-03",
           "13:59:00"
          ],
          [
           "2022-04-03",
           "13:59:00"
          ],
          [
           "2022-04-03",
           "13:59:00"
          ],
          [
           "2022-04-03",
           "13:59:00"
          ],
          [
           "2022-04-03",
           "13:59:00"
          ],
          [
           "2022-04-03",
           "13:59:00"
          ],
          [
           "2022-04-03",
           "13:59:00"
          ],
          [
           "2022-04-03",
           "13:59:00"
          ],
          [
           "2022-04-03",
           "13:59:00"
          ],
          [
           "2022-04-03",
           "13:59:00"
          ],
          [
           "2022-04-03",
           "13:59:00"
          ],
          [
           "2022-04-03",
           "14:01:00"
          ],
          [
           "2022-04-03",
           "14:01:00"
          ],
          [
           "2022-04-03",
           "14:01:00"
          ],
          [
           "2022-04-03",
           "14:01:00"
          ],
          [
           "2022-04-03",
           "14:01:00"
          ],
          [
           "2022-04-03",
           "14:01:00"
          ],
          [
           "2022-04-03",
           "14:01:00"
          ],
          [
           "2022-04-03",
           "14:01:00"
          ],
          [
           "2022-04-03",
           "14:01:00"
          ],
          [
           "2022-04-03",
           "14:01:00"
          ],
          [
           "2022-04-03",
           "14:01:00"
          ],
          [
           "2022-04-03",
           "14:01:00"
          ],
          [
           "2022-04-03",
           "14:01:00"
          ],
          [
           "2022-04-03",
           "14:01:00"
          ],
          [
           "2022-04-03",
           "14:01:00"
          ],
          [
           "2022-04-03",
           "14:01:00"
          ],
          [
           "2022-04-03",
           "14:01:00"
          ],
          [
           "2022-04-03",
           "14:01:00"
          ],
          [
           "2022-04-03",
           "14:01:00"
          ],
          [
           "2022-04-03",
           "14:03:00"
          ],
          [
           "2022-04-03",
           "14:03:00"
          ],
          [
           "2022-04-03",
           "14:03:00"
          ],
          [
           "2022-04-03",
           "14:44:00"
          ],
          [
           "2022-04-03",
           "14:46:00"
          ],
          [
           "2022-04-03",
           "14:48:00"
          ],
          [
           "2022-04-03",
           "14:40:00"
          ],
          [
           "2022-04-03",
           "14:40:00"
          ],
          [
           "2022-04-03",
           "14:40:00"
          ],
          [
           "2022-04-03",
           "14:40:00"
          ],
          [
           "2022-04-03",
           "14:42:00"
          ],
          [
           "2022-04-03",
           "14:52:00"
          ],
          [
           "2022-04-03",
           "14:52:00"
          ],
          [
           "2022-04-03",
           "14:52:00"
          ],
          [
           "2022-04-03",
           "14:52:00"
          ],
          [
           "2022-04-03",
           "14:52:00"
          ],
          [
           "2022-04-03",
           "14:52:00"
          ],
          [
           "2022-04-03",
           "14:52:00"
          ],
          [
           "2022-04-03",
           "14:52:00"
          ],
          [
           "2022-04-03",
           "14:52:00"
          ],
          [
           "2022-04-03",
           "14:52:00"
          ],
          [
           "2022-04-03",
           "14:52:00"
          ],
          [
           "2022-04-03",
           "14:52:00"
          ],
          [
           "2022-04-03",
           "14:05:00"
          ],
          [
           "2022-04-03",
           "14:05:00"
          ],
          [
           "2022-04-03",
           "14:05:00"
          ],
          [
           "2022-04-03",
           "14:05:00"
          ],
          [
           "2022-04-03",
           "14:05:00"
          ],
          [
           "2022-04-03",
           "14:05:00"
          ],
          [
           "2022-04-03",
           "15:24:00"
          ],
          [
           "2022-04-03",
           "15:24:00"
          ],
          [
           "2022-04-03",
           "15:24:00"
          ],
          [
           "2022-04-03",
           "15:26:00"
          ],
          [
           "2022-04-03",
           "15:29:00"
          ],
          [
           "2022-04-03",
           "15:29:00"
          ],
          [
           "2022-04-03",
           "15:29:00"
          ],
          [
           "2022-04-03",
           "15:29:00"
          ],
          [
           "2022-04-03",
           "15:29:00"
          ],
          [
           "2022-04-03",
           "15:29:00"
          ],
          [
           "2022-04-03",
           "15:29:00"
          ],
          [
           "2022-04-03",
           "15:29:00"
          ],
          [
           "2022-04-03",
           "15:29:00"
          ],
          [
           "2022-04-03",
           "15:29:00"
          ],
          [
           "2022-04-03",
           "15:29:00"
          ],
          [
           "2022-04-03",
           "15:29:00"
          ],
          [
           "2022-04-03",
           "15:29:00"
          ],
          [
           "2022-04-03",
           "15:31:00"
          ],
          [
           "2022-04-03",
           "15:31:00"
          ],
          [
           "2022-04-03",
           "15:31:00"
          ],
          [
           "2022-04-03",
           "15:31:00"
          ],
          [
           "2022-04-03",
           "15:31:00"
          ],
          [
           "2022-04-03",
           "15:31:00"
          ],
          [
           "2022-04-03",
           "15:31:00"
          ],
          [
           "2022-04-03",
           "15:31:00"
          ],
          [
           "2022-04-03",
           "15:31:00"
          ],
          [
           "2022-04-03",
           "15:31:00"
          ],
          [
           "2022-04-03",
           "15:31:00"
          ],
          [
           "2022-04-03",
           "15:31:00"
          ],
          [
           "2022-04-03",
           "15:31:00"
          ],
          [
           "2022-04-03",
           "15:31:00"
          ],
          [
           "2022-04-03",
           "15:31:00"
          ],
          [
           "2022-04-03",
           "15:31:00"
          ],
          [
           "2022-04-03",
           "15:31:00"
          ],
          [
           "2022-04-03",
           "15:31:00"
          ],
          [
           "2022-04-03",
           "15:31:00"
          ],
          [
           "2022-04-03",
           "15:31:00"
          ],
          [
           "2022-04-03",
           "15:31:00"
          ],
          [
           "2022-04-03",
           "15:31:00"
          ],
          [
           "2022-04-03",
           "15:31:00"
          ],
          [
           "2022-04-03",
           "15:31:00"
          ],
          [
           "2022-04-03",
           "15:31:00"
          ],
          [
           "2022-04-03",
           "15:31:00"
          ],
          [
           "2022-04-03",
           "15:31:00"
          ],
          [
           "2022-04-03",
           "15:31:00"
          ],
          [
           "2022-04-03",
           "15:31:00"
          ],
          [
           "2022-04-03",
           "15:31:00"
          ],
          [
           "2022-04-03",
           "15:31:00"
          ],
          [
           "2022-04-03",
           "15:31:00"
          ],
          [
           "2022-04-03",
           "15:31:00"
          ],
          [
           "2022-04-03",
           "15:31:00"
          ],
          [
           "2022-04-03",
           "15:31:00"
          ],
          [
           "2022-04-03",
           "15:31:00"
          ],
          [
           "2022-04-03",
           "15:31:00"
          ],
          [
           "2022-04-03",
           "15:31:00"
          ],
          [
           "2022-04-03",
           "15:31:00"
          ],
          [
           "2022-04-03",
           "15:31:00"
          ],
          [
           "2022-04-03",
           "15:31:00"
          ],
          [
           "2022-04-03",
           "15:31:00"
          ],
          [
           "2022-04-03",
           "15:31:00"
          ],
          [
           "2022-04-03",
           "15:31:00"
          ],
          [
           "2022-04-03",
           "15:31:00"
          ],
          [
           "2022-04-03",
           "15:31:00"
          ],
          [
           "2022-04-03",
           "15:31:00"
          ],
          [
           "2022-04-03",
           "15:31:00"
          ],
          [
           "2022-04-03",
           "15:31:00"
          ],
          [
           "2022-04-03",
           "15:31:00"
          ],
          [
           "2022-04-03",
           "15:31:00"
          ],
          [
           "2022-04-03",
           "15:33:00"
          ],
          [
           "2022-04-03",
           "15:33:00"
          ],
          [
           "2022-04-03",
           "15:33:00"
          ],
          [
           "2022-04-03",
           "15:33:00"
          ],
          [
           "2022-04-03",
           "15:33:00"
          ],
          [
           "2022-04-03",
           "15:33:00"
          ],
          [
           "2022-04-03",
           "15:35:00"
          ],
          [
           "2022-04-03",
           "15:35:00"
          ],
          [
           "2022-04-03",
           "15:35:00"
          ],
          [
           "2022-04-03",
           "15:35:00"
          ],
          [
           "2022-04-03",
           "15:37:00"
          ],
          [
           "2022-04-03",
           "15:37:00"
          ],
          [
           "2022-04-03",
           "15:37:00"
          ],
          [
           "2022-04-03",
           "15:37:00"
          ],
          [
           "2022-04-03",
           "15:37:00"
          ],
          [
           "2022-04-03",
           "15:37:00"
          ],
          [
           "2022-04-03",
           "15:37:00"
          ],
          [
           "2022-04-03",
           "15:37:00"
          ],
          [
           "2022-04-03",
           "15:37:00"
          ],
          [
           "2022-04-03",
           "14:57:00"
          ],
          [
           "2022-04-03",
           "14:57:00"
          ],
          [
           "2022-04-03",
           "15:01:00"
          ],
          [
           "2022-04-03",
           "16:35:00"
          ],
          [
           "2022-04-03",
           "16:35:00"
          ],
          [
           "2022-04-03",
           "16:28:00"
          ],
          [
           "2022-04-03",
           "16:28:00"
          ],
          [
           "2022-04-03",
           "16:28:00"
          ],
          [
           "2022-04-03",
           "16:28:00"
          ],
          [
           "2022-04-03",
           "16:28:00"
          ],
          [
           "2022-04-03",
           "16:28:00"
          ],
          [
           "2022-04-03",
           "16:28:00"
          ],
          [
           "2022-04-03",
           "16:30:00"
          ],
          [
           "2022-04-03",
           "16:30:00"
          ],
          [
           "2022-04-03",
           "16:30:00"
          ],
          [
           "2022-04-03",
           "16:30:00"
          ],
          [
           "2022-04-03",
           "16:30:00"
          ],
          [
           "2022-04-03",
           "16:30:00"
          ],
          [
           "2022-04-03",
           "16:30:00"
          ],
          [
           "2022-04-03",
           "16:30:00"
          ],
          [
           "2022-04-03",
           "16:30:00"
          ],
          [
           "2022-04-03",
           "16:30:00"
          ],
          [
           "2022-04-03",
           "16:30:00"
          ],
          [
           "2022-04-03",
           "16:30:00"
          ],
          [
           "2022-04-03",
           "16:30:00"
          ],
          [
           "2022-04-03",
           "16:30:00"
          ],
          [
           "2022-04-03",
           "16:30:00"
          ],
          [
           "2022-04-03",
           "16:30:00"
          ],
          [
           "2022-04-03",
           "16:30:00"
          ],
          [
           "2022-04-03",
           "16:30:00"
          ],
          [
           "2022-04-03",
           "16:30:00"
          ],
          [
           "2022-04-03",
           "16:30:00"
          ],
          [
           "2022-04-03",
           "16:30:00"
          ],
          [
           "2022-04-03",
           "16:30:00"
          ],
          [
           "2022-04-03",
           "16:30:00"
          ],
          [
           "2022-04-03",
           "16:30:00"
          ],
          [
           "2022-04-03",
           "16:30:00"
          ],
          [
           "2022-04-03",
           "16:30:00"
          ],
          [
           "2022-04-03",
           "16:30:00"
          ],
          [
           "2022-04-03",
           "16:30:00"
          ],
          [
           "2022-04-03",
           "16:30:00"
          ],
          [
           "2022-04-03",
           "16:30:00"
          ],
          [
           "2022-04-03",
           "16:30:00"
          ],
          [
           "2022-04-03",
           "16:30:00"
          ],
          [
           "2022-04-03",
           "16:30:00"
          ],
          [
           "2022-04-03",
           "16:30:00"
          ],
          [
           "2022-04-03",
           "16:30:00"
          ],
          [
           "2022-04-03",
           "16:30:00"
          ],
          [
           "2022-04-03",
           "16:30:00"
          ],
          [
           "2022-04-03",
           "16:30:00"
          ],
          [
           "2022-04-03",
           "16:30:00"
          ],
          [
           "2022-04-03",
           "16:30:00"
          ],
          [
           "2022-04-03",
           "16:30:00"
          ],
          [
           "2022-04-03",
           "16:30:00"
          ],
          [
           "2022-04-03",
           "16:30:00"
          ],
          [
           "2022-04-03",
           "16:30:00"
          ],
          [
           "2022-04-03",
           "16:30:00"
          ],
          [
           "2022-04-03",
           "16:30:00"
          ],
          [
           "2022-04-03",
           "16:30:00"
          ],
          [
           "2022-04-03",
           "16:30:00"
          ],
          [
           "2022-04-03",
           "16:30:00"
          ],
          [
           "2022-04-03",
           "16:30:00"
          ],
          [
           "2022-04-03",
           "16:30:00"
          ],
          [
           "2022-04-03",
           "16:30:00"
          ],
          [
           "2022-04-03",
           "16:30:00"
          ],
          [
           "2022-04-03",
           "16:30:00"
          ],
          [
           "2022-04-03",
           "16:30:00"
          ],
          [
           "2022-04-03",
           "16:30:00"
          ],
          [
           "2022-04-03",
           "16:30:00"
          ],
          [
           "2022-04-03",
           "16:30:00"
          ],
          [
           "2022-04-03",
           "16:30:00"
          ],
          [
           "2022-04-03",
           "16:30:00"
          ],
          [
           "2022-04-03",
           "16:30:00"
          ],
          [
           "2022-04-03",
           "16:30:00"
          ],
          [
           "2022-04-03",
           "16:30:00"
          ],
          [
           "2022-04-03",
           "16:30:00"
          ],
          [
           "2022-04-03",
           "16:30:00"
          ],
          [
           "2022-04-03",
           "16:30:00"
          ],
          [
           "2022-04-03",
           "16:30:00"
          ],
          [
           "2022-04-03",
           "16:30:00"
          ],
          [
           "2022-04-03",
           "16:30:00"
          ],
          [
           "2022-04-03",
           "16:30:00"
          ],
          [
           "2022-04-03",
           "16:30:00"
          ],
          [
           "2022-04-03",
           "16:30:00"
          ],
          [
           "2022-04-03",
           "16:30:00"
          ],
          [
           "2022-04-03",
           "16:30:00"
          ],
          [
           "2022-04-03",
           "16:30:00"
          ],
          [
           "2022-04-03",
           "16:30:00"
          ],
          [
           "2022-04-03",
           "16:30:00"
          ],
          [
           "2022-04-03",
           "16:30:00"
          ],
          [
           "2022-04-03",
           "16:30:00"
          ],
          [
           "2022-04-03",
           "16:30:00"
          ],
          [
           "2022-04-03",
           "16:30:00"
          ],
          [
           "2022-04-03",
           "16:30:00"
          ],
          [
           "2022-04-03",
           "16:30:00"
          ],
          [
           "2022-04-03",
           "16:30:00"
          ],
          [
           "2022-04-03",
           "16:30:00"
          ],
          [
           "2022-04-03",
           "16:30:00"
          ],
          [
           "2022-04-03",
           "16:30:00"
          ],
          [
           "2022-04-03",
           "16:30:00"
          ],
          [
           "2022-04-03",
           "16:30:00"
          ],
          [
           "2022-04-03",
           "16:30:00"
          ],
          [
           "2022-04-03",
           "16:33:00"
          ],
          [
           "2022-04-03",
           "16:33:00"
          ],
          [
           "2022-04-03",
           "16:33:00"
          ],
          [
           "2022-04-03",
           "16:33:00"
          ],
          [
           "2022-04-03",
           "16:33:00"
          ],
          [
           "2022-04-03",
           "16:33:00"
          ],
          [
           "2022-04-03",
           "16:33:00"
          ],
          [
           "2022-04-03",
           "16:33:00"
          ],
          [
           "2022-04-03",
           "16:33:00"
          ],
          [
           "2022-04-03",
           "16:33:00"
          ],
          [
           "2022-04-03",
           "16:33:00"
          ],
          [
           "2022-04-03",
           "16:33:00"
          ],
          [
           "2022-04-03",
           "16:33:00"
          ],
          [
           "2022-04-03",
           "17:02:00"
          ],
          [
           "2022-04-03",
           "17:02:00"
          ],
          [
           "2022-04-03",
           "17:02:00"
          ],
          [
           "2022-04-03",
           "17:02:00"
          ],
          [
           "2022-04-03",
           "17:02:00"
          ],
          [
           "2022-04-03",
           "17:02:00"
          ],
          [
           "2022-04-03",
           "17:02:00"
          ],
          [
           "2022-04-03",
           "17:02:00"
          ],
          [
           "2022-04-03",
           "17:02:00"
          ],
          [
           "2022-04-03",
           "17:02:00"
          ],
          [
           "2022-04-03",
           "17:02:00"
          ],
          [
           "2022-04-03",
           "17:02:00"
          ],
          [
           "2022-04-03",
           "17:02:00"
          ],
          [
           "2022-04-03",
           "17:02:00"
          ],
          [
           "2022-04-03",
           "17:02:00"
          ],
          [
           "2022-04-03",
           "17:02:00"
          ],
          [
           "2022-04-03",
           "17:02:00"
          ],
          [
           "2022-04-03",
           "17:02:00"
          ],
          [
           "2022-04-03",
           "17:02:00"
          ],
          [
           "2022-04-03",
           "17:02:00"
          ],
          [
           "2022-04-03",
           "17:02:00"
          ],
          [
           "2022-04-03",
           "17:02:00"
          ],
          [
           "2022-04-03",
           "17:02:00"
          ],
          [
           "2022-04-03",
           "17:02:00"
          ],
          [
           "2022-04-03",
           "17:02:00"
          ],
          [
           "2022-04-03",
           "17:05:00"
          ],
          [
           "2022-04-03",
           "17:05:00"
          ],
          [
           "2022-04-03",
           "17:05:00"
          ],
          [
           "2022-04-03",
           "17:05:00"
          ],
          [
           "2022-04-03",
           "17:05:00"
          ],
          [
           "2022-04-03",
           "17:05:00"
          ],
          [
           "2022-04-03",
           "17:05:00"
          ],
          [
           "2022-04-03",
           "17:05:00"
          ],
          [
           "2022-04-03",
           "17:05:00"
          ],
          [
           "2022-04-03",
           "17:05:00"
          ],
          [
           "2022-04-03",
           "17:05:00"
          ],
          [
           "2022-04-03",
           "17:05:00"
          ],
          [
           "2022-04-03",
           "17:05:00"
          ],
          [
           "2022-04-03",
           "17:05:00"
          ],
          [
           "2022-04-03",
           "17:05:00"
          ],
          [
           "2022-04-03",
           "17:05:00"
          ],
          [
           "2022-04-03",
           "17:05:00"
          ],
          [
           "2022-04-03",
           "17:05:00"
          ],
          [
           "2022-04-03",
           "17:05:00"
          ],
          [
           "2022-04-03",
           "17:05:00"
          ],
          [
           "2022-04-03",
           "17:05:00"
          ],
          [
           "2022-04-03",
           "17:05:00"
          ],
          [
           "2022-04-03",
           "17:05:00"
          ],
          [
           "2022-04-03",
           "17:05:00"
          ],
          [
           "2022-04-03",
           "17:05:00"
          ],
          [
           "2022-04-03",
           "17:05:00"
          ],
          [
           "2022-04-03",
           "17:05:00"
          ],
          [
           "2022-04-03",
           "17:05:00"
          ],
          [
           "2022-04-03",
           "17:05:00"
          ],
          [
           "2022-04-03",
           "17:05:00"
          ],
          [
           "2022-04-03",
           "17:05:00"
          ],
          [
           "2022-04-03",
           "17:05:00"
          ],
          [
           "2022-04-03",
           "17:05:00"
          ],
          [
           "2022-04-03",
           "17:05:00"
          ],
          [
           "2022-04-03",
           "17:05:00"
          ],
          [
           "2022-04-03",
           "17:05:00"
          ],
          [
           "2022-04-03",
           "17:05:00"
          ],
          [
           "2022-04-03",
           "17:05:00"
          ],
          [
           "2022-04-03",
           "17:05:00"
          ],
          [
           "2022-04-03",
           "17:05:00"
          ],
          [
           "2022-04-03",
           "17:05:00"
          ],
          [
           "2022-04-03",
           "17:05:00"
          ],
          [
           "2022-04-03",
           "17:05:00"
          ],
          [
           "2022-04-03",
           "17:05:00"
          ],
          [
           "2022-04-03",
           "17:05:00"
          ],
          [
           "2022-04-03",
           "17:05:00"
          ],
          [
           "2022-04-03",
           "17:05:00"
          ],
          [
           "2022-04-03",
           "17:05:00"
          ],
          [
           "2022-04-03",
           "17:05:00"
          ],
          [
           "2022-04-03",
           "17:05:00"
          ],
          [
           "2022-04-03",
           "17:05:00"
          ],
          [
           "2022-04-03",
           "17:05:00"
          ],
          [
           "2022-04-03",
           "17:05:00"
          ],
          [
           "2022-04-03",
           "17:05:00"
          ],
          [
           "2022-04-03",
           "17:05:00"
          ],
          [
           "2022-04-03",
           "17:05:00"
          ],
          [
           "2022-04-03",
           "17:05:00"
          ],
          [
           "2022-04-03",
           "17:05:00"
          ],
          [
           "2022-04-03",
           "17:05:00"
          ],
          [
           "2022-04-03",
           "17:05:00"
          ],
          [
           "2022-04-03",
           "17:05:00"
          ],
          [
           "2022-04-03",
           "17:05:00"
          ],
          [
           "2022-04-03",
           "17:05:00"
          ],
          [
           "2022-04-03",
           "17:05:00"
          ],
          [
           "2022-04-03",
           "17:05:00"
          ],
          [
           "2022-04-03",
           "17:05:00"
          ],
          [
           "2022-04-03",
           "17:05:00"
          ],
          [
           "2022-04-03",
           "17:05:00"
          ],
          [
           "2022-04-03",
           "17:05:00"
          ],
          [
           "2022-04-03",
           "17:05:00"
          ],
          [
           "2022-04-03",
           "17:05:00"
          ],
          [
           "2022-04-03",
           "17:05:00"
          ],
          [
           "2022-04-03",
           "17:05:00"
          ],
          [
           "2022-04-03",
           "17:05:00"
          ],
          [
           "2022-04-03",
           "17:05:00"
          ],
          [
           "2022-04-03",
           "17:05:00"
          ],
          [
           "2022-04-03",
           "17:05:00"
          ],
          [
           "2022-04-03",
           "17:05:00"
          ],
          [
           "2022-04-03",
           "17:05:00"
          ],
          [
           "2022-04-03",
           "17:05:00"
          ],
          [
           "2022-04-03",
           "17:05:00"
          ],
          [
           "2022-04-03",
           "17:05:00"
          ],
          [
           "2022-04-03",
           "17:05:00"
          ],
          [
           "2022-04-03",
           "17:05:00"
          ],
          [
           "2022-04-03",
           "17:05:00"
          ],
          [
           "2022-04-03",
           "17:05:00"
          ],
          [
           "2022-04-03",
           "17:05:00"
          ],
          [
           "2022-04-03",
           "17:05:00"
          ],
          [
           "2022-04-03",
           "17:05:00"
          ],
          [
           "2022-04-03",
           "17:05:00"
          ],
          [
           "2022-04-03",
           "17:05:00"
          ],
          [
           "2022-04-03",
           "17:05:00"
          ],
          [
           "2022-04-03",
           "17:05:00"
          ],
          [
           "2022-04-03",
           "17:05:00"
          ],
          [
           "2022-04-03",
           "17:05:00"
          ],
          [
           "2022-04-03",
           "17:05:00"
          ],
          [
           "2022-04-03",
           "17:05:00"
          ],
          [
           "2022-04-03",
           "17:05:00"
          ],
          [
           "2022-04-03",
           "17:05:00"
          ],
          [
           "2022-04-03",
           "17:05:00"
          ],
          [
           "2022-04-03",
           "17:05:00"
          ],
          [
           "2022-04-03",
           "17:05:00"
          ],
          [
           "2022-04-03",
           "17:05:00"
          ],
          [
           "2022-04-03",
           "17:05:00"
          ],
          [
           "2022-04-03",
           "17:05:00"
          ],
          [
           "2022-04-03",
           "17:05:00"
          ],
          [
           "2022-04-03",
           "17:05:00"
          ],
          [
           "2022-04-03",
           "17:05:00"
          ],
          [
           "2022-04-03",
           "17:05:00"
          ],
          [
           "2022-04-03",
           "17:05:00"
          ],
          [
           "2022-04-03",
           "17:05:00"
          ],
          [
           "2022-04-03",
           "17:05:00"
          ],
          [
           "2022-04-03",
           "17:05:00"
          ],
          [
           "2022-04-03",
           "17:05:00"
          ],
          [
           "2022-04-03",
           "17:05:00"
          ],
          [
           "2022-04-03",
           "17:05:00"
          ],
          [
           "2022-04-03",
           "17:05:00"
          ],
          [
           "2022-04-03",
           "17:05:00"
          ],
          [
           "2022-04-03",
           "17:05:00"
          ],
          [
           "2022-04-03",
           "17:05:00"
          ],
          [
           "2022-04-03",
           "17:07:00"
          ],
          [
           "2022-04-03",
           "17:07:00"
          ],
          [
           "2022-04-03",
           "17:07:00"
          ],
          [
           "2022-04-03",
           "17:07:00"
          ],
          [
           "2022-04-03",
           "17:07:00"
          ],
          [
           "2022-04-03",
           "17:07:00"
          ],
          [
           "2022-04-03",
           "17:07:00"
          ],
          [
           "2022-04-03",
           "17:07:00"
          ],
          [
           "2022-04-03",
           "17:07:00"
          ],
          [
           "2022-04-03",
           "17:07:00"
          ],
          [
           "2022-04-03",
           "17:07:00"
          ],
          [
           "2022-04-03",
           "17:07:00"
          ],
          [
           "2022-04-03",
           "17:07:00"
          ],
          [
           "2022-04-03",
           "17:09:00"
          ],
          [
           "2022-04-03",
           "17:09:00"
          ],
          [
           "2022-04-03",
           "17:09:00"
          ],
          [
           "2022-04-03",
           "17:09:00"
          ],
          [
           "2022-04-03",
           "17:09:00"
          ],
          [
           "2022-04-03",
           "17:09:00"
          ],
          [
           "2022-04-03",
           "17:09:00"
          ],
          [
           "2022-04-03",
           "17:09:00"
          ],
          [
           "2022-04-03",
           "17:09:00"
          ],
          [
           "2022-04-03",
           "17:09:00"
          ],
          [
           "2022-04-03",
           "17:09:00"
          ],
          [
           "2022-04-03",
           "17:09:00"
          ],
          [
           "2022-04-03",
           "17:09:00"
          ],
          [
           "2022-04-03",
           "17:09:00"
          ],
          [
           "2022-04-03",
           "17:09:00"
          ],
          [
           "2022-04-03",
           "17:09:00"
          ],
          [
           "2022-04-03",
           "17:09:00"
          ],
          [
           "2022-04-03",
           "17:09:00"
          ],
          [
           "2022-04-03",
           "17:09:00"
          ],
          [
           "2022-04-03",
           "17:09:00"
          ],
          [
           "2022-04-03",
           "17:09:00"
          ],
          [
           "2022-04-03",
           "17:09:00"
          ],
          [
           "2022-04-03",
           "17:09:00"
          ],
          [
           "2022-04-03",
           "17:09:00"
          ],
          [
           "2022-04-03",
           "17:09:00"
          ],
          [
           "2022-04-03",
           "17:09:00"
          ],
          [
           "2022-04-03",
           "17:09:00"
          ],
          [
           "2022-04-03",
           "17:09:00"
          ],
          [
           "2022-04-03",
           "17:09:00"
          ],
          [
           "2022-04-03",
           "17:09:00"
          ],
          [
           "2022-04-03",
           "17:09:00"
          ],
          [
           "2022-04-03",
           "17:09:00"
          ],
          [
           "2022-04-03",
           "17:09:00"
          ],
          [
           "2022-04-03",
           "17:09:00"
          ],
          [
           "2022-04-03",
           "17:09:00"
          ],
          [
           "2022-04-03",
           "17:09:00"
          ],
          [
           "2022-04-03",
           "17:09:00"
          ],
          [
           "2022-04-03",
           "17:09:00"
          ],
          [
           "2022-04-03",
           "17:09:00"
          ],
          [
           "2022-04-03",
           "17:09:00"
          ],
          [
           "2022-04-03",
           "17:09:00"
          ],
          [
           "2022-04-03",
           "17:09:00"
          ],
          [
           "2022-04-03",
           "17:09:00"
          ],
          [
           "2022-04-03",
           "17:09:00"
          ],
          [
           "2022-04-03",
           "17:09:00"
          ],
          [
           "2022-04-03",
           "17:09:00"
          ],
          [
           "2022-04-03",
           "17:09:00"
          ],
          [
           "2022-04-03",
           "17:09:00"
          ],
          [
           "2022-04-03",
           "17:09:00"
          ],
          [
           "2022-04-03",
           "17:09:00"
          ],
          [
           "2022-04-03",
           "17:09:00"
          ],
          [
           "2022-04-03",
           "17:09:00"
          ],
          [
           "2022-04-03",
           "17:09:00"
          ],
          [
           "2022-04-03",
           "16:39:00"
          ],
          [
           "2022-04-03",
           "18:09:00"
          ],
          [
           "2022-04-03",
           "18:09:00"
          ],
          [
           "2022-04-03",
           "18:09:00"
          ],
          [
           "2022-04-03",
           "18:09:00"
          ],
          [
           "2022-04-03",
           "18:09:00"
          ],
          [
           "2022-04-03",
           "18:09:00"
          ],
          [
           "2022-04-03",
           "18:09:00"
          ],
          [
           "2022-04-03",
           "18:09:00"
          ],
          [
           "2022-04-03",
           "18:09:00"
          ],
          [
           "2022-04-03",
           "18:11:00"
          ],
          [
           "2022-04-03",
           "18:11:00"
          ],
          [
           "2022-04-03",
           "18:11:00"
          ],
          [
           "2022-04-03",
           "18:11:00"
          ],
          [
           "2022-04-03",
           "18:11:00"
          ],
          [
           "2022-04-03",
           "18:11:00"
          ],
          [
           "2022-04-03",
           "18:11:00"
          ],
          [
           "2022-04-03",
           "18:11:00"
          ],
          [
           "2022-04-03",
           "18:11:00"
          ],
          [
           "2022-04-03",
           "18:11:00"
          ],
          [
           "2022-04-03",
           "18:11:00"
          ],
          [
           "2022-04-03",
           "18:11:00"
          ],
          [
           "2022-04-03",
           "18:11:00"
          ],
          [
           "2022-04-03",
           "18:11:00"
          ],
          [
           "2022-04-03",
           "18:11:00"
          ],
          [
           "2022-04-03",
           "18:11:00"
          ],
          [
           "2022-04-03",
           "18:11:00"
          ],
          [
           "2022-04-03",
           "18:11:00"
          ],
          [
           "2022-04-03",
           "18:11:00"
          ],
          [
           "2022-04-03",
           "18:11:00"
          ],
          [
           "2022-04-03",
           "18:11:00"
          ],
          [
           "2022-04-03",
           "18:11:00"
          ],
          [
           "2022-04-03",
           "18:11:00"
          ],
          [
           "2022-04-03",
           "18:11:00"
          ],
          [
           "2022-04-03",
           "18:11:00"
          ],
          [
           "2022-04-03",
           "18:11:00"
          ],
          [
           "2022-04-03",
           "18:11:00"
          ],
          [
           "2022-04-03",
           "18:11:00"
          ],
          [
           "2022-04-03",
           "18:11:00"
          ],
          [
           "2022-04-03",
           "18:11:00"
          ],
          [
           "2022-04-03",
           "18:11:00"
          ],
          [
           "2022-04-03",
           "18:11:00"
          ],
          [
           "2022-04-03",
           "18:11:00"
          ],
          [
           "2022-04-03",
           "18:11:00"
          ],
          [
           "2022-04-03",
           "18:11:00"
          ],
          [
           "2022-04-03",
           "18:11:00"
          ],
          [
           "2022-04-03",
           "18:11:00"
          ],
          [
           "2022-04-03",
           "18:11:00"
          ],
          [
           "2022-04-03",
           "18:11:00"
          ],
          [
           "2022-04-03",
           "18:11:00"
          ],
          [
           "2022-04-03",
           "18:11:00"
          ],
          [
           "2022-04-03",
           "18:13:00"
          ],
          [
           "2022-04-03",
           "18:13:00"
          ],
          [
           "2022-04-03",
           "18:13:00"
          ],
          [
           "2022-04-03",
           "18:13:00"
          ],
          [
           "2022-04-03",
           "18:15:00"
          ],
          [
           "2022-04-03",
           "18:15:00"
          ],
          [
           "2022-04-03",
           "18:15:00"
          ],
          [
           "2022-04-03",
           "18:17:00"
          ],
          [
           "2022-04-03",
           "18:17:00"
          ],
          [
           "2022-04-03",
           "18:17:00"
          ],
          [
           "2022-04-03",
           "18:17:00"
          ],
          [
           "2022-04-03",
           "18:17:00"
          ],
          [
           "2022-04-03",
           "18:09:00"
          ],
          [
           "2022-04-03",
           "18:09:00"
          ],
          [
           "2022-04-03",
           "18:09:00"
          ],
          [
           "2022-04-03",
           "18:38:00"
          ],
          [
           "2022-04-03",
           "18:38:00"
          ],
          [
           "2022-04-03",
           "18:38:00"
          ],
          [
           "2022-04-03",
           "18:38:00"
          ],
          [
           "2022-04-03",
           "18:38:00"
          ],
          [
           "2022-04-03",
           "18:38:00"
          ],
          [
           "2022-04-03",
           "18:41:00"
          ],
          [
           "2022-04-03",
           "18:43:00"
          ],
          [
           "2022-04-03",
           "18:43:00"
          ],
          [
           "2022-04-03",
           "18:38:00"
          ],
          [
           "2022-04-03",
           "18:38:00"
          ],
          [
           "2022-04-03",
           "18:38:00"
          ],
          [
           "2022-04-03",
           "18:38:00"
          ],
          [
           "2022-04-03",
           "19:45:00"
          ],
          [
           "2022-04-03",
           "19:45:00"
          ],
          [
           "2022-04-03",
           "19:45:00"
          ],
          [
           "2022-04-03",
           "19:45:00"
          ],
          [
           "2022-04-03",
           "19:45:00"
          ],
          [
           "2022-04-03",
           "19:45:00"
          ],
          [
           "2022-04-03",
           "19:45:00"
          ],
          [
           "2022-04-03",
           "19:45:00"
          ],
          [
           "2022-04-03",
           "19:45:00"
          ],
          [
           "2022-04-03",
           "19:45:00"
          ],
          [
           "2022-04-03",
           "19:45:00"
          ],
          [
           "2022-04-03",
           "19:45:00"
          ],
          [
           "2022-04-03",
           "19:45:00"
          ],
          [
           "2022-04-03",
           "19:45:00"
          ],
          [
           "2022-04-03",
           "19:49:00"
          ],
          [
           "2022-04-03",
           "19:49:00"
          ],
          [
           "2022-04-03",
           "19:45:00"
          ],
          [
           "2022-04-03",
           "19:45:00"
          ],
          [
           "2022-04-03",
           "19:45:00"
          ],
          [
           "2022-04-03",
           "19:45:00"
          ],
          [
           "2022-04-03",
           "19:45:00"
          ],
          [
           "2022-04-03",
           "19:45:00"
          ],
          [
           "2022-04-03",
           "19:45:00"
          ],
          [
           "2022-04-03",
           "19:45:00"
          ],
          [
           "2022-04-03",
           "19:45:00"
          ],
          [
           "2022-04-03",
           "19:45:00"
          ],
          [
           "2022-04-03",
           "19:45:00"
          ],
          [
           "2022-04-03",
           "19:45:00"
          ],
          [
           "2022-04-03",
           "19:45:00"
          ],
          [
           "2022-04-03",
           "19:45:00"
          ],
          [
           "2022-04-03",
           "19:45:00"
          ],
          [
           "2022-04-03",
           "19:57:00"
          ],
          [
           "2022-04-03",
           "19:57:00"
          ],
          [
           "2022-04-03",
           "19:57:00"
          ],
          [
           "2022-04-03",
           "19:57:00"
          ],
          [
           "2022-04-03",
           "19:51:00"
          ],
          [
           "2022-04-03",
           "20:27:00"
          ],
          [
           "2022-04-03",
           "20:27:00"
          ],
          [
           "2022-04-03",
           "20:27:00"
          ],
          [
           "2022-04-03",
           "20:27:00"
          ],
          [
           "2022-04-03",
           "21:29:00"
          ],
          [
           "2022-04-03",
           "21:29:00"
          ],
          [
           "2022-04-03",
           "21:29:00"
          ],
          [
           "2022-04-03",
           "21:21:00"
          ],
          [
           "2022-04-03",
           "21:23:00"
          ],
          [
           "2022-04-03",
           "21:23:00"
          ],
          [
           "2022-04-03",
           "21:25:00"
          ],
          [
           "2022-04-03",
           "21:25:00"
          ],
          [
           "2022-04-03",
           "21:25:00"
          ],
          [
           "2022-04-03",
           "21:25:00"
          ],
          [
           "2022-04-03",
           "21:27:00"
          ],
          [
           "2022-04-03",
           "21:29:00"
          ],
          [
           "2022-04-03",
           "21:29:00"
          ],
          [
           "2022-04-03",
           "21:29:00"
          ],
          [
           "2022-04-03",
           "21:29:00"
          ],
          [
           "2022-04-03",
           "21:29:00"
          ],
          [
           "2022-04-03",
           "21:29:00"
          ],
          [
           "2022-04-03",
           "21:29:00"
          ],
          [
           "2022-04-03",
           "21:29:00"
          ],
          [
           "2022-04-03",
           "21:29:00"
          ],
          [
           "2022-04-03",
           "21:29:00"
          ],
          [
           "2022-04-03",
           "21:29:00"
          ],
          [
           "2022-04-03",
           "21:29:00"
          ],
          [
           "2022-04-03",
           "21:29:00"
          ],
          [
           "2022-04-03",
           "21:29:00"
          ],
          [
           "2022-04-03",
           "21:29:00"
          ],
          [
           "2022-04-03",
           "21:29:00"
          ],
          [
           "2022-04-03",
           "21:29:00"
          ],
          [
           "2022-04-03",
           "21:18:00"
          ],
          [
           "2022-04-03",
           "21:18:00"
          ],
          [
           "2022-04-03",
           "21:18:00"
          ],
          [
           "2022-04-03",
           "21:18:00"
          ],
          [
           "2022-04-03",
           "21:18:00"
          ],
          [
           "2022-04-03",
           "21:18:00"
          ],
          [
           "2022-04-03",
           "21:18:00"
          ],
          [
           "2022-04-03",
           "21:18:00"
          ],
          [
           "2022-04-03",
           "21:18:00"
          ],
          [
           "2022-04-03",
           "21:36:00"
          ],
          [
           "2022-04-03",
           "21:36:00"
          ],
          [
           "2022-04-03",
           "22:20:00"
          ],
          [
           "2022-04-03",
           "22:20:00"
          ],
          [
           "2022-04-03",
           "22:22:00"
          ],
          [
           "2022-04-03",
           "22:22:00"
          ],
          [
           "2022-04-03",
           "23:01:00"
          ],
          [
           "2022-04-03",
           "23:01:00"
          ],
          [
           "2022-04-03",
           "23:01:00"
          ],
          [
           "2022-04-03",
           "23:01:00"
          ],
          [
           "2022-04-03",
           "23:01:00"
          ],
          [
           "2022-04-03",
           "23:01:00"
          ],
          [
           "2022-04-03",
           "23:01:00"
          ],
          [
           "2022-04-03",
           "23:01:00"
          ],
          [
           "2022-04-03",
           "23:01:00"
          ],
          [
           "2022-04-03",
           "23:01:00"
          ],
          [
           "2022-04-03",
           "23:01:00"
          ],
          [
           "2022-04-03",
           "23:01:00"
          ],
          [
           "2022-04-03",
           "23:01:00"
          ],
          [
           "2022-04-03",
           "23:01:00"
          ],
          [
           "2022-04-03",
           "23:01:00"
          ],
          [
           "2022-04-03",
           "23:01:00"
          ],
          [
           "2022-04-03",
           "23:03:00"
          ],
          [
           "2022-04-03",
           "23:03:00"
          ],
          [
           "2022-04-03",
           "23:03:00"
          ],
          [
           "2022-04-03",
           "23:03:00"
          ],
          [
           "2022-04-03",
           "23:03:00"
          ],
          [
           "2022-04-03",
           "23:03:00"
          ],
          [
           "2022-04-03",
           "23:03:00"
          ],
          [
           "2022-04-03",
           "23:03:00"
          ],
          [
           "2022-04-03",
           "23:03:00"
          ],
          [
           "2022-04-03",
           "23:03:00"
          ],
          [
           "2022-04-03",
           "23:03:00"
          ],
          [
           "2022-04-03",
           "23:03:00"
          ],
          [
           "2022-04-03",
           "23:03:00"
          ],
          [
           "2022-04-03",
           "23:03:00"
          ],
          [
           "2022-04-03",
           "23:03:00"
          ],
          [
           "2022-04-03",
           "23:03:00"
          ],
          [
           "2022-04-03",
           "23:03:00"
          ],
          [
           "2022-04-03",
           "23:03:00"
          ],
          [
           "2022-04-03",
           "23:03:00"
          ],
          [
           "2022-04-03",
           "23:03:00"
          ],
          [
           "2022-04-03",
           "23:03:00"
          ],
          [
           "2022-04-03",
           "23:03:00"
          ],
          [
           "2022-04-03",
           "23:58:00"
          ],
          [
           "2022-04-03",
           "23:58:00"
          ],
          [
           "2022-04-03",
           "23:58:00"
          ],
          [
           "2022-04-03",
           "23:58:00"
          ],
          [
           "2022-04-03",
           "23:58:00"
          ],
          [
           "2022-04-03",
           "23:58:00"
          ],
          [
           "2022-04-03",
           "23:58:00"
          ],
          [
           "2022-04-03",
           "23:58:00"
          ],
          [
           "2022-04-03",
           "23:58:00"
          ],
          [
           "2022-04-03",
           "23:56:00"
          ],
          [
           "2022-04-03",
           "23:56:00"
          ],
          [
           "2022-04-03",
           "23:56:00"
          ],
          [
           "2022-04-03",
           "23:56:00"
          ],
          [
           "2022-04-03",
           "23:56:00"
          ],
          [
           "2022-04-03",
           "23:56:00"
          ],
          [
           "2022-04-03",
           "23:56:00"
          ],
          [
           "2022-04-03",
           "23:56:00"
          ],
          [
           "2022-04-03",
           "23:56:00"
          ],
          [
           "2022-04-03",
           "23:56:00"
          ],
          [
           "2022-04-03",
           "23:58:00"
          ],
          [
           "2022-04-03",
           "23:58:00"
          ],
          [
           "2022-04-03",
           "23:58:00"
          ],
          [
           "2022-04-03",
           "23:58:00"
          ],
          [
           "2022-04-03",
           "23:58:00"
          ],
          [
           "2022-04-03",
           "23:58:00"
          ],
          [
           "2022-04-03",
           "23:58:00"
          ],
          [
           "2022-04-03",
           "23:58:00"
          ],
          [
           "2022-04-03",
           "23:58:00"
          ],
          [
           "2022-04-03",
           "23:58:00"
          ],
          [
           "2022-04-03",
           "23:58:00"
          ],
          [
           "2022-04-03",
           "23:58:00"
          ],
          [
           "2022-04-04",
           "01:37:00"
          ],
          [
           "2022-04-04",
           "01:15:00"
          ],
          [
           "2022-04-04",
           "01:15:00"
          ],
          [
           "2022-04-04",
           "01:15:00"
          ],
          [
           "2022-04-04",
           "01:15:00"
          ],
          [
           "2022-04-04",
           "01:15:00"
          ],
          [
           "2022-04-04",
           "01:15:00"
          ],
          [
           "2022-04-04",
           "01:15:00"
          ],
          [
           "2022-04-04",
           "01:15:00"
          ],
          [
           "2022-04-04",
           "01:15:00"
          ],
          [
           "2022-04-04",
           "01:15:00"
          ],
          [
           "2022-04-04",
           "01:15:00"
          ],
          [
           "2022-04-04",
           "01:15:00"
          ],
          [
           "2022-04-04",
           "01:15:00"
          ],
          [
           "2022-04-04",
           "01:15:00"
          ],
          [
           "2022-04-04",
           "01:15:00"
          ],
          [
           "2022-04-04",
           "01:15:00"
          ],
          [
           "2022-04-04",
           "01:15:00"
          ],
          [
           "2022-04-04",
           "01:15:00"
          ],
          [
           "2022-04-04",
           "01:15:00"
          ],
          [
           "2022-04-04",
           "01:15:00"
          ],
          [
           "2022-04-04",
           "01:15:00"
          ],
          [
           "2022-04-04",
           "01:15:00"
          ],
          [
           "2022-04-04",
           "01:15:00"
          ],
          [
           "2022-04-04",
           "01:15:00"
          ],
          [
           "2022-04-04",
           "01:15:00"
          ],
          [
           "2022-04-04",
           "01:15:00"
          ],
          [
           "2022-04-04",
           "01:15:00"
          ],
          [
           "2022-04-04",
           "01:15:00"
          ],
          [
           "2022-04-04",
           "01:15:00"
          ],
          [
           "2022-04-04",
           "01:15:00"
          ],
          [
           "2022-04-04",
           "01:15:00"
          ],
          [
           "2022-04-04",
           "01:17:00"
          ],
          [
           "2022-04-04",
           "01:17:00"
          ],
          [
           "2022-04-04",
           "01:17:00"
          ],
          [
           "2022-04-04",
           "01:17:00"
          ],
          [
           "2022-04-04",
           "01:17:00"
          ],
          [
           "2022-04-04",
           "01:17:00"
          ],
          [
           "2022-04-04",
           "01:17:00"
          ],
          [
           "2022-04-04",
           "01:17:00"
          ],
          [
           "2022-04-04",
           "01:17:00"
          ],
          [
           "2022-04-04",
           "01:17:00"
          ],
          [
           "2022-04-04",
           "01:17:00"
          ],
          [
           "2022-04-04",
           "01:20:00"
          ],
          [
           "2022-04-04",
           "01:32:00"
          ],
          [
           "2022-04-04",
           "01:32:00"
          ],
          [
           "2022-04-04",
           "01:32:00"
          ],
          [
           "2022-04-04",
           "01:32:00"
          ],
          [
           "2022-04-04",
           "01:32:00"
          ],
          [
           "2022-04-04",
           "01:32:00"
          ],
          [
           "2022-04-04",
           "01:32:00"
          ],
          [
           "2022-04-04",
           "01:32:00"
          ],
          [
           "2022-04-04",
           "01:32:00"
          ],
          [
           "2022-04-04",
           "01:32:00"
          ],
          [
           "2022-04-04",
           "01:32:00"
          ],
          [
           "2022-04-04",
           "01:32:00"
          ],
          [
           "2022-04-04",
           "01:32:00"
          ],
          [
           "2022-04-04",
           "01:32:00"
          ],
          [
           "2022-04-04",
           "01:32:00"
          ],
          [
           "2022-04-04",
           "01:32:00"
          ],
          [
           "2022-04-04",
           "01:32:00"
          ],
          [
           "2022-04-04",
           "01:32:00"
          ],
          [
           "2022-04-04",
           "01:32:00"
          ],
          [
           "2022-04-04",
           "01:32:00"
          ],
          [
           "2022-04-04",
           "01:32:00"
          ],
          [
           "2022-04-04",
           "01:32:00"
          ],
          [
           "2022-04-04",
           "01:32:00"
          ],
          [
           "2022-04-04",
           "01:32:00"
          ],
          [
           "2022-04-04",
           "01:32:00"
          ],
          [
           "2022-04-04",
           "01:32:00"
          ],
          [
           "2022-04-04",
           "01:32:00"
          ],
          [
           "2022-04-04",
           "01:32:00"
          ],
          [
           "2022-04-04",
           "01:32:00"
          ],
          [
           "2022-04-04",
           "01:32:00"
          ],
          [
           "2022-04-04",
           "01:32:00"
          ],
          [
           "2022-04-04",
           "01:32:00"
          ],
          [
           "2022-04-04",
           "01:32:00"
          ],
          [
           "2022-04-04",
           "01:32:00"
          ],
          [
           "2022-04-04",
           "01:32:00"
          ],
          [
           "2022-04-04",
           "01:32:00"
          ],
          [
           "2022-04-04",
           "01:32:00"
          ],
          [
           "2022-04-04",
           "01:32:00"
          ],
          [
           "2022-04-04",
           "01:32:00"
          ],
          [
           "2022-04-04",
           "01:32:00"
          ],
          [
           "2022-04-04",
           "01:32:00"
          ],
          [
           "2022-04-04",
           "01:32:00"
          ],
          [
           "2022-04-04",
           "01:32:00"
          ],
          [
           "2022-04-04",
           "01:32:00"
          ],
          [
           "2022-04-04",
           "01:32:00"
          ],
          [
           "2022-04-04",
           "01:32:00"
          ],
          [
           "2022-04-04",
           "01:32:00"
          ],
          [
           "2022-04-04",
           "01:32:00"
          ],
          [
           "2022-04-04",
           "01:32:00"
          ],
          [
           "2022-04-04",
           "01:32:00"
          ],
          [
           "2022-04-04",
           "01:32:00"
          ],
          [
           "2022-04-04",
           "01:32:00"
          ],
          [
           "2022-04-04",
           "01:32:00"
          ],
          [
           "2022-04-04",
           "01:32:00"
          ],
          [
           "2022-04-04",
           "01:32:00"
          ],
          [
           "2022-04-04",
           "01:32:00"
          ],
          [
           "2022-04-04",
           "01:32:00"
          ],
          [
           "2022-04-04",
           "01:32:00"
          ],
          [
           "2022-04-04",
           "01:32:00"
          ],
          [
           "2022-04-04",
           "01:32:00"
          ],
          [
           "2022-04-04",
           "01:32:00"
          ],
          [
           "2022-04-04",
           "01:32:00"
          ],
          [
           "2022-04-04",
           "01:32:00"
          ],
          [
           "2022-04-04",
           "01:32:00"
          ],
          [
           "2022-04-04",
           "01:32:00"
          ],
          [
           "2022-04-04",
           "01:32:00"
          ],
          [
           "2022-04-04",
           "01:32:00"
          ],
          [
           "2022-04-04",
           "01:32:00"
          ],
          [
           "2022-04-04",
           "01:32:00"
          ],
          [
           "2022-04-04",
           "01:32:00"
          ],
          [
           "2022-04-04",
           "01:32:00"
          ],
          [
           "2022-04-04",
           "01:32:00"
          ],
          [
           "2022-04-04",
           "01:32:00"
          ],
          [
           "2022-04-04",
           "01:32:00"
          ],
          [
           "2022-04-04",
           "01:32:00"
          ],
          [
           "2022-04-04",
           "01:32:00"
          ],
          [
           "2022-04-04",
           "01:32:00"
          ],
          [
           "2022-04-04",
           "01:32:00"
          ],
          [
           "2022-04-04",
           "01:32:00"
          ],
          [
           "2022-04-04",
           "01:32:00"
          ],
          [
           "2022-04-04",
           "01:32:00"
          ],
          [
           "2022-04-04",
           "01:32:00"
          ],
          [
           "2022-04-04",
           "01:32:00"
          ],
          [
           "2022-04-04",
           "01:32:00"
          ],
          [
           "2022-04-04",
           "01:32:00"
          ],
          [
           "2022-04-04",
           "01:32:00"
          ],
          [
           "2022-04-04",
           "01:32:00"
          ],
          [
           "2022-04-04",
           "01:32:00"
          ],
          [
           "2022-04-04",
           "01:32:00"
          ],
          [
           "2022-04-04",
           "01:32:00"
          ],
          [
           "2022-04-04",
           "01:32:00"
          ],
          [
           "2022-04-04",
           "01:32:00"
          ],
          [
           "2022-04-04",
           "01:32:00"
          ],
          [
           "2022-04-04",
           "01:32:00"
          ],
          [
           "2022-04-04",
           "01:32:00"
          ],
          [
           "2022-04-04",
           "01:32:00"
          ],
          [
           "2022-04-04",
           "01:32:00"
          ],
          [
           "2022-04-04",
           "01:32:00"
          ],
          [
           "2022-04-04",
           "01:32:00"
          ],
          [
           "2022-04-04",
           "01:32:00"
          ],
          [
           "2022-04-04",
           "01:32:00"
          ],
          [
           "2022-04-04",
           "01:32:00"
          ],
          [
           "2022-04-04",
           "01:32:00"
          ],
          [
           "2022-04-04",
           "01:32:00"
          ],
          [
           "2022-04-04",
           "01:32:00"
          ],
          [
           "2022-04-04",
           "01:32:00"
          ],
          [
           "2022-04-04",
           "01:32:00"
          ],
          [
           "2022-04-04",
           "01:32:00"
          ],
          [
           "2022-04-04",
           "01:32:00"
          ],
          [
           "2022-04-04",
           "01:32:00"
          ],
          [
           "2022-04-04",
           "01:32:00"
          ],
          [
           "2022-04-04",
           "01:32:00"
          ],
          [
           "2022-04-04",
           "01:32:00"
          ],
          [
           "2022-04-04",
           "01:32:00"
          ],
          [
           "2022-04-04",
           "01:32:00"
          ],
          [
           "2022-04-04",
           "01:32:00"
          ],
          [
           "2022-04-04",
           "01:32:00"
          ],
          [
           "2022-04-04",
           "01:32:00"
          ],
          [
           "2022-04-04",
           "01:32:00"
          ],
          [
           "2022-04-04",
           "01:32:00"
          ],
          [
           "2022-04-04",
           "01:32:00"
          ],
          [
           "2022-04-04",
           "01:32:00"
          ],
          [
           "2022-04-04",
           "01:32:00"
          ],
          [
           "2022-04-04",
           "01:32:00"
          ],
          [
           "2022-04-04",
           "01:32:00"
          ],
          [
           "2022-04-04",
           "01:32:00"
          ],
          [
           "2022-04-04",
           "01:32:00"
          ],
          [
           "2022-04-04",
           "01:32:00"
          ],
          [
           "2022-04-04",
           "01:32:00"
          ],
          [
           "2022-04-04",
           "01:32:00"
          ],
          [
           "2022-04-04",
           "01:32:00"
          ],
          [
           "2022-04-04",
           "01:32:00"
          ],
          [
           "2022-04-04",
           "01:32:00"
          ],
          [
           "2022-04-04",
           "01:32:00"
          ],
          [
           "2022-04-04",
           "01:32:00"
          ],
          [
           "2022-04-04",
           "01:32:00"
          ],
          [
           "2022-04-04",
           "01:32:00"
          ],
          [
           "2022-04-04",
           "01:32:00"
          ],
          [
           "2022-04-04",
           "01:32:00"
          ],
          [
           "2022-04-04",
           "01:34:00"
          ],
          [
           "2022-04-04",
           "01:34:00"
          ],
          [
           "2022-04-04",
           "01:34:00"
          ],
          [
           "2022-04-04",
           "01:34:00"
          ],
          [
           "2022-04-04",
           "01:34:00"
          ],
          [
           "2022-04-04",
           "01:34:00"
          ],
          [
           "2022-04-04",
           "01:34:00"
          ],
          [
           "2022-04-04",
           "01:34:00"
          ],
          [
           "2022-04-04",
           "01:34:00"
          ],
          [
           "2022-04-04",
           "01:34:00"
          ],
          [
           "2022-04-04",
           "02:19:00"
          ],
          [
           "2022-04-04",
           "02:19:00"
          ],
          [
           "2022-04-04",
           "02:19:00"
          ],
          [
           "2022-04-04",
           "02:19:00"
          ],
          [
           "2022-04-04",
           "02:19:00"
          ],
          [
           "2022-04-04",
           "02:19:00"
          ],
          [
           "2022-04-04",
           "02:19:00"
          ],
          [
           "2022-04-04",
           "02:19:00"
          ],
          [
           "2022-04-04",
           "02:19:00"
          ],
          [
           "2022-04-04",
           "02:19:00"
          ],
          [
           "2022-04-04",
           "02:19:00"
          ],
          [
           "2022-04-04",
           "02:19:00"
          ],
          [
           "2022-04-04",
           "02:19:00"
          ],
          [
           "2022-04-04",
           "02:11:00"
          ],
          [
           "2022-04-04",
           "02:11:00"
          ],
          [
           "2022-04-04",
           "02:11:00"
          ],
          [
           "2022-04-04",
           "02:11:00"
          ],
          [
           "2022-04-04",
           "02:11:00"
          ],
          [
           "2022-04-04",
           "02:11:00"
          ],
          [
           "2022-04-04",
           "02:11:00"
          ],
          [
           "2022-04-04",
           "02:11:00"
          ],
          [
           "2022-04-04",
           "02:11:00"
          ],
          [
           "2022-04-04",
           "02:11:00"
          ],
          [
           "2022-04-04",
           "02:11:00"
          ],
          [
           "2022-04-04",
           "02:11:00"
          ],
          [
           "2022-04-04",
           "02:11:00"
          ],
          [
           "2022-04-04",
           "02:11:00"
          ],
          [
           "2022-04-04",
           "02:11:00"
          ],
          [
           "2022-04-04",
           "02:11:00"
          ],
          [
           "2022-04-04",
           "02:11:00"
          ],
          [
           "2022-04-04",
           "02:11:00"
          ],
          [
           "2022-04-04",
           "02:11:00"
          ],
          [
           "2022-04-04",
           "02:11:00"
          ],
          [
           "2022-04-04",
           "02:11:00"
          ],
          [
           "2022-04-04",
           "02:11:00"
          ],
          [
           "2022-04-04",
           "02:13:00"
          ],
          [
           "2022-04-04",
           "02:13:00"
          ],
          [
           "2022-04-04",
           "02:13:00"
          ],
          [
           "2022-04-04",
           "02:13:00"
          ],
          [
           "2022-04-04",
           "02:26:00"
          ],
          [
           "2022-04-04",
           "02:26:00"
          ],
          [
           "2022-04-04",
           "02:19:00"
          ],
          [
           "2022-04-04",
           "02:19:00"
          ],
          [
           "2022-04-04",
           "02:19:00"
          ],
          [
           "2022-04-04",
           "02:19:00"
          ],
          [
           "2022-04-04",
           "02:19:00"
          ],
          [
           "2022-04-04",
           "02:19:00"
          ],
          [
           "2022-04-04",
           "02:19:00"
          ],
          [
           "2022-04-04",
           "02:19:00"
          ],
          [
           "2022-04-04",
           "02:19:00"
          ],
          [
           "2022-04-04",
           "02:19:00"
          ],
          [
           "2022-04-04",
           "02:19:00"
          ],
          [
           "2022-04-04",
           "02:19:00"
          ],
          [
           "2022-04-04",
           "02:19:00"
          ],
          [
           "2022-04-04",
           "02:19:00"
          ],
          [
           "2022-04-04",
           "02:19:00"
          ],
          [
           "2022-04-04",
           "02:19:00"
          ],
          [
           "2022-04-04",
           "02:19:00"
          ],
          [
           "2022-04-04",
           "02:19:00"
          ],
          [
           "2022-04-04",
           "02:19:00"
          ],
          [
           "2022-04-04",
           "02:19:00"
          ],
          [
           "2022-04-04",
           "02:19:00"
          ],
          [
           "2022-04-04",
           "02:19:00"
          ],
          [
           "2022-04-04",
           "02:19:00"
          ],
          [
           "2022-04-04",
           "02:19:00"
          ],
          [
           "2022-04-04",
           "02:19:00"
          ],
          [
           "2022-04-04",
           "02:19:00"
          ],
          [
           "2022-04-04",
           "02:19:00"
          ],
          [
           "2022-04-04",
           "02:19:00"
          ],
          [
           "2022-04-04",
           "02:19:00"
          ],
          [
           "2022-04-04",
           "02:19:00"
          ],
          [
           "2022-04-04",
           "02:19:00"
          ],
          [
           "2022-04-04",
           "02:19:00"
          ],
          [
           "2022-04-04",
           "02:19:00"
          ],
          [
           "2022-04-04",
           "02:19:00"
          ],
          [
           "2022-04-04",
           "02:19:00"
          ],
          [
           "2022-04-04",
           "02:19:00"
          ],
          [
           "2022-04-04",
           "02:19:00"
          ],
          [
           "2022-04-04",
           "02:19:00"
          ],
          [
           "2022-04-04",
           "02:19:00"
          ],
          [
           "2022-04-04",
           "02:19:00"
          ],
          [
           "2022-04-04",
           "02:19:00"
          ],
          [
           "2022-04-04",
           "02:19:00"
          ],
          [
           "2022-04-04",
           "02:19:00"
          ],
          [
           "2022-04-04",
           "02:19:00"
          ],
          [
           "2022-04-04",
           "02:19:00"
          ],
          [
           "2022-04-04",
           "02:19:00"
          ],
          [
           "2022-04-04",
           "02:19:00"
          ],
          [
           "2022-04-04",
           "02:19:00"
          ],
          [
           "2022-04-04",
           "02:19:00"
          ],
          [
           "2022-04-04",
           "02:19:00"
          ],
          [
           "2022-04-04",
           "02:21:00"
          ],
          [
           "2022-04-04",
           "02:21:00"
          ],
          [
           "2022-04-04",
           "02:21:00"
          ],
          [
           "2022-04-04",
           "02:21:00"
          ],
          [
           "2022-04-04",
           "02:56:00"
          ],
          [
           "2022-04-04",
           "02:56:00"
          ],
          [
           "2022-04-04",
           "02:56:00"
          ],
          [
           "2022-04-04",
           "02:56:00"
          ],
          [
           "2022-04-04",
           "02:56:00"
          ],
          [
           "2022-04-04",
           "02:56:00"
          ],
          [
           "2022-04-04",
           "02:56:00"
          ],
          [
           "2022-04-04",
           "02:56:00"
          ],
          [
           "2022-04-04",
           "02:56:00"
          ],
          [
           "2022-04-04",
           "02:56:00"
          ],
          [
           "2022-04-04",
           "02:56:00"
          ],
          [
           "2022-04-04",
           "02:56:00"
          ],
          [
           "2022-04-04",
           "02:56:00"
          ],
          [
           "2022-04-04",
           "02:56:00"
          ],
          [
           "2022-04-04",
           "02:56:00"
          ],
          [
           "2022-04-04",
           "02:56:00"
          ],
          [
           "2022-04-04",
           "02:56:00"
          ],
          [
           "2022-04-04",
           "02:56:00"
          ],
          [
           "2022-04-04",
           "02:56:00"
          ],
          [
           "2022-04-04",
           "02:56:00"
          ],
          [
           "2022-04-04",
           "02:56:00"
          ],
          [
           "2022-04-04",
           "02:56:00"
          ],
          [
           "2022-04-04",
           "02:56:00"
          ],
          [
           "2022-04-04",
           "02:56:00"
          ],
          [
           "2022-04-04",
           "02:56:00"
          ],
          [
           "2022-04-04",
           "02:56:00"
          ],
          [
           "2022-04-04",
           "02:56:00"
          ],
          [
           "2022-04-04",
           "02:56:00"
          ],
          [
           "2022-04-04",
           "02:56:00"
          ],
          [
           "2022-04-04",
           "02:56:00"
          ],
          [
           "2022-04-04",
           "02:58:00"
          ],
          [
           "2022-04-04",
           "02:58:00"
          ],
          [
           "2022-04-04",
           "02:58:00"
          ],
          [
           "2022-04-04",
           "02:58:00"
          ],
          [
           "2022-04-04",
           "02:58:00"
          ],
          [
           "2022-04-04",
           "02:58:00"
          ],
          [
           "2022-04-04",
           "02:58:00"
          ],
          [
           "2022-04-04",
           "02:58:00"
          ],
          [
           "2022-04-04",
           "02:58:00"
          ],
          [
           "2022-04-04",
           "02:58:00"
          ],
          [
           "2022-04-04",
           "02:58:00"
          ],
          [
           "2022-04-04",
           "02:58:00"
          ],
          [
           "2022-04-04",
           "02:58:00"
          ],
          [
           "2022-04-04",
           "02:58:00"
          ],
          [
           "2022-04-04",
           "02:58:00"
          ],
          [
           "2022-04-04",
           "02:58:00"
          ],
          [
           "2022-04-04",
           "02:58:00"
          ],
          [
           "2022-04-04",
           "02:58:00"
          ],
          [
           "2022-04-04",
           "02:58:00"
          ],
          [
           "2022-04-04",
           "02:58:00"
          ],
          [
           "2022-04-04",
           "02:58:00"
          ],
          [
           "2022-04-04",
           "02:58:00"
          ],
          [
           "2022-04-04",
           "02:58:00"
          ],
          [
           "2022-04-04",
           "02:58:00"
          ],
          [
           "2022-04-04",
           "02:58:00"
          ],
          [
           "2022-04-04",
           "02:58:00"
          ],
          [
           "2022-04-04",
           "02:58:00"
          ],
          [
           "2022-04-04",
           "02:58:00"
          ],
          [
           "2022-04-04",
           "02:58:00"
          ],
          [
           "2022-04-04",
           "02:58:00"
          ],
          [
           "2022-04-04",
           "02:58:00"
          ],
          [
           "2022-04-04",
           "02:58:00"
          ],
          [
           "2022-04-04",
           "02:58:00"
          ],
          [
           "2022-04-04",
           "02:58:00"
          ],
          [
           "2022-04-04",
           "02:58:00"
          ],
          [
           "2022-04-04",
           "02:58:00"
          ],
          [
           "2022-04-04",
           "02:58:00"
          ],
          [
           "2022-04-04",
           "02:58:00"
          ],
          [
           "2022-04-04",
           "02:58:00"
          ],
          [
           "2022-04-04",
           "02:58:00"
          ],
          [
           "2022-04-04",
           "02:58:00"
          ],
          [
           "2022-04-04",
           "02:58:00"
          ],
          [
           "2022-04-04",
           "02:58:00"
          ],
          [
           "2022-04-04",
           "02:58:00"
          ],
          [
           "2022-04-04",
           "02:58:00"
          ],
          [
           "2022-04-04",
           "02:58:00"
          ],
          [
           "2022-04-04",
           "02:58:00"
          ],
          [
           "2022-04-04",
           "02:58:00"
          ],
          [
           "2022-04-04",
           "02:58:00"
          ],
          [
           "2022-04-04",
           "02:58:00"
          ],
          [
           "2022-04-04",
           "02:58:00"
          ],
          [
           "2022-04-04",
           "02:58:00"
          ],
          [
           "2022-04-04",
           "02:58:00"
          ],
          [
           "2022-04-04",
           "02:58:00"
          ],
          [
           "2022-04-04",
           "02:58:00"
          ],
          [
           "2022-04-04",
           "02:58:00"
          ],
          [
           "2022-04-04",
           "02:58:00"
          ],
          [
           "2022-04-04",
           "02:58:00"
          ],
          [
           "2022-04-04",
           "02:58:00"
          ],
          [
           "2022-04-04",
           "02:58:00"
          ],
          [
           "2022-04-04",
           "02:58:00"
          ],
          [
           "2022-04-04",
           "02:58:00"
          ],
          [
           "2022-04-04",
           "02:58:00"
          ],
          [
           "2022-04-04",
           "02:58:00"
          ],
          [
           "2022-04-04",
           "02:58:00"
          ],
          [
           "2022-04-04",
           "02:58:00"
          ],
          [
           "2022-04-04",
           "02:58:00"
          ],
          [
           "2022-04-04",
           "02:58:00"
          ],
          [
           "2022-04-04",
           "02:58:00"
          ],
          [
           "2022-04-04",
           "03:00:00"
          ],
          [
           "2022-04-04",
           "03:00:00"
          ],
          [
           "2022-04-04",
           "03:00:00"
          ],
          [
           "2022-04-04",
           "03:00:00"
          ],
          [
           "2022-04-04",
           "03:00:00"
          ],
          [
           "2022-04-04",
           "03:00:00"
          ],
          [
           "2022-04-04",
           "03:00:00"
          ],
          [
           "2022-04-04",
           "03:00:00"
          ],
          [
           "2022-04-04",
           "03:00:00"
          ],
          [
           "2022-04-04",
           "03:00:00"
          ],
          [
           "2022-04-04",
           "03:00:00"
          ],
          [
           "2022-04-04",
           "03:00:00"
          ],
          [
           "2022-04-04",
           "03:00:00"
          ],
          [
           "2022-04-04",
           "03:00:00"
          ],
          [
           "2022-04-04",
           "03:00:00"
          ],
          [
           "2022-04-04",
           "03:00:00"
          ],
          [
           "2022-04-04",
           "03:00:00"
          ],
          [
           "2022-04-04",
           "03:00:00"
          ],
          [
           "2022-04-04",
           "03:00:00"
          ],
          [
           "2022-04-04",
           "03:00:00"
          ],
          [
           "2022-04-04",
           "03:00:00"
          ],
          [
           "2022-04-04",
           "03:00:00"
          ],
          [
           "2022-04-04",
           "03:00:00"
          ],
          [
           "2022-04-04",
           "03:00:00"
          ],
          [
           "2022-04-04",
           "03:00:00"
          ],
          [
           "2022-04-04",
           "03:00:00"
          ],
          [
           "2022-04-04",
           "03:00:00"
          ],
          [
           "2022-04-04",
           "03:00:00"
          ],
          [
           "2022-04-04",
           "03:00:00"
          ],
          [
           "2022-04-04",
           "03:00:00"
          ],
          [
           "2022-04-04",
           "03:00:00"
          ],
          [
           "2022-04-04",
           "03:00:00"
          ],
          [
           "2022-04-04",
           "03:00:00"
          ],
          [
           "2022-04-04",
           "03:00:00"
          ],
          [
           "2022-04-04",
           "03:00:00"
          ],
          [
           "2022-04-04",
           "03:00:00"
          ],
          [
           "2022-04-04",
           "03:00:00"
          ],
          [
           "2022-04-04",
           "03:00:00"
          ],
          [
           "2022-04-04",
           "03:00:00"
          ],
          [
           "2022-04-04",
           "03:00:00"
          ],
          [
           "2022-04-04",
           "03:00:00"
          ],
          [
           "2022-04-04",
           "03:00:00"
          ],
          [
           "2022-04-04",
           "03:00:00"
          ],
          [
           "2022-04-04",
           "03:00:00"
          ],
          [
           "2022-04-04",
           "03:00:00"
          ],
          [
           "2022-04-04",
           "03:00:00"
          ],
          [
           "2022-04-04",
           "03:00:00"
          ],
          [
           "2022-04-04",
           "03:00:00"
          ],
          [
           "2022-04-04",
           "03:00:00"
          ],
          [
           "2022-04-04",
           "03:00:00"
          ],
          [
           "2022-04-04",
           "03:00:00"
          ],
          [
           "2022-04-04",
           "03:00:00"
          ],
          [
           "2022-04-04",
           "03:00:00"
          ],
          [
           "2022-04-04",
           "03:00:00"
          ],
          [
           "2022-04-04",
           "03:00:00"
          ],
          [
           "2022-04-04",
           "03:00:00"
          ],
          [
           "2022-04-04",
           "03:00:00"
          ],
          [
           "2022-04-04",
           "03:00:00"
          ],
          [
           "2022-04-04",
           "03:00:00"
          ],
          [
           "2022-04-04",
           "03:00:00"
          ],
          [
           "2022-04-04",
           "03:00:00"
          ],
          [
           "2022-04-04",
           "03:00:00"
          ],
          [
           "2022-04-04",
           "03:00:00"
          ],
          [
           "2022-04-04",
           "03:00:00"
          ],
          [
           "2022-04-04",
           "03:00:00"
          ],
          [
           "2022-04-04",
           "03:00:00"
          ],
          [
           "2022-04-04",
           "03:00:00"
          ],
          [
           "2022-04-04",
           "03:00:00"
          ],
          [
           "2022-04-04",
           "03:00:00"
          ],
          [
           "2022-04-04",
           "03:00:00"
          ],
          [
           "2022-04-04",
           "03:00:00"
          ],
          [
           "2022-04-04",
           "03:00:00"
          ],
          [
           "2022-04-04",
           "03:00:00"
          ],
          [
           "2022-04-04",
           "03:00:00"
          ],
          [
           "2022-04-04",
           "03:00:00"
          ],
          [
           "2022-04-04",
           "03:00:00"
          ],
          [
           "2022-04-04",
           "03:00:00"
          ],
          [
           "2022-04-04",
           "03:00:00"
          ],
          [
           "2022-04-04",
           "03:00:00"
          ],
          [
           "2022-04-04",
           "03:00:00"
          ],
          [
           "2022-04-04",
           "03:00:00"
          ],
          [
           "2022-04-04",
           "03:00:00"
          ],
          [
           "2022-04-04",
           "03:00:00"
          ],
          [
           "2022-04-04",
           "03:00:00"
          ],
          [
           "2022-04-04",
           "03:00:00"
          ],
          [
           "2022-04-04",
           "03:00:00"
          ],
          [
           "2022-04-04",
           "03:00:00"
          ],
          [
           "2022-04-04",
           "03:00:00"
          ],
          [
           "2022-04-04",
           "03:00:00"
          ],
          [
           "2022-04-04",
           "03:00:00"
          ],
          [
           "2022-04-04",
           "03:00:00"
          ],
          [
           "2022-04-04",
           "03:00:00"
          ],
          [
           "2022-04-04",
           "03:00:00"
          ],
          [
           "2022-04-04",
           "03:00:00"
          ],
          [
           "2022-04-04",
           "03:00:00"
          ],
          [
           "2022-04-04",
           "03:00:00"
          ],
          [
           "2022-04-04",
           "03:00:00"
          ],
          [
           "2022-04-04",
           "03:00:00"
          ],
          [
           "2022-04-04",
           "03:00:00"
          ],
          [
           "2022-04-04",
           "03:00:00"
          ],
          [
           "2022-04-04",
           "03:00:00"
          ],
          [
           "2022-04-04",
           "03:00:00"
          ],
          [
           "2022-04-04",
           "03:00:00"
          ],
          [
           "2022-04-04",
           "03:00:00"
          ],
          [
           "2022-04-04",
           "03:00:00"
          ],
          [
           "2022-04-04",
           "03:00:00"
          ],
          [
           "2022-04-04",
           "03:00:00"
          ],
          [
           "2022-04-04",
           "03:00:00"
          ],
          [
           "2022-04-04",
           "03:00:00"
          ],
          [
           "2022-04-04",
           "03:00:00"
          ],
          [
           "2022-04-04",
           "03:00:00"
          ],
          [
           "2022-04-04",
           "03:00:00"
          ],
          [
           "2022-04-04",
           "03:00:00"
          ],
          [
           "2022-04-04",
           "03:00:00"
          ],
          [
           "2022-04-04",
           "03:00:00"
          ],
          [
           "2022-04-04",
           "03:00:00"
          ],
          [
           "2022-04-04",
           "03:00:00"
          ],
          [
           "2022-04-04",
           "03:00:00"
          ],
          [
           "2022-04-04",
           "03:00:00"
          ],
          [
           "2022-04-04",
           "03:00:00"
          ],
          [
           "2022-04-04",
           "03:00:00"
          ],
          [
           "2022-04-04",
           "03:00:00"
          ],
          [
           "2022-04-04",
           "03:00:00"
          ],
          [
           "2022-04-04",
           "03:00:00"
          ],
          [
           "2022-04-04",
           "03:00:00"
          ],
          [
           "2022-04-04",
           "03:00:00"
          ],
          [
           "2022-04-04",
           "03:00:00"
          ],
          [
           "2022-04-04",
           "03:00:00"
          ],
          [
           "2022-04-04",
           "03:00:00"
          ],
          [
           "2022-04-04",
           "03:00:00"
          ],
          [
           "2022-04-04",
           "03:00:00"
          ],
          [
           "2022-04-04",
           "03:00:00"
          ],
          [
           "2022-04-04",
           "03:00:00"
          ],
          [
           "2022-04-04",
           "03:00:00"
          ],
          [
           "2022-04-04",
           "03:00:00"
          ],
          [
           "2022-04-04",
           "03:00:00"
          ],
          [
           "2022-04-04",
           "03:00:00"
          ],
          [
           "2022-04-04",
           "03:00:00"
          ],
          [
           "2022-04-04",
           "03:00:00"
          ],
          [
           "2022-04-04",
           "03:00:00"
          ],
          [
           "2022-04-04",
           "03:00:00"
          ],
          [
           "2022-04-04",
           "03:00:00"
          ],
          [
           "2022-04-04",
           "03:00:00"
          ],
          [
           "2022-04-04",
           "03:00:00"
          ],
          [
           "2022-04-04",
           "03:00:00"
          ],
          [
           "2022-04-04",
           "03:00:00"
          ],
          [
           "2022-04-04",
           "03:00:00"
          ],
          [
           "2022-04-04",
           "03:00:00"
          ],
          [
           "2022-04-04",
           "03:00:00"
          ],
          [
           "2022-04-04",
           "03:00:00"
          ],
          [
           "2022-04-04",
           "03:00:00"
          ],
          [
           "2022-04-04",
           "03:00:00"
          ],
          [
           "2022-04-04",
           "03:00:00"
          ],
          [
           "2022-04-04",
           "03:00:00"
          ],
          [
           "2022-04-04",
           "03:00:00"
          ],
          [
           "2022-04-04",
           "03:00:00"
          ],
          [
           "2022-04-04",
           "03:00:00"
          ],
          [
           "2022-04-04",
           "03:00:00"
          ],
          [
           "2022-04-04",
           "03:00:00"
          ],
          [
           "2022-04-04",
           "03:00:00"
          ],
          [
           "2022-04-04",
           "03:00:00"
          ],
          [
           "2022-04-04",
           "03:00:00"
          ],
          [
           "2022-04-04",
           "03:00:00"
          ],
          [
           "2022-04-04",
           "03:00:00"
          ],
          [
           "2022-04-04",
           "03:00:00"
          ],
          [
           "2022-04-04",
           "03:00:00"
          ],
          [
           "2022-04-04",
           "03:00:00"
          ],
          [
           "2022-04-04",
           "03:00:00"
          ],
          [
           "2022-04-04",
           "03:00:00"
          ],
          [
           "2022-04-04",
           "03:00:00"
          ],
          [
           "2022-04-04",
           "03:00:00"
          ],
          [
           "2022-04-04",
           "03:00:00"
          ],
          [
           "2022-04-04",
           "03:00:00"
          ],
          [
           "2022-04-04",
           "03:00:00"
          ],
          [
           "2022-04-04",
           "03:00:00"
          ],
          [
           "2022-04-04",
           "03:00:00"
          ],
          [
           "2022-04-04",
           "03:00:00"
          ],
          [
           "2022-04-04",
           "03:00:00"
          ],
          [
           "2022-04-04",
           "03:00:00"
          ],
          [
           "2022-04-04",
           "03:00:00"
          ],
          [
           "2022-04-04",
           "02:51:00"
          ],
          [
           "2022-04-04",
           "02:51:00"
          ],
          [
           "2022-04-04",
           "02:51:00"
          ],
          [
           "2022-04-04",
           "02:51:00"
          ],
          [
           "2022-04-04",
           "02:51:00"
          ],
          [
           "2022-04-04",
           "02:51:00"
          ],
          [
           "2022-04-04",
           "02:51:00"
          ],
          [
           "2022-04-04",
           "02:51:00"
          ],
          [
           "2022-04-04",
           "02:51:00"
          ],
          [
           "2022-04-04",
           "02:51:00"
          ],
          [
           "2022-04-04",
           "02:51:00"
          ],
          [
           "2022-04-04",
           "02:51:00"
          ],
          [
           "2022-04-04",
           "02:51:00"
          ],
          [
           "2022-04-04",
           "02:51:00"
          ],
          [
           "2022-04-04",
           "02:51:00"
          ],
          [
           "2022-04-04",
           "02:51:00"
          ],
          [
           "2022-04-04",
           "02:51:00"
          ],
          [
           "2022-04-04",
           "02:51:00"
          ],
          [
           "2022-04-04",
           "02:51:00"
          ],
          [
           "2022-04-04",
           "02:51:00"
          ],
          [
           "2022-04-04",
           "02:51:00"
          ],
          [
           "2022-04-04",
           "02:51:00"
          ],
          [
           "2022-04-04",
           "02:51:00"
          ],
          [
           "2022-04-04",
           "02:51:00"
          ],
          [
           "2022-04-04",
           "02:51:00"
          ],
          [
           "2022-04-04",
           "02:51:00"
          ],
          [
           "2022-04-04",
           "02:51:00"
          ],
          [
           "2022-04-04",
           "02:51:00"
          ],
          [
           "2022-04-04",
           "02:51:00"
          ],
          [
           "2022-04-04",
           "02:51:00"
          ],
          [
           "2022-04-04",
           "02:51:00"
          ],
          [
           "2022-04-04",
           "02:51:00"
          ],
          [
           "2022-04-04",
           "02:51:00"
          ],
          [
           "2022-04-04",
           "02:51:00"
          ],
          [
           "2022-04-04",
           "02:51:00"
          ],
          [
           "2022-04-04",
           "02:51:00"
          ],
          [
           "2022-04-04",
           "02:51:00"
          ],
          [
           "2022-04-04",
           "02:53:00"
          ],
          [
           "2022-04-04",
           "02:53:00"
          ],
          [
           "2022-04-04",
           "02:53:00"
          ],
          [
           "2022-04-04",
           "02:53:00"
          ],
          [
           "2022-04-04",
           "02:53:00"
          ],
          [
           "2022-04-04",
           "02:53:00"
          ],
          [
           "2022-04-04",
           "02:53:00"
          ],
          [
           "2022-04-04",
           "02:53:00"
          ],
          [
           "2022-04-04",
           "02:53:00"
          ],
          [
           "2022-04-04",
           "02:53:00"
          ],
          [
           "2022-04-04",
           "02:53:00"
          ],
          [
           "2022-04-04",
           "02:53:00"
          ],
          [
           "2022-04-04",
           "02:53:00"
          ],
          [
           "2022-04-04",
           "02:53:00"
          ],
          [
           "2022-04-04",
           "02:53:00"
          ],
          [
           "2022-04-04",
           "02:53:00"
          ],
          [
           "2022-04-04",
           "02:53:00"
          ],
          [
           "2022-04-04",
           "02:53:00"
          ],
          [
           "2022-04-04",
           "02:53:00"
          ],
          [
           "2022-04-04",
           "02:53:00"
          ],
          [
           "2022-04-04",
           "02:53:00"
          ],
          [
           "2022-04-04",
           "02:53:00"
          ],
          [
           "2022-04-04",
           "02:53:00"
          ],
          [
           "2022-04-04",
           "02:53:00"
          ],
          [
           "2022-04-04",
           "02:53:00"
          ],
          [
           "2022-04-04",
           "02:53:00"
          ],
          [
           "2022-04-04",
           "02:53:00"
          ],
          [
           "2022-04-04",
           "02:53:00"
          ],
          [
           "2022-04-04",
           "02:53:00"
          ],
          [
           "2022-04-04",
           "02:53:00"
          ],
          [
           "2022-04-04",
           "02:53:00"
          ],
          [
           "2022-04-04",
           "02:53:00"
          ],
          [
           "2022-04-04",
           "02:53:00"
          ],
          [
           "2022-04-04",
           "02:53:00"
          ],
          [
           "2022-04-04",
           "02:53:00"
          ],
          [
           "2022-04-04",
           "02:53:00"
          ],
          [
           "2022-04-04",
           "02:53:00"
          ],
          [
           "2022-04-04",
           "02:53:00"
          ],
          [
           "2022-04-04",
           "02:53:00"
          ],
          [
           "2022-04-04",
           "02:53:00"
          ],
          [
           "2022-04-04",
           "02:53:00"
          ],
          [
           "2022-04-04",
           "02:53:00"
          ],
          [
           "2022-04-04",
           "02:53:00"
          ],
          [
           "2022-04-04",
           "02:53:00"
          ],
          [
           "2022-04-04",
           "02:53:00"
          ],
          [
           "2022-04-04",
           "02:53:00"
          ],
          [
           "2022-04-04",
           "02:53:00"
          ],
          [
           "2022-04-04",
           "02:53:00"
          ],
          [
           "2022-04-04",
           "02:53:00"
          ],
          [
           "2022-04-04",
           "02:53:00"
          ],
          [
           "2022-04-04",
           "02:53:00"
          ],
          [
           "2022-04-04",
           "02:53:00"
          ],
          [
           "2022-04-04",
           "02:53:00"
          ],
          [
           "2022-04-04",
           "02:53:00"
          ],
          [
           "2022-04-04",
           "02:53:00"
          ],
          [
           "2022-04-04",
           "02:53:00"
          ],
          [
           "2022-04-04",
           "02:53:00"
          ],
          [
           "2022-04-04",
           "02:53:00"
          ],
          [
           "2022-04-04",
           "02:53:00"
          ],
          [
           "2022-04-04",
           "02:53:00"
          ],
          [
           "2022-04-04",
           "02:53:00"
          ],
          [
           "2022-04-04",
           "02:53:00"
          ],
          [
           "2022-04-04",
           "02:53:00"
          ],
          [
           "2022-04-04",
           "02:53:00"
          ],
          [
           "2022-04-04",
           "02:53:00"
          ],
          [
           "2022-04-04",
           "02:53:00"
          ],
          [
           "2022-04-04",
           "02:53:00"
          ],
          [
           "2022-04-04",
           "02:53:00"
          ],
          [
           "2022-04-04",
           "02:53:00"
          ],
          [
           "2022-04-04",
           "02:53:00"
          ],
          [
           "2022-04-04",
           "02:53:00"
          ],
          [
           "2022-04-04",
           "02:53:00"
          ],
          [
           "2022-04-04",
           "02:53:00"
          ],
          [
           "2022-04-04",
           "02:53:00"
          ],
          [
           "2022-04-04",
           "02:53:00"
          ],
          [
           "2022-04-04",
           "02:53:00"
          ],
          [
           "2022-04-04",
           "03:00:00"
          ],
          [
           "2022-04-04",
           "03:00:00"
          ],
          [
           "2022-04-04",
           "03:00:00"
          ],
          [
           "2022-04-04",
           "03:00:00"
          ],
          [
           "2022-04-04",
           "03:00:00"
          ],
          [
           "2022-04-04",
           "03:00:00"
          ],
          [
           "2022-04-04",
           "03:00:00"
          ],
          [
           "2022-04-04",
           "03:00:00"
          ],
          [
           "2022-04-04",
           "03:00:00"
          ],
          [
           "2022-04-04",
           "03:00:00"
          ],
          [
           "2022-04-04",
           "03:00:00"
          ],
          [
           "2022-04-04",
           "03:00:00"
          ],
          [
           "2022-04-04",
           "03:00:00"
          ],
          [
           "2022-04-04",
           "03:00:00"
          ],
          [
           "2022-04-04",
           "03:00:00"
          ],
          [
           "2022-04-04",
           "03:00:00"
          ],
          [
           "2022-04-04",
           "03:00:00"
          ],
          [
           "2022-04-04",
           "03:00:00"
          ],
          [
           "2022-04-04",
           "03:00:00"
          ],
          [
           "2022-04-04",
           "03:00:00"
          ],
          [
           "2022-04-04",
           "03:00:00"
          ],
          [
           "2022-04-04",
           "03:00:00"
          ],
          [
           "2022-04-04",
           "03:00:00"
          ],
          [
           "2022-04-04",
           "03:00:00"
          ],
          [
           "2022-04-04",
           "03:00:00"
          ],
          [
           "2022-04-04",
           "03:00:00"
          ],
          [
           "2022-04-04",
           "03:00:00"
          ],
          [
           "2022-04-04",
           "03:00:00"
          ],
          [
           "2022-04-04",
           "03:00:00"
          ],
          [
           "2022-04-04",
           "03:00:00"
          ],
          [
           "2022-04-04",
           "03:00:00"
          ],
          [
           "2022-04-04",
           "03:00:00"
          ],
          [
           "2022-04-04",
           "03:00:00"
          ],
          [
           "2022-04-04",
           "03:00:00"
          ],
          [
           "2022-04-04",
           "03:00:00"
          ],
          [
           "2022-04-04",
           "03:00:00"
          ],
          [
           "2022-04-04",
           "03:00:00"
          ],
          [
           "2022-04-04",
           "03:00:00"
          ],
          [
           "2022-04-04",
           "03:00:00"
          ],
          [
           "2022-04-04",
           "03:00:00"
          ],
          [
           "2022-04-04",
           "03:00:00"
          ],
          [
           "2022-04-04",
           "03:00:00"
          ],
          [
           "2022-04-04",
           "03:00:00"
          ],
          [
           "2022-04-04",
           "03:00:00"
          ],
          [
           "2022-04-04",
           "03:00:00"
          ],
          [
           "2022-04-04",
           "03:00:00"
          ],
          [
           "2022-04-04",
           "03:00:00"
          ],
          [
           "2022-04-04",
           "03:00:00"
          ],
          [
           "2022-04-04",
           "03:00:00"
          ],
          [
           "2022-04-04",
           "03:00:00"
          ],
          [
           "2022-04-04",
           "03:00:00"
          ],
          [
           "2022-04-04",
           "03:00:00"
          ],
          [
           "2022-04-04",
           "03:00:00"
          ],
          [
           "2022-04-04",
           "03:00:00"
          ],
          [
           "2022-04-04",
           "03:00:00"
          ],
          [
           "2022-04-04",
           "03:00:00"
          ],
          [
           "2022-04-04",
           "03:00:00"
          ],
          [
           "2022-04-04",
           "03:00:00"
          ],
          [
           "2022-04-04",
           "03:00:00"
          ],
          [
           "2022-04-04",
           "03:00:00"
          ],
          [
           "2022-04-04",
           "03:00:00"
          ],
          [
           "2022-04-04",
           "03:00:00"
          ],
          [
           "2022-04-04",
           "03:00:00"
          ],
          [
           "2022-04-04",
           "03:00:00"
          ],
          [
           "2022-04-04",
           "03:00:00"
          ],
          [
           "2022-04-04",
           "03:00:00"
          ],
          [
           "2022-04-04",
           "03:00:00"
          ],
          [
           "2022-04-04",
           "03:00:00"
          ],
          [
           "2022-04-04",
           "03:00:00"
          ],
          [
           "2022-04-04",
           "03:00:00"
          ],
          [
           "2022-04-04",
           "03:00:00"
          ],
          [
           "2022-04-04",
           "03:00:00"
          ],
          [
           "2022-04-04",
           "03:00:00"
          ],
          [
           "2022-04-04",
           "03:00:00"
          ],
          [
           "2022-04-04",
           "03:00:00"
          ],
          [
           "2022-04-04",
           "03:00:00"
          ],
          [
           "2022-04-04",
           "03:00:00"
          ],
          [
           "2022-04-04",
           "03:00:00"
          ],
          [
           "2022-04-04",
           "03:00:00"
          ],
          [
           "2022-04-04",
           "03:00:00"
          ],
          [
           "2022-04-04",
           "03:00:00"
          ],
          [
           "2022-04-04",
           "03:00:00"
          ],
          [
           "2022-04-04",
           "03:00:00"
          ],
          [
           "2022-04-04",
           "03:00:00"
          ],
          [
           "2022-04-04",
           "03:00:00"
          ],
          [
           "2022-04-04",
           "03:00:00"
          ],
          [
           "2022-04-04",
           "03:00:00"
          ],
          [
           "2022-04-04",
           "03:00:00"
          ],
          [
           "2022-04-04",
           "03:00:00"
          ],
          [
           "2022-04-04",
           "03:00:00"
          ],
          [
           "2022-04-04",
           "03:00:00"
          ],
          [
           "2022-04-04",
           "03:00:00"
          ],
          [
           "2022-04-04",
           "03:00:00"
          ],
          [
           "2022-04-04",
           "03:00:00"
          ],
          [
           "2022-04-04",
           "03:00:00"
          ],
          [
           "2022-04-04",
           "03:00:00"
          ],
          [
           "2022-04-04",
           "03:00:00"
          ],
          [
           "2022-04-04",
           "03:00:00"
          ],
          [
           "2022-04-04",
           "03:00:00"
          ],
          [
           "2022-04-04",
           "03:00:00"
          ],
          [
           "2022-04-04",
           "03:00:00"
          ],
          [
           "2022-04-04",
           "03:00:00"
          ],
          [
           "2022-04-04",
           "03:00:00"
          ],
          [
           "2022-04-04",
           "03:00:00"
          ],
          [
           "2022-04-04",
           "03:00:00"
          ],
          [
           "2022-04-04",
           "03:00:00"
          ],
          [
           "2022-04-04",
           "03:00:00"
          ],
          [
           "2022-04-04",
           "03:00:00"
          ],
          [
           "2022-04-04",
           "03:02:00"
          ],
          [
           "2022-04-04",
           "03:02:00"
          ],
          [
           "2022-04-04",
           "03:02:00"
          ],
          [
           "2022-04-04",
           "03:02:00"
          ],
          [
           "2022-04-04",
           "03:02:00"
          ],
          [
           "2022-04-04",
           "03:02:00"
          ],
          [
           "2022-04-04",
           "03:02:00"
          ],
          [
           "2022-04-04",
           "03:02:00"
          ],
          [
           "2022-04-04",
           "03:02:00"
          ],
          [
           "2022-04-04",
           "03:02:00"
          ],
          [
           "2022-04-04",
           "03:02:00"
          ],
          [
           "2022-04-04",
           "03:02:00"
          ],
          [
           "2022-04-04",
           "03:04:00"
          ],
          [
           "2022-04-04",
           "03:04:00"
          ],
          [
           "2022-04-04",
           "03:04:00"
          ],
          [
           "2022-04-04",
           "03:04:00"
          ],
          [
           "2022-04-04",
           "03:06:00"
          ],
          [
           "2022-04-04",
           "03:06:00"
          ],
          [
           "2022-04-04",
           "03:06:00"
          ],
          [
           "2022-04-04",
           "03:06:00"
          ],
          [
           "2022-04-04",
           "03:06:00"
          ],
          [
           "2022-04-04",
           "03:06:00"
          ],
          [
           "2022-04-04",
           "03:06:00"
          ],
          [
           "2022-04-04",
           "03:06:00"
          ],
          [
           "2022-04-04",
           "03:06:00"
          ],
          [
           "2022-04-04",
           "03:06:00"
          ],
          [
           "2022-04-04",
           "03:08:00"
          ],
          [
           "2022-04-04",
           "03:08:00"
          ],
          [
           "2022-04-04",
           "03:08:00"
          ],
          [
           "2022-04-04",
           "03:08:00"
          ],
          [
           "2022-04-04",
           "03:08:00"
          ],
          [
           "2022-04-04",
           "03:08:00"
          ],
          [
           "2022-04-04",
           "03:08:00"
          ],
          [
           "2022-04-04",
           "03:08:00"
          ],
          [
           "2022-04-04",
           "03:08:00"
          ],
          [
           "2022-04-04",
           "03:08:00"
          ],
          [
           "2022-04-04",
           "03:08:00"
          ],
          [
           "2022-04-04",
           "03:08:00"
          ],
          [
           "2022-04-04",
           "03:08:00"
          ],
          [
           "2022-04-04",
           "04:38:00"
          ],
          [
           "2022-04-04",
           "04:38:00"
          ],
          [
           "2022-04-04",
           "04:38:00"
          ],
          [
           "2022-04-04",
           "04:38:00"
          ],
          [
           "2022-04-04",
           "04:38:00"
          ],
          [
           "2022-04-04",
           "04:38:00"
          ],
          [
           "2022-04-04",
           "04:38:00"
          ],
          [
           "2022-04-04",
           "04:38:00"
          ],
          [
           "2022-04-04",
           "04:38:00"
          ],
          [
           "2022-04-04",
           "04:38:00"
          ],
          [
           "2022-04-04",
           "04:38:00"
          ],
          [
           "2022-04-04",
           "04:38:00"
          ],
          [
           "2022-04-04",
           "04:38:00"
          ],
          [
           "2022-04-04",
           "04:38:00"
          ],
          [
           "2022-04-04",
           "04:38:00"
          ],
          [
           "2022-04-04",
           "04:38:00"
          ],
          [
           "2022-04-04",
           "04:38:00"
          ],
          [
           "2022-04-04",
           "04:38:00"
          ],
          [
           "2022-04-04",
           "04:38:00"
          ],
          [
           "2022-04-04",
           "04:38:00"
          ],
          [
           "2022-04-04",
           "04:38:00"
          ],
          [
           "2022-04-04",
           "04:38:00"
          ],
          [
           "2022-04-04",
           "04:38:00"
          ],
          [
           "2022-04-04",
           "04:38:00"
          ],
          [
           "2022-04-04",
           "04:38:00"
          ],
          [
           "2022-04-04",
           "04:38:00"
          ],
          [
           "2022-04-04",
           "04:38:00"
          ],
          [
           "2022-04-04",
           "04:38:00"
          ],
          [
           "2022-04-04",
           "04:38:00"
          ],
          [
           "2022-04-04",
           "04:38:00"
          ],
          [
           "2022-04-04",
           "04:38:00"
          ],
          [
           "2022-04-04",
           "04:38:00"
          ],
          [
           "2022-04-04",
           "04:38:00"
          ],
          [
           "2022-04-04",
           "04:38:00"
          ],
          [
           "2022-04-04",
           "04:38:00"
          ],
          [
           "2022-04-04",
           "04:38:00"
          ],
          [
           "2022-04-04",
           "04:38:00"
          ],
          [
           "2022-04-04",
           "04:38:00"
          ],
          [
           "2022-04-04",
           "04:38:00"
          ],
          [
           "2022-04-04",
           "04:38:00"
          ],
          [
           "2022-04-04",
           "04:38:00"
          ],
          [
           "2022-04-04",
           "04:38:00"
          ],
          [
           "2022-04-04",
           "04:38:00"
          ],
          [
           "2022-04-04",
           "04:38:00"
          ],
          [
           "2022-04-04",
           "04:38:00"
          ],
          [
           "2022-04-04",
           "04:38:00"
          ],
          [
           "2022-04-04",
           "04:38:00"
          ],
          [
           "2022-04-04",
           "04:38:00"
          ],
          [
           "2022-04-04",
           "04:38:00"
          ],
          [
           "2022-04-04",
           "04:38:00"
          ],
          [
           "2022-04-04",
           "04:38:00"
          ],
          [
           "2022-04-04",
           "04:38:00"
          ],
          [
           "2022-04-04",
           "04:38:00"
          ],
          [
           "2022-04-04",
           "04:38:00"
          ],
          [
           "2022-04-04",
           "04:38:00"
          ],
          [
           "2022-04-04",
           "04:38:00"
          ],
          [
           "2022-04-04",
           "04:38:00"
          ],
          [
           "2022-04-04",
           "04:38:00"
          ],
          [
           "2022-04-04",
           "04:38:00"
          ],
          [
           "2022-04-04",
           "04:38:00"
          ],
          [
           "2022-04-04",
           "04:38:00"
          ],
          [
           "2022-04-04",
           "04:38:00"
          ],
          [
           "2022-04-04",
           "04:38:00"
          ],
          [
           "2022-04-04",
           "04:38:00"
          ],
          [
           "2022-04-04",
           "04:38:00"
          ],
          [
           "2022-04-04",
           "04:38:00"
          ],
          [
           "2022-04-04",
           "04:38:00"
          ],
          [
           "2022-04-04",
           "04:38:00"
          ],
          [
           "2022-04-04",
           "04:38:00"
          ],
          [
           "2022-04-04",
           "04:29:00"
          ],
          [
           "2022-04-04",
           "04:29:00"
          ],
          [
           "2022-04-04",
           "04:29:00"
          ],
          [
           "2022-04-04",
           "04:29:00"
          ],
          [
           "2022-04-04",
           "04:29:00"
          ],
          [
           "2022-04-04",
           "04:32:00"
          ],
          [
           "2022-04-04",
           "04:32:00"
          ],
          [
           "2022-04-04",
           "04:32:00"
          ],
          [
           "2022-04-04",
           "04:32:00"
          ],
          [
           "2022-04-04",
           "04:32:00"
          ],
          [
           "2022-04-04",
           "04:34:00"
          ],
          [
           "2022-04-04",
           "04:34:00"
          ],
          [
           "2022-04-04",
           "04:34:00"
          ],
          [
           "2022-04-04",
           "04:40:00"
          ],
          [
           "2022-04-04",
           "04:40:00"
          ],
          [
           "2022-04-04",
           "04:40:00"
          ],
          [
           "2022-04-04",
           "04:40:00"
          ],
          [
           "2022-04-04",
           "04:40:00"
          ],
          [
           "2022-04-04",
           "04:40:00"
          ],
          [
           "2022-04-04",
           "04:40:00"
          ],
          [
           "2022-04-04",
           "04:40:00"
          ],
          [
           "2022-04-04",
           "04:40:00"
          ],
          [
           "2022-04-04",
           "04:40:00"
          ],
          [
           "2022-04-04",
           "04:40:00"
          ],
          [
           "2022-04-04",
           "04:40:00"
          ],
          [
           "2022-04-04",
           "04:40:00"
          ],
          [
           "2022-04-04",
           "04:40:00"
          ],
          [
           "2022-04-04",
           "04:40:00"
          ],
          [
           "2022-04-04",
           "04:40:00"
          ],
          [
           "2022-04-04",
           "04:40:00"
          ],
          [
           "2022-04-04",
           "04:40:00"
          ],
          [
           "2022-04-04",
           "04:40:00"
          ],
          [
           "2022-04-04",
           "04:40:00"
          ],
          [
           "2022-04-04",
           "04:40:00"
          ],
          [
           "2022-04-04",
           "04:40:00"
          ],
          [
           "2022-04-04",
           "04:42:00"
          ],
          [
           "2022-04-04",
           "04:44:00"
          ],
          [
           "2022-04-04",
           "04:04:00"
          ],
          [
           "2022-04-04",
           "04:00:00"
          ],
          [
           "2022-04-04",
           "04:00:00"
          ],
          [
           "2022-04-04",
           "04:00:00"
          ],
          [
           "2022-04-04",
           "04:00:00"
          ],
          [
           "2022-04-04",
           "04:00:00"
          ],
          [
           "2022-04-04",
           "04:00:00"
          ],
          [
           "2022-04-04",
           "04:00:00"
          ],
          [
           "2022-04-04",
           "04:00:00"
          ],
          [
           "2022-04-04",
           "04:00:00"
          ],
          [
           "2022-04-04",
           "04:00:00"
          ],
          [
           "2022-04-04",
           "04:00:00"
          ],
          [
           "2022-04-04",
           "04:00:00"
          ],
          [
           "2022-04-04",
           "04:00:00"
          ],
          [
           "2022-04-04",
           "04:00:00"
          ],
          [
           "2022-04-04",
           "04:00:00"
          ],
          [
           "2022-04-04",
           "04:00:00"
          ],
          [
           "2022-04-04",
           "04:00:00"
          ],
          [
           "2022-04-04",
           "04:00:00"
          ],
          [
           "2022-04-04",
           "04:00:00"
          ],
          [
           "2022-04-04",
           "04:00:00"
          ],
          [
           "2022-04-04",
           "04:00:00"
          ],
          [
           "2022-04-04",
           "04:00:00"
          ],
          [
           "2022-04-04",
           "04:00:00"
          ],
          [
           "2022-04-04",
           "04:00:00"
          ],
          [
           "2022-04-04",
           "04:00:00"
          ],
          [
           "2022-04-04",
           "04:00:00"
          ],
          [
           "2022-04-04",
           "04:00:00"
          ],
          [
           "2022-04-04",
           "04:00:00"
          ],
          [
           "2022-04-04",
           "04:00:00"
          ],
          [
           "2022-04-04",
           "04:00:00"
          ],
          [
           "2022-04-04",
           "04:00:00"
          ],
          [
           "2022-04-04",
           "04:00:00"
          ],
          [
           "2022-04-04",
           "04:00:00"
          ],
          [
           "2022-04-04",
           "04:00:00"
          ],
          [
           "2022-04-04",
           "04:00:00"
          ],
          [
           "2022-04-04",
           "04:00:00"
          ],
          [
           "2022-04-04",
           "04:00:00"
          ],
          [
           "2022-04-04",
           "04:00:00"
          ],
          [
           "2022-04-04",
           "04:02:00"
          ],
          [
           "2022-04-04",
           "04:02:00"
          ],
          [
           "2022-04-04",
           "04:02:00"
          ],
          [
           "2022-04-04",
           "04:02:00"
          ],
          [
           "2022-04-04",
           "04:02:00"
          ],
          [
           "2022-04-04",
           "04:02:00"
          ],
          [
           "2022-04-04",
           "04:02:00"
          ],
          [
           "2022-04-04",
           "04:02:00"
          ],
          [
           "2022-04-04",
           "04:02:00"
          ],
          [
           "2022-04-04",
           "04:02:00"
          ],
          [
           "2022-04-04",
           "04:02:00"
          ],
          [
           "2022-04-04",
           "04:02:00"
          ],
          [
           "2022-04-04",
           "04:02:00"
          ],
          [
           "2022-04-04",
           "04:02:00"
          ],
          [
           "2022-04-04",
           "04:02:00"
          ],
          [
           "2022-04-04",
           "04:02:00"
          ],
          [
           "2022-04-04",
           "04:02:00"
          ],
          [
           "2022-04-04",
           "04:02:00"
          ],
          [
           "2022-04-04",
           "04:02:00"
          ],
          [
           "2022-04-04",
           "04:02:00"
          ],
          [
           "2022-04-04",
           "04:02:00"
          ],
          [
           "2022-04-04",
           "04:02:00"
          ],
          [
           "2022-04-04",
           "04:02:00"
          ],
          [
           "2022-04-04",
           "04:02:00"
          ],
          [
           "2022-04-04",
           "04:02:00"
          ],
          [
           "2022-04-04",
           "04:02:00"
          ],
          [
           "2022-04-04",
           "04:02:00"
          ],
          [
           "2022-04-04",
           "04:02:00"
          ],
          [
           "2022-04-04",
           "04:04:00"
          ],
          [
           "2022-04-04",
           "03:55:00"
          ],
          [
           "2022-04-04",
           "03:55:00"
          ],
          [
           "2022-04-04",
           "03:55:00"
          ],
          [
           "2022-04-04",
           "03:55:00"
          ],
          [
           "2022-04-04",
           "03:55:00"
          ],
          [
           "2022-04-04",
           "03:55:00"
          ],
          [
           "2022-04-04",
           "03:57:00"
          ],
          [
           "2022-04-04",
           "03:57:00"
          ],
          [
           "2022-04-04",
           "03:57:00"
          ],
          [
           "2022-04-04",
           "03:57:00"
          ],
          [
           "2022-04-04",
           "04:00:00"
          ],
          [
           "2022-04-04",
           "04:00:00"
          ],
          [
           "2022-04-04",
           "04:00:00"
          ]
         ],
         "geo": "geo",
         "hovertemplate": "Latitude: %{lat}<br>Longitude: %{lon}<br>Dates: %{customdata[0]}<br>Times: %{customdata[1]}",
         "lat": [
          "-13.66012",
          "-13.664",
          "-13.7142",
          "-13.73847",
          "-13.66699",
          "-13.67103",
          "-13.82111",
          "-13.75927",
          "-13.76293",
          "-13.75026",
          "-13.80772",
          "-13.78491",
          "-13.85346",
          "-13.85732",
          "-13.85112",
          "-13.93075",
          "-14.17415",
          "-15.41348",
          "-16.13351",
          "-16.15444",
          "-16.14157",
          "-16.17427",
          "-16.17117",
          "-15.75276",
          "-17.62546",
          "-17.65977",
          "-17.69554",
          "-17.69738",
          "-17.70539",
          "-17.72946",
          "-17.7295",
          "-17.73138",
          "-17.74124",
          "-18.90093",
          "-18.90247",
          "-18.21051",
          "-18.33917",
          "-18.34601",
          "-18.41539",
          "-18.40424",
          "-18.41176",
          "-18.50236",
          "-18.54424",
          "-18.5071",
          "-18.54879",
          "-18.55621",
          "-22.41969",
          "-22.43266",
          "-22.64796",
          "-26.46336",
          "-26.46564",
          "-30.59286",
          "-30.5903",
          "-31.69506",
          "-31.69741",
          "-31.69633",
          "-31.6985",
          "-32.77566",
          "-32.77795",
          "-33.9327",
          "-33.93712",
          "-13.47566",
          "-12.52164",
          "-12.39306",
          "-12.39436",
          "-21.52562",
          "-21.46596",
          "-20.2394",
          "-18.58783",
          "30.31828",
          "14.73691",
          "7.38327",
          "7.3869",
          "-3.86808",
          "-3.90333",
          "50.0855",
          "50.08358",
          "50.07465",
          "50.03798",
          "49.95287",
          "49.94218",
          "49.94036",
          "49.9315",
          "49.92081",
          "49.92846",
          "49.91777",
          "49.85841",
          "49.85726",
          "49.74754",
          "49.40321",
          "49.40133",
          "48.05907",
          "48.03627",
          "47.59232",
          "47.99891",
          "47.96131",
          "47.94035",
          "47.64452",
          "47.6427",
          "47.64094",
          "47.63919",
          "47.63745",
          "47.57656",
          "47.57033",
          "47.10012",
          "46.88832",
          "46.87947",
          "46.76954",
          "46.76759",
          "46.81418",
          "46.75432",
          "46.72403",
          "47.09058",
          "46.57271",
          "46.56923",
          "46.56734",
          "46.55925",
          "46.55736",
          "46.4791",
          "46.20558",
          "46.32926",
          "46.00715",
          "46.00474",
          "45.99794",
          "46.04156",
          "46.23415",
          "46.23232",
          "45.64818",
          "45.64569",
          "45.63626",
          "46.2214",
          "46.23079",
          "45.76001",
          "45.75785",
          "45.53891",
          "45.53637",
          "45.52953",
          "45.52699",
          "46.63339",
          "45.62513",
          "45.96349",
          "45.58067",
          "45.60682",
          "45.57145",
          "46.0857",
          "46.0026",
          "45.99372",
          "45.70686",
          "46.38157",
          "45.81913",
          "45.77599",
          "45.85681",
          "45.75687",
          "46.47648",
          "46.05187",
          "46.05011",
          "46.13191",
          "45.3339",
          "45.83847",
          "45.97321",
          "45.97148",
          "45.78191",
          "45.33639",
          "45.86987",
          "45.79668",
          "45.77869",
          "45.75894",
          "44.38853",
          "44.76714",
          "44.76474",
          "44.78648",
          "45.66283",
          "44.93182",
          "44.92289",
          "45.5747",
          "45.66864",
          "45.53198",
          "44.68733",
          "44.56657",
          "44.55726",
          "45.54149",
          "45.53826",
          "45.53658",
          "45.5381",
          "45.47345",
          "44.83954",
          "44.8376",
          "44.83565",
          "44.58601",
          "44.68343",
          "44.68141",
          "44.54546",
          "44.53639",
          "44.37556",
          "45.70765",
          "45.70412",
          "45.30598",
          "45.4005",
          "45.26656",
          "45.22368",
          "45.25023",
          "45.18903",
          "45.19283",
          "45.21194",
          "45.18806",
          "44.48645",
          "44.48444",
          "44.47752",
          "44.47551",
          "44.38462",
          "45.1416",
          "45.13992",
          "45.13973",
          "44.38961",
          "44.41948",
          "44.38268",
          "44.38062",
          "44.37854",
          "45.21579",
          "45.21403",
          "44.37369",
          "44.37162",
          "44.46906",
          "44.46711",
          "44.46516",
          "44.30085",
          "45.04773",
          "44.35274",
          "44.3507",
          "44.34378",
          "44.34174",
          "44.3276",
          "43.75358",
          "43.75051",
          "44.31575",
          "44.104",
          "44.30679",
          "44.09476",
          "44.09243",
          "44.36914",
          "44.3672",
          "44.16052",
          "44.19436",
          "43.89942",
          "43.89716",
          "44.0267",
          "43.89273",
          "43.8905",
          "44.77509",
          "43.93301",
          "43.93085",
          "43.8722",
          "43.81539",
          "43.39037",
          "43.3877",
          "44.55674",
          "43.3461",
          "43.34353",
          "43.3339",
          "43.63441",
          "43.17174",
          "43.26162",
          "43.25924",
          "44.20401",
          "43.19777",
          "43.19559",
          "43.18853",
          "43.18631",
          "44.06214",
          "44.06475",
          "43.97097",
          "43.71701",
          "42.86223",
          "43.59703",
          "42.57292",
          "43.44881",
          "41.40085",
          "41.38625",
          "41.38443",
          "41.15992",
          "39.84532",
          "39.84372",
          "39.90982",
          "38.78067",
          "38.77909",
          "38.75738",
          "38.4286",
          "38.42707",
          "38.42014",
          "38.41106",
          "37.59422",
          "37.48651",
          "37.42212",
          "36.98324",
          "36.73447",
          "36.77331",
          "35.25646",
          "35.96524",
          "35.6685",
          "35.72869",
          "35.37294",
          "35.24776",
          "35.166",
          "33.76121",
          "33.25889",
          "32.81895",
          "32.16769",
          "-5.08907",
          "-8.84191",
          "-8.10925",
          "-8.11166",
          "-16.79796",
          "-16.80202",
          "-16.80203",
          "-16.88616",
          "-17.34582",
          "-17.34623",
          "-17.56357",
          "-17.56738",
          "-17.56489",
          "-17.56845",
          "-18.54299",
          "-18.57762",
          "-18.58727",
          "-21.69272",
          "-34.10437",
          "39.38517",
          "41.25162",
          "40.7877",
          "40.70824",
          "40.37874",
          "40.31514",
          "40.31313",
          "39.89838",
          "39.00376",
          "38.92653",
          "37.77517",
          "38.11347",
          "37.64111",
          "37.6849",
          "37.10015",
          "37.0982",
          "37.15666",
          "37.03492",
          "36.84287",
          "36.84124",
          "35.76528",
          "35.76476",
          "35.12064",
          "34.53808",
          "34.02931",
          "33.2267",
          "29.85244",
          "27.03051",
          "27.02586",
          "27.01721",
          "26.77826",
          "27.42619",
          "27.31464",
          "27.31191",
          "27.22272",
          "26.50153",
          "26.49605",
          "53.90004",
          "53.89692",
          "53.03996",
          "53.0375",
          "51.944",
          "50.37595",
          "50.3485",
          "51.57067",
          "47.12715",
          "47.12427",
          "47.12651",
          "47.12367",
          "0.72913",
          "-2.20831",
          "-2.33125",
          "26.17636",
          "26.65326",
          "26.39343",
          "26.54746",
          "26.5457",
          "26.20288",
          "25.44895",
          "25.65141",
          "24.64266",
          "25.641",
          "25.39084",
          "25.57756",
          "25.48137",
          "25.46702",
          "24.99036",
          "25.44829",
          "25.38037",
          "25.27959",
          "25.27031",
          "25.32896",
          "25.12444",
          "25.23665",
          "25.46262",
          "25.23403",
          "25.05861",
          "25.05648",
          "25.22726",
          "24.8774",
          "24.88056",
          "25.00702",
          "24.99731",
          "25.06925",
          "24.95687",
          "24.96218",
          "24.96038",
          "24.95944",
          "24.30099",
          "24.92453",
          "24.9087",
          "24.91112",
          "24.81301",
          "24.81124",
          "24.66626",
          "24.66436",
          "24.52691",
          "24.67492",
          "24.66332",
          "24.69508",
          "24.44846",
          "24.396",
          "24.3642",
          "24.33351",
          "24.31087",
          "24.05122",
          "24.21611",
          "24.1121",
          "24.10216",
          "24.0624",
          "24.06123",
          "24.45074",
          "24.08615",
          "23.96892",
          "23.91728",
          "24.01804",
          "23.84137",
          "23.83935",
          "23.80218",
          "23.80003",
          "23.89221",
          "23.77229",
          "23.70312",
          "23.35412",
          "23.40547",
          "23.59531",
          "23.68512",
          "23.26036",
          "23.1225",
          "22.99219",
          "23.07147",
          "22.46434",
          "23.33767",
          "22.77903",
          "22.76083",
          "21.54045",
          "22.83113",
          "23.19246",
          "23.19106",
          "23.4657",
          "22.94891",
          "22.68899",
          "22.68758",
          "21.33017",
          "22.50642",
          "21.33844",
          "22.78601",
          "22.53762",
          "21.56821",
          "21.56597",
          "21.62917",
          "21.94625",
          "22.28586",
          "22.28448",
          "21.20165",
          "22.15813",
          "21.66895",
          "22.02475",
          "21.96735",
          "21.02969",
          "21.02707",
          "21.13343",
          "21.13464",
          "21.88501",
          "20.63742",
          "21.16212",
          "20.6136",
          "20.79066",
          "20.73938",
          "20.63631",
          "21.47772",
          "20.63107",
          "20.62928",
          "20.66904",
          "20.41438",
          "20.36495",
          "21.55683",
          "20.3392",
          "20.33726",
          "20.29017",
          "20.51566",
          "20.34773",
          "19.90904",
          "19.89346",
          "19.78775",
          "19.77795",
          "19.7763",
          "19.45806",
          "19.4563",
          "19.71458",
          "19.79503",
          "19.4369",
          "19.43162",
          "19.28019",
          "19.27874",
          "19.26898",
          "19.25608",
          "18.39131",
          "19.22046",
          "19.20928",
          "18.85845",
          "18.92872",
          "18.92691",
          "17.6991",
          "17.47532",
          "17.6587",
          "17.3193",
          "16.48092",
          "16.47644",
          "17.50507",
          "17.47414",
          "17.38944",
          "16.89188",
          "16.81325",
          "16.99572",
          "16.81197",
          "16.42801",
          "16.42492",
          "16.37037",
          "16.69035",
          "16.6539",
          "16.62148",
          "16.59505",
          "16.22762",
          "16.22628",
          "16.00127",
          "-2.00033",
          "-2.00339",
          "-1.98888",
          "-1.99176",
          "4.62435",
          "5.11854",
          "5.12956",
          "5.1325",
          "5.13066",
          "5.18829",
          "5.77708",
          "5.77506",
          "5.78847",
          "5.78644",
          "5.58519",
          "6.30835",
          "6.30588",
          "6.32085",
          "6.30988",
          "6.69296",
          "6.7003",
          "7.04131",
          "7.03152",
          "6.68061",
          "6.67897",
          "6.6893",
          "7.54159",
          "7.53681",
          "7.54328",
          "-23.03068",
          "-23.82876",
          "-21.07056",
          "-21.06631",
          "-21.07188",
          "-18.56368",
          "-18.57115",
          "-18.52195",
          "-18.52589",
          "-18.5329",
          "-18.14635",
          "-18.15008",
          "-18.14791",
          "-18.15149",
          "-18.13271",
          "-18.12011",
          "-18.12364",
          "-17.4996",
          "-16.00699",
          "-16.01137",
          "7.2277",
          "7.23895",
          "7.14424",
          "7.20793",
          "7.20627",
          "7.32237",
          "7.36815",
          "7.3335",
          "7.46575",
          "7.46375",
          "7.6131",
          "7.80849",
          "7.81284",
          "8.21586",
          "8.21295",
          "7.93788",
          "7.87916",
          "7.89007",
          "7.88279",
          "7.88103",
          "8.04553",
          "7.99275",
          "8.00574",
          "8.00382",
          "8.0019",
          "7.99337",
          "8.00626",
          "8.00444",
          "7.89356",
          "8.03575",
          "8.03391",
          "8.27626",
          "8.27382",
          "8.28884",
          "8.27948",
          "8.27717",
          "8.28975",
          "8.36908",
          "8.33788",
          "8.3358",
          "8.33427",
          "8.3323",
          "8.38637",
          "8.38438",
          "8.38499",
          "8.38311",
          "8.86947",
          "8.86658",
          "8.86305",
          "8.86034",
          "8.87664",
          "8.87391",
          "8.86446",
          "8.86816",
          "8.96479",
          "9.21394",
          "9.21619",
          "9.2138",
          "9.61365",
          "10.05269",
          "10.0544",
          "10.04989",
          "9.94593",
          "9.95339",
          "10.29721",
          "10.59043",
          "11.7443",
          "11.74225",
          "11.73757",
          "20.68109",
          "21.34755",
          "21.34616",
          "21.35649",
          "21.53264",
          "21.54157",
          "21.6615",
          "21.66007",
          "22.05864",
          "22.7826",
          "40.83524",
          "40.41488",
          "40.41318",
          "33.99541",
          "33.7264",
          "33.7261",
          "32.03902",
          "32.10166",
          "31.46084",
          "31.75156",
          "31.33231",
          "31.70491",
          "31.70116",
          "30.86916",
          "31.03309",
          "30.9251",
          "30.04545",
          "29.31066",
          "29.26695",
          "29.04674",
          "29.04473",
          "29.89813",
          "29.89653",
          "28.94325",
          "28.81654",
          "29.86512",
          "29.86291",
          "28.54228",
          "28.54037",
          "29.05544",
          "28.75244",
          "27.75775",
          "27.679",
          "25.08983",
          "24.95099",
          "24.94788",
          "24.95522",
          "24.95224",
          "24.94376",
          "24.94077",
          "24.86202",
          "24.85917",
          "24.80147",
          "24.80194",
          "24.78266",
          "24.58226",
          "23.85895",
          "24.04677",
          "23.85984",
          "24.77969",
          "23.74774",
          "23.73693",
          "23.73425",
          "23.72609",
          "23.73466",
          "23.73209",
          "23.30631",
          "23.18848",
          "23.64724",
          "23.68457",
          "23.67494",
          "23.67657",
          "23.67286",
          "23.67101",
          "23.58989",
          "23.50745",
          "23.43808",
          "23.60595",
          "22.95185",
          "23.16799",
          "23.41195",
          "23.43298",
          "23.16588",
          "23.17311",
          "23.29431",
          "23.29275",
          "46.79421",
          "46.75681",
          "46.72814",
          "46.49735",
          "46.4884",
          "46.03106",
          "46.22094",
          "46.21914",
          "45.83316",
          "45.83287",
          "45.5484",
          "45.52556",
          "45.52383",
          "45.55819",
          "45.42936",
          "45.09279",
          "45.07489",
          "45.35453",
          "45.3482",
          "45.34645",
          "45.35867",
          "45.35678",
          "45.3392",
          "45.0067",
          "44.95249",
          "44.35281",
          "44.13053",
          "43.62771",
          "43.50504",
          "43.81546",
          "43.78889",
          "43.78721",
          "43.78553",
          "43.77982",
          "43.77814",
          "43.53147",
          "43.5298",
          "43.46561",
          "43.48029",
          "43.39189",
          "42.72962",
          "42.72588",
          "42.91614",
          "42.91433",
          "42.90262",
          "22.91303",
          "22.91115",
          "22.86466",
          "22.70117",
          "22.70098",
          "22.6915",
          "22.68491",
          "22.65718",
          "22.6553",
          "22.6475",
          "22.64562",
          "22.71008",
          "22.70832",
          "22.68376",
          "22.59242",
          "22.58282",
          "22.56398",
          "22.55621",
          "22.55435",
          "22.63093",
          "22.54813",
          "22.52921",
          "22.52734",
          "22.48459",
          "22.48276",
          "22.46909",
          "22.14421",
          "22.62179",
          "22.60076",
          "22.59913",
          "22.45043",
          "22.46043",
          "22.39523",
          "22.66937",
          "22.66794",
          "22.66045",
          "22.65902",
          "23.06978",
          "22.62333",
          "22.26157",
          "22.25978",
          "22.23291",
          "22.42153",
          "22.37479",
          "22.79756",
          "22.32828",
          "22.31911",
          "22.31187",
          "22.81084",
          "22.70048",
          "22.70296",
          "22.70133",
          "21.84357",
          "21.5656",
          "21.55595",
          "21.55385",
          "21.2511",
          "21.24847",
          "22.29914",
          "21.00567",
          "21.60909",
          "21.18885",
          "21.17959",
          "21.91063",
          "21.86145",
          "21.51979",
          "21.78608",
          "21.76923",
          "21.75747",
          "21.74241",
          "21.76186",
          "21.74936",
          "21.72903",
          "21.72348",
          "21.31095",
          "21.31397",
          "19.62978",
          "19.62689",
          "19.61897",
          "20.08704",
          "19.83098",
          "19.8246",
          "19.72937",
          "18.42327",
          "19.59458",
          "19.55966",
          "19.27243",
          "19.04374",
          "19.28957",
          "19.18525",
          "18.55923",
          "18.5576",
          "18.41251",
          "18.47346",
          "18.50846",
          "17.82833",
          "17.62504",
          "17.62368",
          "17.47667",
          "17.36144",
          "16.18764",
          "17.11509",
          "16.53452",
          "15.4987",
          "13.94434",
          "13.45094",
          "10.2858",
          "10.28113",
          "31.50499",
          "30.49863",
          "-0.11444",
          "-0.10149",
          "-0.10465",
          "17.03942",
          "17.17807",
          "17.18939",
          "17.18377",
          "17.8941",
          "17.89108",
          "17.84504",
          "17.63391",
          "17.97325",
          "18.19383",
          "18.07708",
          "19.29045",
          "18.33283",
          "19.39188",
          "18.87037",
          "18.66877",
          "18.67806",
          "20.05032",
          "19.74982",
          "19.74845",
          "19.74707",
          "19.75875",
          "19.90909",
          "19.90765",
          "20.57648",
          "20.51761",
          "20.3985",
          "20.40639",
          "20.54081",
          "20.53927",
          "20.70811",
          "20.73106",
          "22.30747",
          "22.30612",
          "27.01586",
          "26.63996",
          "-17.26711",
          "45.80238",
          "45.79917",
          "45.81631",
          "45.81319",
          "45.78404",
          "45.77421",
          "44.91941",
          "44.91488",
          "45.29955",
          "45.28956",
          "46.15864",
          "46.24661",
          "46.24483",
          "46.24652",
          "46.13409",
          "46.08616",
          "45.97951",
          "45.98209",
          "43.65878",
          "43.61901",
          "43.61596",
          "43.07714",
          "43.07445",
          "43.17454",
          "43.0994",
          "43.00691",
          "43.08497",
          "43.0025",
          "42.93328",
          "42.89308",
          "42.89062",
          "42.66538",
          "42.65574",
          "42.54019",
          "42.45433",
          "41.81117",
          "41.7944",
          "42.04134",
          "43.37608",
          "41.18471",
          "41.21478",
          "41.20026",
          "41.21273",
          "40.54687",
          "39.40125",
          "38.08422",
          "38.08278",
          "39.50235",
          "39.50399",
          "-24.76493",
          "-24.77356",
          "35.72374",
          "35.72213",
          "32.42139",
          "32.2426",
          "32.24113",
          "32.35684",
          "32.11537",
          "31.67943",
          "31.65993",
          "31.27771",
          "31.12775",
          "29.99662",
          "29.9942",
          "29.9866",
          "31.00063",
          "31.02456",
          "30.71811",
          "30.71663",
          "30.88135",
          "30.75218",
          "30.39507",
          "30.39359",
          "30.35332",
          "30.34731",
          "30.34584",
          "30.39412",
          "30.25258",
          "30.6111",
          "30.60867",
          "30.60694",
          "30.56528",
          "30.1523",
          "30.03185",
          "30.32683",
          "28.49486",
          "28.4934",
          "25.53459",
          "25.53282",
          "25.50472",
          "15.90729",
          "11.71955",
          "19.40955",
          "19.40744",
          "-34.14307",
          "49.63745",
          "49.62567",
          "49.62275",
          "47.29971",
          "47.3092",
          "47.29556",
          "46.5606",
          "46.56152",
          "46.41389",
          "46.25182",
          "48.44407",
          "45.92708",
          "45.90994",
          "45.96115",
          "47.98354",
          "47.96671",
          "45.55525",
          "45.55614",
          "45.53996",
          "47.31157",
          "47.53447",
          "47.37666",
          "47.34109",
          "47.07069",
          "45.86061",
          "45.71935",
          "45.66934",
          "45.51593",
          "45.51207",
          "45.19228",
          "45.42591",
          "45.42563",
          "45.42168",
          "45.1279",
          "45.0076",
          "44.28322",
          "45.00921",
          "44.34397",
          "44.17797",
          "44.18396",
          "44.26538",
          "44.06132",
          "45.18952",
          "45.18784",
          "45.18353",
          "44.6197",
          "44.61802",
          "42.17459",
          "42.17287",
          "41.11241",
          "39.85352",
          "39.85146",
          "40.7305",
          "40.72727",
          "39.97399",
          "38.65595",
          "39.04524",
          "39.04367",
          "38.62831",
          "38.64248",
          "38.64088",
          "38.73312",
          "38.52374",
          "37.84102",
          "38.31827",
          "34.84265",
          "35.39653",
          "-2.32138",
          "-2.36217",
          "-2.37097",
          "-2.37283",
          "-2.37666",
          "-2.53727",
          "-2.73727",
          "-5.20715",
          "-7.16607",
          "14.35269",
          "14.32727",
          "14.31835",
          "13.33705",
          "11.30385",
          "11.28785",
          "11.29583",
          "11.57143",
          "11.56824",
          "11.56706",
          "11.564",
          "11.55769",
          "11.55462",
          "10.67735",
          "10.68178",
          "11.77215",
          "11.7708",
          "11.61618",
          "11.61481",
          "11.40808",
          "11.40667",
          "9.51639",
          "11.3972",
          "9.51335",
          "10.31853",
          "10.31672",
          "10.31024",
          "10.30842",
          "10.0511",
          "10.45619",
          "10.44716",
          "10.44577",
          "10.40101",
          "10.99981",
          "10.67741",
          "10.67593",
          "9.64534",
          "9.6433",
          "10.28865",
          "11.05838",
          "9.12806",
          "8.99739",
          "9.90772",
          "9.90008",
          "9.89877",
          "8.70899",
          "8.0564",
          "8.16328",
          "8.16067",
          "8.15158",
          "8.16821",
          "8.16571",
          "8.1565",
          "8.15401",
          "8.59978",
          "8.34769",
          "8.34637",
          "8.38748",
          "8.38605",
          "7.45619",
          "7.45485",
          "56.05178",
          "55.37709",
          "54.77885",
          "54.66013",
          "54.52619",
          "54.52061",
          "51.4841",
          "51.48223",
          "51.36539",
          "51.17312",
          "45.76795",
          "45.54019",
          "45.11043",
          "45.10852",
          "44.53692",
          "44.53418",
          "44.88808",
          "14.9805",
          "14.9703",
          "14.72302",
          "14.54656",
          "14.53623",
          "14.23618",
          "13.63609",
          "6.75915",
          "6.46002",
          "5.20674",
          "-38.30962",
          "-30.59796",
          "-30.59958",
          "-30.58988",
          "-30.59148",
          "49.82632",
          "49.90816",
          "49.9063",
          "49.90443",
          "49.97165",
          "50.94341",
          "51.32643",
          "51.32289",
          "51.35022",
          "51.33635",
          "51.33273",
          "51.32896",
          "51.36009",
          "51.35656",
          "51.54348",
          "51.53996",
          "51.54979",
          "51.54627",
          "51.55652",
          "51.98",
          "51.97665",
          "51.97857",
          "52.14612",
          "51.54049",
          "52.31595",
          "52.52695",
          "33.26135",
          "40.86207",
          "40.85841",
          "41.16102",
          "43.91735",
          "43.91566",
          "43.92581",
          "43.98872",
          "44.30296",
          "43.96346",
          "44.3337",
          "44.33746",
          "44.36099",
          "44.35928",
          "44.50601",
          "44.50436",
          "44.51626",
          "44.52681",
          "44.74004",
          "44.88321",
          "44.89371",
          "44.90588",
          "44.90421",
          "44.97883",
          "45.25246",
          "45.58522",
          "45.59023",
          "-20.73413",
          "-15.52709",
          "-15.53093",
          "-15.52658",
          "-15.53068",
          "-15.42887",
          "-15.42871",
          "-13.89227",
          "-13.89485",
          "-13.9412",
          "-13.84697",
          "-13.67791",
          "-13.67416",
          "-4.03571",
          "-7.3062",
          "-7.49027",
          "-7.68072",
          "-7.68346",
          "-8.24885",
          "-8.63962",
          "-8.6007",
          "-8.63205",
          "-8.92637",
          "-9.20485",
          "-9.49044",
          "-9.66851",
          "-10.15046",
          "-9.92653",
          "-10.04869",
          "-10.26605",
          "-10.06395",
          "-10.06539",
          "-10.28272",
          "-10.5947",
          "-10.60273",
          "-11.30254",
          "-10.56293",
          "-10.56974",
          "-11.75431",
          "-11.75309",
          "-11.06311",
          "-11.09048",
          "-10.87165",
          "-11.2793",
          "-11.27226",
          "-11.55053",
          "-11.15729",
          "-11.24495",
          "-12.40514",
          "-12.39499",
          "-11.75248",
          "-11.75412",
          "-11.7916",
          "-11.80174",
          "-11.66486",
          "-11.66041",
          "-11.7136",
          "-11.71501",
          "-11.73479",
          "-12.05941",
          "-12.2184",
          "-11.83665",
          "-12.11265",
          "-12.12836",
          "-12.30196",
          "-11.90151",
          "-12.09048",
          "-12.47477",
          "-12.70519",
          "-12.36279",
          "-12.80561",
          "-12.81668",
          "-13.06044",
          "-12.94648",
          "-13.25066",
          "-13.14202",
          "-13.03631",
          "-12.50993",
          "-13.19338",
          "-12.77008",
          "-13.07334",
          "-13.28421",
          "-12.65741",
          "-13.10733",
          "-13.16442",
          "-13.13141",
          "-13.14064",
          "-13.41722",
          "-13.41883",
          "-13.12815",
          "-12.88397",
          "-13.3413",
          "-12.9672",
          "-13.24495",
          "-13.39191",
          "-13.3856",
          "-13.42353",
          "-13.12124",
          "-13.32676",
          "-13.32816",
          "-13.30566",
          "-13.29792",
          "-13.54483",
          "-13.5758",
          "-13.44979",
          "-13.74115",
          "-13.80055",
          "-13.92443",
          "-14.69681",
          "-13.84246",
          "-13.99817",
          "-13.90165",
          "-14.28572",
          "-14.11658",
          "-14.69563",
          "-14.11827",
          "-13.80403",
          "-14.26435",
          "-15.09204",
          "-15.21935",
          "-14.11082",
          "-14.62581",
          "-15.39362",
          "-14.98917",
          "-14.9984",
          "-15.58982",
          "-15.19937",
          "-15.52483",
          "-14.83939",
          "-15.70229",
          "-17.01712",
          "-16.55378",
          "-17.79824",
          "-17.86069",
          "-18.91983",
          "-18.98706",
          "-19.01133",
          "-18.98664",
          "-17.50555",
          "-18.88531",
          "-19.167",
          "-19.44142",
          "-18.39984",
          "-18.46556",
          "-18.47473",
          "-19.39675",
          "-18.52075",
          "-18.52988",
          "-18.56027",
          "-18.5694",
          "-18.47702",
          "-18.18201",
          "-18.15092",
          "-18.1535",
          "-19.62182",
          "-19.48424",
          "-18.60208",
          "-19.98072",
          "-20.31737",
          "-20.64529",
          "-20.64575",
          "-19.92513",
          "-21.06292",
          "-21.07208",
          "-23.19449",
          "-23.19592",
          "-23.03093",
          "-23.36565",
          "-25.67891",
          "-25.68262",
          "-27.69885",
          "-28.39932",
          "-28.40597",
          "-0.23323",
          "3.76402",
          "13.91672",
          "-17.10839",
          "-16.78127",
          "-16.77957",
          "-15.43476",
          "-13.78834",
          "20.81237",
          "23.39309",
          "24.38742",
          "25.46358",
          "25.46212",
          "25.45378",
          "25.46277",
          "26.9231",
          "26.93284",
          "26.58762",
          "26.59057",
          "26.58855",
          "-34.021",
          "-34.02312",
          "-34.03063",
          "-34.03275",
          "-34.04026",
          "-34.10508",
          "33.9185",
          "33.92201",
          "33.58044",
          "25.1615",
          "22.64399",
          "22.63867",
          "21.69921",
          "21.17697",
          "20.42496",
          "20.28427",
          "20.35412",
          "20.11233",
          "20.11446",
          "20.11285",
          "18.93029",
          "18.92818",
          "17.89758",
          "11.63033",
          "11.10248",
          "10.15335",
          "10.16249",
          "10.15662",
          "9.59334",
          "10.73005",
          "10.72866",
          "9.34461",
          "9.35251",
          "8.93408",
          "8.86949",
          "8.87049",
          "8.86875",
          "8.78483",
          "8.75924",
          "8.75881",
          "8.58096",
          "8.57672",
          "8.57782",
          "8.57376",
          "8.60342",
          "8.27955",
          "8.0607",
          "8.05543",
          "7.7759",
          "8.6917",
          "7.92454",
          "7.61491",
          "7.97039",
          "7.48146",
          "7.3557",
          "7.44378",
          "7.42966",
          "7.29053",
          "7.28838",
          "8.50151",
          "8.38925",
          "8.28934",
          "8.28752",
          "8.22941",
          "6.37935",
          "8.35753",
          "6.37987",
          "7.8198",
          "7.81803",
          "7.82605",
          "7.68736",
          "7.68568",
          "7.47024",
          "7.25141",
          "3.32673",
          "3.23731",
          "3.26175",
          "3.01395",
          "3.00484",
          "-0.35467",
          "-1.5633",
          "-1.99949",
          "-1.87051",
          "-2.45764",
          "-4.92419",
          "-5.70701",
          "-6.0338",
          "-6.05889",
          "-6.06855",
          "-6.23027",
          "-7.73815",
          "-8.45908",
          "-9.29795",
          "41.26249",
          "41.25993",
          "60.42778",
          "40.21174",
          "40.2124",
          "19.35023",
          "19.36154",
          "19.35982",
          "20.16586",
          "19.01579",
          "19.01493",
          "20.7923",
          "20.96533",
          "20.94278",
          "21.53311",
          "21.91984",
          "21.20516",
          "21.21906",
          "21.21438",
          "21.21032",
          "22.63993",
          "23.68921",
          "23.77024",
          "23.77649",
          "22.44121",
          "22.45763",
          "23.29529",
          "22.44061",
          "23.50466",
          "22.46108",
          "22.45717",
          "23.56857",
          "22.40173",
          "22.39743",
          "22.48827",
          "22.88327",
          "22.67705",
          "22.49709",
          "22.46927",
          "22.56639",
          "22.50591",
          "22.502",
          "22.55674",
          "22.553",
          "22.776",
          "22.58764",
          "22.5709",
          "22.50432",
          "22.55663",
          "22.55274",
          "22.93649",
          "22.641",
          "22.62657",
          "22.63889",
          "22.60189",
          "22.59809",
          "22.61814",
          "22.65784",
          "22.65419",
          "23.02362",
          "23.02118",
          "23.00892",
          "22.84933",
          "22.66445",
          "22.66077",
          "22.65873",
          "22.65493",
          "22.62794",
          "23.02611",
          "23.01086",
          "23.00054",
          "22.84492",
          "22.66464",
          "23.02222",
          "22.67057",
          "22.6667",
          "22.71714",
          "22.89058",
          "22.4493",
          "22.45214",
          "22.96463",
          "22.97622",
          "23.34372",
          "23.28951",
          "23.77151",
          "23.31162",
          "23.3093",
          "23.28092",
          "23.3326",
          "23.34414",
          "23.3394",
          "23.33702",
          "23.42744",
          "23.42064",
          "23.44229",
          "23.46521",
          "23.463",
          "23.46049",
          "23.48926",
          "23.91422",
          "23.63239",
          "23.49891",
          "24.07866",
          "24.98377",
          "24.98229",
          "24.87874",
          "24.52736",
          "24.95362",
          "24.9518",
          "24.96128",
          "28.5281",
          "29.73685",
          "30.69494",
          "30.42288",
          "31.55373",
          "40.95681",
          "40.85011",
          "40.68195",
          "40.64292",
          "40.86469",
          "40.57395",
          "40.57162",
          "39.31505",
          "39.60906",
          "38.96127",
          "38.52731",
          "38.85351",
          "38.88424",
          "38.86447",
          "38.83194",
          "38.00094",
          "37.96748",
          "37.81379",
          "37.81166",
          "38.4986",
          "38.48321",
          "38.00306",
          "37.65601",
          "37.65419",
          "37.64702",
          "37.6526",
          "37.25782",
          "37.22658",
          "36.69898",
          "36.77431",
          "36.77222",
          "37.19446",
          "37.19292",
          "36.33543",
          "35.93894",
          "36.00682",
          "36.65575",
          "36.5471",
          "35.96642",
          "35.95707",
          "35.95502",
          "35.99519",
          "35.99328",
          "35.07215",
          "36.36468",
          "36.36314",
          "36.35556",
          "36.35402",
          "36.45045",
          "35.82853",
          "35.91775",
          "35.91011",
          "35.90859",
          "35.86598",
          "34.38648",
          "34.38175",
          "35.8569",
          "34.92136",
          "34.9118",
          "35.3559",
          "35.50927",
          "35.50775",
          "34.88477",
          "34.87563",
          "34.87386",
          "34.86683",
          "34.79794",
          "34.79238",
          "32.86526",
          "34.7318",
          "34.81326",
          "34.77193",
          "34.80434",
          "32.87263",
          "32.86624",
          "32.85706",
          "34.51683",
          "34.51504",
          "34.51325",
          "34.50981",
          "34.50805",
          "34.50628",
          "34.67218",
          "34.67066",
          "33.77026",
          "34.549",
          "34.54749",
          "34.54598",
          "34.54447",
          "34.53848",
          "32.32353",
          "32.33105",
          "32.33352",
          "34.33509",
          "32.32905",
          "34.03648",
          "34.05206",
          "31.90974",
          "33.81871",
          "33.81705",
          "33.80911",
          "33.80746",
          "34.00508",
          "34.00356",
          "33.9164",
          "31.5428",
          "33.67701",
          "33.67543",
          "33.34274",
          "34.3096",
          "34.29871",
          "34.29673",
          "32.96488",
          "32.5981",
          "32.59496",
          "32.10464",
          "31.80101",
          "31.80438",
          "33.58285",
          "33.57265",
          "30.94628",
          "33.07002",
          "30.68091",
          "30.67354",
          "30.66617",
          "30.68276",
          "30.67559",
          "30.66803",
          "30.6608",
          "30.94518",
          "31.35054",
          "31.47785",
          "31.4688",
          "31.46711",
          "31.21889",
          "31.37561",
          "31.08747",
          "30.7547",
          "30.74568",
          "30.46014",
          "30.4906",
          "30.48904",
          "29.78742",
          "29.75878",
          "29.785",
          "27.01736",
          "21.79174",
          "19.71688",
          "19.15062",
          "19.39254",
          "21.01325",
          "20.81351",
          "18.54985",
          "18.5441",
          "18.5514",
          "18.54586",
          "18.53895",
          "18.5383",
          "19.70062",
          "20.40232",
          "19.36137",
          "19.35839",
          "19.35702",
          "19.35564",
          "18.01934",
          "18.13906",
          "18.01806",
          "18.14603",
          "18.13252",
          "19.76222",
          "19.29056",
          "19.75381",
          "19.74362",
          "19.07848",
          "19.07971",
          "19.07835",
          "19.37454",
          "17.89036",
          "19.06535",
          "17.3997",
          "18.67177",
          "18.776",
          "18.25745",
          "18.34393",
          "18.34262",
          "16.79903",
          "16.79332",
          "18.30203",
          "18.34165",
          "18.34026",
          "18.06436",
          "18.2228",
          "16.28618",
          "16.27793",
          "17.70057",
          "16.04741",
          "16.04928",
          "16.03432",
          "17.18127",
          "17.17217",
          "16.48181",
          "16.47912",
          "17.0454",
          "17.04398",
          "16.88743",
          "17.00606",
          "15.96002",
          "14.39833",
          "14.39291",
          "14.39629",
          "14.12205",
          "57.94961",
          "24.49973",
          "25.50685",
          "25.53301",
          "25.52992",
          "25.52878",
          "25.64384",
          "25.64095",
          "27.16277",
          "27.56503",
          "27.76519",
          "27.76154",
          "27.75882",
          "28.49429",
          "28.48555",
          "28.49922",
          "30.26201",
          "30.38417",
          "30.39345",
          "30.72047",
          "30.72237",
          "30.71725",
          "30.36",
          "30.90226",
          "30.52891",
          "30.49928",
          "30.53301",
          "30.52551",
          "30.49416",
          "30.56253",
          "30.55775",
          "30.57289",
          "30.61093",
          "30.60316",
          "31.01024",
          "31.00378",
          "31.01117",
          "31.00452",
          "31.27564",
          "31.0231",
          "31.01553",
          "31.03443",
          "31.02668",
          "31.43774",
          "32.23603",
          "32.23281",
          "32.24715",
          "32.24394",
          "32.42357",
          "32.4216",
          "31.66213",
          "42.66454",
          "42.66291",
          "42.66128",
          "42.68135",
          "46.1001",
          "46.09827",
          "46.10332",
          "46.15496",
          "46.77537",
          "46.77246",
          "48.52445",
          "48.5174",
          "21.39803",
          "21.396",
          "23.19181",
          "44.02434",
          "42.78653",
          "42.78297",
          "42.68569",
          "42.68306",
          "42.85184",
          "37.76015",
          "28.96829",
          "28.9598",
          "47.70798",
          "45.1875",
          "44.88885",
          "46.65372",
          "11.36505",
          "11.37558",
          "11.73982",
          "11.73854",
          "11.85666",
          "11.85532",
          "12.1048",
          "11.73807",
          "11.74263",
          "11.74041",
          "13.47849",
          "13.79912",
          "13.65129",
          "13.6491",
          "24.55737",
          "25.81807",
          "4.81961",
          "4.81819",
          "5.17149",
          "5.18257",
          "5.18047",
          "8.70232",
          "8.79357",
          "8.7752",
          "8.80478",
          "9.31817",
          "9.32665",
          "8.81459",
          "8.85898",
          "8.85662",
          "9.05326",
          "54.54203",
          "54.54927",
          "54.60235",
          "54.59937",
          "38.13749",
          "19.41332",
          "19.40018",
          "19.40342",
          "19.40104",
          "32.40508",
          "32.40282",
          "33.06145",
          "-2.61414",
          "4.14981",
          "4.14773",
          "11.61947",
          "11.61747",
          "11.63129",
          "11.62929",
          "26.69936",
          "28.9025",
          "28.90606",
          "27.92114",
          "28.73902",
          "28.57536",
          "28.55535",
          "28.62098",
          "28.68122",
          "30.25271",
          "30.25124",
          "30.87678",
          "31.58484",
          "31.58309",
          "31.66519",
          "31.66344",
          "32.51413",
          "32.51253",
          "-7.84661",
          "-6.88063",
          "-7.84717",
          "-7.45066",
          "-6.8589",
          "-4.87895",
          "-4.92383",
          "-4.51158",
          "-4.51335",
          "51.48455",
          "51.0441",
          "-36.38171",
          "-38.21922",
          "-41.60398",
          "-41.64163",
          "7.33312",
          "7.34219",
          "8.89204",
          "9.01157",
          "9.00911",
          "9.18962",
          "10.80544",
          "10.78031",
          "11.91049",
          "11.79364",
          "11.6873",
          "11.68588",
          "12.32279",
          "12.1237",
          "12.63018",
          "12.62871",
          "12.37279",
          "12.11181",
          "12.75574",
          "13.07593",
          "13.18787",
          "13.1947",
          "13.62655",
          "13.64118",
          "13.64897",
          "13.21273",
          "13.22067",
          "13.23021",
          "13.45554",
          "13.4541",
          "13.95605",
          "14.027",
          "14.26637",
          "14.26503",
          "14.2771",
          "14.27575",
          "14.2744",
          "14.60975",
          "-41.05222",
          "-41.17611",
          "-41.10648",
          "-41.18512",
          "-41.18691",
          "-41.11367",
          "-41.11554",
          "-41.12977",
          "-41.52012",
          "-30.42958",
          "-30.43138",
          "-30.59317",
          "-32.24169",
          "-31.687",
          "-31.68986",
          "-31.69767",
          "-31.70052",
          "-32.0437",
          "-32.04576",
          "-32.2611",
          "-33.14346",
          "-33.34105",
          "-34.45686",
          "-33.88786",
          "-34.08953",
          "-34.53778",
          "-35.28131",
          "-35.93381",
          "-36.34928",
          "-36.35163",
          "-36.36144",
          "-34.44832",
          "46.08665",
          "46.08466",
          "45.87538",
          "45.80967",
          "45.80681",
          "45.74417",
          "45.74233",
          "45.60563",
          "45.60152",
          "45.50997",
          "45.41938",
          "45.38478",
          "45.38382",
          "45.10207",
          "45.09917",
          "44.98701",
          "44.98555",
          "44.9927",
          "44.97677",
          "44.8997",
          "44.88443",
          "44.79985",
          "44.76904",
          "44.75661",
          "44.68515",
          "44.68707",
          "44.61144",
          "44.61311",
          "44.59785",
          "44.55787",
          "44.43729",
          "44.29011",
          "44.28841",
          "44.28709",
          "44.26334",
          "44.26153",
          "44.13415",
          "44.13239",
          "44.1336",
          "44.13165",
          "43.93086",
          "43.87873",
          "35.02567",
          "-13.30771",
          "-13.29783",
          "-13.45591",
          "-13.55303",
          "-13.64141",
          "-13.64315",
          "-13.72144",
          "-13.62825",
          "-13.67264",
          "-13.68131",
          "-13.68297",
          "-13.65888",
          "-13.67769",
          "-13.67927",
          "-13.79127",
          "-13.79301",
          "-13.73573",
          "-13.74055",
          "-13.85443",
          "-13.86967",
          "-13.87126",
          "-13.8428",
          "-13.84434",
          "-13.93542",
          "-13.93708",
          "-13.94406",
          "-13.94572",
          "-13.94208",
          "-13.87853",
          "-13.85287",
          "-13.85434",
          "-14.04545",
          "-13.86263",
          "-14.00679",
          "-14.00832",
          "-13.87669",
          "-14.33034",
          "-14.51155",
          "-13.78773",
          "-13.78246",
          "-15.43889",
          "-16.09965",
          "-16.11125",
          "-16.09577",
          "-15.03102",
          "-15.03278",
          "-16.15571",
          "-16.16531",
          "-16.16732",
          "-15.72361",
          "-15.74639",
          "-15.74774",
          "-15.64415",
          "-15.64549",
          "-15.64195",
          "-15.81299",
          "-15.82646",
          "-15.83008",
          "-15.73473",
          "-15.8292",
          "-15.85081",
          "-15.85216",
          "-15.94023",
          "-15.75735",
          "-15.75872",
          "-15.83731",
          "-15.83865",
          "-15.86012",
          "-15.86146",
          "-15.94853",
          "-15.92172",
          "-15.96826",
          "-15.93192",
          "-15.90317",
          "-15.54163",
          "-15.54957",
          "-15.55126",
          "-16.02367",
          "-16.02502",
          "-15.66669",
          "-16.00561",
          "-15.66471",
          "-15.66636",
          "-16.01595",
          "-15.69631",
          "-15.99999",
          "-15.7008",
          "-15.70357",
          "-16.21591",
          "-16.21725",
          "-16.04326",
          "-16.05238",
          "-16.45998",
          "-17.72931",
          "-16.84403",
          "-17.10378",
          "-17.10524",
          "-17.20996",
          "-17.21901",
          "-17.21032",
          "-17.21752",
          "-17.23328",
          "-17.09219",
          "-16.92905",
          "-17.30998",
          "-17.3379",
          "-17.33976",
          "-18.32329",
          "-18.37567",
          "-18.37703",
          "-18.41754",
          "-18.42386",
          "-18.42522",
          "-18.42658",
          "-18.49771",
          "-18.50675",
          "-17.65966",
          "-17.66226",
          "-18.51443",
          "-17.78057",
          "-17.78288",
          "-18.53115",
          "-18.53882",
          "-18.5301",
          "-18.53791",
          "-18.53926",
          "-18.54062",
          "-18.54198",
          "-18.55416",
          "-18.54693",
          "-18.54829",
          "-18.54964",
          "-18.56185",
          "-18.55459",
          "-18.55595",
          "-18.57176",
          "-18.57312",
          "-18.58078",
          "-17.91797",
          "-18.15383",
          "-18.15688",
          "-18.53513",
          "-18.53761",
          "-18.53507",
          "-18.53765",
          "-18.55126",
          "-18.5623",
          "-18.7858",
          "-18.77786",
          "6.41157",
          "6.4072",
          "6.42641",
          "6.38646",
          "6.40162",
          "6.41081",
          "6.40625",
          "6.42566",
          "6.39901",
          "6.19456",
          "7.2983",
          "7.71311",
          "7.90201",
          "-22.9148",
          "-20.86479",
          "-21.05395",
          "-21.04258",
          "-20.75249",
          "-18.57086",
          "-18.57217",
          "-18.48202",
          "-18.48962",
          "-18.47485",
          "-18.46829",
          "-18.46992",
          "-18.3919",
          "-18.39629",
          "-18.39795",
          "-18.367",
          "-18.36863",
          "-17.77186",
          "-17.77374",
          "-17.7619",
          "-17.76546",
          "-17.50645",
          "-16.06559",
          "-16.04629",
          "-15.68206",
          "-9.93227",
          "34.99826",
          "35.01194",
          "8.68898",
          "8.76474",
          "8.29451",
          "9.1382",
          "9.07287",
          "9.0711",
          "9.27147",
          "9.23431",
          "9.23259",
          "9.27309",
          "9.23269",
          "8.67405",
          "8.67031",
          "9.55957",
          "8.83272",
          "9.61966",
          "9.61814",
          "9.62921",
          "8.83689",
          "9.64363",
          "9.64206",
          "9.64048",
          "9.61824",
          "9.61663",
          "9.65635",
          "9.65479",
          "9.65166",
          "9.65009",
          "9.64379",
          "9.65341",
          "9.65183",
          "9.65025",
          "9.70575",
          "9.72589",
          "9.72438",
          "9.7309",
          "9.72934",
          "9.73732",
          "9.77895",
          "9.77744",
          "8.77823",
          "9.97976",
          "10.05882",
          "10.05695",
          "10.0551",
          "10.06313",
          "10.63992",
          "9.79037",
          "9.79677",
          "10.52429",
          "13.1549",
          "18.92837",
          "18.92439",
          "18.92412",
          "42.78826",
          "42.78611",
          "42.39124",
          "42.22657",
          "42.23459",
          "41.84444",
          "42.32162",
          "41.62503",
          "42.50484",
          "41.40215",
          "41.38657",
          "41.38366",
          "41.36481",
          "41.44024",
          "41.71091",
          "41.70197",
          "40.99865",
          "40.86086",
          "40.63272",
          "40.00993",
          "39.7092",
          "39.77207",
          "41.27623",
          "38.53083",
          "38.53658",
          "39.40412",
          "39.75068",
          "39.74186",
          "39.43423",
          "39.43455",
          "39.26197",
          "39.20134",
          "39.22769",
          "39.14944",
          "39.16338",
          "37.18414",
          "38.87507",
          "38.84398",
          "38.7005",
          "38.69893",
          "38.60975",
          "38.49535",
          "38.49376",
          "38.3279",
          "38.37886",
          "38.24064",
          "38.21483",
          "37.93848",
          "38.02241",
          "38.02085",
          "37.95394",
          "37.91052",
          "37.90894",
          "37.87626",
          "37.52327",
          "37.52153",
          "37.50043",
          "36.87475",
          "36.87254",
          "37.92892",
          "37.01331",
          "36.89022",
          "36.73841",
          "36.73642",
          "36.83638",
          "36.68357",
          "36.72667",
          "36.64231",
          "36.58119",
          "36.59648",
          "36.6348",
          "36.56278",
          "36.87013",
          "36.41134",
          "36.4827",
          "36.79179",
          "36.4611",
          "36.68161",
          "36.34267",
          "36.99617",
          "36.23485",
          "37.1592",
          "37.03812",
          "35.87451",
          "35.95965",
          "35.30465",
          "34.30429",
          "34.12679",
          "34.13379",
          "33.88949",
          "31.76986",
          "31.31723",
          "31.2436",
          "31.44556",
          "31.43631",
          "31.34204",
          "31.52285",
          "31.31674",
          "31.30744",
          "31.24823",
          "30.90795",
          "31.1393",
          "29.52029",
          "30.52608",
          "30.17116",
          "30.04967",
          "29.23397",
          "30.01111",
          "29.99631",
          "29.28716",
          "29.28164",
          "29.20253",
          "28.70829",
          "28.47186",
          "28.62717",
          "28.45141",
          "28.61569",
          "28.39262",
          "28.39059",
          "28.38224",
          "28.39559",
          "28.35526",
          "28.34763",
          "28.34197",
          "28.36713",
          "28.28432",
          "28.34188",
          "28.49866",
          "28.26683",
          "28.24362",
          "27.97778",
          "28.26101",
          "28.21872",
          "28.35036",
          "28.34876",
          "28.18614",
          "28.18315",
          "28.18147",
          "28.18074",
          "28.05243",
          "28.09764",
          "27.90977",
          "27.90812",
          "27.88827",
          "27.8866",
          "27.78612",
          "27.5879",
          "27.17004",
          "27.66301",
          "27.8528",
          "27.83332",
          "27.79616",
          "27.58395",
          "27.06378",
          "27.68773",
          "27.68608",
          "27.04485",
          "27.22585",
          "27.80425",
          "27.80282",
          "27.73944",
          "27.73801",
          "27.26556",
          "27.26377",
          "27.2566",
          "27.26024",
          "27.66293",
          "27.64867",
          "27.28874",
          "26.82528",
          "26.82323",
          "27.71606",
          "27.4504",
          "26.91298",
          "26.90365",
          "27.61651",
          "27.5808",
          "27.57759",
          "26.91146",
          "26.72581",
          "26.52934",
          "26.52703",
          "27.30586",
          "26.99529",
          "27.29346",
          "26.92814",
          "26.92671",
          "27.11416",
          "27.11271",
          "26.36244",
          "26.34513",
          "26.19285",
          "26.27968",
          "26.18272",
          "27.14064",
          "26.75795",
          "27.07285",
          "27.11537",
          "26.24877",
          "26.1891",
          "26.77623",
          "27.01171",
          "27.03351",
          "27.03203",
          "25.77742",
          "26.98981",
          "26.72583",
          "26.24243",
          "26.08265",
          "26.94911",
          "26.94758",
          "26.00388",
          "26.74458",
          "26.75664",
          "25.932",
          "25.91351",
          "26.67796",
          "26.63557",
          "26.48301",
          "26.46494",
          "26.43613",
          "26.47676",
          "26.47227",
          "26.40458",
          "26.39009",
          "25.79367",
          "25.73042",
          "25.7844",
          "26.44559",
          "26.44411",
          "26.4075",
          "26.28322",
          "26.24942",
          "26.34535",
          "26.43754",
          "26.43603",
          "26.26499",
          "26.2636",
          "26.25496",
          "25.91456",
          "25.91462",
          "26.22374",
          "26.21316",
          "26.16453",
          "26.16314",
          "26.34217",
          "26.34066",
          "26.29838",
          "26.15708",
          "25.86132",
          "26.27685",
          "26.15939",
          "26.15801",
          "26.15217",
          "26.12609",
          "25.2878",
          "26.12083",
          "25.18445",
          "25.77287",
          "25.77147",
          "25.74513",
          "25.73416",
          "25.72416",
          "25.71479",
          "25.4917",
          "25.69257",
          "25.05925",
          "25.0575",
          "25.35936",
          "25.0628",
          "25.03117",
          "24.88709",
          "26.14748",
          "26.14939",
          "25.45963",
          "24.66015",
          "24.61596",
          "25.48882",
          "25.40634",
          "53.36264",
          "53.35347",
          "53.31425",
          "53.26028",
          "53.25726",
          "53.248",
          "53.245",
          "53.22022",
          "53.21717",
          "53.99784",
          "53.2177",
          "53.21469",
          "53.39751",
          "52.87235",
          "52.86945",
          "52.96564",
          "51.94233",
          "51.93602",
          "51.93285",
          "52.60452",
          "52.60259",
          "52.53112",
          "52.39707",
          "51.97577",
          "50.62993",
          "50.58234",
          "50.59452",
          "50.59143",
          "50.58833",
          "50.58523",
          "50.57276",
          "50.57573",
          "50.37429",
          "50.37332",
          "50.63274",
          "48.82756",
          "48.82413",
          "45.83102",
          "45.7775",
          "45.7649",
          "45.82486",
          "45.75963",
          "45.71325",
          "45.70031",
          "45.67804",
          "45.65218",
          "45.67216",
          "45.60741",
          "45.42172",
          "45.14468",
          "45.13266",
          "45.09887",
          "45.32123",
          "44.81362",
          "45.32129",
          "44.82336",
          "44.79531",
          "44.80247",
          "44.78764",
          "44.7943",
          "44.78322",
          "44.64349",
          "44.63149",
          "44.8954",
          "46.17743",
          "44.62146",
          "46.7841",
          "44.62383",
          "44.89727",
          "44.62835",
          "46.05244",
          "46.64156",
          "46.48936",
          "44.25676",
          "44.2385",
          "44.54511",
          "44.5927",
          "44.25196",
          "44.54921",
          "44.23354",
          "44.07342",
          "44.36848",
          "44.05805",
          "44.3726",
          "44.06828",
          "44.28014",
          "45.84185",
          "44.27039",
          "46.3447",
          "46.34251",
          "44.15436",
          "46.33569",
          "45.67295",
          "45.66959",
          "45.38461",
          "43.93281",
          "43.93594",
          "46.12033",
          "43.77414",
          "43.76363",
          "43.76789",
          "44.71737",
          "44.71364",
          "44.51373",
          "44.57574",
          "44.15502",
          "43.92882",
          "43.19221",
          "42.91808",
          "43.4374",
          "42.62962",
          "42.61046",
          "42.79372",
          "24.89547",
          "24.89386",
          "24.72267",
          "25.23708",
          "24.73618",
          "24.47644",
          "25.34571",
          "24.34679",
          "25.42562",
          "25.4239",
          "24.51192",
          "24.51027",
          "24.35685",
          "25.11286",
          "25.11075",
          "25.01778",
          "25.0367",
          "24.97001",
          "24.96859",
          "25.15631",
          "24.27533",
          "24.27361",
          "23.52587",
          "25.40252",
          "25.16947",
          "25.16774",
          "24.36976",
          "24.18488",
          "24.57132",
          "24.56992",
          "24.49758",
          "24.49613",
          "24.0678",
          "24.05868",
          "24.56742",
          "23.72015",
          "24.44262",
          "23.09966",
          "23.66157",
          "23.65962",
          "23.62648",
          "24.60692",
          "23.61679",
          "23.61619",
          "23.61435",
          "23.59194",
          "23.61027",
          "23.60849",
          "24.10893",
          "23.56589",
          "23.57072",
          "23.45894",
          "23.47464",
          "23.47283",
          "24.3415",
          "23.68588",
          "24.27394",
          "23.34402",
          "23.30865",
          "23.31589",
          "23.35505",
          "23.26941",
          "23.9774",
          "23.97594",
          "23.19209",
          "23.49381",
          "24.01423",
          "23.73981",
          "23.73827",
          "23.73001",
          "23.6287",
          "23.62731",
          "23.26316",
          "23.32796",
          "23.56233",
          "23.56093",
          "23.55912",
          "23.52055",
          "22.93576",
          "23.64448",
          "23.92275",
          "22.98154",
          "23.47521",
          "23.41129",
          "22.93281",
          "22.7938",
          "22.94664",
          "22.94526",
          "22.93405",
          "22.92986",
          "23.4374",
          "23.4337",
          "22.76489",
          "22.93245",
          "23.39804",
          "23.29762",
          "23.30432",
          "23.30229",
          "22.59563",
          "22.59707",
          "22.1681",
          "22.16772",
          "22.1662",
          "21.96406",
          "22.51412",
          "21.77514",
          "22.18293",
          "22.1857",
          "21.29054",
          "21.26385",
          "21.26062",
          "21.25852",
          "21.25634",
          "21.2441",
          "21.21544",
          "21.21397",
          "21.08346",
          "21.08021",
          "15.2709",
          "14.72346",
          "14.70892",
          "14.70641",
          "11.7856",
          "10.98285",
          "1.16906",
          "1.28718",
          "0.3283",
          "0.31933",
          "0.31802",
          "0.1111",
          "-0.23445",
          "-0.66395",
          "-0.82131",
          "-2.82893",
          "-7.00817",
          "-7.15944",
          "-7.22124",
          "-7.09751",
          "-7.56476",
          "-6.96079",
          "-6.97045",
          "-7.00756",
          "-7.45487",
          "-7.39536",
          "-7.62835",
          "-7.72926",
          "-7.73066",
          "25.54832",
          "25.34263",
          "24.12781",
          "24.15631",
          "24.13933",
          "24.13762",
          "23.98965",
          "23.98781",
          "24.00317",
          "24.00124",
          "23.99541",
          "23.97985",
          "23.97799",
          "24.0175",
          "23.95649",
          "23.85798",
          "23.84814",
          "23.90218",
          "23.89786",
          "22.62248",
          "24.91421",
          "24.97897",
          "22.62669",
          "22.62079",
          "22.62801",
          "22.62226",
          "24.12703",
          "23.62294",
          "24.0608",
          "24.83008",
          "24.82763",
          "24.82694",
          "23.88141",
          "23.76999",
          "24.13084",
          "23.77252",
          "23.68946",
          "23.96452",
          "24.19071",
          "22.82268",
          "23.95935",
          "24.1892",
          "23.91059",
          "22.61365",
          "23.90656",
          "23.66459",
          "23.62767",
          "23.71038",
          "22.36232",
          "22.3601",
          "22.79574",
          "22.42989",
          "21.40778",
          "21.40514",
          "21.39452",
          "21.06178",
          "21.07603",
          "21.06512",
          "20.76822",
          "21.84472",
          "20.20395",
          "22.70888",
          "20.21517",
          "22.70778",
          "22.59133",
          "22.54802",
          "22.59054",
          "22.54804",
          "22.54456",
          "53.11431",
          "53.11073",
          "52.79199",
          "52.78662",
          "52.77109",
          "46.82772",
          "46.75452",
          "46.68263",
          "46.67242",
          "46.6778",
          "44.21424",
          "44.11016",
          "41.81784",
          "19.30375",
          "19.30474",
          "19.28411",
          "19.43254",
          "19.20631",
          "19.43955",
          "19.20721",
          "19.1457",
          "20.9614",
          "20.95986",
          "19.18982",
          "19.1849",
          "20.78587",
          "18.78527",
          "19.21217",
          "18.44713",
          "18.4411",
          "19.08871",
          "20.62431",
          "19.09642",
          "17.81479",
          "19.47422",
          "15.80977",
          "10.28732",
          "31.75895",
          "13.58212",
          "13.6082",
          "13.76652",
          "13.76523",
          "13.77544",
          "13.87091",
          "13.9974",
          "14.08814",
          "14.08686",
          "14.17231",
          "14.18125",
          "14.17997",
          "14.1889",
          "14.17731",
          "14.18624",
          "14.20766",
          "14.13327",
          "14.29838",
          "14.41019",
          "14.38416",
          "14.49989",
          "14.63577",
          "14.72978",
          "14.74",
          "14.78648",
          "14.94294",
          "14.5631",
          "14.89382",
          "14.89233",
          "14.81761",
          "15.28629",
          "15.28492",
          "15.28034",
          "15.27897",
          "15.13233",
          "15.13068",
          "15.298",
          "15.14205",
          "16.42546",
          "16.42358",
          "16.20794",
          "17.15636",
          "17.86014",
          "17.99596",
          "17.9994",
          "17.99763",
          "17.89466",
          "17.89216",
          "17.84606",
          "17.84328",
          "17.84427",
          "17.84139",
          "17.89103",
          "17.90552",
          "17.9027",
          "17.97493",
          "18.08648",
          "18.09889",
          "18.64738",
          "19.4329",
          "19.44199",
          "19.44054",
          "19.45107",
          "19.49854",
          "19.39622",
          "20.39811",
          "29.94646",
          "-1.9931",
          "-1.99527",
          "-1.98056",
          "-1.98308",
          "-1.98415",
          "-1.98632",
          "-0.11795",
          "-0.12787",
          "-0.11051",
          "-0.11375",
          "8.40575",
          "10.42322",
          "11.48094"
         ],
         "legendgroup": "",
         "lon": [
          "133.94154",
          "133.96411",
          "134.3511",
          "134.41141",
          "133.9342",
          "133.95674",
          "134.72946",
          "134.29959",
          "134.3205",
          "134.0114",
          "134.28357",
          "133.76329",
          "133.91568",
          "133.93828",
          "133.93362",
          "133.86534",
          "134.17751",
          "131.36206",
          "135.02171",
          "135.0006",
          "135.03087",
          "135.00777",
          "134.91943",
          "129.72491",
          "137.29135",
          "137.50694",
          "137.34331",
          "137.35469",
          "137.3416",
          "137.30202",
          "137.29593",
          "137.30737",
          "137.30569",
          "138.49339",
          "138.50337",
          "129.97894",
          "130.28633",
          "130.27922",
          "129.99707",
          "129.99371",
          "130.02997",
          "129.97131",
          "129.92351",
          "129.96268",
          "129.91508",
          "129.95168",
          "132.07677",
          "132.07384",
          "131.76846",
          "149.29866",
          "149.29285",
          "146.80524",
          "146.80019",
          "145.96332",
          "145.9931",
          "145.95631",
          "145.98615",
          "147.13557",
          "147.1734",
          "147.7807",
          "147.77348",
          "-45.4887",
          "-45.63339",
          "-46.68921",
          "-46.69865",
          "-47.15752",
          "-48.49622",
          "-40.24332",
          "-42.3741",
          "119.78517",
          "120.86034",
          "115.85267",
          "115.84732",
          "122.40257",
          "122.42354",
          "126.11323",
          "126.13467",
          "126.11116",
          "126.39769",
          "126.33206",
          "126.32973",
          "126.34995",
          "126.32732",
          "126.325",
          "126.31984",
          "126.31757",
          "126.48897",
          "126.26331",
          "126.30905",
          "124.65942",
          "124.68296",
          "131.34544",
          "131.17978",
          "133.88231",
          "131.18208",
          "131.31625",
          "131.26842",
          "132.51498",
          "127.55202",
          "127.56812",
          "127.58412",
          "127.60006",
          "127.59527",
          "127.56104",
          "130.66498",
          "131.43324",
          "131.43053",
          "131.79449",
          "131.80737",
          "131.24292",
          "131.3994",
          "131.28957",
          "128.09676",
          "131.86844",
          "131.39735",
          "131.41017",
          "131.40099",
          "131.41382",
          "131.75163",
          "133.07858",
          "132.18372",
          "133.91652",
          "133.93048",
          "133.9133",
          "132.94125",
          "130.7718",
          "130.78456",
          "134.25031",
          "134.2643",
          "134.26135",
          "130.53554",
          "130.20378",
          "132.95419",
          "132.96744",
          "134.26004",
          "134.27454",
          "134.25671",
          "134.27118",
          "126.25776",
          "133.53323",
          "131.35559",
          "133.73621",
          "133.52696",
          "133.73303",
          "130.38351",
          "130.51353",
          "130.511",
          "132.06322",
          "126.62415",
          "130.89014",
          "131.05624",
          "130.43283",
          "130.99786",
          "123.90454",
          "126.57858",
          "126.5949",
          "125.3687",
          "131.53131",
          "127.4062",
          "125.95515",
          "125.97249",
          "127.72659",
          "131.08528",
          "126.75793",
          "126.87193",
          "126.85187",
          "126.84144",
          "135.75356",
          "133.57768",
          "133.59152",
          "133.08897",
          "126.70106",
          "132.02556",
          "132.02278",
          "126.85288",
          "125.56451",
          "126.87541",
          "132.95177",
          "133.59988",
          "133.59679",
          "126.50596",
          "126.43937",
          "126.45553",
          "126.44922",
          "126.76065",
          "131.54758",
          "131.56015",
          "131.57275",
          "132.82855",
          "132.01015",
          "132.02283",
          "132.68483",
          "132.68192",
          "133.56677",
          "122.51199",
          "122.53055",
          "126.71207",
          "125.72591",
          "126.70366",
          "126.71998",
          "126.38667",
          "126.76002",
          "126.63396",
          "126.36227",
          "126.58486",
          "131.84415",
          "131.85678",
          "131.84142",
          "131.85403",
          "132.41591",
          "126.73421",
          "126.74963",
          "126.7429",
          "132.22139",
          "131.9761",
          "132.20576",
          "132.21858",
          "132.23141",
          "125.85114",
          "125.86806",
          "132.20296",
          "132.21577",
          "131.54231",
          "131.55486",
          "131.56738",
          "132.53276",
          "126.84863",
          "131.98215",
          "131.99483",
          "131.97942",
          "131.9921",
          "131.96867",
          "135.20216",
          "135.21834",
          "131.92517",
          "133.20517",
          "131.92244",
          "133.20213",
          "133.21568",
          "131.46751",
          "131.48",
          "132.75783",
          "131.86844",
          "132.96938",
          "132.98256",
          "132.16457",
          "132.97472",
          "132.98785",
          "126.27316",
          "132.44661",
          "132.45961",
          "131.85172",
          "131.68367",
          "134.01682",
          "134.03156",
          "125.54052",
          "133.8567",
          "133.87103",
          "133.8681",
          "131.93971",
          "133.7865",
          "133.22028",
          "133.23395",
          "126.4817",
          "132.67529",
          "132.6882",
          "132.67265",
          "132.68578",
          "125.71804",
          "125.71268",
          "126.29051",
          "127.35742",
          "132.83229",
          "122.09874",
          "130.66632",
          "122.16615",
          "123.34949",
          "123.26295",
          "123.28227",
          "122.99751",
          "127.60643",
          "127.61832",
          "124.26203",
          "127.24052",
          "127.25229",
          "127.14409",
          "126.91007",
          "126.92164",
          "126.9141",
          "126.91214",
          "129.01736",
          "129.05588",
          "129.17406",
          "126.71423",
          "126.85565",
          "126.28489",
          "133.64175",
          "128.41891",
          "129.31921",
          "128.45554",
          "129.25397",
          "128.15262",
          "127.95995",
          "130.63739",
          "131.65103",
          "131.06128",
          "130.4276",
          "119.52747",
          "121.6548",
          "112.91436",
          "112.92964",
          "126.499",
          "126.54075",
          "126.53379",
          "126.48273",
          "126.41235",
          "126.40545",
          "126.24481",
          "126.28526",
          "126.23974",
          "126.28033",
          "124.60425",
          "124.63332",
          "124.62542",
          "116.36511",
          "-70.45531",
          "116.48821",
          "107.51289",
          "106.60748",
          "106.81362",
          "106.8856",
          "106.43793",
          "106.45023",
          "107.56782",
          "110.25408",
          "106.84441",
          "112.10902",
          "106.8195",
          "106.20335",
          "105.76888",
          "105.5495",
          "105.56142",
          "103.52004",
          "103.02409",
          "103.5217",
          "103.5327",
          "107.06118",
          "107.06944",
          "107.54514",
          "109.01958",
          "108.69801",
          "112.40215",
          "106.10842",
          "111.63947",
          "111.63184",
          "111.67088",
          "110.68842",
          "106.11105",
          "105.46257",
          "105.4554",
          "103.75611",
          "107.00609",
          "106.87732",
          "113.86614",
          "113.8831",
          "111.16035",
          "111.17535",
          "112.9473",
          "118.84463",
          "118.89847",
          "111.24952",
          "110.8912",
          "110.90667",
          "110.88506",
          "110.90065",
          "99.18605",
          "100.86275",
          "100.91854",
          "106.47012",
          "103.40125",
          "104.5121",
          "103.18317",
          "103.19382",
          "103.52503",
          "107.2999",
          "104.04382",
          "109.00977",
          "103.24818",
          "104.66077",
          "103.21174",
          "103.59106",
          "103.67648",
          "106.29727",
          "103.54675",
          "103.3418",
          "103.93026",
          "103.62396",
          "103.0375",
          "103.7558",
          "103.03622",
          "101.58535",
          "103.02982",
          "103.65934",
          "103.67175",
          "102.53373",
          "104.05056",
          "104.04539",
          "103.22612",
          "103.22427",
          "102.54571",
          "102.96774",
          "102.576",
          "102.587",
          "102.37851",
          "106.14902",
          "102.41644",
          "102.51457",
          "102.3804",
          "102.53479",
          "102.54571",
          "102.98759",
          "102.99918",
          "103.76215",
          "102.75436",
          "102.7057",
          "102.1778",
          "103.24751",
          "103.44077",
          "103.44701",
          "103.3839",
          "102.718",
          "104.1884",
          "103.10793",
          "103.41754",
          "103.41557",
          "103.40759",
          "103.41405",
          "100.83656",
          "102.77887",
          "103.35159",
          "103.35347",
          "102.18523",
          "103.19447",
          "103.20644",
          "103.24189",
          "103.25493",
          "102.5714",
          "102.92214",
          "103.28109",
          "104.27798",
          "103.27897",
          "102.00002",
          "101.37293",
          "102.79673",
          "102.87728",
          "102.42044",
          "100.44091",
          "104.13285",
          "98.06006",
          "100.90549",
          "100.9634",
          "107.85004",
          "100.38136",
          "97.62733",
          "97.63805",
          "95.18533",
          "98.00791",
          "99.78503",
          "99.79464",
          "107.21323",
          "100.45535",
          "107.20979",
          "98.1988",
          "97.86004",
          "103.813",
          "103.82603",
          "102.71508",
          "100.43607",
          "96.91022",
          "96.92094",
          "103.72833",
          "96.85812",
          "100.01367",
          "97.24443",
          "97.52892",
          "103.65253",
          "103.66794",
          "102.66782",
          "102.66158",
          "97.31625",
          "104.84204",
          "101.67327",
          "104.8397",
          "103.42686",
          "102.80894",
          "103.2462",
          "97.21347",
          "101.97794",
          "101.98891",
          "101.47186",
          "102.23329",
          "102.34746",
          "93.54282",
          "102.18976",
          "102.20167",
          "102.36388",
          "100.07443",
          "100.51067",
          "102.61981",
          "102.40153",
          "101.35863",
          "101.14427",
          "101.15477",
          "101.47618",
          "101.48727",
          "96.44598",
          "93.48919",
          "95.99326",
          "95.95762",
          "96.03421",
          "96.04543",
          "96.0441",
          "96.04761",
          "101.21603",
          "94.01015",
          "94.00873",
          "96.66726",
          "94.06059",
          "94.07542",
          "99.85172",
          "99.80315",
          "98.07397",
          "100.03304",
          "104.0249",
          "104.01766",
          "97.34586",
          "97.03542",
          "97.38136",
          "97.44995",
          "97.35484",
          "95.26047",
          "95.33965",
          "98.05087",
          "97.94631",
          "98.06438",
          "95.25199",
          "95.3746",
          "95.3931",
          "95.59328",
          "98.03616",
          "98.04539",
          "98.50816",
          "-78.33566",
          "-78.35759",
          "-78.34319",
          "-78.364",
          "-66.26879",
          "-69.66213",
          "-69.66361",
          "-69.65563",
          "-69.66956",
          "-69.49039",
          "-69.3688",
          "-69.3838",
          "-69.37035",
          "-69.38535",
          "-72.1906",
          "-68.31958",
          "-68.33794",
          "-68.32123",
          "-68.32638",
          "-67.38519",
          "-67.39189",
          "-67.02805",
          "-67.03571",
          "-70.82681",
          "-70.83899",
          "-70.84042",
          "-64.42355",
          "-64.46179",
          "-64.43143",
          "-60.74288",
          "-70.32131",
          "-59.55755",
          "-59.53463",
          "-59.56363",
          "-58.83965",
          "-58.87719",
          "-58.88671",
          "-58.85506",
          "-58.891",
          "-62.35184",
          "-62.37219",
          "-62.35717",
          "-62.37756",
          "-62.56786",
          "-62.57037",
          "-62.59",
          "-61.97142",
          "-61.86287",
          "-61.88729",
          "-69.82122",
          "-69.82275",
          "-70.6294",
          "-70.75984",
          "-70.77237",
          "-69.97225",
          "-69.71027",
          "-69.97376",
          "-69.57539",
          "-69.59075",
          "-68.52898",
          "-68.52893",
          "-70.06956",
          "-67.48017",
          "-67.50322",
          "-69.73125",
          "-70.34097",
          "-70.34245",
          "-70.33411",
          "-70.34785",
          "-69.33411",
          "-70.17866",
          "-70.16599",
          "-70.18015",
          "-70.19427",
          "-70.18442",
          "-70.17174",
          "-70.18592",
          "-71.04222",
          "-70.29021",
          "-70.30412",
          "-68.63979",
          "-68.65848",
          "-68.64143",
          "-68.62758",
          "-68.64635",
          "-68.64801",
          "-69.13866",
          "-69.65217",
          "-69.66781",
          "-69.65836",
          "-69.67403",
          "-69.97599",
          "-69.99083",
          "-69.98148",
          "-69.99633",
          "-67.79255",
          "-67.81483",
          "-67.79749",
          "-67.8198",
          "-67.79928",
          "-67.82156",
          "-69.12906",
          "-69.13528",
          "-68.99149",
          "-68.64907",
          "-68.63612",
          "-68.65553",
          "-67.56152",
          "-64.85703",
          "-64.86436",
          "-64.90423",
          "-67.58751",
          "-67.56767",
          "-67.91757",
          "-68.26772",
          "-70.18679",
          "-70.20288",
          "-70.20886",
          "-77.14085",
          "-78.15353",
          "-78.16312",
          "-78.15504",
          "-78.14771",
          "-78.14922",
          "-78.52743",
          "-78.53712",
          "-78.70986",
          "-82.05994",
          "80.68574",
          "79.72443",
          "79.73602",
          "75.05485",
          "73.97795",
          "73.98508",
          "75.64954",
          "72.33192",
          "76.89215",
          "72.60202",
          "75.70256",
          "72.53384",
          "72.52666",
          "78.07011",
          "72.83886",
          "73.16904",
          "77.71968",
          "79.14921",
          "78.55197",
          "79.44599",
          "79.45797",
          "72.74547",
          "72.75919",
          "78.77617",
          "79.5341",
          "69.27189",
          "69.29701",
          "78.9613",
          "78.97281",
          "70.42931",
          "70.12276",
          "68.97895",
          "68.56742",
          "80.7458",
          "81.19305",
          "81.21009",
          "81.10435",
          "81.12059",
          "81.10166",
          "81.11794",
          "80.66035",
          "80.67622",
          "80.54866",
          "80.54214",
          "80.45744",
          "79.7118",
          "82.15317",
          "81.20433",
          "82.14776",
          "73.15855",
          "79.83695",
          "79.8349",
          "79.84985",
          "79.83306",
          "79.8285",
          "79.84339",
          "80.48897",
          "81.0702",
          "78.39935",
          "77.99515",
          "77.99329",
          "77.96415",
          "77.98702",
          "77.9985",
          "77.92923",
          "78.06755",
          "78.04831",
          "76.59909",
          "80.14011",
          "78.68289",
          "77.06679",
          "76.63493",
          "77.83532",
          "77.73174",
          "76.40047",
          "76.4105",
          "83.7656",
          "82.95113",
          "82.95549",
          "83.47311",
          "83.47012",
          "83.53551",
          "80.99985",
          "81.01269",
          "80.19131",
          "80.12376",
          "79.69847",
          "79.80118",
          "79.81429",
          "79.33026",
          "79.11864",
          "78.03078",
          "77.90164",
          "74.22958",
          "74.16137",
          "74.18355",
          "74.22314",
          "74.24512",
          "74.17537",
          "76.20009",
          "76.14775",
          "80.35223",
          "80.09326",
          "81.75083",
          "82.23396",
          "79.49553",
          "79.14261",
          "79.15536",
          "79.16812",
          "79.1404",
          "79.15316",
          "77.52777",
          "77.54188",
          "77.39163",
          "76.91827",
          "76.80215",
          "80.70843",
          "78.3373",
          "73.48236",
          "73.50401",
          "73.50235",
          "77.74575",
          "77.7572",
          "77.4768",
          "77.78815",
          "77.72935",
          "77.78633",
          "77.62662",
          "77.79692",
          "77.8084",
          "77.79509",
          "77.80656",
          "77.29",
          "77.30087",
          "77.05807",
          "77.62652",
          "77.6247",
          "77.67937",
          "77.66625",
          "77.67757",
          "77.14734",
          "77.59502",
          "77.64953",
          "77.66083",
          "77.59985",
          "77.61109",
          "77.57377",
          "79.41358",
          "76.50655",
          "76.63943",
          "76.6497",
          "77.48375",
          "77.36035",
          "77.12952",
          "75.2911",
          "75.30072",
          "75.28959",
          "75.29921",
          "72.10896",
          "75.29317",
          "77.44727",
          "77.45843",
          "77.44192",
          "76.19451",
          "76.43419",
          "73.41874",
          "76.50292",
          "76.50121",
          "76.42681",
          "72.36641",
          "70.80519",
          "70.69323",
          "70.70712",
          "76.87128",
          "78.24809",
          "78.18138",
          "78.19394",
          "79.42008",
          "79.43506",
          "70.60818",
          "78.82749",
          "74.47581",
          "76.52119",
          "76.51942",
          "70.22247",
          "70.1716",
          "72.74133",
          "70.53559",
          "70.54127",
          "70.36993",
          "70.49565",
          "70.24047",
          "70.25339",
          "70.30187",
          "70.25771",
          "70.68726",
          "70.69437",
          "79.56061",
          "79.57681",
          "79.56872",
          "74.48872",
          "75.21316",
          "73.94908",
          "74.59915",
          "82.30769",
          "75.25038",
          "74.93384",
          "76.03082",
          "76.7134",
          "73.50822",
          "73.78545",
          "75.97041",
          "75.98067",
          "74.58871",
          "73.9878",
          "73.4957",
          "73.73846",
          "73.48788",
          "73.4972",
          "73.94036",
          "73.96687",
          "80.26935",
          "73.95376",
          "73.76324",
          "74.58414",
          "78.12512",
          "77.54845",
          "79.701",
          "79.69474",
          "-102.63875",
          "-109.63126",
          "-91.21605",
          "-91.21828",
          "-91.24017",
          "-98.3685",
          "-98.07267",
          "-98.06398",
          "-98.10921",
          "-92.4771",
          "-92.50874",
          "-93.13654",
          "-96.55003",
          "-94.53167",
          "-95.2523",
          "-99.46824",
          "-92.17601",
          "-101.24003",
          "-92.04778",
          "-97.69827",
          "-99.78137",
          "-99.78284",
          "-99.28634",
          "-102.54099",
          "-102.55054",
          "-102.56007",
          "-102.54237",
          "-103.4043",
          "-103.41402",
          "-101.17339",
          "-103.02645",
          "-104.71918",
          "-104.7314",
          "-103.92314",
          "-103.9333",
          "-103.85007",
          "-103.82269",
          "-102.49357",
          "-102.50314",
          "-99.42871",
          "-105.73309",
          "47.30423",
          "61.92543",
          "61.94223",
          "61.62883",
          "61.64513",
          "61.47086",
          "61.46708",
          "63.78524",
          "63.80642",
          "61.60386",
          "61.60003",
          "53.4145",
          "47.82086",
          "47.84926",
          "47.84212",
          "48.71706",
          "47.54858",
          "47.56512",
          "47.55938",
          "59.1306",
          "59.13211",
          "59.12453",
          "59.8862",
          "59.90101",
          "58.69362",
          "59.01304",
          "59.53208",
          "58.72941",
          "59.03334",
          "59.12207",
          "59.12374",
          "59.13764",
          "59.57782",
          "59.57463",
          "59.17682",
          "58.54437",
          "61.2598",
          "60.9863",
          "58.6609",
          "46.68724",
          "61.79373",
          "45.02687",
          "45.02674",
          "45.01944",
          "47.19347",
          "53.19028",
          "58.2423",
          "58.25098",
          "46.50507",
          "46.4983",
          "33.05589",
          "33.03282",
          "44.0559",
          "44.04787",
          "51.32798",
          "51.42648",
          "51.43722",
          "47.71161",
          "47.41206",
          "47.43465",
          "47.51264",
          "48.73429",
          "49.31589",
          "55.8522",
          "55.86594",
          "55.84988",
          "48.13832",
          "47.28267",
          "49.82031",
          "49.83195",
          "47.33021",
          "48.28041",
          "50.61244",
          "50.6233",
          "50.29289",
          "50.28526",
          "50.29623",
          "49.85845",
          "50.77864",
          "47.32768",
          "47.3212",
          "47.33675",
          "47.31525",
          "50.42452",
          "50.63931",
          "47.72702",
          "49.70787",
          "49.71878",
          "53.14371",
          "53.15464",
          "53.14919",
          "39.66067",
          "43.18874",
          "-155.27466",
          "-155.28758",
          "18.95022",
          "41.0747",
          "37.72078",
          "37.73669",
          "47.30504",
          "47.30713",
          "47.35513",
          "48.20724",
          "48.20011",
          "48.36745",
          "48.18914",
          "38.96689",
          "48.09439",
          "48.15117",
          "47.65337",
          "39.4437",
          "38.06648",
          "47.5723",
          "47.56613",
          "47.62108",
          "39.13465",
          "37.53873",
          "38.03437",
          "36.78157",
          "37.44362",
          "39.32745",
          "39.65821",
          "37.96546",
          "38.25716",
          "38.27606",
          "39.61342",
          "38.46889",
          "38.46312",
          "38.48254",
          "38.64769",
          "38.65652",
          "41.8186",
          "38.65138",
          "41.35167",
          "41.52615",
          "41.52348",
          "41.05564",
          "41.45689",
          "29.13358",
          "29.14748",
          "29.13957",
          "28.07145",
          "28.08611",
          "25.06747",
          "25.0858",
          "26.54976",
          "32.43222",
          "32.44455",
          "22.56151",
          "22.57806",
          "26.19551",
          "31.2382",
          "27.01673",
          "27.02971",
          "29.47266",
          "29.04748",
          "29.0589",
          "27.69509",
          "28.16229",
          "28.11301",
          "23.07416",
          "32.54578",
          "23.99745",
          "16.04422",
          "16.02517",
          "16.01077",
          "16.02355",
          "16.01705",
          "16.04009",
          "15.21821",
          "20.7488",
          "22.04097",
          "23.72746",
          "23.71427",
          "23.71292",
          "24.604",
          "32.32814",
          "32.32521",
          "32.32175",
          "29.09486",
          "29.11339",
          "29.10661",
          "29.12518",
          "29.08592",
          "29.10443",
          "31.64106",
          "31.63669",
          "21.70335",
          "21.71284",
          "21.30568",
          "21.31543",
          "20.74862",
          "20.75887",
          "32.58338",
          "20.75755",
          "32.5757",
          "26.02495",
          "26.03671",
          "26.01162",
          "26.02336",
          "27.44706",
          "23.71365",
          "23.7123",
          "23.72155",
          "23.65173",
          "19.32489",
          "20.11905",
          "20.12985",
          "26.52445",
          "26.53737",
          "22.09759",
          "15.104",
          "28.10715",
          "28.42543",
          "22.18447",
          "22.17413",
          "22.18318",
          "27.70079",
          "28.47998",
          "27.51057",
          "27.52661",
          "27.50872",
          "27.50484",
          "27.52096",
          "27.50303",
          "27.51907",
          "23.30689",
          "22.01339",
          "22.02237",
          "20.06385",
          "20.07406",
          "20.85911",
          "20.86845",
          "29.91422",
          "31.09828",
          "22.85806",
          "21.57221",
          "20.00065",
          "20.02525",
          "6.7006",
          "6.71615",
          "6.71611",
          "3.81647",
          "8.38869",
          "9.29137",
          "7.71393",
          "7.72647",
          "10.84941",
          "10.86428",
          "7.34285",
          "-4.47067",
          "-4.47204",
          "-4.76313",
          "-4.73576",
          "-4.73714",
          "-4.24204",
          "-4.03607",
          "3.46524",
          "4.27381",
          "-2.95349",
          "176.78239",
          "146.79047",
          "146.77979",
          "146.7934",
          "146.78271",
          "126.71802",
          "126.56974",
          "126.55585",
          "126.54196",
          "126.35431",
          "118.44511",
          "119.35071",
          "119.33257",
          "119.41762",
          "119.34621",
          "119.32766",
          "119.30828",
          "119.41306",
          "119.39484",
          "119.26833",
          "119.2501",
          "119.24514",
          "119.22689",
          "119.23493",
          "119.45641",
          "119.43863",
          "119.45058",
          "119.61111",
          "115.72726",
          "117.47079",
          "117.04866",
          "131.65039",
          "122.67911",
          "122.6607",
          "122.99723",
          "132.38165",
          "132.36539",
          "132.36336",
          "131.43756",
          "132.38129",
          "129.24699",
          "132.40343",
          "132.23511",
          "132.06514",
          "132.05896",
          "132.40804",
          "132.39133",
          "132.40601",
          "132.00305",
          "132.95015",
          "132.76581",
          "132.76379",
          "132.77951",
          "132.76178",
          "131.96181",
          "133.47221",
          "126.19093",
          "126.16263",
          "139.47166",
          "131.41994",
          "131.37828",
          "131.41466",
          "131.37326",
          "131.32129",
          "131.3148",
          "134.58282",
          "134.56027",
          "133.85905",
          "133.92482",
          "133.94443",
          "133.93861",
          "-47.56167",
          "-45.81657",
          "-45.23059",
          "-45.26186",
          "-45.26778",
          "-46.5969",
          "-44.95216",
          "-48.18795",
          "-48.04841",
          "-48.4341",
          "-48.05808",
          "-48.79427",
          "-50.6759",
          "-47.87761",
          "-50.46315",
          "-51.69008",
          "-50.66249",
          "-53.57074",
          "-53.5605",
          "-52.27776",
          "-53.78585",
          "-53.79739",
          "-48.38459",
          "-54.3922",
          "-54.34396",
          "-45.43126",
          "-45.43823",
          "-52.61124",
          "-52.40473",
          "-55.06704",
          "-52.44249",
          "-52.65183",
          "-51.93947",
          "-55.18957",
          "-55.60264",
          "-46.68939",
          "-46.69339",
          "-52.72255",
          "-52.71056",
          "-52.87992",
          "-52.88129",
          "-54.26226",
          "-54.36286",
          "-54.18735",
          "-54.17725",
          "-54.41973",
          "-52.24644",
          "-51.73191",
          "-54.87113",
          "-52.91175",
          "-52.79205",
          "-51.79227",
          "-55.00622",
          "-54.12016",
          "-51.87044",
          "-52.37519",
          "-55.05157",
          "-51.88067",
          "-51.88205",
          "-53.36959",
          "-54.29142",
          "-52.32185",
          "-53.36896",
          "-54.16293",
          "-57.9917",
          "-53.44107",
          "-56.87905",
          "-54.77229",
          "-53.44777",
          "-58.10759",
          "-55.0518",
          "-54.64023",
          "-54.94669",
          "-54.94801",
          "-52.90228",
          "-52.88991",
          "-55.10389",
          "-56.85565",
          "-53.84875",
          "-56.54028",
          "-54.85941",
          "-54.00476",
          "-54.9158",
          "-55.54916",
          "-57.85563",
          "-57.4055",
          "-57.39616",
          "-57.73027",
          "-57.90548",
          "-56.74522",
          "-56.53426",
          "-58.40974",
          "-56.59958",
          "-56.82136",
          "-56.66771",
          "-51.10196",
          "-57.58931",
          "-56.85432",
          "-58.05297",
          "-55.75624",
          "-57.72731",
          "-53.93691",
          "-58.13553",
          "-60.43676",
          "-57.72773",
          "-52.31601",
          "-51.55553",
          "-60.24955",
          "-57.0307",
          "-51.72215",
          "-55.39351",
          "-55.39482",
          "-51.50786",
          "-54.66866",
          "-52.32944",
          "-59.72802",
          "-53.875",
          "-50.74003",
          "-54.75621",
          "-50.34074",
          "-50.39298",
          "-51.80394",
          "-51.22736",
          "-50.87674",
          "-51.23302",
          "-61.96388",
          "-54.43547",
          "-52.38855",
          "-50.99379",
          "-59.05782",
          "-58.99799",
          "-58.99952",
          "-52.18699",
          "-58.8726",
          "-58.8741",
          "-58.85911",
          "-58.8606",
          "-59.58259",
          "-61.91477",
          "-62.37357",
          "-62.35872",
          "-54.00356",
          "-55.83435",
          "-62.36795",
          "-53.02552",
          "-51.39743",
          "-51.71978",
          "-51.72647",
          "-60.03408",
          "-59.54653",
          "-59.5481",
          "-58.8427",
          "-58.83297",
          "-60.74255",
          "-59.30088",
          "-64.09317",
          "-64.0852",
          "-63.33927",
          "-65.99248",
          "-65.99844",
          "109.39974",
          "112.06233",
          "102.56963",
          "126.92812",
          "126.54585",
          "126.57012",
          "127.5149",
          "123.31541",
          "108.8991",
          "107.95557",
          "109.38487",
          "107.61753",
          "107.60761",
          "107.30177",
          "107.3001",
          "110.83176",
          "110.83073",
          "104.90489",
          "104.91125",
          "104.89919",
          "-64.48029",
          "-64.46777",
          "-64.48264",
          "-64.47012",
          "-64.48499",
          "-70.45924",
          "-80.74876",
          "-80.7542",
          "-79.91206",
          "-76.18147",
          "-81.28561",
          "-81.29224",
          "-79.25637",
          "-78.36987",
          "-75.96809",
          "-75.4737",
          "-76.74416",
          "-77.48291",
          "-77.4892",
          "-77.47681",
          "-70.35464",
          "-70.34203",
          "-77.28258",
          "-70.22432",
          "-72.02779",
          "-66.7739",
          "-66.77869",
          "-66.7444",
          "-67.57422",
          "-74.95022",
          "-74.94089",
          "-67.63561",
          "-68.22236",
          "-68.46116",
          "-68.16736",
          "-68.52551",
          "-68.5312",
          "-68.29983",
          "-68.41463",
          "-68.42158",
          "-68.80826",
          "-68.78325",
          "-68.81425",
          "-68.7892",
          "-69.06094",
          "-68.47744",
          "-67.72079",
          "-67.68968",
          "-66.92019",
          "-72.86196",
          "-68.18513",
          "-67.24986",
          "-69.77258",
          "-67.1411",
          "-67.24001",
          "-68.50423",
          "-68.5118",
          "-68.95169",
          "-68.95723",
          "-80.57871",
          "-80.66645",
          "-80.85059",
          "-80.83692",
          "-80.92091",
          "-68.80783",
          "-82.15779",
          "-68.81318",
          "-80.93",
          "-80.91668",
          "-80.92137",
          "-80.46506",
          "-80.45264",
          "-80.29485",
          "-80.63223",
          "-76.23128",
          "-76.25005",
          "-76.54073",
          "-76.482",
          "-76.48336",
          "-78.44933",
          "-79.74989",
          "-78.34505",
          "-79.98177",
          "-78.17258",
          "-80.87705",
          "-78.80869",
          "-76.97425",
          "-77.16805",
          "-77.1694",
          "-77.86855",
          "-79.21041",
          "-76.46507",
          "-75.99964",
          "108.70461",
          "108.71577",
          "96.50959",
          "83.19638",
          "83.1905",
          "82.41528",
          "82.42457",
          "82.41357",
          "83.70824",
          "76.40257",
          "76.39777",
          "85.25127",
          "85.17221",
          "85.0099",
          "82.55583",
          "83.35078",
          "76.75595",
          "76.75386",
          "76.72878",
          "76.74879",
          "81.36709",
          "86.39401",
          "86.38683",
          "86.20783",
          "77.51154",
          "77.52937",
          "82.44571",
          "77.50522",
          "83.791",
          "77.54358",
          "77.52304",
          "84.17647",
          "77.02061",
          "76.99803",
          "77.40794",
          "79.54607",
          "78.36964",
          "77.3841",
          "77.23489",
          "77.6889",
          "77.36012",
          "77.33896",
          "77.56494",
          "77.54446",
          "78.72443",
          "77.66329",
          "77.70322",
          "77.35505",
          "77.55959",
          "77.53913",
          "79.51405",
          "77.87122",
          "77.79364",
          "77.79089",
          "77.59187",
          "77.57152",
          "77.60924",
          "77.68396",
          "77.66399",
          "79.63184",
          "79.6173",
          "79.54457",
          "78.61564",
          "77.57784",
          "77.55754",
          "77.67708",
          "77.65714",
          "77.51566",
          "79.6248",
          "79.5377",
          "79.47894",
          "78.61006",
          "77.57113",
          "79.47445",
          "77.46346",
          "77.44282",
          "77.64339",
          "78.5293",
          "76.00806",
          "76.00195",
          "78.5612",
          "78.55875",
          "80.2706",
          "79.95078",
          "82.78246",
          "79.88957",
          "79.87579",
          "79.70832",
          "79.88528",
          "79.91984",
          "79.89245",
          "79.87872",
          "80.0291",
          "79.98865",
          "80.05383",
          "80.06301",
          "80.04962",
          "80.05752",
          "80.03786",
          "82.08618",
          "80.2753",
          "77.86649",
          "77.83098",
          "82.75041",
          "82.74041",
          "81.29517",
          "79.20927",
          "81.12466",
          "81.1134",
          "81.11126",
          "80.17568",
          "79.97441",
          "78.36884",
          "76.61954",
          "77.67231",
          "-89.71916",
          "-89.75749",
          "-89.17348",
          "-89.64281",
          "-90.97528",
          "-90.19284",
          "-90.17953",
          "-89.18751",
          "-92.15462",
          "-89.023",
          "-88.709",
          "-91.89381",
          "-92.31888",
          "-96.12854",
          "-95.94568",
          "-91.63644",
          "-91.47033",
          "-91.39957",
          "-91.38708",
          "-96.06347",
          "-96.09161",
          "-93.1365",
          "-92.8724",
          "-92.86095",
          "-92.87463",
          "-93.5675",
          "-91.78516",
          "-92.04046",
          "-90.75567",
          "-91.78661",
          "-91.77422",
          "-95.92586",
          "-95.91419",
          "-91.45142",
          "-89.71359",
          "-91.33961",
          "-96.65749",
          "-95.82959",
          "-92.12538",
          "-92.12762",
          "-92.1155",
          "-92.74294",
          "-92.73122",
          "-87.99897",
          "-96.24969",
          "-96.23808",
          "-96.2515",
          "-96.2399",
          "-97.21545",
          "-94.71693",
          "-96.4872",
          "-96.50056",
          "-96.48898",
          "-96.16778",
          "-87.54605",
          "-87.5235",
          "-96.16951",
          "-91.87342",
          "-91.87582",
          "-94.70413",
          "-96.18185",
          "-96.17057",
          "-93.44348",
          "-93.50369",
          "-93.4926",
          "-93.50013",
          "-93.59732",
          "-94.15234",
          "-84.47658",
          "-93.82005",
          "-94.41212",
          "-94.14024",
          "-94.41403",
          "-84.47846",
          "-84.52225",
          "-84.4837",
          "-93.57626",
          "-93.56509",
          "-93.55391",
          "-93.58395",
          "-93.57279",
          "-93.56159",
          "-96.11706",
          "-96.10606",
          "-90.90879",
          "-96.15904",
          "-96.14803",
          "-96.13702",
          "-96.12605",
          "-96.14978",
          "-84.81812",
          "-84.82273",
          "-85.39211",
          "-96.20824",
          "-85.36206",
          "-94.40751",
          "-95.06394",
          "-84.22505",
          "-94.43378",
          "-94.423",
          "-94.43126",
          "-94.42046",
          "-95.8242",
          "-95.81345",
          "-95.58836",
          "-83.99683",
          "-95.02437",
          "-95.01372",
          "-93.02041",
          "-100.29343",
          "-100.29504",
          "-100.30141",
          "-91.37928",
          "-90.16204",
          "-90.14535",
          "-89.05361",
          "-87.89465",
          "-87.89889",
          "-99.36855",
          "-99.37004",
          "-85.12108",
          "-99.31702",
          "-86.27791",
          "-86.24574",
          "-86.28242",
          "-86.28212",
          "-86.24984",
          "-86.28665",
          "-86.25429",
          "-88.2",
          "-93.47675",
          "-94.53946",
          "-94.54139",
          "-94.5306",
          "-94.1338",
          "-95.99609",
          "-96.30006",
          "-94.88343",
          "-94.8853",
          "-95.36861",
          "-95.62945",
          "-95.61912",
          "-93.08267",
          "-93.87641",
          "-94.88731",
          "-99.42741",
          "-97.6098",
          "-90.56915",
          "-90.41325",
          "-92.03805",
          "-103.36111",
          "-102.4718",
          "-90.25275",
          "-90.22343",
          "-90.25768",
          "-90.2283",
          "-90.67252",
          "-90.67948",
          "-98.86938",
          "-104.71118",
          "-97.2254",
          "-98.73179",
          "-98.72245",
          "-98.71308",
          "-90.92913",
          "-91.70497",
          "-90.93635",
          "-91.7104",
          "-91.71314",
          "-102.53846",
          "-99.08398",
          "-102.53359",
          "-102.53577",
          "-98.15292",
          "-99.09723",
          "-99.08789",
          "-101.27033",
          "-92.48758",
          "-101.09064",
          "-91.66601",
          "-99.77792",
          "-102.29887",
          "-98.82802",
          "-99.61351",
          "-99.6043",
          "-90.49619",
          "-90.46598",
          "-99.63962",
          "-101.24458",
          "-101.23431",
          "-99.45889",
          "-100.77162",
          "-89.99542",
          "-90.00214",
          "-98.61909",
          "-90.91367",
          "-90.91872",
          "-90.92171",
          "-98.11082",
          "-98.11212",
          "-94.32397",
          "-94.30807",
          "-98.37077",
          "-98.36137",
          "-98.30389",
          "-100.17104",
          "-96.02083",
          "-91.20382",
          "-91.17466",
          "-91.18062",
          "-91.11732",
          "60.05467",
          "56.60458",
          "53.14138",
          "53.15338",
          "53.13611",
          "53.14868",
          "49.39099",
          "49.38473",
          "56.10171",
          "52.55565",
          "52.17795",
          "52.15814",
          "52.17317",
          "49.71122",
          "49.70702",
          "49.7033",
          "50.76952",
          "49.8592",
          "49.84959",
          "49.81544",
          "49.83422",
          "49.80984",
          "47.32757",
          "49.67043",
          "47.59307",
          "47.31439",
          "47.62181",
          "47.589",
          "47.31098",
          "47.3263",
          "47.32115",
          "47.31642",
          "47.34111",
          "47.30696",
          "48.15578",
          "48.12611",
          "48.15041",
          "48.12079",
          "48.72443",
          "47.29779",
          "47.26402",
          "47.28912",
          "47.25541",
          "47.82965",
          "51.44086",
          "51.42377",
          "51.43776",
          "51.42066",
          "51.3236",
          "51.31844",
          "47.5106",
          "58.36989",
          "58.35436",
          "58.33881",
          "58.33454",
          "61.03058",
          "61.0055",
          "61.02319",
          "48.96355",
          "48.12958",
          "48.11363",
          "41.66015",
          "41.63071",
          "56.3385",
          "56.32613",
          "55.45137",
          "-113.96025",
          "-110.92831",
          "-110.91091",
          "-111.58573",
          "-111.59237",
          "-114.79575",
          "-119.81763",
          "-110.83382",
          "-110.84294",
          "-110.49616",
          "-108.97788",
          "-108.48341",
          "-120.7542",
          "35.9104",
          "35.91845",
          "37.22581",
          "37.21676",
          "36.56387",
          "36.55458",
          "36.43222",
          "32.98482",
          "32.99186",
          "32.97818",
          "35.55562",
          "36.62587",
          "32.61419",
          "32.60056",
          "32.94302",
          "32.8012",
          "36.92817",
          "36.91839",
          "34.18097",
          "34.17926",
          "34.16511",
          "33.21257",
          "33.20746",
          "33.08908",
          "33.20567",
          "36.45416",
          "36.45626",
          "33.12233",
          "32.96107",
          "32.9458",
          "33.10228",
          "21.26165",
          "21.26946",
          "20.69365",
          "20.67682",
          "30.76152",
          "-155.28371",
          "-155.28531",
          "-155.29211",
          "-155.27061",
          "4.00976",
          "3.99654",
          "3.33093",
          "16.10261",
          "9.78152",
          "9.76751",
          "18.00998",
          "17.9936",
          "18.0083",
          "17.99203",
          "12.45352",
          "19.78287",
          "19.77577",
          "9.25093",
          "9.78994",
          "7.65107",
          "7.51671",
          "7.70991",
          "7.18873",
          "8.08983",
          "8.07957",
          "5.64117",
          "5.95901",
          "5.94789",
          "6.06159",
          "6.05051",
          "6.71425",
          "6.70358",
          "12.11321",
          "19.01431",
          "12.10757",
          "11.6336",
          "12.39505",
          "12.04583",
          "11.37913",
          "12.05081",
          "12.0378",
          "6.70883",
          "2.29473",
          "174.04752",
          "176.50528",
          "173.70502",
          "173.31261",
          "-12.26439",
          "-12.26574",
          "-11.79273",
          "-11.07495",
          "-12.00647",
          "-13.24854",
          "-11.14136",
          "-11.84919",
          "-11.6628",
          "-12.61952",
          "-13.67247",
          "-13.68217",
          "-9.79061",
          "-12.04115",
          "-9.47512",
          "-9.48628",
          "-12.68813",
          "-14.60681",
          "-11.13422",
          "-9.89655",
          "-10.4433",
          "-11.35361",
          "-10.74117",
          "-11.38194",
          "-11.39272",
          "-14.86188",
          "-14.87394",
          "-14.87549",
          "-14.24083",
          "-14.25066",
          "-11.30056",
          "-11.45311",
          "-10.69158",
          "-10.70177",
          "-10.68269",
          "-10.69294",
          "-10.70309",
          "-10.0945",
          "147.61307",
          "147.57471",
          "147.0565",
          "147.57231",
          "147.58421",
          "147.04204",
          "147.05408",
          "146.85516",
          "146.92688",
          "149.21172",
          "149.22284",
          "146.79205",
          "150.942",
          "145.9744",
          "145.98965",
          "145.97166",
          "145.98697",
          "147.91339",
          "147.92551",
          "145.57129",
          "149.81297",
          "147.98494",
          "150.87863",
          "145.58716",
          "146.4221",
          "148.28337",
          "143.44821",
          "145.15474",
          "146.0844",
          "146.09772",
          "146.09534",
          "135.92235",
          "133.87759",
          "133.87178",
          "133.62282",
          "134.0515",
          "134.04382",
          "134.14394",
          "134.17935",
          "134.26405",
          "134.25674",
          "133.4471",
          "133.46992",
          "133.57962",
          "133.57381",
          "133.57352",
          "133.60287",
          "131.96416",
          "132.00876",
          "132.00143",
          "132.00056",
          "132.76411",
          "132.76306",
          "133.63091",
          "133.66434",
          "133.5836",
          "132.89584",
          "132.89005",
          "132.88493",
          "132.87733",
          "131.72624",
          "132.75375",
          "133.42886",
          "133.40878",
          "133.44522",
          "133.4393",
          "133.32745",
          "133.36411",
          "133.23601",
          "133.27374",
          "133.22968",
          "133.26735",
          "131.59723",
          "132.96622",
          "136.87122",
          "134.56407",
          "134.12442",
          "134.25897",
          "133.89581",
          "134.40092",
          "134.41402",
          "134.47859",
          "133.69521",
          "133.94814",
          "133.93443",
          "133.94678",
          "133.78282",
          "133.92902",
          "133.94136",
          "134.39572",
          "134.4091",
          "133.73572",
          "133.09668",
          "133.93695",
          "133.91649",
          "133.92883",
          "133.24693",
          "133.25827",
          "133.85735",
          "133.86975",
          "133.84367",
          "133.85599",
          "133.84987",
          "133.28157",
          "133.01274",
          "133.02373",
          "134.4938",
          "133.01141",
          "133.32812",
          "133.3396",
          "131.254",
          "133.53935",
          "130.86832",
          "123.31779",
          "123.31162",
          "131.31915",
          "135.02766",
          "135.02618",
          "135.02159",
          "127.31269",
          "127.32369",
          "135.0302",
          "135.01237",
          "135.0287",
          "131.2495",
          "131.34564",
          "131.35539",
          "130.42886",
          "130.43816",
          "130.28656",
          "130.3241",
          "130.41742",
          "130.37872",
          "129.66252",
          "130.24562",
          "130.39468",
          "130.40402",
          "131.01823",
          "129.69067",
          "129.69995",
          "130.23795",
          "130.24725",
          "130.39639",
          "130.40572",
          "131.02043",
          "130.56892",
          "130.57155",
          "130.25578",
          "129.9942",
          "127.49831",
          "127.48615",
          "127.49686",
          "130.25453",
          "130.2639",
          "127.64484",
          "129.87726",
          "127.56995",
          "127.58044",
          "129.88516",
          "127.52091",
          "129.52664",
          "127.52506",
          "127.48078",
          "130.18428",
          "130.19359",
          "128.70721",
          "128.70576",
          "128.54059",
          "137.28508",
          "126.80327",
          "128.47243",
          "128.48207",
          "128.81085",
          "128.80942",
          "128.56731",
          "128.61494",
          "128.41943",
          "126.93722",
          "124.99968",
          "126.44991",
          "126.43289",
          "126.44443",
          "130.38719",
          "130.30429",
          "130.31393",
          "130.01735",
          "129.99692",
          "130.00644",
          "130.01598",
          "129.9991",
          "129.99773",
          "124.54694",
          "124.56213",
          "129.98682",
          "125.19527",
          "125.20905",
          "129.97453",
          "129.96362",
          "129.8387",
          "129.83098",
          "129.84047",
          "129.84995",
          "129.85944",
          "129.94502",
          "129.82959",
          "129.83908",
          "129.84856",
          "129.93413",
          "129.81873",
          "129.8282",
          "129.87424",
          "129.88376",
          "129.87285",
          "125.46677",
          "123.60254",
          "123.61996",
          "124.54305",
          "124.55782",
          "124.53701",
          "124.55177",
          "124.56441",
          "124.56237",
          "124.94053",
          "124.93583",
          "-68.67865",
          "-68.70609",
          "-68.68118",
          "-68.93408",
          "-68.93661",
          "-68.68367",
          "-68.71107",
          "-68.68614",
          "-68.9412",
          "-70.27576",
          "-66.95616",
          "-67.40321",
          "-67.11622",
          "-58.1822",
          "-55.6515",
          "-59.5305",
          "-59.53196",
          "-59.79805",
          "-55.93024",
          "-55.93986",
          "-55.48616",
          "-58.94275",
          "-58.99808",
          "-58.99187",
          "-59.00502",
          "-59.06917",
          "-59.06094",
          "-59.0742",
          "-58.99777",
          "-59.01094",
          "-60.71391",
          "-60.73082",
          "-60.73232",
          "-60.72117",
          "-61.96677",
          "-61.96885",
          "-61.9127",
          "-62.02113",
          "-59.93483",
          "-76.46595",
          "-76.47057",
          "-63.16022",
          "-63.94916",
          "-68.47606",
          "-63.84948",
          "-64.27872",
          "-64.29031",
          "-64.04623",
          "-64.29765",
          "-64.30926",
          "-64.0414",
          "-64.30378",
          "-68.1928",
          "-68.21581",
          "-63.6305",
          "-68.52195",
          "-63.48975",
          "-63.50014",
          "-63.49129",
          "-68.52779",
          "-63.55267",
          "-63.56314",
          "-63.57362",
          "-63.72129",
          "-63.73195",
          "-63.5332",
          "-63.54362",
          "-63.56452",
          "-63.57501",
          "-63.61706",
          "-63.61849",
          "-63.62906",
          "-63.63967",
          "-63.53003",
          "-63.45924",
          "-63.46961",
          "-63.45568",
          "-63.46603",
          "-63.47781",
          "-63.26469",
          "-63.27482",
          "-69.50195",
          "-63.76833",
          "-64.86968",
          "-64.88211",
          "-64.89438",
          "-64.88954",
          "-62.55112",
          "-68.44731",
          "-68.45324",
          "-66.83089",
          "-59.46325",
          "-70.34407",
          "-70.36629",
          "-70.34946",
          "121.42247",
          "121.43542",
          "123.17132",
          "123.77255",
          "123.6739",
          "123.75401",
          "120.96985",
          "124.03245",
          "118.37547",
          "123.3492",
          "123.26146",
          "123.27696",
          "123.32027",
          "122.86081",
          "119.97927",
          "119.97677",
          "122.43552",
          "122.67938",
          "122.56341",
          "122.73435",
          "122.90102",
          "122.10629",
          "108.72441",
          "126.84481",
          "126.84212",
          "121.38167",
          "118.81514",
          "118.873",
          "118.46061",
          "118.21138",
          "117.61942",
          "117.39764",
          "117.01084",
          "117.50409",
          "116.94265",
          "127.47945",
          "117.42249",
          "116.58363",
          "116.68983",
          "116.70142",
          "116.74744",
          "116.97599",
          "116.98741",
          "117.37756",
          "116.81985",
          "117.14701",
          "116.80677",
          "118.6818",
          "116.32741",
          "116.33897",
          "116.76085",
          "116.67509",
          "116.68647",
          "116.65598",
          "118.37346",
          "118.38477",
          "118.09972",
          "120.29416",
          "120.30693",
          "112.53977",
          "119.41754",
          "119.38655",
          "119.45406",
          "119.46606",
          "118.73642",
          "119.66662",
          "119.35162",
          "119.76432",
          "119.72308",
          "119.48072",
          "119.07111",
          "119.5098",
          "117.11785",
          "119.74394",
          "119.25944",
          "117.21462",
          "119.17429",
          "117.58308",
          "119.54243",
          "115.03312",
          "119.36508",
          "111.57738",
          "111.53658",
          "118.55464",
          "117.52955",
          "118.52439",
          "119.08511",
          "119.35249",
          "117.79648",
          "118.34341",
          "118.83013",
          "121.10809",
          "121.18774",
          "119.7999",
          "119.80551",
          "118.5006",
          "117.16116",
          "117.98005",
          "117.978",
          "118.18593",
          "119.98474",
          "118.16711",
          "120.83015",
          "114.68177",
          "115.17025",
          "115.37231",
          "119.99506",
          "115.00149",
          "115.04082",
          "119.40194",
          "119.39406",
          "119.84031",
          "121.50535",
          "119.46825",
          "117.38205",
          "117.87794",
          "116.72175",
          "118.03266",
          "118.04477",
          "117.85667",
          "117.57517",
          "117.8206",
          "117.80668",
          "117.78104",
          "117.39188",
          "117.6896",
          "116.92147",
          "115.86813",
          "116.99044",
          "117.13383",
          "118.53333",
          "116.73144",
          "116.99197",
          "116.11297",
          "116.12332",
          "116.79896",
          "116.59315",
          "116.60381",
          "116.30969",
          "116.41872",
          "115.53039",
          "116.26989",
          "116.28037",
          "116.40641",
          "116.41695",
          "117.04302",
          "117.98177",
          "120.36673",
          "117.40802",
          "116.10258",
          "116.22738",
          "116.16648",
          "117.3261",
          "120.2463",
          "116.26794",
          "116.27841",
          "119.269",
          "118.11758",
          "114.06628",
          "114.0764",
          "114.19999",
          "114.21008",
          "116.88956",
          "116.90062",
          "116.94482",
          "116.52417",
          "113.69517",
          "113.79758",
          "115.44682",
          "117.80989",
          "117.82198",
          "111.58614",
          "113.4992",
          "116.78195",
          "116.78014",
          "111.65189",
          "111.78135",
          "111.78706",
          "116.33192",
          "117.47887",
          "118.27167",
          "118.28481",
          "111.78226",
          "114.12286",
          "111.85806",
          "114.2683",
          "114.27826",
          "112.38229",
          "112.39341",
          "117.19836",
          "117.2428",
          "118.13517",
          "117.57131",
          "118.13326",
          "111.63511",
          "114.29724",
          "111.9184",
          "111.33838",
          "117.32488",
          "117.55937",
          "113.58633",
          "111.6768",
          "111.42237",
          "111.43437",
          "119.41992",
          "111.45185",
          "113.4844",
          "116.6856",
          "117.45084",
          "111.36484",
          "111.37715",
          "117.36753",
          "112.25393",
          "111.93396",
          "117.37735",
          "117.35482",
          "111.98492",
          "112.013",
          "112.14835",
          "112.21341",
          "112.28761",
          "111.7122",
          "111.74708",
          "112.2654",
          "112.3746",
          "116.32574",
          "116.71854",
          "116.32397",
          "111.64799",
          "111.65972",
          "111.94739",
          "112.88985",
          "112.86309",
          "112.09158",
          "111.30012",
          "111.3121",
          "112.62271",
          "112.63303",
          "112.69685",
          "115.07314",
          "115.0118",
          "112.7887",
          "112.79767",
          "112.81113",
          "112.82154",
          "111.32918",
          "111.34117",
          "111.67257",
          "112.74024",
          "114.8129",
          "111.76367",
          "112.65398",
          "112.66425",
          "112.70724",
          "111.43075",
          "117.16118",
          "111.39366",
          "116.72363",
          "112.37204",
          "112.38264",
          "112.17449",
          "112.03885",
          "112.11578",
          "112.11434",
          "113.68747",
          "112.0938",
          "116.41409",
          "116.42503",
          "114.34306",
          "116.09235",
          "116.22953",
          "117.10358",
          "107.28152",
          "107.27421",
          "112.46037",
          "117.65553",
          "117.79241",
          "111.88085",
          "112.36536",
          "126.93987",
          "126.9353",
          "126.98689",
          "127.22927",
          "127.24581",
          "127.24117",
          "127.25758",
          "127.22729",
          "127.24382",
          "122.29421",
          "127.22023",
          "127.23682",
          "126.08571",
          "126.70248",
          "126.71865",
          "122.63329",
          "127.23801",
          "127.21645",
          "127.23331",
          "117.05853",
          "117.07886",
          "116.87036",
          "115.40907",
          "118.89996",
          "126.66608",
          "126.63747",
          "126.51625",
          "126.53291",
          "126.54961",
          "126.56625",
          "126.63316",
          "126.56172",
          "126.24257",
          "126.23645",
          "123.04076",
          "126.63931",
          "126.65685",
          "134.03641",
          "134.16394",
          "134.20862",
          "134.02589",
          "134.19832",
          "134.17305",
          "134.21916",
          "134.04546",
          "134.13657",
          "134.0363",
          "134.26819",
          "133.41193",
          "133.65059",
          "133.69368",
          "133.62503",
          "131.797",
          "133.60312",
          "131.79178",
          "133.60309",
          "133.64015",
          "132.7823",
          "132.77432",
          "132.77",
          "132.81163",
          "133.07481",
          "133.1187",
          "132.01181",
          "126.47811",
          "132.96584",
          "123.17091",
          "133.11084",
          "132.00829",
          "132.96544",
          "126.55675",
          "123.2316",
          "123.87514",
          "133.36079",
          "133.29863",
          "132.11742",
          "132.13541",
          "133.35149",
          "132.11263",
          "133.28899",
          "133.19672",
          "132.05643",
          "133.18808",
          "132.05197",
          "133.18723",
          "132.27602",
          "125.38036",
          "132.26562",
          "122.33159",
          "122.34497",
          "132.57686",
          "122.32855",
          "125.50356",
          "125.5208",
          "126.87569",
          "131.58257",
          "131.57742",
          "120.74191",
          "131.75615",
          "131.79553",
          "131.79202",
          "125.81751",
          "125.83585",
          "125.31298",
          "124.85291",
          "124.54082",
          "121.61164",
          "124.00623",
          "124.50922",
          "121.53652",
          "123.89171",
          "123.89545",
          "121.43007",
          "115.69707",
          "115.70739",
          "116.7206",
          "112.87241",
          "116.18218",
          "117.46293",
          "111.48986",
          "117.99117",
          "109.56502",
          "109.58006",
          "115.84724",
          "115.85775",
          "116.69553",
          "110.99281",
          "110.99847",
          "111.56651",
          "111.10981",
          "111.55961",
          "111.57076",
          "109.94091",
          "116.17511",
          "116.18595",
          "120.45785",
          "107.35318",
          "109.3122",
          "109.32754",
          "115.09355",
          "115.68231",
          "112.49631",
          "112.50661",
          "112.76949",
          "112.77986",
          "115.37278",
          "115.37112",
          "111.64893",
          "117.12995",
          "112.15662",
          "120.33866",
          "116.80399",
          "116.81573",
          "116.77354",
          "109.72066",
          "116.51563",
          "116.3992",
          "116.41043",
          "116.54617",
          "116.28876",
          "116.29987",
          "112.65106",
          "116.20071",
          "116.11122",
          "116.66885",
          "116.31384",
          "116.32499",
          "109.78445",
          "114.67746",
          "109.67059",
          "116.30637",
          "116.52016",
          "116.41682",
          "116.02984",
          "116.10881",
          "110.86679",
          "110.87836",
          "115.5924",
          "112.97063",
          "108.73215",
          "110.88568",
          "110.8976",
          "110.88461",
          "111.36514",
          "111.37584",
          "113.48726",
          "112.84096",
          "110.936",
          "110.9472",
          "110.94051",
          "111.23419",
          "115.23428",
          "110.11117",
          "107.36367",
          "114.45424",
          "110.80323",
          "111.14375",
          "114.40974",
          "114.41328",
          "112.13785",
          "112.14799",
          "112.17121",
          "112.20145",
          "107.2953",
          "107.30746",
          "112.52565",
          "111.22235",
          "107.04044",
          "107.7715",
          "107.7663",
          "107.78439",
          "109.26784",
          "107.85025",
          "110.36012",
          "110.35352",
          "110.36518",
          "110.11757",
          "104.93275",
          "110.47358",
          "106.35933",
          "106.35354",
          "107.1958",
          "107.09816",
          "107.09101",
          "107.10978",
          "107.12914",
          "107.12775",
          "106.81244",
          "106.80612",
          "107.08376",
          "107.0756",
          "120.07603",
          "102.69899",
          "100.75365",
          "100.79179",
          "120.01837",
          "107.44636",
          "110.57001",
          "109.58481",
          "109.08782",
          "109.08656",
          "109.09548",
          "109.75306",
          "109.40868",
          "110.014",
          "110.15546",
          "110.68741",
          "110.36312",
          "110.41804",
          "110.42713",
          "109.32758",
          "112.61445",
          "107.80067",
          "107.61458",
          "107.74168",
          "110.95314",
          "109.69552",
          "110.79987",
          "109.00488",
          "109.01495",
          "88.04934",
          "88.14002",
          "92.23308",
          "91.34592",
          "91.33165",
          "91.3424",
          "92.25431",
          "92.2654",
          "92.1114",
          "92.12311",
          "92.15842",
          "92.25251",
          "92.26366",
          "91.7835",
          "91.95331",
          "92.24628",
          "92.24466",
          "91.80186",
          "91.80632",
          "98.17605",
          "83.41425",
          "82.6739",
          "97.77367",
          "97.80226",
          "97.76724",
          "97.79607",
          "88.47445",
          "91.60851",
          "88.42335",
          "80.5871",
          "80.61691",
          "80.61106",
          "88.7116",
          "88.52702",
          "85.37675",
          "86.2073",
          "86.39401",
          "83.21715",
          "80.68176",
          "91.6162",
          "83.20967",
          "80.6747",
          "82.97947",
          "92.42928",
          "82.97304",
          "84.30655",
          "84.1244",
          "83.03809",
          "92.3357",
          "92.34884",
          "86.21133",
          "86.64508",
          "93.23597",
          "93.25124",
          "93.24741",
          "94.08442",
          "93.41595",
          "93.41265",
          "93.97106",
          "86.75549",
          "96.46686",
          "77.79855",
          "96.46405",
          "77.79285",
          "77.68793",
          "77.54988",
          "77.68208",
          "77.54427",
          "77.5893",
          "115.82328",
          "115.8158",
          "115.02927",
          "115.02171",
          "115.07268",
          "87.901",
          "87.74171",
          "87.82319",
          "87.79684",
          "87.8164",
          "87.62241",
          "88.68182",
          "88.87342",
          "96.80962",
          "96.80428",
          "96.59445",
          "95.67401",
          "96.75706",
          "95.67031",
          "96.75164",
          "96.83046",
          "85.17097",
          "85.18297",
          "96.12626",
          "96.15191",
          "85.26714",
          "96.78503",
          "94.01357",
          "97.93819",
          "97.93172",
          "93.90927",
          "83.64082",
          "93.90415",
          "96.96773",
          "83.97603",
          "94.79495",
          "79.68459",
          "-88.21507",
          "-83.57748",
          "-86.78423",
          "-86.7086",
          "-86.71772",
          "-86.70995",
          "-86.81416",
          "-86.69968",
          "-86.51368",
          "-86.52278",
          "-86.57007",
          "-86.5714",
          "-86.58052",
          "-86.58184",
          "-86.66437",
          "-86.66569",
          "-86.84308",
          "-87.55446",
          "-86.71664",
          "-86.97019",
          "-87.15343",
          "-86.79367",
          "-86.3444",
          "-86.53107",
          "-86.52323",
          "-86.97722",
          "-86.25382",
          "-89.00887",
          "-88.7112",
          "-88.7212",
          "-90.67722",
          "-87.98735",
          "-87.99674",
          "-88.09157",
          "-88.10096",
          "-89.50776",
          "-89.5185",
          "-88.47202",
          "-89.50818",
          "-90.54755",
          "-90.55929",
          "-95.17212",
          "-90.32909",
          "-90.29412",
          "-90.46013",
          "-90.45558",
          "-90.46676",
          "-92.48184",
          "-92.49673",
          "-93.12082",
          "-93.13745",
          "-93.10888",
          "-93.12538",
          "-93.18656",
          "-93.17216",
          "-93.1888",
          "-94.51868",
          "-94.04385",
          "-94.04624",
          "-92.17593",
          "-89.30311",
          "-89.30464",
          "-89.31443",
          "-89.30618",
          "-89.48203",
          "-92.04286",
          "-90.05506",
          "-94.57181",
          "-78.33729",
          "-78.35194",
          "-78.33245",
          "-78.34927",
          "-78.3405",
          "-78.35585",
          "-91.21638",
          "-91.22129",
          "-91.20072",
          "-91.22298",
          "-80.66162",
          "-85.48126",
          "-85.81172"
         ],
         "marker": {
          "color": [
           324.01,
           320.57,
           321.52,
           321.92,
           320.21,
           322.71,
           319.79,
           317.4,
           317.86,
           316.04,
           320.17,
           317.82,
           321.82,
           319.57,
           318.73,
           317.22,
           317.59,
           319.35,
           330.05,
           324,
           325.23,
           324.64,
           324.16,
           319.3,
           336.77,
           336.02,
           337.76,
           328.49,
           331.46,
           344.48,
           336.73,
           342.11,
           336.57,
           322.2,
           325.88,
           317.85,
           327.5,
           328.26,
           331.24,
           326.82,
           323.65,
           323.77,
           332.13,
           320.91,
           327.38,
           318.07,
           316.27,
           319.02,
           319.13,
           311.3,
           312.76,
           322.12,
           321.32,
           344.58,
           345.46,
           323.49,
           353.32,
           338.11,
           327.14,
           312.51,
           313.83,
           302.77,
           306.94,
           322.04,
           316.04,
           304.97,
           310.58,
           318.17,
           311.68,
           304.06,
           316.37,
           319.06,
           312.3,
           318.37,
           316.28,
           339.91,
           304.18,
           306.23,
           302.62,
           312.44,
           319.78,
           325.72,
           339.03,
           338.14,
           327.64,
           336.37,
           300.09,
           317.45,
           300.85,
           303.68,
           305.82,
           301.03,
           308.64,
           304.45,
           312.29,
           302.54,
           302.34,
           306.83,
           325.5,
           307.82,
           304.04,
           330.05,
           311.68,
           315.78,
           304.39,
           304.15,
           302.64,
           303.5,
           303.85,
           302.68,
           303.54,
           303.17,
           300.95,
           302.11,
           305.46,
           306.76,
           301.81,
           302.6,
           302.45,
           303.32,
           306.84,
           350.59,
           324.64,
           313.31,
           300.11,
           300.77,
           302.13,
           304.62,
           319.41,
           327.83,
           302.35,
           311.54,
           300.25,
           300.27,
           306.1,
           302.31,
           349.98,
           325,
           302.03,
           319.8,
           301.16,
           315.15,
           324.83,
           324.59,
           305.22,
           303.45,
           305.53,
           301.69,
           305.46,
           308.73,
           311.29,
           308.93,
           301.93,
           301.72,
           313.23,
           306.69,
           303.12,
           300.34,
           301.13,
           302.2,
           327.39,
           303.11,
           307.77,
           309.91,
           314.87,
           308.39,
           303.09,
           304.29,
           309.05,
           307.44,
           306.67,
           309.8,
           307.66,
           315.76,
           302.84,
           300.25,
           303.64,
           309.21,
           328.03,
           310.93,
           306.62,
           312.28,
           316.37,
           326.28,
           303.29,
           309.04,
           322.06,
           316.98,
           305.07,
           307.4,
           308.6,
           314.34,
           304.94,
           303.06,
           309.27,
           310.23,
           315.57,
           307.54,
           307.63,
           316.39,
           301.63,
           300.9,
           313.04,
           304.26,
           311.52,
           339.29,
           341.04,
           301.95,
           306.91,
           310.65,
           312.45,
           328.28,
           326.22,
           317.7,
           304.99,
           337.88,
           365.44,
           315.87,
           303.04,
           303.19,
           327.67,
           327.94,
           306.41,
           305.09,
           306.69,
           300.89,
           300.66,
           316.05,
           311.92,
           344.51,
           313.82,
           310.6,
           303.34,
           311.23,
           306.07,
           309.1,
           305.78,
           307.74,
           300.93,
           306.48,
           305.89,
           309.39,
           301.75,
           309.01,
           324.59,
           305.22,
           336.14,
           304.94,
           305.46,
           314.66,
           323.59,
           310.65,
           322.76,
           341.56,
           307.77,
           303.68,
           338.03,
           360.52,
           306.19,
           309.07,
           301.22,
           310.22,
           303.52,
           331.6,
           354.82,
           362.14,
           354.64,
           361.02,
           311.34,
           315.42,
           301.11,
           300.15,
           304.46,
           309.38,
           306.05,
           309.15,
           303.68,
           303.68,
           302.61,
           316.13,
           309.75,
           312.49,
           306.82,
           314.73,
           305.72,
           303.06,
           311.04,
           314.34,
           316.35,
           313.02,
           303.23,
           305.3,
           302.9,
           312.11,
           308.46,
           306.66,
           311.97,
           307.75,
           308.71,
           307.56,
           306.69,
           307.56,
           302.98,
           305.3,
           313.43,
           301.03,
           305.32,
           319.68,
           313.35,
           310.63,
           323.01,
           314.56,
           318.15,
           319.41,
           315.64,
           319.58,
           318.1,
           320.63,
           326.35,
           316.61,
           328.68,
           328.97,
           326.61,
           324.13,
           320.31,
           301.31,
           309.44,
           316.2,
           320.03,
           323.66,
           332.13,
           322.38,
           321.38,
           319.31,
           313.06,
           323.24,
           311.53,
           319.12,
           324.45,
           318.86,
           326.03,
           323.61,
           341.11,
           316.05,
           330.78,
           318.26,
           314.3,
           316.92,
           306.55,
           308.24,
           309.43,
           306.84,
           305.57,
           302.62,
           302.95,
           302.23,
           304.07,
           300.92,
           304.59,
           303.81,
           312.27,
           304.12,
           302.85,
           314.98,
           311.79,
           321.46,
           312.41,
           314.17,
           331.82,
           321.6,
           314.08,
           325.35,
           316.88,
           320.98,
           325.43,
           312.15,
           331.37,
           312.48,
           300.24,
           302.04,
           302.83,
           302.47,
           300.91,
           300.85,
           301.2,
           305.65,
           309.48,
           306.75,
           300.72,
           310.76,
           302.78,
           307.12,
           300.13,
           306.85,
           304,
           303.43,
           304.55,
           309.39,
           305.46,
           315.27,
           300.28,
           311.87,
           315.69,
           311.41,
           310.2,
           307.16,
           307.29,
           311.96,
           308.58,
           303.29,
           304.94,
           312.51,
           318.97,
           309.21,
           302.86,
           307.05,
           317.81,
           306,
           307.12,
           305.98,
           301.38,
           301.54,
           305.93,
           312.59,
           309.73,
           311.86,
           302.83,
           310.01,
           307.48,
           304.93,
           310.6,
           303.13,
           310.67,
           307.6,
           306.8,
           309.42,
           311.7,
           311.13,
           315.57,
           307.08,
           304.13,
           313.45,
           306.85,
           307.26,
           307.83,
           305.09,
           300.02,
           308.21,
           310.5,
           310.08,
           309.1,
           311.4,
           306.81,
           310.38,
           301.88,
           303.26,
           302.67,
           307.55,
           319.3,
           309.09,
           314.94,
           325.63,
           300.78,
           328.67,
           316.15,
           327.38,
           310.21,
           302.51,
           302.45,
           302.47,
           302.19,
           303.81,
           313.64,
           312.69,
           304.48,
           313.28,
           311.45,
           308.13,
           316.01,
           313.63,
           308.08,
           320.57,
           310.37,
           314.41,
           315.92,
           311.62,
           313.1,
           310.8,
           306.85,
           310.3,
           332.04,
           306.86,
           302.2,
           302.88,
           302.34,
           301.56,
           317.85,
           309.08,
           324.26,
           301.34,
           305.21,
           318.15,
           321.73,
           306.18,
           321.26,
           308.72,
           306.68,
           325.19,
           320.57,
           309.21,
           312.02,
           314.06,
           307.28,
           304.47,
           305.56,
           319.84,
           314.51,
           326.59,
           326.41,
           323.65,
           332.09,
           327.3,
           324.59,
           314.57,
           321.35,
           323.06,
           314.75,
           328.97,
           327.44,
           315.48,
           327.15,
           313.77,
           317.62,
           318.02,
           314.72,
           321.15,
           314.88,
           314.94,
           323.36,
           327.48,
           317.2,
           319.49,
           319.1,
           325.97,
           314.65,
           320.84,
           330.46,
           324.46,
           315.9,
           322.98,
           319.93,
           318.94,
           311.99,
           325.96,
           306.48,
           319.99,
           304.92,
           309.23,
           323.07,
           316.53,
           311.68,
           302.64,
           346.17,
           312.83,
           337.31,
           343.41,
           300.12,
           316.09,
           304.17,
           304.15,
           325.05,
           309.45,
           304.73,
           315.13,
           309.09,
           340.19,
           327.69,
           310.02,
           305.02,
           304.78,
           305.02,
           300.85,
           300.05,
           314.01,
           301.66,
           309.07,
           301.09,
           311.73,
           313.98,
           305.26,
           310.02,
           325.33,
           326.01,
           333.77,
           314.59,
           302.88,
           300.11,
           300.09,
           301.79,
           307.5,
           303.78,
           302.6,
           302.96,
           306.75,
           302.77,
           303.72,
           310.13,
           313.26,
           308.35,
           310.24,
           301.42,
           310.04,
           309.29,
           302.72,
           310.03,
           305.5,
           307.61,
           338.29,
           304.17,
           327.81,
           325.03,
           304.88,
           310.22,
           302.52,
           331.01,
           302.74,
           313.27,
           316.63,
           321.45,
           310.59,
           305.02,
           307.07,
           327.86,
           306.71,
           320.58,
           311.49,
           328.65,
           311.44,
           303.81,
           304.95,
           329.58,
           319.59,
           314.39,
           313.05,
           338.52,
           328.13,
           321.92,
           306.81,
           333.3,
           309.57,
           318.68,
           310.01,
           313.97,
           303.16,
           305.5,
           305.73,
           314.21,
           306.04,
           307.92,
           305.17,
           306.18,
           310.04,
           302.74,
           303.41,
           300.84,
           301.03,
           313.79,
           307.93,
           333,
           320.77,
           303.78,
           320.53,
           303.45,
           311.81,
           307.95,
           304.17,
           306.21,
           302.56,
           304.67,
           305.07,
           310.09,
           319.36,
           329.86,
           306.89,
           313.17,
           313.26,
           323.37,
           321.27,
           312.64,
           320.18,
           316.94,
           327.79,
           322.76,
           313.11,
           317.65,
           320.22,
           319.28,
           317.77,
           320.26,
           324.19,
           317.98,
           328.18,
           328.17,
           318.08,
           321.22,
           323.4,
           324.25,
           325.54,
           317.96,
           326.6,
           331.37,
           325.34,
           329.62,
           328.53,
           332,
           329.81,
           327.51,
           332.44,
           337.5,
           339.87,
           337.69,
           330.78,
           333.89,
           331.42,
           332.44,
           331.37,
           324.67,
           326.01,
           326.74,
           334.68,
           344.45,
           359.28,
           341.87,
           331.06,
           337.84,
           339.98,
           326.76,
           325.65,
           331.64,
           337.92,
           354.57,
           329.72,
           331.95,
           329.53,
           331.64,
           336.1,
           332.35,
           327.59,
           343.48,
           334.85,
           330.74,
           327.66,
           329.44,
           331.73,
           339.36,
           338.22,
           309.1,
           314.76,
           314.62,
           313.71,
           314.6,
           309.65,
           324.79,
           312.98,
           314.24,
           312.74,
           310.68,
           327.77,
           317.06,
           318.53,
           313.69,
           326.8,
           316.77,
           376.54,
           313,
           317.56,
           369.99,
           318.54,
           327.64,
           317.19,
           319.95,
           312.35,
           334.93,
           314.01,
           310.45,
           315.56,
           428.48,
           409.9,
           328.72,
           318.2,
           317.11,
           308.96,
           309.79,
           310.34,
           316.99,
           307.87,
           306.51,
           311.62,
           314.62,
           333.13,
           310.23,
           335.7,
           330.83,
           332.17,
           348.7,
           327.93,
           350.04,
           341.14,
           348.79,
           346.14,
           342.85,
           341.59,
           340.55,
           327.92,
           330,
           330.78,
           330.69,
           333.68,
           328.57,
           333.73,
           327.37,
           340.3,
           328.16,
           326.86,
           326.88,
           328.44,
           327.22,
           325.24,
           334.56,
           343.61,
           333.85,
           331.6,
           327.05,
           328.99,
           332.39,
           335.94,
           331.1,
           340.09,
           334.23,
           338.67,
           333.3,
           336.77,
           330.09,
           337.38,
           330.78,
           327.92,
           331.55,
           328.89,
           338.44,
           330.37,
           331.69,
           344.29,
           334.31,
           330.83,
           333.34,
           327.98,
           330.05,
           324.08,
           326.02,
           331.42,
           332.52,
           327.51,
           337.19,
           332.57,
           334.97,
           337.61,
           327.64,
           330.56,
           332.35,
           330.78,
           330.05,
           329.29,
           334.97,
           328.06,
           328,
           340.44,
           330.56,
           328.79,
           324.01,
           323.46,
           331.06,
           336.14,
           333.51,
           331.64,
           318.44,
           333.22,
           333.56,
           326.95,
           334.89,
           330.33,
           328.98,
           344.64,
           331.51,
           329.39,
           324.96,
           325.5,
           331.28,
           335.42,
           328.59,
           336.57,
           331.37,
           322.97,
           327.19,
           322.98,
           328.79,
           322.48,
           323.21,
           311.69,
           311.64,
           304.27,
           326.88,
           370.77,
           314.16,
           309.93,
           305.12,
           306.45,
           304.7,
           306.17,
           308.53,
           309.21,
           307.93,
           311.75,
           307.38,
           305.32,
           309.03,
           311.92,
           305.28,
           305.15,
           324.62,
           320.62,
           306.68,
           301.66,
           362.39,
           363.31,
           301.6,
           308.86,
           304.01,
           312.27,
           307.66,
           303.05,
           301.98,
           301.78,
           308.47,
           307.91,
           314.81,
           320.54,
           306.87,
           314.66,
           313.42,
           306.58,
           311.68,
           306.92,
           307.44,
           318.21,
           332.79,
           309.34,
           311.58,
           327.46,
           319.61,
           327.94,
           307.23,
           308.96,
           326.32,
           313.83,
           318.83,
           326.83,
           314.64,
           335.62,
           321.29,
           322.11,
           318.88,
           323,
           319.5,
           320.57,
           314.64,
           319.05,
           323.84,
           318.04,
           317.84,
           317.83,
           321.85,
           327.85,
           320.78,
           333.34,
           317.05,
           318.52,
           318.04,
           319.13,
           322.01,
           311.83,
           321.5,
           313.42,
           317.73,
           317.92,
           320.69,
           324.64,
           320.63,
           322.36,
           314.61,
           317.65,
           318.53,
           320.2,
           319.56,
           322.18,
           325.04,
           345.52,
           334.23,
           328.73,
           328.75,
           323.57,
           328.52,
           327.18,
           327.74,
           335.21,
           328.08,
           324.59,
           333.04,
           340.97,
           335.26,
           328.86,
           326.97,
           326.53,
           324.89,
           326.4,
           332.31,
           337.31,
           330.09,
           330.78,
           325.55,
           329.67,
           322.19,
           321.83,
           331.51,
           328.4,
           327.38,
           331.01,
           320.55,
           332.48,
           310.6,
           315.72,
           317.38,
           310.18,
           312.85,
           347.59,
           386.27,
           307.15,
           301.74,
           300.96,
           305.57,
           313.95,
           317.02,
           317.02,
           316.29,
           316.49,
           310.9,
           310.81,
           311.91,
           317.3,
           315.78,
           311.01,
           308.82,
           310.07,
           316.97,
           314.86,
           319.28,
           308.63,
           306.63,
           312.03,
           308.53,
           311.07,
           325.93,
           301.69,
           308.5,
           326.35,
           311.44,
           309.27,
           316.29,
           309.91,
           311.91,
           310.08,
           309.9,
           314.39,
           313.2,
           308.36,
           318.63,
           321.19,
           305.37,
           329.95,
           319.1,
           315.68,
           330.23,
           312.28,
           321.67,
           306.15,
           306.28,
           307.08,
           327.88,
           311.65,
           315.07,
           312.9,
           308.01,
           314.71,
           326.87,
           308.8,
           311.18,
           309.01,
           311.17,
           311.23,
           313.79,
           306.4,
           316.38,
           334.39,
           307.32,
           328.01,
           333.73,
           351.92,
           342.14,
           350.7,
           319.15,
           312.16,
           314.77,
           312.88,
           338.11,
           334.93,
           332.87,
           335.46,
           343.83,
           335.01,
           349.95,
           347.83,
           359.1,
           370.38,
           334.52,
           337.76,
           342.85,
           332.13,
           329.67,
           343.61,
           332.09,
           338.07,
           343.34,
           360.35,
           343.21,
           326.13,
           349.87,
           327.97,
           348.53,
           333.04,
           334.02,
           344.54,
           332.09,
           337.42,
           361.92,
           344.09,
           340.09,
           342.21,
           341.73,
           334.06,
           334.48,
           345.34,
           331.69,
           342.65,
           324.78,
           337.19,
           332.13,
           331.51,
           336.06,
           334.56,
           329.29,
           402.39,
           349.73,
           335.62,
           334.77,
           337.54,
           374.13,
           375.74,
           327.1,
           327.67,
           333.6,
           325.17,
           347.8,
           352.69,
           327.99,
           311.5,
           301.29,
           301.2,
           301.45,
           308.74,
           355.39,
           307.78,
           315.28,
           301.4,
           312.22,
           312.82,
           302.23,
           309.23,
           312.77,
           313.17,
           315.31,
           308.73,
           366.16,
           332.09,
           331.73,
           334.68,
           359.32,
           338.7,
           332.79,
           310.54,
           306.87,
           310.23,
           303.28,
           314.99,
           312.09,
           324.32,
           329.29,
           316.08,
           307.34,
           307.86,
           300.52,
           302.81,
           316.3,
           359.61,
           334.81,
           305.13,
           311.75,
           337.31,
           300.45,
           320.59,
           308.87,
           312.41,
           307.1,
           332.39,
           300.57,
           315.96,
           340.62,
           321.46,
           337.92,
           300.93,
           307.18,
           307.86,
           320.85,
           309.71,
           345.8,
           324.46,
           302.02,
           307.51,
           318.88,
           314.12,
           303.51,
           302.25,
           305.99,
           309.56,
           304.09,
           300.17,
           303.84,
           308.59,
           305.52,
           309.45,
           313.65,
           302.95,
           312.37,
           320.06,
           310.85,
           309.88,
           300.43,
           312.77,
           307.79,
           338.85,
           306.73,
           323.21,
           331.6,
           328.36,
           326.26,
           307.71,
           307.47,
           314.34,
           309.85,
           306.04,
           306.2,
           309.69,
           311.41,
           308.14,
           310.59,
           307.89,
           309.84,
           309.43,
           308.89,
           312.13,
           315.18,
           312.79,
           312.11,
           312.06,
           312.84,
           312.94,
           313.65,
           314.17,
           313.94,
           313.78,
           311.76,
           312.82,
           313.4,
           314.58,
           315.41,
           315.29,
           315.88,
           314.49,
           316.86,
           316.68,
           321.44,
           314.31,
           312.36,
           313.08,
           321.02,
           313.56,
           312.87,
           317.25,
           313.47,
           313.21,
           316.4,
           316.44,
           317.5,
           319.24,
           314.35,
           312.39,
           317.55,
           318.52,
           315.15,
           319.29,
           318.5,
           313.73,
           319.64,
           317.24,
           316.87,
           314.47,
           313.19,
           317.9,
           313.46,
           316.85,
           317.85,
           316.74,
           317.01,
           316.25,
           317.75,
           317.06,
           315.8,
           315.54,
           316.67,
           314.26,
           319.06,
           315.88,
           314.41,
           314.15,
           314.91,
           315.71,
           314.38,
           318.45,
           320.26,
           316.16,
           316.54,
           315.65,
           314.63,
           316.48,
           319.86,
           315.79,
           313.38,
           315.06,
           313.44,
           316.78,
           314.16,
           315.94,
           315,
           316.7,
           319.52,
           314.51,
           314.62,
           316.56,
           318.51,
           315.59,
           316.53,
           320.66,
           310.17,
           320.03,
           319.85,
           318.82,
           315.73,
           322.19,
           318.46,
           318.06,
           315.46,
           315.73,
           316.61,
           317.68,
           319.36,
           317.76,
           315.51,
           316.96,
           318.11,
           317.04,
           318.36,
           314.78,
           316.26,
           317.68,
           311.85,
           317.89,
           316.26,
           317.9,
           317.65,
           314.59,
           315.59,
           314.33,
           319.66,
           322.9,
           325.48,
           314.92,
           320.5,
           324.22,
           319.86,
           328.31,
           313.15,
           312.98,
           318.12,
           332.79,
           318.54,
           317.24,
           313.02,
           313.41,
           314.7,
           314.78,
           315.51,
           314.67,
           319.5,
           318.78,
           326.45,
           326.79,
           320.83,
           314.5,
           310.65,
           311.83,
           312.84,
           315.6,
           311.35,
           313.45,
           311.28,
           300.01,
           308.48,
           304.06,
           303.33,
           301.18,
           328.57,
           312.64,
           301.71,
           300.65,
           302.83,
           304.09,
           300.54,
           306.19,
           304.79,
           302.53,
           327.49,
           308.9,
           312.88,
           384.74,
           325.79,
           356,
           330.42,
           305.16,
           310.59,
           305.36,
           304.47,
           304.06,
           314.02,
           322.08,
           321.32,
           323.95,
           331.01,
           324.39,
           319.15,
           327.67,
           337.27,
           327.29,
           324.85,
           327.68,
           313.13,
           331.78,
           322.05,
           319.95,
           327.98,
           324.15,
           317.93,
           320.82,
           317.32,
           313.41,
           315.32,
           316.02,
           320.49,
           319.02,
           317.23,
           322.16,
           316.51,
           317.14,
           318.29,
           320.31,
           321.01,
           316.01,
           325.64,
           317.75,
           318.21,
           325.25,
           319.56,
           316.45,
           306.28,
           316.87,
           316.54,
           316.02,
           320.9,
           320.14,
           325,
           325.9,
           326.08,
           323.21,
           330.65,
           324.51,
           325.83,
           325.38,
           325.16,
           314.4,
           322.47,
           314.13,
           328.43,
           324.77,
           330.97,
           333.51,
           332.13,
           324.9,
           327.58,
           316.1,
           312.51,
           317.15,
           317.44,
           317.03,
           314.01,
           314.67,
           442.95,
           316.29,
           315.97,
           327.83,
           314.28,
           314,
           311.76,
           311.05,
           308.97,
           340.69,
           309.53,
           311.38,
           316.77,
           309.73,
           344.67,
           301.5,
           300.73,
           303.79,
           301.51,
           305.15,
           309.82,
           304.05,
           305.95,
           310.69,
           315.55,
           314.11,
           310.15,
           312.06,
           320.61,
           318.71,
           311.67,
           327.64,
           303.98,
           315.37,
           311.99,
           314.11,
           315.1,
           309.59,
           315.03,
           317.42,
           305.06,
           306.18,
           307.97,
           307.66,
           308.24,
           305.46,
           305.52,
           304.19,
           303.09,
           314.06,
           306.79,
           304.85,
           306.03,
           305.88,
           305.43,
           317.08,
           305.06,
           307.7,
           305.56,
           310.62,
           310.65,
           313.01,
           306,
           304.67,
           303.84,
           304,
           317.28,
           312.35,
           308.11,
           317.14,
           326.46,
           307.31,
           302.62,
           302.75,
           310.61,
           310.86,
           310.22,
           327.79,
           312.52,
           307.74,
           310.86,
           307.5,
           309.5,
           307.61,
           315.5,
           308.82,
           311.85,
           303.55,
           310.96,
           302.87,
           313.87,
           311.82,
           309.68,
           305.25,
           301.57,
           310.05,
           309.12,
           307.22,
           307.97,
           303.72,
           314.46,
           306.89,
           311.82,
           306.3,
           307.35,
           303.32,
           312.31,
           307.22,
           305.85,
           312.47,
           301.79,
           317.35,
           303.79,
           303.84,
           306.24,
           317,
           311.27,
           311.03,
           305.01,
           317.31,
           312.18,
           317.79,
           303.81,
           300.91,
           303.51,
           302.5,
           301.85,
           302.8,
           309.08,
           301.03,
           304.8,
           301.09,
           315.42,
           302.43,
           307.03,
           304.64,
           315.61,
           303.79,
           310.4,
           308.19,
           322.07,
           318.52,
           307.46,
           311.62,
           311.11,
           325.75,
           311.69,
           325.73,
           311.6,
           317.66,
           311.58,
           323.04,
           312.24,
           306.65,
           307.83,
           307.95,
           309.92,
           306.83,
           312.43,
           313.96,
           306.78,
           309.67,
           307.18,
           317.42,
           305.01,
           307.28,
           315.28,
           332.96,
           347.2,
           383.6,
           305.05,
           346.45,
           350.62,
           342.88,
           349.9,
           319.02,
           308.96,
           311.88,
           320.16,
           330.19,
           316.11,
           308.89,
           318.36,
           330.09,
           309.3,
           328.57,
           308.17,
           316.21,
           311.55,
           312.27,
           311.5,
           306.66,
           307.98,
           306.53,
           306.41,
           309.76,
           305.17,
           313.22,
           308.72,
           307.95,
           306.27,
           306.84,
           312.73,
           335.38,
           319.47,
           311.97,
           312.82,
           307.83,
           313.78,
           316.37,
           312.81,
           310.17,
           312.64,
           363.49,
           356.22,
           337.54,
           317.15,
           304.34,
           303.75,
           303.81,
           315.56,
           305.12,
           310.86,
           311.02,
           305.36,
           334.27,
           347.71,
           336.88,
           323.6,
           323.59,
           314.79,
           309.89,
           305.61,
           314.09,
           309.98,
           307.98,
           324.65,
           331.06,
           319.77,
           308.63,
           312.81,
           310.09,
           307.21,
           315.05,
           309.37,
           340.3,
           338.92,
           307.2,
           327.23,
           380.59,
           357.58,
           323.42,
           364.06,
           359.5,
           343.11,
           324.33,
           325.72,
           308.11,
           326.43,
           323.1,
           310.39,
           308.72,
           329.53,
           311.96,
           310.54,
           313.29,
           311.64,
           319.27,
           309.07,
           311.19,
           311.18,
           316.76,
           328.97,
           335.9,
           319.04,
           316.76,
           310.62,
           324.93,
           333.17,
           331.19,
           327.64,
           323.32,
           328.18,
           324.9,
           321.28,
           328.4,
           323.07,
           317.49,
           323.33,
           350.26,
           320.4,
           315.33,
           318.59,
           320.14,
           313.57,
           313.23,
           331.73,
           344.64,
           331.46,
           318.9,
           323.27,
           328.7,
           343.96,
           316.02,
           327.5,
           364.85,
           311.01,
           322.95,
           347.56,
           330.37,
           347.97,
           338.7,
           316.25,
           321.5,
           345.43,
           332,
           326.23,
           334.6,
           326.47,
           313.38,
           319.08,
           323.45,
           321.24,
           319.61,
           320.78,
           325.32,
           319.7,
           332.79,
           325.27,
           315.89,
           315.43,
           321.96,
           327.86,
           323.62,
           315.93,
           314.53,
           318.32,
           322.56,
           308.77,
           307.69,
           305.28,
           311.32,
           305.7,
           315.79,
           309.85,
           309.66,
           312.61,
           305.33,
           310.61,
           322.13,
           317.48,
           327.29,
           314.81,
           314.61,
           300.93,
           311.82,
           310.3,
           308.41,
           304.41,
           303.34,
           302.76,
           305.46,
           309.62,
           307.73,
           302.8,
           309.77,
           306.15,
           310.68,
           305.08,
           308.07,
           303.69,
           303.72,
           301.17,
           317.39,
           307.17,
           312.04,
           300.95,
           313.41,
           316.44,
           314.87,
           306.71,
           302.93,
           301.54,
           312.97,
           310.92,
           329.86,
           315.21,
           316.61,
           305.08,
           311.65,
           381.13,
           318.48,
           300.22,
           309.48,
           305.9,
           317.66,
           402.31,
           304.32,
           306.57,
           338.37,
           313.59,
           311.45,
           315,
           307.17,
           317.54,
           312.97,
           310.28,
           313.93,
           312.71,
           318.44,
           305.83,
           327.1,
           327.25,
           312.21,
           311.88,
           311.02,
           309.27,
           304.93,
           312.21,
           328.77,
           322.22,
           308.08,
           307.82,
           317.96,
           319.99,
           314.8,
           312.6,
           322.16,
           345.8,
           311.02,
           309.15,
           309.6,
           301.52,
           314.48,
           309.19,
           306.88,
           310.64,
           307.34,
           317.67,
           309.08,
           307.8,
           304.83,
           309.49,
           306.94,
           301.52,
           303.96,
           303.49,
           309.65,
           302.49,
           342.81,
           309.7,
           304.46,
           312.47,
           340.05,
           354.57,
           349.53,
           346.93,
           324.68,
           321.99,
           305.78,
           300.12,
           329.81,
           320.62,
           312.99,
           324.36,
           310.02,
           305.76,
           300.54,
           301.94,
           312.37,
           301.48,
           306.03,
           304.73,
           305.71,
           304.11,
           301.48,
           304.52,
           312.09,
           306.68,
           302.66,
           303.86,
           303.96,
           307.8,
           302.21,
           302.13,
           311.92,
           303.07,
           312.73,
           307.72,
           306.14,
           304.57,
           307.17,
           321.65,
           303.23,
           300.39,
           319.65,
           310.29,
           301.35,
           307.61,
           309.2,
           304.81,
           304.98,
           323.07,
           300.21,
           306.71,
           307.36,
           307.54,
           305.47,
           307.01,
           308.55,
           312.96,
           303.63,
           306.13,
           319.33,
           313.43,
           312.52,
           309.78,
           305.6,
           311.16,
           308.05,
           318.66,
           309.15,
           313.6,
           310.12,
           310.48,
           312.43,
           308.16,
           313.15,
           308.78,
           311,
           311.78,
           313.93,
           332.91,
           310.18,
           322.7,
           334.15,
           328.02,
           310.21,
           303.3,
           312.5,
           308.94,
           317.35,
           322.56,
           312.29,
           325.53,
           309.49,
           319.5,
           320.93,
           327.49,
           316.92,
           308.43,
           321.3,
           328.62,
           313.96,
           318.55,
           312.81,
           313.39,
           315.53,
           311.5,
           314.95,
           311.49,
           312.48,
           312.69,
           309.05,
           310.41,
           316.91,
           352.16,
           409.65,
           314.36,
           315.6,
           301.3,
           300,
           301.87,
           311.19,
           314.31,
           335.01,
           330.92,
           307.93,
           309.43,
           306.47,
           302.26,
           310.59,
           307.84,
           305.56,
           305.03,
           307,
           313.03,
           311.09,
           306.15,
           313.2,
           309.84,
           300.8,
           303.16,
           301.54,
           300.47,
           300.37,
           309.59,
           309.68,
           301.4,
           301.89,
           300.66,
           302.85,
           303.3,
           305.84,
           343.24,
           335.86,
           303.02,
           303.13,
           300.52,
           304.17,
           300.57,
           301.63,
           313.65,
           317.82,
           320.8,
           323.03,
           320.91,
           332.13,
           321.48,
           321.89,
           323.3,
           326.45,
           333.39,
           327.5,
           326.6,
           321.23,
           335.9,
           327.93,
           327.44,
           324.08,
           320.41,
           341.94,
           333.26,
           324.9,
           323.35,
           341.77,
           327.39,
           336.37,
           331.42,
           326.99,
           332.39,
           321.48,
           338.07,
           334.31,
           318.32,
           317.19,
           334.85,
           339.18,
           319.36,
           321.01,
           320.04,
           313.71,
           311.48,
           329.81,
           322.65,
           327.76,
           325.43,
           333.77,
           330.28,
           324.19,
           327.63,
           325,
           326.67,
           328.43,
           337.61,
           334.31,
           323.06,
           331.95,
           330.69,
           329.44,
           333.94,
           325.43,
           328.75,
           335.7,
           337.69,
           333.09,
           325.36,
           324.8,
           327.55,
           335.21,
           351.3,
           328.09,
           325.32,
           328.48,
           333,
           340.26,
           332.09,
           328.72,
           339,
           336.96,
           325.44,
           329.95,
           323.54,
           329.25,
           325.85,
           326.6,
           333.22,
           323.77,
           332.83,
           327.69,
           331.24,
           355.83,
           328.57,
           324.85,
           322.5,
           322.84,
           324.63,
           328.16,
           324.02,
           327.43,
           329.34,
           330.42,
           323.37,
           321.71,
           323.47,
           325.15,
           316.66,
           333.81,
           323.27,
           327.84,
           326.95,
           330.56,
           329.81,
           330.74,
           350.68,
           349.64,
           329.53,
           331.15,
           332.04,
           320.63,
           329.44,
           337.5,
           327.42,
           329.72,
           328.91,
           335.3,
           354.52,
           354.64,
           352.85,
           350.09,
           361.71,
           332.7,
           361.3,
           369.49,
           331.33,
           336.41,
           344.48,
           345.96,
           344.45,
           342,
           324.89,
           323.48,
           321.02,
           339.73,
           382.82,
           353.63,
           359.59,
           373.85,
           329.15,
           331.64,
           330.23,
           324.95,
           310.8,
           328.42,
           307.89,
           307.63,
           342.24,
           315.35,
           325.06,
           311.7,
           345.46,
           305.03,
           301.42,
           308.23,
           305.66,
           303.01,
           307.71,
           322.8,
           317.83,
           303.06,
           316.28,
           304.96,
           303.81,
           305.71,
           316.98,
           310,
           310.25,
           303.46,
           304.93,
           303.99,
           308.08,
           302.87,
           313.1,
           304.09,
           301.62,
           317.93,
           307.47,
           308.54,
           301.36,
           303.24,
           302.81,
           301.2,
           303.47,
           304.36,
           302.4,
           302.83,
           302.78,
           307.12,
           308.78,
           307.01,
           353.6,
           346.17,
           304.21,
           352.9,
           325.76,
           361.2,
           321.76,
           304.86,
           317.62,
           318.73,
           305.42,
           303.95,
           324.19,
           319.89,
           302.5,
           344.03,
           331.46,
           314.65,
           311.61,
           332.66,
           321.24,
           306.8,
           328.2,
           369.2,
           309.75,
           316.18,
           322.78,
           306.9,
           311.52,
           320.39,
           308.55,
           301.92,
           302.51,
           305.99,
           304.5,
           331.73,
           312.61,
           306.6,
           307.09,
           302.92,
           304.51,
           303.18,
           300.14,
           309.4,
           301.05,
           300.83,
           304.78,
           307.15,
           310.17,
           302.63,
           302.29,
           304.79,
           304.59,
           308.39,
           304.45,
           311.75,
           303.35,
           304.57,
           307.34,
           303.55,
           304.28,
           310.15,
           310.01,
           303.48,
           329.72,
           307.29,
           304.33,
           304.25,
           307.43,
           313.08,
           305.89,
           307.68,
           314,
           310.29,
           312.02,
           317.07,
           313.85,
           311.54,
           317.56,
           317.47,
           332.26,
           309.13,
           305.3,
           311.83,
           327.83,
           313.2,
           312.7,
           314.81,
           311.63,
           319,
           307.99,
           319.38,
           314.87,
           320.19,
           305.86,
           308.94,
           334.39,
           307.82,
           309.64,
           311.93,
           311.99,
           317.21,
           326.32,
           307.9,
           309.17,
           310.7,
           311.77,
           310.03,
           311.09,
           315.78,
           311.73,
           313.06,
           311.03,
           311.24,
           309.84,
           310.14,
           308.34,
           309.35,
           308.76,
           306.94,
           312.39,
           310.19,
           309.52,
           311.7,
           307.32,
           308.72,
           310.78,
           308.11,
           314.2,
           313.11,
           309.69,
           309.16,
           306.16,
           306.35,
           306.37,
           301.3,
           302.02,
           303.4,
           308.75,
           311.51,
           303.63,
           303.93,
           302.11,
           304.08,
           303.3,
           304.75,
           306.86,
           306.73,
           300.01,
           308.36,
           311.75,
           320.32,
           302.74,
           307.39,
           310.35,
           311.21,
           315.55,
           317.72,
           310.81,
           306.36,
           307.81,
           301.8,
           310.87,
           308.09,
           310.29,
           312.1,
           314.17,
           309.64,
           311.19,
           310.13,
           306.34,
           308.77,
           307.31,
           310.07,
           310.43,
           308.57,
           320.27,
           306.55,
           305.9,
           313.14,
           312.05,
           313.16,
           307.22,
           312.96,
           313.04,
           307.43,
           307.46,
           310.61,
           314.62,
           316.98,
           310.09,
           310.12,
           307.06,
           307.2,
           305.42,
           306.96,
           309.63,
           315.29,
           307.18,
           308.14,
           305.63,
           311.07,
           311.6,
           301.75,
           306.96,
           308.74,
           311.29,
           308.25,
           320.44,
           329.34,
           317.05,
           309.85,
           313.72,
           315.45,
           311.96,
           311.86,
           316,
           303.95,
           309.4,
           310.52,
           306.56,
           321.86,
           310.74,
           321.37,
           308.74,
           309.45,
           306.04,
           306.27,
           308.89,
           310.74,
           322.82,
           310.99,
           327.29,
           354.26,
           308.11,
           313.11,
           308.67,
           307.25,
           307.69,
           310.34,
           308.42,
           309.1,
           315.59,
           306.7,
           313.77,
           302.27,
           307.42,
           312.79,
           311.02,
           319.35,
           311.65,
           306.56,
           310.17,
           338.4,
           311.58,
           307.69,
           307.76,
           307.9,
           314.57,
           306.57,
           331.06,
           311.34,
           307.8,
           306.87,
           306.21,
           307.85,
           315.23,
           307.48,
           309.37,
           307.74,
           307.26,
           309.96,
           309.01,
           310.71,
           310.13,
           308.41,
           309.03,
           308.67,
           306.97,
           314.51,
           310.2,
           309.62,
           312.29,
           306.92,
           308.32,
           307.97,
           307.62,
           308.82,
           309.99,
           314.39,
           308.64,
           309.45,
           306.49,
           308.71,
           310.13,
           309.43,
           307.82,
           305.9,
           309.29,
           310.59,
           312.76,
           310.13,
           310.3,
           308.16,
           310.97,
           350.4,
           332.79,
           311.85,
           309.53,
           312.77,
           309.13,
           307.35,
           309.11,
           314.57,
           315.07,
           308.93,
           314.55,
           309.17,
           306.46,
           304.53,
           302.8,
           309.8,
           312.78,
           315.16,
           310.31,
           314.85,
           309.99,
           303.35,
           301.98,
           306.4,
           305.99,
           327.05,
           312.91,
           344.06,
           325.52,
           319.2,
           313.2,
           327.94,
           313.29,
           309.09,
           314.42,
           305.66,
           332.66,
           317.44,
           332.57,
           327.05,
           317.03,
           303.04,
           317.07,
           311.38,
           300.26,
           315.48,
           309.65,
           350.79,
           329.01,
           306.48,
           309.26,
           327.14,
           305.19,
           304,
           303.54,
           311.14,
           307.15,
           316.57,
           306.82,
           305.92,
           319.31,
           307.95,
           311.46,
           318.26,
           314.74,
           303,
           304.39,
           304.37,
           310.44,
           307.86,
           303.39,
           302.73,
           306.89,
           318.65,
           306.09,
           313.98,
           304.82,
           307.72,
           301.8,
           311.24,
           306.9,
           301.6,
           303.02,
           309.48,
           301.76,
           303.97,
           302.48,
           307.66,
           307.96,
           303.43,
           300.82,
           315.02,
           309.74,
           304.36,
           312.38,
           305.01,
           300.06,
           307.17,
           306.81,
           312.69,
           306.17,
           303.66,
           304.57,
           300.35,
           305.33,
           327.99,
           305.36,
           303.8,
           316.09,
           308.11,
           300.34,
           314.54,
           302.64,
           301.88,
           304.28,
           320.75,
           319.81,
           309.22,
           306.1,
           309.57,
           311.24,
           301.97,
           310.7,
           305.51,
           305.77,
           303.56,
           314.94,
           307.82,
           302.32,
           306.17,
           308.21,
           303.86,
           322.5,
           314.54,
           314.77,
           309.21,
           309.7,
           311.42,
           310.91,
           310.68,
           308.81,
           319.16,
           316.06,
           309.74,
           309.42,
           310.62,
           314.84,
           314.34,
           311.99,
           314.39,
           311.98,
           310.37,
           306.2,
           309.45,
           306.8,
           312.3,
           306.96,
           318.14,
           305.73,
           325.68,
           313.06,
           309.62,
           308.5,
           323.09,
           309.75,
           309.28,
           311.19,
           306.97,
           312.83,
           306.68,
           312.86,
           309.12,
           309.82,
           315.34,
           309.34,
           317.48,
           315.9,
           313.18,
           315.14,
           316.88,
           321.41,
           308.13,
           313.49,
           315.3,
           323.66,
           316.29,
           318.45,
           307.97,
           312.78,
           313.08,
           310.52,
           305.31,
           314.36,
           311.69,
           308.11,
           309.39,
           306.84,
           310.8,
           313.43,
           307.07,
           342.38,
           339.62,
           339.4,
           312.76,
           308.86,
           319.29,
           315.74,
           309.88,
           308.58,
           315.31,
           310.7,
           311.08,
           312.61,
           306.37,
           313.74,
           311.34,
           306.81,
           309.86,
           317.66,
           314.07,
           314.07,
           309.61,
           310.24,
           307.03,
           309.36,
           309.58,
           307.91,
           305.6,
           311.46,
           309.57,
           306.59,
           308.45,
           317.01,
           316.91,
           311.01,
           310.52,
           313.57,
           305.91,
           309.86,
           306.92,
           306.51,
           308.22,
           320.17,
           315.03,
           309.42,
           314.87,
           325.34,
           310.8,
           308.3,
           317.13,
           312.6,
           316.03,
           308.34,
           310.08,
           308.17,
           313.13,
           319.66,
           314.54,
           316.58,
           345.02,
           327.99,
           325.38,
           314.2,
           317.13,
           316.12,
           314.61,
           310.69,
           320.68,
           315.18,
           314.25,
           314.26,
           316.77,
           318.66,
           321.8,
           314.87,
           314.54,
           313.43,
           316.5,
           317.09,
           316.25,
           320.3,
           320.05,
           323.44,
           314.85,
           314.82,
           316.39,
           338.11,
           317.95,
           337.27,
           317.31,
           323.21,
           332.09,
           313.58,
           314.57,
           315.23,
           317.35,
           311.36,
           309.55,
           313.04,
           313.07,
           328.86,
           330.09,
           335.01,
           333.85,
           323.05,
           339.69,
           317.37,
           318.61,
           319.88,
           327.45,
           336.84,
           339.8,
           316.59,
           322.33,
           326.15,
           327.04,
           331.6,
           336.77,
           325.58,
           314.82,
           334.1,
           328.38,
           331.55,
           310.07,
           329.15,
           325.53,
           322.9,
           327.26,
           315.27,
           315.04,
           324.51,
           321.44,
           387.29,
           374.08,
           314.86,
           326.41,
           321.29,
           310.69,
           313.49,
           322.97,
           315.03,
           326.26,
           313.81,
           324.1,
           327.06,
           327.03,
           326.94,
           325.43,
           323.52,
           325.02,
           323.02,
           324,
           321.52,
           311.85,
           330,
           318.08,
           321.73,
           312.44,
           327.99,
           313.3,
           314.58,
           321.69,
           322.04,
           324.1,
           312.24,
           320.7,
           313.09,
           321.02,
           313.41,
           313.22,
           326.76,
           325.93,
           316.95,
           314.96,
           324.49,
           322.16,
           315.58,
           312.82,
           312.12,
           315.99,
           324.34,
           315.81,
           314.45,
           319.12,
           313.82,
           313.13,
           300.38,
           305.25,
           301.46,
           318.54,
           309.99,
           306.23,
           306.28,
           307.69,
           300.18,
           302.43,
           304.3,
           317.57,
           311.23,
           308.23,
           308.2,
           306.83,
           303.19,
           305.51,
           301.55,
           309.94,
           302.46,
           307.58,
           303.24,
           307.06,
           304.97,
           300.64,
           301.53,
           304.49,
           312.45,
           301.17,
           301.24,
           327.57,
           349.98,
           316.11,
           326.16,
           304.54,
           305.89,
           311.41,
           303.33,
           310,
           309.57,
           305.55,
           323.48,
           307.33,
           319.71,
           309.37,
           311.71,
           310.57,
           320.04,
           346.2,
           302.68,
           319.1,
           338.29,
           315.75,
           303.76,
           327.03,
           306.22,
           309.29,
           310.09,
           314.73,
           307.1,
           311.53,
           306.16,
           306.21,
           318.2,
           310.73,
           308.83,
           308.89,
           397.74,
           389.69,
           322.93,
           337,
           361.73,
           321.63,
           343.38,
           306.2,
           354.74,
           329.34,
           303.02,
           320.68,
           312.05
          ],
          "coloraxis": "coloraxis",
          "symbol": "circle"
         },
         "mode": "markers",
         "name": "",
         "showlegend": false,
         "type": "scattergeo"
        }
       ],
       "layout": {
        "coloraxis": {
         "colorbar": {
          "title": {
           "text": "Brightness"
          }
         },
         "colorscale": [
          [
           0,
           "rgb(255,245,240)"
          ],
          [
           0.125,
           "rgb(254,224,210)"
          ],
          [
           0.25,
           "rgb(252,187,161)"
          ],
          [
           0.375,
           "rgb(252,146,114)"
          ],
          [
           0.5,
           "rgb(251,106,74)"
          ],
          [
           0.625,
           "rgb(239,59,44)"
          ],
          [
           0.75,
           "rgb(203,24,29)"
          ],
          [
           0.875,
           "rgb(165,15,21)"
          ],
          [
           1,
           "rgb(103,0,13)"
          ]
         ]
        },
        "geo": {
         "center": {},
         "domain": {
          "x": [
           0,
           1
          ],
          "y": [
           0,
           1
          ]
         },
         "projection": {
          "type": "natural earth"
         }
        },
        "legend": {
         "tracegroupgap": 0
        },
        "template": {
         "data": {
          "bar": [
           {
            "error_x": {
             "color": "#2a3f5f"
            },
            "error_y": {
             "color": "#2a3f5f"
            },
            "marker": {
             "line": {
              "color": "#E5ECF6",
              "width": 0.5
             },
             "pattern": {
              "fillmode": "overlay",
              "size": 10,
              "solidity": 0.2
             }
            },
            "type": "bar"
           }
          ],
          "barpolar": [
           {
            "marker": {
             "line": {
              "color": "#E5ECF6",
              "width": 0.5
             },
             "pattern": {
              "fillmode": "overlay",
              "size": 10,
              "solidity": 0.2
             }
            },
            "type": "barpolar"
           }
          ],
          "carpet": [
           {
            "aaxis": {
             "endlinecolor": "#2a3f5f",
             "gridcolor": "white",
             "linecolor": "white",
             "minorgridcolor": "white",
             "startlinecolor": "#2a3f5f"
            },
            "baxis": {
             "endlinecolor": "#2a3f5f",
             "gridcolor": "white",
             "linecolor": "white",
             "minorgridcolor": "white",
             "startlinecolor": "#2a3f5f"
            },
            "type": "carpet"
           }
          ],
          "choropleth": [
           {
            "colorbar": {
             "outlinewidth": 0,
             "ticks": ""
            },
            "type": "choropleth"
           }
          ],
          "contour": [
           {
            "colorbar": {
             "outlinewidth": 0,
             "ticks": ""
            },
            "colorscale": [
             [
              0,
              "#0d0887"
             ],
             [
              0.1111111111111111,
              "#46039f"
             ],
             [
              0.2222222222222222,
              "#7201a8"
             ],
             [
              0.3333333333333333,
              "#9c179e"
             ],
             [
              0.4444444444444444,
              "#bd3786"
             ],
             [
              0.5555555555555556,
              "#d8576b"
             ],
             [
              0.6666666666666666,
              "#ed7953"
             ],
             [
              0.7777777777777778,
              "#fb9f3a"
             ],
             [
              0.8888888888888888,
              "#fdca26"
             ],
             [
              1,
              "#f0f921"
             ]
            ],
            "type": "contour"
           }
          ],
          "contourcarpet": [
           {
            "colorbar": {
             "outlinewidth": 0,
             "ticks": ""
            },
            "type": "contourcarpet"
           }
          ],
          "heatmap": [
           {
            "colorbar": {
             "outlinewidth": 0,
             "ticks": ""
            },
            "colorscale": [
             [
              0,
              "#0d0887"
             ],
             [
              0.1111111111111111,
              "#46039f"
             ],
             [
              0.2222222222222222,
              "#7201a8"
             ],
             [
              0.3333333333333333,
              "#9c179e"
             ],
             [
              0.4444444444444444,
              "#bd3786"
             ],
             [
              0.5555555555555556,
              "#d8576b"
             ],
             [
              0.6666666666666666,
              "#ed7953"
             ],
             [
              0.7777777777777778,
              "#fb9f3a"
             ],
             [
              0.8888888888888888,
              "#fdca26"
             ],
             [
              1,
              "#f0f921"
             ]
            ],
            "type": "heatmap"
           }
          ],
          "heatmapgl": [
           {
            "colorbar": {
             "outlinewidth": 0,
             "ticks": ""
            },
            "colorscale": [
             [
              0,
              "#0d0887"
             ],
             [
              0.1111111111111111,
              "#46039f"
             ],
             [
              0.2222222222222222,
              "#7201a8"
             ],
             [
              0.3333333333333333,
              "#9c179e"
             ],
             [
              0.4444444444444444,
              "#bd3786"
             ],
             [
              0.5555555555555556,
              "#d8576b"
             ],
             [
              0.6666666666666666,
              "#ed7953"
             ],
             [
              0.7777777777777778,
              "#fb9f3a"
             ],
             [
              0.8888888888888888,
              "#fdca26"
             ],
             [
              1,
              "#f0f921"
             ]
            ],
            "type": "heatmapgl"
           }
          ],
          "histogram": [
           {
            "marker": {
             "pattern": {
              "fillmode": "overlay",
              "size": 10,
              "solidity": 0.2
             }
            },
            "type": "histogram"
           }
          ],
          "histogram2d": [
           {
            "colorbar": {
             "outlinewidth": 0,
             "ticks": ""
            },
            "colorscale": [
             [
              0,
              "#0d0887"
             ],
             [
              0.1111111111111111,
              "#46039f"
             ],
             [
              0.2222222222222222,
              "#7201a8"
             ],
             [
              0.3333333333333333,
              "#9c179e"
             ],
             [
              0.4444444444444444,
              "#bd3786"
             ],
             [
              0.5555555555555556,
              "#d8576b"
             ],
             [
              0.6666666666666666,
              "#ed7953"
             ],
             [
              0.7777777777777778,
              "#fb9f3a"
             ],
             [
              0.8888888888888888,
              "#fdca26"
             ],
             [
              1,
              "#f0f921"
             ]
            ],
            "type": "histogram2d"
           }
          ],
          "histogram2dcontour": [
           {
            "colorbar": {
             "outlinewidth": 0,
             "ticks": ""
            },
            "colorscale": [
             [
              0,
              "#0d0887"
             ],
             [
              0.1111111111111111,
              "#46039f"
             ],
             [
              0.2222222222222222,
              "#7201a8"
             ],
             [
              0.3333333333333333,
              "#9c179e"
             ],
             [
              0.4444444444444444,
              "#bd3786"
             ],
             [
              0.5555555555555556,
              "#d8576b"
             ],
             [
              0.6666666666666666,
              "#ed7953"
             ],
             [
              0.7777777777777778,
              "#fb9f3a"
             ],
             [
              0.8888888888888888,
              "#fdca26"
             ],
             [
              1,
              "#f0f921"
             ]
            ],
            "type": "histogram2dcontour"
           }
          ],
          "mesh3d": [
           {
            "colorbar": {
             "outlinewidth": 0,
             "ticks": ""
            },
            "type": "mesh3d"
           }
          ],
          "parcoords": [
           {
            "line": {
             "colorbar": {
              "outlinewidth": 0,
              "ticks": ""
             }
            },
            "type": "parcoords"
           }
          ],
          "pie": [
           {
            "automargin": true,
            "type": "pie"
           }
          ],
          "scatter": [
           {
            "fillpattern": {
             "fillmode": "overlay",
             "size": 10,
             "solidity": 0.2
            },
            "type": "scatter"
           }
          ],
          "scatter3d": [
           {
            "line": {
             "colorbar": {
              "outlinewidth": 0,
              "ticks": ""
             }
            },
            "marker": {
             "colorbar": {
              "outlinewidth": 0,
              "ticks": ""
             }
            },
            "type": "scatter3d"
           }
          ],
          "scattercarpet": [
           {
            "marker": {
             "colorbar": {
              "outlinewidth": 0,
              "ticks": ""
             }
            },
            "type": "scattercarpet"
           }
          ],
          "scattergeo": [
           {
            "marker": {
             "colorbar": {
              "outlinewidth": 0,
              "ticks": ""
             }
            },
            "type": "scattergeo"
           }
          ],
          "scattergl": [
           {
            "marker": {
             "colorbar": {
              "outlinewidth": 0,
              "ticks": ""
             }
            },
            "type": "scattergl"
           }
          ],
          "scattermapbox": [
           {
            "marker": {
             "colorbar": {
              "outlinewidth": 0,
              "ticks": ""
             }
            },
            "type": "scattermapbox"
           }
          ],
          "scatterpolar": [
           {
            "marker": {
             "colorbar": {
              "outlinewidth": 0,
              "ticks": ""
             }
            },
            "type": "scatterpolar"
           }
          ],
          "scatterpolargl": [
           {
            "marker": {
             "colorbar": {
              "outlinewidth": 0,
              "ticks": ""
             }
            },
            "type": "scatterpolargl"
           }
          ],
          "scatterternary": [
           {
            "marker": {
             "colorbar": {
              "outlinewidth": 0,
              "ticks": ""
             }
            },
            "type": "scatterternary"
           }
          ],
          "surface": [
           {
            "colorbar": {
             "outlinewidth": 0,
             "ticks": ""
            },
            "colorscale": [
             [
              0,
              "#0d0887"
             ],
             [
              0.1111111111111111,
              "#46039f"
             ],
             [
              0.2222222222222222,
              "#7201a8"
             ],
             [
              0.3333333333333333,
              "#9c179e"
             ],
             [
              0.4444444444444444,
              "#bd3786"
             ],
             [
              0.5555555555555556,
              "#d8576b"
             ],
             [
              0.6666666666666666,
              "#ed7953"
             ],
             [
              0.7777777777777778,
              "#fb9f3a"
             ],
             [
              0.8888888888888888,
              "#fdca26"
             ],
             [
              1,
              "#f0f921"
             ]
            ],
            "type": "surface"
           }
          ],
          "table": [
           {
            "cells": {
             "fill": {
              "color": "#EBF0F8"
             },
             "line": {
              "color": "white"
             }
            },
            "header": {
             "fill": {
              "color": "#C8D4E3"
             },
             "line": {
              "color": "white"
             }
            },
            "type": "table"
           }
          ]
         },
         "layout": {
          "annotationdefaults": {
           "arrowcolor": "#2a3f5f",
           "arrowhead": 0,
           "arrowwidth": 1
          },
          "autotypenumbers": "strict",
          "coloraxis": {
           "colorbar": {
            "outlinewidth": 0,
            "ticks": ""
           }
          },
          "colorscale": {
           "diverging": [
            [
             0,
             "#8e0152"
            ],
            [
             0.1,
             "#c51b7d"
            ],
            [
             0.2,
             "#de77ae"
            ],
            [
             0.3,
             "#f1b6da"
            ],
            [
             0.4,
             "#fde0ef"
            ],
            [
             0.5,
             "#f7f7f7"
            ],
            [
             0.6,
             "#e6f5d0"
            ],
            [
             0.7,
             "#b8e186"
            ],
            [
             0.8,
             "#7fbc41"
            ],
            [
             0.9,
             "#4d9221"
            ],
            [
             1,
             "#276419"
            ]
           ],
           "sequential": [
            [
             0,
             "#0d0887"
            ],
            [
             0.1111111111111111,
             "#46039f"
            ],
            [
             0.2222222222222222,
             "#7201a8"
            ],
            [
             0.3333333333333333,
             "#9c179e"
            ],
            [
             0.4444444444444444,
             "#bd3786"
            ],
            [
             0.5555555555555556,
             "#d8576b"
            ],
            [
             0.6666666666666666,
             "#ed7953"
            ],
            [
             0.7777777777777778,
             "#fb9f3a"
            ],
            [
             0.8888888888888888,
             "#fdca26"
            ],
            [
             1,
             "#f0f921"
            ]
           ],
           "sequentialminus": [
            [
             0,
             "#0d0887"
            ],
            [
             0.1111111111111111,
             "#46039f"
            ],
            [
             0.2222222222222222,
             "#7201a8"
            ],
            [
             0.3333333333333333,
             "#9c179e"
            ],
            [
             0.4444444444444444,
             "#bd3786"
            ],
            [
             0.5555555555555556,
             "#d8576b"
            ],
            [
             0.6666666666666666,
             "#ed7953"
            ],
            [
             0.7777777777777778,
             "#fb9f3a"
            ],
            [
             0.8888888888888888,
             "#fdca26"
            ],
            [
             1,
             "#f0f921"
            ]
           ]
          },
          "colorway": [
           "#636efa",
           "#EF553B",
           "#00cc96",
           "#ab63fa",
           "#FFA15A",
           "#19d3f3",
           "#FF6692",
           "#B6E880",
           "#FF97FF",
           "#FECB52"
          ],
          "font": {
           "color": "#2a3f5f"
          },
          "geo": {
           "bgcolor": "white",
           "lakecolor": "white",
           "landcolor": "#E5ECF6",
           "showlakes": true,
           "showland": true,
           "subunitcolor": "white"
          },
          "hoverlabel": {
           "align": "left"
          },
          "hovermode": "closest",
          "mapbox": {
           "style": "light"
          },
          "paper_bgcolor": "white",
          "plot_bgcolor": "#E5ECF6",
          "polar": {
           "angularaxis": {
            "gridcolor": "white",
            "linecolor": "white",
            "ticks": ""
           },
           "bgcolor": "#E5ECF6",
           "radialaxis": {
            "gridcolor": "white",
            "linecolor": "white",
            "ticks": ""
           }
          },
          "scene": {
           "xaxis": {
            "backgroundcolor": "#E5ECF6",
            "gridcolor": "white",
            "gridwidth": 2,
            "linecolor": "white",
            "showbackground": true,
            "ticks": "",
            "zerolinecolor": "white"
           },
           "yaxis": {
            "backgroundcolor": "#E5ECF6",
            "gridcolor": "white",
            "gridwidth": 2,
            "linecolor": "white",
            "showbackground": true,
            "ticks": "",
            "zerolinecolor": "white"
           },
           "zaxis": {
            "backgroundcolor": "#E5ECF6",
            "gridcolor": "white",
            "gridwidth": 2,
            "linecolor": "white",
            "showbackground": true,
            "ticks": "",
            "zerolinecolor": "white"
           }
          },
          "shapedefaults": {
           "line": {
            "color": "#2a3f5f"
           }
          },
          "ternary": {
           "aaxis": {
            "gridcolor": "white",
            "linecolor": "white",
            "ticks": ""
           },
           "baxis": {
            "gridcolor": "white",
            "linecolor": "white",
            "ticks": ""
           },
           "bgcolor": "#E5ECF6",
           "caxis": {
            "gridcolor": "white",
            "linecolor": "white",
            "ticks": ""
           }
          },
          "title": {
           "x": 0.05
          },
          "xaxis": {
           "automargin": true,
           "gridcolor": "white",
           "linecolor": "white",
           "ticks": "",
           "title": {
            "standoff": 15
           },
           "zerolinecolor": "white",
           "zerolinewidth": 2
          },
          "yaxis": {
           "automargin": true,
           "gridcolor": "white",
           "linecolor": "white",
           "ticks": "",
           "title": {
            "standoff": 15
           },
           "zerolinecolor": "white",
           "zerolinewidth": 2
          }
         }
        },
        "title": {
         "text": "Fire burning around the globe from 2022-04-03 to 2022-04-04"
        }
       }
      }
     },
     "metadata": {},
     "output_type": "display_data"
    }
   ],
   "source": [
    "# 16.9 world_fires.py\n",
    "from pathlib import Path\n",
    "import csv\n",
    "from datetime import datetime\n",
    "\n",
    "import plotly.express as px\n",
    "\n",
    "path = Path('chapter_16/eq_data/world_fires_1_day.csv')\n",
    "lines = path.read_text().splitlines()\n",
    "\n",
    "reader = csv.reader(lines)\n",
    "header_row = next(reader)\n",
    "\n",
    "# Extract time, location, and brightness data.\n",
    "lats, lons, bris, dates, times = [], [], [], [], []\n",
    "for row in reader:\n",
    "    date = datetime.strptime(row[5], '%Y-%m-%d').date()\n",
    "    time = datetime.strptime(row[6], '%H%M').time()\n",
    "    dates.append(date)\n",
    "    times.append(time)\n",
    "    lats.append(row[0])\n",
    "    lons.append(row[1])\n",
    "    bris.append(float(row[2]))\n",
    "\n",
    "title = f\"Fire burning around the globe from {dates[0]} to {dates[-1]}\"\n",
    "fig = px.scatter_geo(lat=lats, lon=lons, title=title,\n",
    "        color=bris,\n",
    "        color_continuous_scale='reds',\n",
    "        labels={'color':'Brightness'},\n",
    "        projection='natural earth',\n",
    "        custom_data=[dates, times],\n",
    "    )\n",
    "\n",
    "fig.update_traces(\n",
    "    hovertemplate=\"<br>\".join([\n",
    "        \"Latitude: %{lat}\",\n",
    "        \"Longitude: %{lon}\",\n",
    "        \"Dates: %{customdata[0]}\",\n",
    "        \"Times: %{customdata[1]}\",\n",
    "    ])\n",
    ")\n",
    "fig.show()"
   ]
  },
  {
   "attachments": {},
   "cell_type": "markdown",
   "metadata": {},
   "source": [
    "# Chapter 17 Working With APIs\n",
    "## Using an API"
   ]
  },
  {
   "cell_type": "code",
   "execution_count": 13,
   "metadata": {},
   "outputs": [
    {
     "name": "stdout",
     "output_type": "stream",
     "text": [
      "Status code: 200\n",
      "dict_keys(['total_count', 'incomplete_results', 'items'])\n",
      "Total repositories: 358\n",
      "Complete results: True\n",
      "Repositories returned: 30\n",
      "\n",
      "Selected information about first repository:\n",
      "Name: public-apis\n",
      "Owner: public-apis\n",
      "Stars: 238981\n",
      "Repository: https://github.com/public-apis/public-apis\n",
      "Created: 2016-03-20T23:49:42Z\n",
      "Updated: 2023-05-12T18:44:56Z\n",
      "Description: A collective list of free APIs\n"
     ]
    }
   ],
   "source": [
    "import requests\n",
    "# Make an API call and check the response.\n",
    "url = \"https://api.github.com/search/repositories\"\n",
    "url += \"?q=language:python+sort:stars+stars:>10000\"\n",
    "headers = {\"Accept\": \"application/vnd.github.v3+json\"}\n",
    "r = requests.get(url, headers=headers)\n",
    "print(f\"Status code: {r.status_code}\")\n",
    "\n",
    "# Convert the response object to a dictionary.\n",
    "response_dict = r.json()\n",
    "# Process results.\n",
    "print(response_dict.keys())\n",
    "\n",
    "print(f\"Total repositories: {response_dict['total_count']}\")\n",
    "print(f\"Complete results: {not response_dict['incomplete_results']}\")\n",
    "\n",
    "# Explore information about the repositories.\n",
    "repo_dicts = response_dict['items']\n",
    "print(f\"Repositories returned: {len(repo_dicts)}\")\n",
    "\n",
    "print(\"\\nSelected information about first repository:\")\n",
    "print(f\"Name: {repo_dict['name']}\")\n",
    "print(f\"Owner: {repo_dict['owner']['login']}\")\n",
    "print(f\"Stars: {repo_dict['stargazers_count']}\")\n",
    "print(f\"Repository: {repo_dict['html_url']}\")\n",
    "print(f\"Created: {repo_dict['created_at']}\")\n",
    "print(f\"Updated: {repo_dict['updated_at']}\")\n",
    "print(f\"Description: {repo_dict['description']}\")"
   ]
  },
  {
   "attachments": {},
   "cell_type": "markdown",
   "metadata": {},
   "source": [
    "## Visualizing Repositories Using Plotly"
   ]
  },
  {
   "cell_type": "code",
   "execution_count": 17,
   "metadata": {},
   "outputs": [
    {
     "data": {
      "application/vnd.plotly.v1+json": {
       "config": {
        "plotlyServerURL": "https://plot.ly"
       },
       "data": [
        {
         "alignmentgroup": "True",
         "hovertemplate": "Repository=%{x}<br>Stars=%{y}<extra></extra>",
         "legendgroup": "",
         "marker": {
          "color": "#636efa",
          "pattern": {
           "shape": ""
          }
         },
         "name": "",
         "offsetgroup": "",
         "orientation": "v",
         "showlegend": false,
         "textposition": "auto",
         "type": "bar",
         "x": [
          "public-apis",
          "system-design-primer",
          "awesome-python",
          "Python",
          "Python-100-Days",
          "Auto-GPT",
          "youtube-dl",
          "transformers",
          "thefuck",
          "stable-diffusion-webui",
          "django",
          "HelloGitHub",
          "pytorch",
          "flask",
          "core",
          "awesome-machine-learning",
          "keras",
          "fastapi",
          "ansible",
          "scikit-learn",
          "cpython",
          "manim",
          "funNLP",
          "requests",
          "face_recognition",
          "PayloadsAllTheThings",
          "you-get",
          "scrapy",
          "yt-dlp",
          "localstack"
         ],
         "xaxis": "x",
         "y": [
          238981,
          219837,
          167527,
          158494,
          135799,
          129666,
          120223,
          99195,
          77352,
          74132,
          70530,
          68680,
          66663,
          62906,
          60386,
          58810,
          58306,
          57770,
          57311,
          54188,
          52720,
          51189,
          50108,
          49511,
          48212,
          47627,
          47323,
          47152,
          47124,
          47087
         ],
         "yaxis": "y"
        }
       ],
       "layout": {
        "barmode": "relative",
        "legend": {
         "tracegroupgap": 0
        },
        "template": {
         "data": {
          "bar": [
           {
            "error_x": {
             "color": "#2a3f5f"
            },
            "error_y": {
             "color": "#2a3f5f"
            },
            "marker": {
             "line": {
              "color": "#E5ECF6",
              "width": 0.5
             },
             "pattern": {
              "fillmode": "overlay",
              "size": 10,
              "solidity": 0.2
             }
            },
            "type": "bar"
           }
          ],
          "barpolar": [
           {
            "marker": {
             "line": {
              "color": "#E5ECF6",
              "width": 0.5
             },
             "pattern": {
              "fillmode": "overlay",
              "size": 10,
              "solidity": 0.2
             }
            },
            "type": "barpolar"
           }
          ],
          "carpet": [
           {
            "aaxis": {
             "endlinecolor": "#2a3f5f",
             "gridcolor": "white",
             "linecolor": "white",
             "minorgridcolor": "white",
             "startlinecolor": "#2a3f5f"
            },
            "baxis": {
             "endlinecolor": "#2a3f5f",
             "gridcolor": "white",
             "linecolor": "white",
             "minorgridcolor": "white",
             "startlinecolor": "#2a3f5f"
            },
            "type": "carpet"
           }
          ],
          "choropleth": [
           {
            "colorbar": {
             "outlinewidth": 0,
             "ticks": ""
            },
            "type": "choropleth"
           }
          ],
          "contour": [
           {
            "colorbar": {
             "outlinewidth": 0,
             "ticks": ""
            },
            "colorscale": [
             [
              0,
              "#0d0887"
             ],
             [
              0.1111111111111111,
              "#46039f"
             ],
             [
              0.2222222222222222,
              "#7201a8"
             ],
             [
              0.3333333333333333,
              "#9c179e"
             ],
             [
              0.4444444444444444,
              "#bd3786"
             ],
             [
              0.5555555555555556,
              "#d8576b"
             ],
             [
              0.6666666666666666,
              "#ed7953"
             ],
             [
              0.7777777777777778,
              "#fb9f3a"
             ],
             [
              0.8888888888888888,
              "#fdca26"
             ],
             [
              1,
              "#f0f921"
             ]
            ],
            "type": "contour"
           }
          ],
          "contourcarpet": [
           {
            "colorbar": {
             "outlinewidth": 0,
             "ticks": ""
            },
            "type": "contourcarpet"
           }
          ],
          "heatmap": [
           {
            "colorbar": {
             "outlinewidth": 0,
             "ticks": ""
            },
            "colorscale": [
             [
              0,
              "#0d0887"
             ],
             [
              0.1111111111111111,
              "#46039f"
             ],
             [
              0.2222222222222222,
              "#7201a8"
             ],
             [
              0.3333333333333333,
              "#9c179e"
             ],
             [
              0.4444444444444444,
              "#bd3786"
             ],
             [
              0.5555555555555556,
              "#d8576b"
             ],
             [
              0.6666666666666666,
              "#ed7953"
             ],
             [
              0.7777777777777778,
              "#fb9f3a"
             ],
             [
              0.8888888888888888,
              "#fdca26"
             ],
             [
              1,
              "#f0f921"
             ]
            ],
            "type": "heatmap"
           }
          ],
          "heatmapgl": [
           {
            "colorbar": {
             "outlinewidth": 0,
             "ticks": ""
            },
            "colorscale": [
             [
              0,
              "#0d0887"
             ],
             [
              0.1111111111111111,
              "#46039f"
             ],
             [
              0.2222222222222222,
              "#7201a8"
             ],
             [
              0.3333333333333333,
              "#9c179e"
             ],
             [
              0.4444444444444444,
              "#bd3786"
             ],
             [
              0.5555555555555556,
              "#d8576b"
             ],
             [
              0.6666666666666666,
              "#ed7953"
             ],
             [
              0.7777777777777778,
              "#fb9f3a"
             ],
             [
              0.8888888888888888,
              "#fdca26"
             ],
             [
              1,
              "#f0f921"
             ]
            ],
            "type": "heatmapgl"
           }
          ],
          "histogram": [
           {
            "marker": {
             "pattern": {
              "fillmode": "overlay",
              "size": 10,
              "solidity": 0.2
             }
            },
            "type": "histogram"
           }
          ],
          "histogram2d": [
           {
            "colorbar": {
             "outlinewidth": 0,
             "ticks": ""
            },
            "colorscale": [
             [
              0,
              "#0d0887"
             ],
             [
              0.1111111111111111,
              "#46039f"
             ],
             [
              0.2222222222222222,
              "#7201a8"
             ],
             [
              0.3333333333333333,
              "#9c179e"
             ],
             [
              0.4444444444444444,
              "#bd3786"
             ],
             [
              0.5555555555555556,
              "#d8576b"
             ],
             [
              0.6666666666666666,
              "#ed7953"
             ],
             [
              0.7777777777777778,
              "#fb9f3a"
             ],
             [
              0.8888888888888888,
              "#fdca26"
             ],
             [
              1,
              "#f0f921"
             ]
            ],
            "type": "histogram2d"
           }
          ],
          "histogram2dcontour": [
           {
            "colorbar": {
             "outlinewidth": 0,
             "ticks": ""
            },
            "colorscale": [
             [
              0,
              "#0d0887"
             ],
             [
              0.1111111111111111,
              "#46039f"
             ],
             [
              0.2222222222222222,
              "#7201a8"
             ],
             [
              0.3333333333333333,
              "#9c179e"
             ],
             [
              0.4444444444444444,
              "#bd3786"
             ],
             [
              0.5555555555555556,
              "#d8576b"
             ],
             [
              0.6666666666666666,
              "#ed7953"
             ],
             [
              0.7777777777777778,
              "#fb9f3a"
             ],
             [
              0.8888888888888888,
              "#fdca26"
             ],
             [
              1,
              "#f0f921"
             ]
            ],
            "type": "histogram2dcontour"
           }
          ],
          "mesh3d": [
           {
            "colorbar": {
             "outlinewidth": 0,
             "ticks": ""
            },
            "type": "mesh3d"
           }
          ],
          "parcoords": [
           {
            "line": {
             "colorbar": {
              "outlinewidth": 0,
              "ticks": ""
             }
            },
            "type": "parcoords"
           }
          ],
          "pie": [
           {
            "automargin": true,
            "type": "pie"
           }
          ],
          "scatter": [
           {
            "fillpattern": {
             "fillmode": "overlay",
             "size": 10,
             "solidity": 0.2
            },
            "type": "scatter"
           }
          ],
          "scatter3d": [
           {
            "line": {
             "colorbar": {
              "outlinewidth": 0,
              "ticks": ""
             }
            },
            "marker": {
             "colorbar": {
              "outlinewidth": 0,
              "ticks": ""
             }
            },
            "type": "scatter3d"
           }
          ],
          "scattercarpet": [
           {
            "marker": {
             "colorbar": {
              "outlinewidth": 0,
              "ticks": ""
             }
            },
            "type": "scattercarpet"
           }
          ],
          "scattergeo": [
           {
            "marker": {
             "colorbar": {
              "outlinewidth": 0,
              "ticks": ""
             }
            },
            "type": "scattergeo"
           }
          ],
          "scattergl": [
           {
            "marker": {
             "colorbar": {
              "outlinewidth": 0,
              "ticks": ""
             }
            },
            "type": "scattergl"
           }
          ],
          "scattermapbox": [
           {
            "marker": {
             "colorbar": {
              "outlinewidth": 0,
              "ticks": ""
             }
            },
            "type": "scattermapbox"
           }
          ],
          "scatterpolar": [
           {
            "marker": {
             "colorbar": {
              "outlinewidth": 0,
              "ticks": ""
             }
            },
            "type": "scatterpolar"
           }
          ],
          "scatterpolargl": [
           {
            "marker": {
             "colorbar": {
              "outlinewidth": 0,
              "ticks": ""
             }
            },
            "type": "scatterpolargl"
           }
          ],
          "scatterternary": [
           {
            "marker": {
             "colorbar": {
              "outlinewidth": 0,
              "ticks": ""
             }
            },
            "type": "scatterternary"
           }
          ],
          "surface": [
           {
            "colorbar": {
             "outlinewidth": 0,
             "ticks": ""
            },
            "colorscale": [
             [
              0,
              "#0d0887"
             ],
             [
              0.1111111111111111,
              "#46039f"
             ],
             [
              0.2222222222222222,
              "#7201a8"
             ],
             [
              0.3333333333333333,
              "#9c179e"
             ],
             [
              0.4444444444444444,
              "#bd3786"
             ],
             [
              0.5555555555555556,
              "#d8576b"
             ],
             [
              0.6666666666666666,
              "#ed7953"
             ],
             [
              0.7777777777777778,
              "#fb9f3a"
             ],
             [
              0.8888888888888888,
              "#fdca26"
             ],
             [
              1,
              "#f0f921"
             ]
            ],
            "type": "surface"
           }
          ],
          "table": [
           {
            "cells": {
             "fill": {
              "color": "#EBF0F8"
             },
             "line": {
              "color": "white"
             }
            },
            "header": {
             "fill": {
              "color": "#C8D4E3"
             },
             "line": {
              "color": "white"
             }
            },
            "type": "table"
           }
          ]
         },
         "layout": {
          "annotationdefaults": {
           "arrowcolor": "#2a3f5f",
           "arrowhead": 0,
           "arrowwidth": 1
          },
          "autotypenumbers": "strict",
          "coloraxis": {
           "colorbar": {
            "outlinewidth": 0,
            "ticks": ""
           }
          },
          "colorscale": {
           "diverging": [
            [
             0,
             "#8e0152"
            ],
            [
             0.1,
             "#c51b7d"
            ],
            [
             0.2,
             "#de77ae"
            ],
            [
             0.3,
             "#f1b6da"
            ],
            [
             0.4,
             "#fde0ef"
            ],
            [
             0.5,
             "#f7f7f7"
            ],
            [
             0.6,
             "#e6f5d0"
            ],
            [
             0.7,
             "#b8e186"
            ],
            [
             0.8,
             "#7fbc41"
            ],
            [
             0.9,
             "#4d9221"
            ],
            [
             1,
             "#276419"
            ]
           ],
           "sequential": [
            [
             0,
             "#0d0887"
            ],
            [
             0.1111111111111111,
             "#46039f"
            ],
            [
             0.2222222222222222,
             "#7201a8"
            ],
            [
             0.3333333333333333,
             "#9c179e"
            ],
            [
             0.4444444444444444,
             "#bd3786"
            ],
            [
             0.5555555555555556,
             "#d8576b"
            ],
            [
             0.6666666666666666,
             "#ed7953"
            ],
            [
             0.7777777777777778,
             "#fb9f3a"
            ],
            [
             0.8888888888888888,
             "#fdca26"
            ],
            [
             1,
             "#f0f921"
            ]
           ],
           "sequentialminus": [
            [
             0,
             "#0d0887"
            ],
            [
             0.1111111111111111,
             "#46039f"
            ],
            [
             0.2222222222222222,
             "#7201a8"
            ],
            [
             0.3333333333333333,
             "#9c179e"
            ],
            [
             0.4444444444444444,
             "#bd3786"
            ],
            [
             0.5555555555555556,
             "#d8576b"
            ],
            [
             0.6666666666666666,
             "#ed7953"
            ],
            [
             0.7777777777777778,
             "#fb9f3a"
            ],
            [
             0.8888888888888888,
             "#fdca26"
            ],
            [
             1,
             "#f0f921"
            ]
           ]
          },
          "colorway": [
           "#636efa",
           "#EF553B",
           "#00cc96",
           "#ab63fa",
           "#FFA15A",
           "#19d3f3",
           "#FF6692",
           "#B6E880",
           "#FF97FF",
           "#FECB52"
          ],
          "font": {
           "color": "#2a3f5f"
          },
          "geo": {
           "bgcolor": "white",
           "lakecolor": "white",
           "landcolor": "#E5ECF6",
           "showlakes": true,
           "showland": true,
           "subunitcolor": "white"
          },
          "hoverlabel": {
           "align": "left"
          },
          "hovermode": "closest",
          "mapbox": {
           "style": "light"
          },
          "paper_bgcolor": "white",
          "plot_bgcolor": "#E5ECF6",
          "polar": {
           "angularaxis": {
            "gridcolor": "white",
            "linecolor": "white",
            "ticks": ""
           },
           "bgcolor": "#E5ECF6",
           "radialaxis": {
            "gridcolor": "white",
            "linecolor": "white",
            "ticks": ""
           }
          },
          "scene": {
           "xaxis": {
            "backgroundcolor": "#E5ECF6",
            "gridcolor": "white",
            "gridwidth": 2,
            "linecolor": "white",
            "showbackground": true,
            "ticks": "",
            "zerolinecolor": "white"
           },
           "yaxis": {
            "backgroundcolor": "#E5ECF6",
            "gridcolor": "white",
            "gridwidth": 2,
            "linecolor": "white",
            "showbackground": true,
            "ticks": "",
            "zerolinecolor": "white"
           },
           "zaxis": {
            "backgroundcolor": "#E5ECF6",
            "gridcolor": "white",
            "gridwidth": 2,
            "linecolor": "white",
            "showbackground": true,
            "ticks": "",
            "zerolinecolor": "white"
           }
          },
          "shapedefaults": {
           "line": {
            "color": "#2a3f5f"
           }
          },
          "ternary": {
           "aaxis": {
            "gridcolor": "white",
            "linecolor": "white",
            "ticks": ""
           },
           "baxis": {
            "gridcolor": "white",
            "linecolor": "white",
            "ticks": ""
           },
           "bgcolor": "#E5ECF6",
           "caxis": {
            "gridcolor": "white",
            "linecolor": "white",
            "ticks": ""
           }
          },
          "title": {
           "x": 0.05
          },
          "xaxis": {
           "automargin": true,
           "gridcolor": "white",
           "linecolor": "white",
           "ticks": "",
           "title": {
            "standoff": 15
           },
           "zerolinecolor": "white",
           "zerolinewidth": 2
          },
          "yaxis": {
           "automargin": true,
           "gridcolor": "white",
           "linecolor": "white",
           "ticks": "",
           "title": {
            "standoff": 15
           },
           "zerolinecolor": "white",
           "zerolinewidth": 2
          }
         }
        },
        "title": {
         "font": {
          "size": 28
         },
         "text": "Most-Starred Python Projects on GitHub"
        },
        "xaxis": {
         "anchor": "y",
         "domain": [
          0,
          1
         ],
         "title": {
          "font": {
           "size": 20
          },
          "text": "Repository"
         }
        },
        "yaxis": {
         "anchor": "x",
         "domain": [
          0,
          1
         ],
         "title": {
          "font": {
           "size": 20
          },
          "text": "Stars"
         }
        }
       }
      }
     },
     "metadata": {},
     "output_type": "display_data"
    }
   ],
   "source": [
    "# Process repository information.\n",
    "repo_dicts = response_dict['items']\n",
    "repo_names, stars = [], []\n",
    "for repo_dict in repo_dicts:\n",
    "    repo_names.append(repo_dict['name'])\n",
    "    stars.append(repo_dict['stargazers_count'])\n",
    "\n",
    "# Make visualization.\n",
    "title = \"Most-Starred Python Projects on GitHub\"\n",
    "labels = {'x': 'Repository', 'y': 'Stars'}\n",
    "fig = px.bar(x=repo_names, y=stars, title=title, labels=labels)\n",
    "fig.update_layout(title_font_size=28, xaxis_title_font_size=20,\n",
    "yaxis_title_font_size=20)\n",
    "fig.show()"
   ]
  },
  {
   "attachments": {},
   "cell_type": "markdown",
   "metadata": {},
   "source": [
    "## The Hacker News API"
   ]
  }
 ],
 "metadata": {
  "kernelspec": {
   "display_name": "Python 3",
   "language": "python",
   "name": "python3"
  },
  "language_info": {
   "codemirror_mode": {
    "name": "ipython",
    "version": 3
   },
   "file_extension": ".py",
   "mimetype": "text/x-python",
   "name": "python",
   "nbconvert_exporter": "python",
   "pygments_lexer": "ipython3",
   "version": "3.11.2"
  },
  "orig_nbformat": 4
 },
 "nbformat": 4,
 "nbformat_minor": 2
}
